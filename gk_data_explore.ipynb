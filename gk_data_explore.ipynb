{
 "cells": [
  {
   "cell_type": "code",
   "execution_count": 3,
   "metadata": {},
   "outputs": [],
   "source": [
    "import numpy as np\n",
    "import pandas as pd\n",
    "import seaborn as sns\n",
    "from datetime import datetime\n",
    "pd.set_option('display.max_colwidth', None)\n"
   ]
  },
  {
   "cell_type": "markdown",
   "metadata": {},
   "source": [
    "### Load Data"
   ]
  },
  {
   "cell_type": "code",
   "execution_count": 4,
   "metadata": {},
   "outputs": [
    {
     "name": "stderr",
     "output_type": "stream",
     "text": [
      "/Users/BenRombaut/opt/anaconda3/lib/python3.8/site-packages/IPython/core/interactiveshell.py:3071: DtypeWarning: Columns (14,16,17) have mixed types.Specify dtype option on import or set low_memory=False.\n",
      "  has_raised = await self.run_ast_nodes(code_ast.body, cell_name,\n"
     ]
    }
   ],
   "source": [
    "issues = pd.read_csv('./csv/greenkeeper_issues.csv')\n",
    "comments = pd.read_csv('./csv/greenkeeper_comments.csv')\n",
    "events = pd.read_csv('./csv/greenkeeper_events.csv')\n",
    "commits = pd.read_csv('./csv/greenkeeper_commits.csv')\n",
    "package_names = pd.read_csv('./csv/greenkeeper_package_names.csv')"
   ]
  },
  {
   "cell_type": "markdown",
   "metadata": {},
   "source": [
    "#### Custome Helper Functions"
   ]
  },
  {
   "cell_type": "code",
   "execution_count": null,
   "metadata": {},
   "outputs": [],
   "source": [
    "def get_issue(id):\n",
    "    return issues[issues['issue_id'] == id]\n",
    "\n",
    "def get_comment(id):\n",
    "    return comments[comments['comment_id'] == id]\n",
    "\n",
    "def get_comments_for_issue(id):\n",
    "    return comments[comments['comment_issue_id'] == id]\n",
    "\n",
    "def calculate_percent(numer, denom):\n",
    "    return round((numer/denom)*100, 2)"
   ]
  },
  {
   "cell_type": "markdown",
   "metadata": {},
   "source": [
    "#### Augment Data"
   ]
  },
  {
   "cell_type": "markdown",
   "metadata": {},
   "source": [
    "Catoegorize Columns"
   ]
  },
  {
   "cell_type": "code",
   "execution_count": 65,
   "metadata": {},
   "outputs": [],
   "source": [
    "events['event_description'] = events['event_description'].astype('category')"
   ]
  },
  {
   "cell_type": "markdown",
   "metadata": {},
   "source": [
    "Create issue_first_comment frame"
   ]
  },
  {
   "cell_type": "code",
   "execution_count": 18,
   "metadata": {},
   "outputs": [],
   "source": [
    "## This could take a few minutes\n",
    "def get_first_comment(issue):\n",
    "    issue_comments = get_comments_for_issue()\n",
    "    if issue_comments.empty:\n",
    "        return None\n",
    "    first_comment = issue_comments[issue_comments['comment_id'] == issue_comments['comment_id'].min()]\n",
    "    first_comment\n",
    "    return first_comment['comment_id'].values[0].astype(np.int64)\n",
    "\n",
    "issue_first_comment = pd.DataFrame({\n",
    "    'issue_id': issues.issue_id, \n",
    "    'comment_id': issues.apply(lambda row: get_first_comment(row), axis=1),\n",
    "})\n"
   ]
  },
  {
   "cell_type": "markdown",
   "metadata": {},
   "source": [
    "`"
   ]
  },
  {
   "cell_type": "markdown",
   "metadata": {},
   "source": [
    "### How often are Greenkeeper Build Breakage Issue Reports closed?"
   ]
  },
  {
   "cell_type": "code",
   "execution_count": 63,
   "metadata": {},
   "outputs": [
    {
     "name": "stdout",
     "output_type": "stream",
     "text": [
      "79.82% of Greenkeeper issues are eventually closed\n"
     ]
    }
   ],
   "source": [
    "n_issues = len(issues)\n",
    "n_closed_issues = len(issues[issues.issue_state == \"closed\"])\n",
    "percent_closed = calculate_percent(n_closed_issues, n_issues)\n",
    "print(f\"{percent_closed}% of Greenkeeper issues are eventually closed\")"
   ]
  },
  {
   "cell_type": "markdown",
   "metadata": {},
   "source": [
    "### How much time do Greenkeeper issues take to be closed?"
   ]
  },
  {
   "cell_type": "code",
   "execution_count": 102,
   "metadata": {},
   "outputs": [
    {
     "name": "stdout",
     "output_type": "stream",
     "text": [
      "The median time to close the issue is 4 days 11:04:25 hours\n"
     ]
    }
   ],
   "source": [
    "closed_issues = issues[issues[\"issue_state\"] == \"closed\"]\n",
    "def calculate_time_diff(issue):\n",
    "    d1 = issue.issue_created_at\n",
    "    d2 = issue.issue_closed_at\n",
    "    FMT = '%Y-%m-%dT%H:%M:%S%z'\n",
    "    return (datetime.strptime(d2, FMT) - datetime.strptime(d1, FMT))\n",
    "\n",
    "time_to_close_issue = pd.DataFrame({\n",
    "    'issue_id': closed_issues.issue_id, \n",
    "    'time_to_close_issue': closed_issues.apply(lambda row: calculate_time_diff(row), axis=1),\n",
    "})\n",
    "\n",
    "median_time = time_to_close_issue['time_to_close_issue'].median()\n",
    "print(f\"The median time to close the issue is {median_time} hours\")\n"
   ]
  },
  {
   "cell_type": "code",
   "execution_count": 105,
   "metadata": {},
   "outputs": [
    {
     "name": "stdout",
     "output_type": "stream",
     "text": [
      "Five number summary for the time to close the Greenkeeper issue:\n",
      "count                      98341\n",
      "mean     43 days 04:48:28.851343\n",
      "std      98 days 22:44:48.052636\n",
      "min              0 days 00:00:04\n",
      "25%              0 days 09:58:19\n",
      "50%              4 days 11:04:25\n",
      "75%             35 days 07:48:16\n",
      "max           1219 days 02:01:10\n",
      "Name: time_to_close_issue, dtype: object\n"
     ]
    }
   ],
   "source": [
    "print(\"Five number summary for the time to close the Greenkeeper issue:\")\n",
    "print(time_to_close_issue['time_to_close_issue'].describe())"
   ]
  },
  {
   "cell_type": "code",
   "execution_count": 163,
   "metadata": {},
   "outputs": [
    {
     "data": {
      "text/plain": [
       "[None]"
      ]
     },
     "execution_count": 163,
     "metadata": {},
     "output_type": "execute_result"
    },
    {
     "data": {
      "image/png": "[encoded data removed]",
      "text/plain": [
       "<Figure size 432x288 with 1 Axes>"
      ]
     },
     "metadata": {
      "needs_background": "light"
     },
     "output_type": "display_data"
    }
   ],
   "source": [
    "time_to_close_issue['time_to_close_issue_hours'] = \\\n",
    "    (time_to_close_issue['time_to_close_issue'].astype('timedelta64[s]')) / 60 / 60\n",
    "\n",
    "# TODO: Figure out this graph!\n",
    "\n",
    "# time_to_close_issue['time_to_close_issue_hours']\n",
    "# ax = sns.kdeplot(\n",
    "#     time_to_close_issue['time_to_close_issue_hours'],\n",
    "#     shade=True,\n",
    "#     bw=.01,\n",
    "# )\n",
    "# ax. set(xscale=\"log\")\n",
    "# ax = sns.violinplot(\n",
    "#     data=time_to_close_issue,\n",
    "#     y=\"time_to_close_issue_hours\"\n",
    "# )\n",
    "# ax.set(yscale=\"symlog\")\n",
    "# ax = sns.distplot(time_to_close_issue[\"time_to_close_issue_hours\"])\n",
    "# ax.set(xscale=\"log\")"
   ]
  },
  {
   "cell_type": "markdown",
   "metadata": {},
   "source": [
    "### How many comments do Greenkeeper Breaking Issues have? How many of these are from Greenkeeper?"
   ]
  },
  {
   "cell_type": "code",
   "execution_count": 61,
   "metadata": {},
   "outputs": [
    {
     "name": "stdout",
     "output_type": "stream",
     "text": [
      "Five number summary for the number of comments on Greenkeeper Breakage issues:\n",
      "count    123197.000000\n",
      "mean          4.775555\n",
      "std          29.850343\n",
      "min           0.000000\n",
      "25%           1.000000\n",
      "50%           1.000000\n",
      "75%           3.000000\n",
      "max        2500.000000\n",
      "Name: issue_num_comments, dtype: float64\n",
      "96.89% of comments on breaking issue reports opened by Greenkeeper are from the Greenkeeper bot.\n"
     ]
    }
   ],
   "source": [
    "print(\"Five number summary for the number of comments on Greenkeeper Breakage issues:\")\n",
    "print(issues[\"issue_num_comments\"].describe())\n",
    "\n",
    "comments_by_greenkeeper = comments[(comments['comment_user_type'] == \"Bot\") & comments['comment_user_login'].str.contains(\"greenkeeper\")]\n",
    "percent_comments_by_greenkeeper = calculate_percent(len(comments_by_greenkeeper), len(comments))\n",
    "print(f\"{percent_comments_by_greenkeeper}% of comments on breaking issue reports opened by Greenkeeper are from the Greenkeeper bot.\")\n",
    "\n"
   ]
  },
  {
   "cell_type": "markdown",
   "metadata": {},
   "source": [
    "### How successful is pinning the dependency?"
   ]
  },
  {
   "cell_type": "code",
   "execution_count": 38,
   "metadata": {},
   "outputs": [
    {
     "data": {
      "text/html": [
       "<div>\n",
       "<style scoped>\n",
       "    .dataframe tbody tr th:only-of-type {\n",
       "        vertical-align: middle;\n",
       "    }\n",
       "\n",
       "    .dataframe tbody tr th {\n",
       "        vertical-align: top;\n",
       "    }\n",
       "\n",
       "    .dataframe thead th {\n",
       "        text-align: right;\n",
       "    }\n",
       "</style>\n",
       "<table border=\"1\" class=\"dataframe\">\n",
       "  <thead>\n",
       "    <tr style=\"text-align: right;\">\n",
       "      <th></th>\n",
       "      <th>issue_id</th>\n",
       "      <th>comment_id</th>\n",
       "      <th>successful_pin</th>\n",
       "    </tr>\n",
       "  </thead>\n",
       "  <tbody>\n",
       "    <tr>\n",
       "      <th>0</th>\n",
       "      <td>629403739</td>\n",
       "      <td>NaN</td>\n",
       "      <td>False</td>\n",
       "    </tr>\n",
       "    <tr>\n",
       "      <th>1</th>\n",
       "      <td>628090144</td>\n",
       "      <td>636566644.0</td>\n",
       "      <td>False</td>\n",
       "    </tr>\n",
       "    <tr>\n",
       "      <th>2</th>\n",
       "      <td>628092207</td>\n",
       "      <td>636567357.0</td>\n",
       "      <td>False</td>\n",
       "    </tr>\n",
       "    <tr>\n",
       "      <th>3</th>\n",
       "      <td>628091232</td>\n",
       "      <td>636566725.0</td>\n",
       "      <td>False</td>\n",
       "    </tr>\n",
       "    <tr>\n",
       "      <th>4</th>\n",
       "      <td>629137696</td>\n",
       "      <td>637488315.0</td>\n",
       "      <td>False</td>\n",
       "    </tr>\n",
       "  </tbody>\n",
       "</table>\n",
       "</div>"
      ],
      "text/plain": [
       "    issue_id   comment_id  successful_pin\n",
       "0  629403739          NaN           False\n",
       "1  628090144  636566644.0           False\n",
       "2  628092207  636567357.0           False\n",
       "3  628091232  636566725.0           False\n",
       "4  629137696  637488315.0           False"
      ]
     },
     "execution_count": 38,
     "metadata": {},
     "output_type": "execute_result"
    }
   ],
   "source": [
    "## This might take a few minutes\n",
    "\n",
    "pin_fail_string = \"your tests are still failing\"\n",
    "pin_success_string = \"your tests are passing again\"\n",
    "\n",
    "def pin_was_successful(issue_first_comment):\n",
    "    if pd.isna(issue_first_comment['comment_id']):\n",
    "        return False\n",
    "    comment = comments[comments['comment_id'] == issue_first_comment['comment_id']]\n",
    "    return comment['comment_body'].str.contains(pin_success_string, na=False).values[0]\n",
    "\n",
    "issue_first_comment['successful_pin'] = \\\n",
    "    issue_first_comment.apply(lambda row: pin_was_successful(row), axis=1)"
   ]
  },
  {
   "cell_type": "code",
   "execution_count": 42,
   "metadata": {},
   "outputs": [
    {
     "name": "stdout",
     "output_type": "stream",
     "text": [
      "23.76% of builds were fixed by pinning the previous update.\n"
     ]
    }
   ],
   "source": [
    "succ_pin_count = len(issue_first_comment[issue_first_comment['successful_pin'] == True])\n",
    "percent_succ_pin_count = calculate_percent(succ_pin_count, len(issue_first_comment))\n",
    "print(f\"{percent_succ_pin_count}% of builds were fixed by pinning the previous update.\")"
   ]
  },
  {
   "cell_type": "code",
   "execution_count": 54,
   "metadata": {},
   "outputs": [
    {
     "data": {
      "text/html": [
       "<div>\n",
       "<style scoped>\n",
       "    .dataframe tbody tr th:only-of-type {\n",
       "        vertical-align: middle;\n",
       "    }\n",
       "\n",
       "    .dataframe tbody tr th {\n",
       "        vertical-align: top;\n",
       "    }\n",
       "\n",
       "    .dataframe thead th {\n",
       "        text-align: right;\n",
       "    }\n",
       "</style>\n",
       "<table border=\"1\" class=\"dataframe\">\n",
       "  <thead>\n",
       "    <tr style=\"text-align: right;\">\n",
       "      <th></th>\n",
       "      <th>issue_id</th>\n",
       "      <th>comment_id</th>\n",
       "      <th>successful_pin</th>\n",
       "    </tr>\n",
       "  </thead>\n",
       "  <tbody>\n",
       "    <tr>\n",
       "      <th>0</th>\n",
       "      <td>629403739</td>\n",
       "      <td>NaN</td>\n",
       "      <td>False</td>\n",
       "    </tr>\n",
       "    <tr>\n",
       "      <th>1</th>\n",
       "      <td>628090144</td>\n",
       "      <td>636566644.0</td>\n",
       "      <td>False</td>\n",
       "    </tr>\n",
       "    <tr>\n",
       "      <th>2</th>\n",
       "      <td>628092207</td>\n",
       "      <td>636567357.0</td>\n",
       "      <td>False</td>\n",
       "    </tr>\n",
       "    <tr>\n",
       "      <th>3</th>\n",
       "      <td>628091232</td>\n",
       "      <td>636566725.0</td>\n",
       "      <td>False</td>\n",
       "    </tr>\n",
       "    <tr>\n",
       "      <th>4</th>\n",
       "      <td>629137696</td>\n",
       "      <td>637488315.0</td>\n",
       "      <td>False</td>\n",
       "    </tr>\n",
       "    <tr>\n",
       "      <th>5</th>\n",
       "      <td>629018646</td>\n",
       "      <td>NaN</td>\n",
       "      <td>False</td>\n",
       "    </tr>\n",
       "    <tr>\n",
       "      <th>6</th>\n",
       "      <td>629195577</td>\n",
       "      <td>NaN</td>\n",
       "      <td>False</td>\n",
       "    </tr>\n",
       "    <tr>\n",
       "      <th>7</th>\n",
       "      <td>629402799</td>\n",
       "      <td>NaN</td>\n",
       "      <td>False</td>\n",
       "    </tr>\n",
       "    <tr>\n",
       "      <th>8</th>\n",
       "      <td>629190952</td>\n",
       "      <td>NaN</td>\n",
       "      <td>False</td>\n",
       "    </tr>\n",
       "    <tr>\n",
       "      <th>9</th>\n",
       "      <td>628093324</td>\n",
       "      <td>636568356.0</td>\n",
       "      <td>False</td>\n",
       "    </tr>\n",
       "  </tbody>\n",
       "</table>\n",
       "</div>"
      ],
      "text/plain": [
       "    issue_id   comment_id  successful_pin\n",
       "0  629403739          NaN           False\n",
       "1  628090144  636566644.0           False\n",
       "2  628092207  636567357.0           False\n",
       "3  628091232  636566725.0           False\n",
       "4  629137696  637488315.0           False\n",
       "5  629018646          NaN           False\n",
       "6  629195577          NaN           False\n",
       "7  629402799          NaN           False\n",
       "8  629190952          NaN           False\n",
       "9  628093324  636568356.0           False"
      ]
     },
     "execution_count": 54,
     "metadata": {},
     "output_type": "execute_result"
    }
   ],
   "source": [
    "issue_first_comment[issue_first_comment['successful_pin'] == False].head(10)"
   ]
  },
  {
   "cell_type": "code",
   "execution_count": 55,
   "metadata": {},
   "outputs": [
    {
     "data": {
      "text/html": [
       "<div>\n",
       "<style scoped>\n",
       "    .dataframe tbody tr th:only-of-type {\n",
       "        vertical-align: middle;\n",
       "    }\n",
       "\n",
       "    .dataframe tbody tr th {\n",
       "        vertical-align: top;\n",
       "    }\n",
       "\n",
       "    .dataframe thead th {\n",
       "        text-align: right;\n",
       "    }\n",
       "</style>\n",
       "<table border=\"1\" class=\"dataframe\">\n",
       "  <thead>\n",
       "    <tr style=\"text-align: right;\">\n",
       "      <th></th>\n",
       "      <th>issue_id</th>\n",
       "      <th>issue_number</th>\n",
       "      <th>issue_url</th>\n",
       "      <th>issue_title</th>\n",
       "      <th>issue_state</th>\n",
       "      <th>issue_is_locked</th>\n",
       "      <th>issue_created_at</th>\n",
       "      <th>issue_updated_at</th>\n",
       "      <th>issue_closed_at</th>\n",
       "      <th>issue_user_login</th>\n",
       "      <th>issue_labels</th>\n",
       "      <th>issue_num_comments</th>\n",
       "      <th>issue_events_url</th>\n",
       "      <th>issue_dependency_name</th>\n",
       "      <th>issue_dependency_type</th>\n",
       "      <th>issue_dependency_actual_version</th>\n",
       "      <th>issue_dependency_next_version</th>\n",
       "      <th>issue_dependency_bundle_name</th>\n",
       "      <th>issue_body_parser</th>\n",
       "      <th>issue_repo_url</th>\n",
       "    </tr>\n",
       "  </thead>\n",
       "  <tbody>\n",
       "    <tr>\n",
       "      <th>7</th>\n",
       "      <td>629402799</td>\n",
       "      <td>114</td>\n",
       "      <td>https://api.github.com/repos/environment-agency-austria/react-ocean-forms-bootstrap/issues/114</td>\n",
       "      <td>An in-range update of fortawesome is breaking the build 🚨</td>\n",
       "      <td>open</td>\n",
       "      <td>False</td>\n",
       "      <td>2020-06-02T17:57:17Z</td>\n",
       "      <td>2020-06-02T17:57:18Z</td>\n",
       "      <td>NaN</td>\n",
       "      <td>greenkeeper[bot]</td>\n",
       "      <td>[greenkeeper]</td>\n",
       "      <td>0</td>\n",
       "      <td>https://api.github.com/repos/environment-agency-austria/react-ocean-forms-bootstrap/issues/114/events</td>\n",
       "      <td>NaN</td>\n",
       "      <td>NaN</td>\n",
       "      <td>NaN</td>\n",
       "      <td>NaN</td>\n",
       "      <td>NaN</td>\n",
       "      <td>NaN</td>\n",
       "      <td>https://api.github.com/repos/environment-agency-austria/react-ocean-forms-bootstrap</td>\n",
       "    </tr>\n",
       "  </tbody>\n",
       "</table>\n",
       "</div>"
      ],
      "text/plain": [
       "    issue_id  issue_number  \\\n",
       "7  629402799           114   \n",
       "\n",
       "                                                                                        issue_url  \\\n",
       "7  https://api.github.com/repos/environment-agency-austria/react-ocean-forms-bootstrap/issues/114   \n",
       "\n",
       "                                                 issue_title issue_state  \\\n",
       "7  An in-range update of fortawesome is breaking the build 🚨        open   \n",
       "\n",
       "   issue_is_locked      issue_created_at      issue_updated_at  \\\n",
       "7            False  2020-06-02T17:57:17Z  2020-06-02T17:57:18Z   \n",
       "\n",
       "  issue_closed_at  issue_user_login   issue_labels  issue_num_comments  \\\n",
       "7             NaN  greenkeeper[bot]  [greenkeeper]                   0   \n",
       "\n",
       "                                                                                        issue_events_url  \\\n",
       "7  https://api.github.com/repos/environment-agency-austria/react-ocean-forms-bootstrap/issues/114/events   \n",
       "\n",
       "  issue_dependency_name issue_dependency_type issue_dependency_actual_version  \\\n",
       "7                   NaN                   NaN                             NaN   \n",
       "\n",
       "  issue_dependency_next_version issue_dependency_bundle_name  \\\n",
       "7                           NaN                          NaN   \n",
       "\n",
       "  issue_body_parser  \\\n",
       "7               NaN   \n",
       "\n",
       "                                                                        issue_repo_url  \n",
       "7  https://api.github.com/repos/environment-agency-austria/react-ocean-forms-bootstrap  "
      ]
     },
     "execution_count": 55,
     "metadata": {},
     "output_type": "execute_result"
    }
   ],
   "source": [
    "get_issue(629402799)"
   ]
  },
  {
   "cell_type": "code",
   "execution_count": 53,
   "metadata": {},
   "outputs": [
    {
     "data": {
      "text/html": [
       "<div>\n",
       "<style scoped>\n",
       "    .dataframe tbody tr th:only-of-type {\n",
       "        vertical-align: middle;\n",
       "    }\n",
       "\n",
       "    .dataframe tbody tr th {\n",
       "        vertical-align: top;\n",
       "    }\n",
       "\n",
       "    .dataframe thead th {\n",
       "        text-align: right;\n",
       "    }\n",
       "</style>\n",
       "<table border=\"1\" class=\"dataframe\">\n",
       "  <thead>\n",
       "    <tr style=\"text-align: right;\">\n",
       "      <th></th>\n",
       "      <th>comment_issue_url</th>\n",
       "      <th>comment_issue_id</th>\n",
       "      <th>comment_id</th>\n",
       "      <th>comment_url</th>\n",
       "      <th>comment_created_at</th>\n",
       "      <th>comment_updated_at</th>\n",
       "      <th>comment_body</th>\n",
       "      <th>comment_author_association</th>\n",
       "      <th>comment_user_id</th>\n",
       "      <th>comment_user_login</th>\n",
       "      <th>comment_user_type</th>\n",
       "    </tr>\n",
       "  </thead>\n",
       "  <tbody>\n",
       "    <tr>\n",
       "      <th>87</th>\n",
       "      <td>https://api.github.com/repos/Kronos-Integration/service-http/issues/1046</td>\n",
       "      <td>627711937</td>\n",
       "      <td>636318336</td>\n",
       "      <td>https://api.github.com/repos/Kronos-Integration/service-http/issues/comments/636318336</td>\n",
       "      <td>2020-05-30T11:34:16Z</td>\n",
       "      <td>2020-05-30T11:34:16Z</td>\n",
       "      <td>After pinning to **2.0.12** your tests are passing again. [Downgrade this dependency 📌](https://github.com/Kronos-Integration/service-http/compare/master...Kronos-Integration:greenkeeper%2Fmulti-path-matcher-pin-2.0.12).</td>\n",
       "      <td>CONTRIBUTOR</td>\n",
       "      <td>23040076</td>\n",
       "      <td>greenkeeper[bot]</td>\n",
       "      <td>Bot</td>\n",
       "    </tr>\n",
       "    <tr>\n",
       "      <th>88</th>\n",
       "      <td>https://api.github.com/repos/Kronos-Integration/service-http/issues/1046</td>\n",
       "      <td>627711937</td>\n",
       "      <td>636318956</td>\n",
       "      <td>https://api.github.com/repos/Kronos-Integration/service-http/issues/comments/636318956</td>\n",
       "      <td>2020-05-30T11:39:44Z</td>\n",
       "      <td>2020-05-30T11:39:44Z</td>\n",
       "      <td>- The `dependency` [multi-path-matcher](https://github.com/arlac77/multi-path-matcher) was updated from `2.0.13` to `2.0.14`.\\n\\n\\nYour tests are passing again with this update. [Explicitly upgrade to this version 🚀](https://github.com/Kronos-Integration/service-http/compare/master...Kronos-Integration:greenkeeper%2Fmulti-path-matcher-2.0.14)\\n\\n\\n\\n&lt;details&gt;\\n&lt;summary&gt;Release Notes for v2.0.14&lt;/summary&gt;\\n\\n&lt;h2&gt;&lt;a href=\"https://urls.greenkeeper.io/arlac77/multi-path-matcher/compare/v2.0.13...v2.0.14\"&gt;2.0.14&lt;/a&gt; (2020-05-30)&lt;/h2&gt;\\n&lt;h3&gt;Bug Fixes&lt;/h3&gt;\\n&lt;ul&gt;\\n&lt;li&gt;use relative exports (&lt;a href=\"https://urls.greenkeeper.io/arlac77/multi-path-matcher/commit/70c78f1780e16d1493d8cc04ff821e967c462986\"&gt;70c78f1&lt;/a&gt;)&lt;/li&gt;\\n&lt;/ul&gt;\\n&lt;/details&gt;\\n\\n&lt;details&gt;\\n&lt;summary&gt;Commits&lt;/summary&gt;\\n&lt;p&gt;The new version differs by 1 commits.&lt;/p&gt;\\n&lt;ul&gt;\\n&lt;li&gt;&lt;a href=\"https://urls.greenkeeper.io/arlac77/multi-path-matcher/commit/70c78f1780e16d1493d8cc04ff821e967c462986\"&gt;&lt;code&gt;70c78f1&lt;/code&gt;&lt;/a&gt; &lt;code&gt;fix: use relative exports&lt;/code&gt;&lt;/li&gt;\\n&lt;/ul&gt;\\n&lt;p&gt;See the &lt;a href=\"https://urls.greenkeeper.io/arlac77/multi-path-matcher/compare/a37786fa4eab506ef15958a174d5ea9e563b791d...70c78f1780e16d1493d8cc04ff821e967c462986\"&gt;full diff&lt;/a&gt;&lt;/p&gt;\\n&lt;/details&gt;</td>\n",
       "      <td>CONTRIBUTOR</td>\n",
       "      <td>23040076</td>\n",
       "      <td>greenkeeper[bot]</td>\n",
       "      <td>Bot</td>\n",
       "    </tr>\n",
       "  </tbody>\n",
       "</table>\n",
       "</div>"
      ],
      "text/plain": [
       "                                                           comment_issue_url  \\\n",
       "87  https://api.github.com/repos/Kronos-Integration/service-http/issues/1046   \n",
       "88  https://api.github.com/repos/Kronos-Integration/service-http/issues/1046   \n",
       "\n",
       "    comment_issue_id  comment_id  \\\n",
       "87         627711937   636318336   \n",
       "88         627711937   636318956   \n",
       "\n",
       "                                                                               comment_url  \\\n",
       "87  https://api.github.com/repos/Kronos-Integration/service-http/issues/comments/636318336   \n",
       "88  https://api.github.com/repos/Kronos-Integration/service-http/issues/comments/636318956   \n",
       "\n",
       "      comment_created_at    comment_updated_at  \\\n",
       "87  2020-05-30T11:34:16Z  2020-05-30T11:34:16Z   \n",
       "88  2020-05-30T11:39:44Z  2020-05-30T11:39:44Z   \n",
       "\n",
       "                                                                                                                                                                                                                                                                                                                                                                                                                                                                                                                                                                                                                                                                                                                                                                                                                                                                                                                                                                                                                                                                                                                                                                                                                                                               comment_body  \\\n",
       "87                                                                                                                                                                                                                                                                                                                                                                                                                                                                                                                                                                                                                                                                                                                                                                                                                                                                                                                                                                                                                                             After pinning to **2.0.12** your tests are passing again. [Downgrade this dependency 📌](https://github.com/Kronos-Integration/service-http/compare/master...Kronos-Integration:greenkeeper%2Fmulti-path-matcher-pin-2.0.12).   \n",
       "88  - The `dependency` [multi-path-matcher](https://github.com/arlac77/multi-path-matcher) was updated from `2.0.13` to `2.0.14`.\\n\\n\\nYour tests are passing again with this update. [Explicitly upgrade to this version 🚀](https://github.com/Kronos-Integration/service-http/compare/master...Kronos-Integration:greenkeeper%2Fmulti-path-matcher-2.0.14)\\n\\n\\n\\n<details>\\n<summary>Release Notes for v2.0.14</summary>\\n\\n<h2><a href=\"https://urls.greenkeeper.io/arlac77/multi-path-matcher/compare/v2.0.13...v2.0.14\">2.0.14</a> (2020-05-30)</h2>\\n<h3>Bug Fixes</h3>\\n<ul>\\n<li>use relative exports (<a href=\"https://urls.greenkeeper.io/arlac77/multi-path-matcher/commit/70c78f1780e16d1493d8cc04ff821e967c462986\">70c78f1</a>)</li>\\n</ul>\\n</details>\\n\\n<details>\\n<summary>Commits</summary>\\n<p>The new version differs by 1 commits.</p>\\n<ul>\\n<li><a href=\"https://urls.greenkeeper.io/arlac77/multi-path-matcher/commit/70c78f1780e16d1493d8cc04ff821e967c462986\"><code>70c78f1</code></a> <code>fix: use relative exports</code></li>\\n</ul>\\n<p>See the <a href=\"https://urls.greenkeeper.io/arlac77/multi-path-matcher/compare/a37786fa4eab506ef15958a174d5ea9e563b791d...70c78f1780e16d1493d8cc04ff821e967c462986\">full diff</a></p>\\n</details>   \n",
       "\n",
       "   comment_author_association  comment_user_id comment_user_login  \\\n",
       "87                CONTRIBUTOR         23040076   greenkeeper[bot]   \n",
       "88                CONTRIBUTOR         23040076   greenkeeper[bot]   \n",
       "\n",
       "   comment_user_type  \n",
       "87               Bot  \n",
       "88               Bot  "
      ]
     },
     "execution_count": 53,
     "metadata": {},
     "output_type": "execute_result"
    }
   ],
   "source": [
    "get_comments_for_issue(627711937)"
   ]
  },
  {
   "cell_type": "markdown",
   "metadata": {},
   "source": [
    "### Comments by users"
   ]
  },
  {
   "cell_type": "code",
   "execution_count": 73,
   "metadata": {},
   "outputs": [],
   "source": [
    "user_comments = comments[comments['comment_user_type'] == 'User']\n",
    "issues_with_user_comments = issues[issues['issue_id'].isin(user_comments['comment_issue_id'])]"
   ]
  },
  {
   "cell_type": "markdown",
   "metadata": {},
   "source": [
    "How long until first user response?"
   ]
  },
  {
   "cell_type": "code",
   "execution_count": 80,
   "metadata": {},
   "outputs": [
    {
     "data": {
      "text/html": [
       "<div>\n",
       "<style scoped>\n",
       "    .dataframe tbody tr th:only-of-type {\n",
       "        vertical-align: middle;\n",
       "    }\n",
       "\n",
       "    .dataframe tbody tr th {\n",
       "        vertical-align: top;\n",
       "    }\n",
       "\n",
       "    .dataframe thead th {\n",
       "        text-align: right;\n",
       "    }\n",
       "</style>\n",
       "<table border=\"1\" class=\"dataframe\">\n",
       "  <thead>\n",
       "    <tr style=\"text-align: right;\">\n",
       "      <th></th>\n",
       "      <th>issue_url</th>\n",
       "      <th>issue_id</th>\n",
       "    </tr>\n",
       "  </thead>\n",
       "  <tbody>\n",
       "    <tr>\n",
       "      <th>21</th>\n",
       "      <td>https://api.github.com/repos/cssinjs/caniuse-support/issues/71</td>\n",
       "      <td>629741164</td>\n",
       "    </tr>\n",
       "    <tr>\n",
       "      <th>26</th>\n",
       "      <td>https://api.github.com/repos/cssinjs/caniuse-support/issues/70</td>\n",
       "      <td>628799957</td>\n",
       "    </tr>\n",
       "    <tr>\n",
       "      <th>34</th>\n",
       "      <td>https://api.github.com/repos/cerner/carbon-graphs/issues/223</td>\n",
       "      <td>628100727</td>\n",
       "    </tr>\n",
       "    <tr>\n",
       "      <th>42</th>\n",
       "      <td>https://api.github.com/repos/atlassian/stricter/issues/121</td>\n",
       "      <td>628604170</td>\n",
       "    </tr>\n",
       "    <tr>\n",
       "      <th>44</th>\n",
       "      <td>https://api.github.com/repos/cerner/carbon-graphs/issues/226</td>\n",
       "      <td>628657186</td>\n",
       "    </tr>\n",
       "    <tr>\n",
       "      <th>72</th>\n",
       "      <td>https://api.github.com/repos/cssinjs/css-vendor/issues/209</td>\n",
       "      <td>627843386</td>\n",
       "    </tr>\n",
       "    <tr>\n",
       "      <th>106</th>\n",
       "      <td>https://api.github.com/repos/cerner/carbon-graphs/issues/221</td>\n",
       "      <td>627134159</td>\n",
       "    </tr>\n",
       "    <tr>\n",
       "      <th>194</th>\n",
       "      <td>https://api.github.com/repos/Mermade/oas-kit/issues/231</td>\n",
       "      <td>625292166</td>\n",
       "    </tr>\n",
       "    <tr>\n",
       "      <th>213</th>\n",
       "      <td>https://api.github.com/repos/cerner/carbon-graphs/issues/218</td>\n",
       "      <td>625315492</td>\n",
       "    </tr>\n",
       "    <tr>\n",
       "      <th>240</th>\n",
       "      <td>https://api.github.com/repos/johnpapa/vscode-peacock/issues/396</td>\n",
       "      <td>625109277</td>\n",
       "    </tr>\n",
       "  </tbody>\n",
       "</table>\n",
       "</div>"
      ],
      "text/plain": [
       "                                                           issue_url  \\\n",
       "21    https://api.github.com/repos/cssinjs/caniuse-support/issues/71   \n",
       "26    https://api.github.com/repos/cssinjs/caniuse-support/issues/70   \n",
       "34      https://api.github.com/repos/cerner/carbon-graphs/issues/223   \n",
       "42        https://api.github.com/repos/atlassian/stricter/issues/121   \n",
       "44      https://api.github.com/repos/cerner/carbon-graphs/issues/226   \n",
       "72        https://api.github.com/repos/cssinjs/css-vendor/issues/209   \n",
       "106     https://api.github.com/repos/cerner/carbon-graphs/issues/221   \n",
       "194          https://api.github.com/repos/Mermade/oas-kit/issues/231   \n",
       "213     https://api.github.com/repos/cerner/carbon-graphs/issues/218   \n",
       "240  https://api.github.com/repos/johnpapa/vscode-peacock/issues/396   \n",
       "\n",
       "      issue_id  \n",
       "21   629741164  \n",
       "26   628799957  \n",
       "34   628100727  \n",
       "42   628604170  \n",
       "44   628657186  \n",
       "72   627843386  \n",
       "106  627134159  \n",
       "194  625292166  \n",
       "213  625315492  \n",
       "240  625109277  "
      ]
     },
     "execution_count": 80,
     "metadata": {},
     "output_type": "execute_result"
    }
   ],
   "source": [
    "issues_with_user_comments[['issue_url', \"issue_id\"]].head(10)"
   ]
  },
  {
   "cell_type": "code",
   "execution_count": 84,
   "metadata": {},
   "outputs": [
    {
     "data": {
      "text/html": [
       "<div>\n",
       "<style scoped>\n",
       "    .dataframe tbody tr th:only-of-type {\n",
       "        vertical-align: middle;\n",
       "    }\n",
       "\n",
       "    .dataframe tbody tr th {\n",
       "        vertical-align: top;\n",
       "    }\n",
       "\n",
       "    .dataframe thead th {\n",
       "        text-align: right;\n",
       "    }\n",
       "</style>\n",
       "<table border=\"1\" class=\"dataframe\">\n",
       "  <thead>\n",
       "    <tr style=\"text-align: right;\">\n",
       "      <th></th>\n",
       "      <th>event_issue_url</th>\n",
       "      <th>event_issue_id</th>\n",
       "      <th>event_id</th>\n",
       "      <th>event_url</th>\n",
       "      <th>event_created_at</th>\n",
       "      <th>event_description</th>\n",
       "      <th>event_actor_id</th>\n",
       "      <th>event_actor_login</th>\n",
       "      <th>event_commit_id</th>\n",
       "      <th>event_commit_url</th>\n",
       "      <th>event_label</th>\n",
       "    </tr>\n",
       "  </thead>\n",
       "  <tbody>\n",
       "    <tr>\n",
       "      <th>25</th>\n",
       "      <td>https://api.github.com/repos/cssinjs/caniuse-support/issues/71</td>\n",
       "      <td>629741164</td>\n",
       "      <td>3400682154</td>\n",
       "      <td>https://api.github.com/repos/cssinjs/caniuse-support/issues/events/3400682154</td>\n",
       "      <td>2020-06-03T06:53:03Z</td>\n",
       "      <td>labeled</td>\n",
       "      <td>23040076.0</td>\n",
       "      <td>greenkeeper[bot]</td>\n",
       "      <td>NaN</td>\n",
       "      <td>NaN</td>\n",
       "      <td>greenkeeper</td>\n",
       "    </tr>\n",
       "    <tr>\n",
       "      <th>26</th>\n",
       "      <td>https://api.github.com/repos/cssinjs/caniuse-support/issues/71</td>\n",
       "      <td>629741164</td>\n",
       "      <td>3604755981</td>\n",
       "      <td>https://api.github.com/repos/cssinjs/caniuse-support/issues/events/3604755981</td>\n",
       "      <td>2020-07-30T16:33:52Z</td>\n",
       "      <td>closed</td>\n",
       "      <td>1459899.0</td>\n",
       "      <td>AleshaOleg</td>\n",
       "      <td>NaN</td>\n",
       "      <td>NaN</td>\n",
       "      <td>NaN</td>\n",
       "    </tr>\n",
       "  </tbody>\n",
       "</table>\n",
       "</div>"
      ],
      "text/plain": [
       "                                                   event_issue_url  \\\n",
       "25  https://api.github.com/repos/cssinjs/caniuse-support/issues/71   \n",
       "26  https://api.github.com/repos/cssinjs/caniuse-support/issues/71   \n",
       "\n",
       "    event_issue_id    event_id  \\\n",
       "25       629741164  3400682154   \n",
       "26       629741164  3604755981   \n",
       "\n",
       "                                                                        event_url  \\\n",
       "25  https://api.github.com/repos/cssinjs/caniuse-support/issues/events/3400682154   \n",
       "26  https://api.github.com/repos/cssinjs/caniuse-support/issues/events/3604755981   \n",
       "\n",
       "        event_created_at event_description  event_actor_id event_actor_login  \\\n",
       "25  2020-06-03T06:53:03Z           labeled      23040076.0  greenkeeper[bot]   \n",
       "26  2020-07-30T16:33:52Z            closed       1459899.0        AleshaOleg   \n",
       "\n",
       "   event_commit_id event_commit_url  event_label  \n",
       "25             NaN              NaN  greenkeeper  \n",
       "26             NaN              NaN          NaN  "
      ]
     },
     "execution_count": 84,
     "metadata": {},
     "output_type": "execute_result"
    }
   ],
   "source": [
    "issue_id = 629741164\n",
    "\n",
    "events[events['event_issue_id'] == issue_id]\n"
   ]
  },
  {
   "cell_type": "code",
   "execution_count": 85,
   "metadata": {},
   "outputs": [
    {
     "data": {
      "text/html": [
       "<div>\n",
       "<style scoped>\n",
       "    .dataframe tbody tr th:only-of-type {\n",
       "        vertical-align: middle;\n",
       "    }\n",
       "\n",
       "    .dataframe tbody tr th {\n",
       "        vertical-align: top;\n",
       "    }\n",
       "\n",
       "    .dataframe thead th {\n",
       "        text-align: right;\n",
       "    }\n",
       "</style>\n",
       "<table border=\"1\" class=\"dataframe\">\n",
       "  <thead>\n",
       "    <tr style=\"text-align: right;\">\n",
       "      <th></th>\n",
       "      <th>comment_issue_url</th>\n",
       "      <th>comment_issue_id</th>\n",
       "      <th>comment_id</th>\n",
       "      <th>comment_url</th>\n",
       "      <th>comment_created_at</th>\n",
       "      <th>comment_updated_at</th>\n",
       "      <th>comment_body</th>\n",
       "      <th>comment_author_association</th>\n",
       "      <th>comment_user_id</th>\n",
       "      <th>comment_user_login</th>\n",
       "      <th>comment_user_type</th>\n",
       "    </tr>\n",
       "  </thead>\n",
       "  <tbody>\n",
       "    <tr>\n",
       "      <th>19</th>\n",
       "      <td>https://api.github.com/repos/cssinjs/caniuse-support/issues/71</td>\n",
       "      <td>629741164</td>\n",
       "      <td>637996706</td>\n",
       "      <td>https://api.github.com/repos/cssinjs/caniuse-support/issues/comments/637996706</td>\n",
       "      <td>2020-06-03T06:54:19Z</td>\n",
       "      <td>2020-06-03T06:54:19Z</td>\n",
       "      <td>After pinning to **1.3.0** your tests are still failing. The reported issue _might_ not affect your project. These imprecisions are caused by inconsistent test results.</td>\n",
       "      <td>CONTRIBUTOR</td>\n",
       "      <td>23040076</td>\n",
       "      <td>greenkeeper[bot]</td>\n",
       "      <td>Bot</td>\n",
       "    </tr>\n",
       "    <tr>\n",
       "      <th>20</th>\n",
       "      <td>https://api.github.com/repos/cssinjs/caniuse-support/issues/71</td>\n",
       "      <td>629741164</td>\n",
       "      <td>638021467</td>\n",
       "      <td>https://api.github.com/repos/cssinjs/caniuse-support/issues/comments/638021467</td>\n",
       "      <td>2020-06-03T07:42:43Z</td>\n",
       "      <td>2020-06-03T07:42:43Z</td>\n",
       "      <td>- The `devDependency` [merge2](https://github.com/teambition/merge2) was updated from `1.4.0` to `1.4.1`.\\n\\n\\nYour tests are passing again with this update. [Explicitly upgrade to this version 🚀](https://github.com/cssinjs/caniuse-support/compare/master...cssinjs:greenkeeper%2Fmerge2-1.4.1)\\n\\n\\n\\n&lt;details&gt;\\n&lt;summary&gt;Commits&lt;/summary&gt;\\n&lt;p&gt;The new version differs by 1 commits.&lt;/p&gt;\\n&lt;ul&gt;\\n&lt;li&gt;&lt;a href=\"https://urls.greenkeeper.io/teambition/merge2/commit/a7300d42983d668f61d751ad2bfc42c880a29a36\"&gt;&lt;code&gt;a7300d4&lt;/code&gt;&lt;/a&gt; &lt;code&gt;Fixed: remove error listener on end.&lt;/code&gt;&lt;/li&gt;\\n&lt;/ul&gt;\\n&lt;p&gt;See the &lt;a href=\"https://urls.greenkeeper.io/teambition/merge2/compare/5dc3ea60a18feed7fd26f29ec2f06ddb89bf88cd...a7300d42983d668f61d751ad2bfc42c880a29a36\"&gt;full diff&lt;/a&gt;&lt;/p&gt;\\n&lt;/details&gt;</td>\n",
       "      <td>CONTRIBUTOR</td>\n",
       "      <td>23040076</td>\n",
       "      <td>greenkeeper[bot]</td>\n",
       "      <td>Bot</td>\n",
       "    </tr>\n",
       "    <tr>\n",
       "      <th>21</th>\n",
       "      <td>https://api.github.com/repos/cssinjs/caniuse-support/issues/71</td>\n",
       "      <td>629741164</td>\n",
       "      <td>666510646</td>\n",
       "      <td>https://api.github.com/repos/cssinjs/caniuse-support/issues/comments/666510646</td>\n",
       "      <td>2020-07-30T16:33:52Z</td>\n",
       "      <td>2020-07-30T16:33:52Z</td>\n",
       "      <td>https://github.com/cssinjs/caniuse-support/pull/73</td>\n",
       "      <td>MEMBER</td>\n",
       "      <td>1459899</td>\n",
       "      <td>AleshaOleg</td>\n",
       "      <td>User</td>\n",
       "    </tr>\n",
       "  </tbody>\n",
       "</table>\n",
       "</div>"
      ],
      "text/plain": [
       "                                                 comment_issue_url  \\\n",
       "19  https://api.github.com/repos/cssinjs/caniuse-support/issues/71   \n",
       "20  https://api.github.com/repos/cssinjs/caniuse-support/issues/71   \n",
       "21  https://api.github.com/repos/cssinjs/caniuse-support/issues/71   \n",
       "\n",
       "    comment_issue_id  comment_id  \\\n",
       "19         629741164   637996706   \n",
       "20         629741164   638021467   \n",
       "21         629741164   666510646   \n",
       "\n",
       "                                                                       comment_url  \\\n",
       "19  https://api.github.com/repos/cssinjs/caniuse-support/issues/comments/637996706   \n",
       "20  https://api.github.com/repos/cssinjs/caniuse-support/issues/comments/638021467   \n",
       "21  https://api.github.com/repos/cssinjs/caniuse-support/issues/comments/666510646   \n",
       "\n",
       "      comment_created_at    comment_updated_at  \\\n",
       "19  2020-06-03T06:54:19Z  2020-06-03T06:54:19Z   \n",
       "20  2020-06-03T07:42:43Z  2020-06-03T07:42:43Z   \n",
       "21  2020-07-30T16:33:52Z  2020-07-30T16:33:52Z   \n",
       "\n",
       "                                                                                                                                                                                                                                                                                                                                                                                                                                                                                                                                                                                                                                                                                                                                                                                               comment_body  \\\n",
       "19                                                                                                                                                                                                                                                                                                                                                                                                                                                                                                                                                                                                                                 After pinning to **1.3.0** your tests are still failing. The reported issue _might_ not affect your project. These imprecisions are caused by inconsistent test results.   \n",
       "20  - The `devDependency` [merge2](https://github.com/teambition/merge2) was updated from `1.4.0` to `1.4.1`.\\n\\n\\nYour tests are passing again with this update. [Explicitly upgrade to this version 🚀](https://github.com/cssinjs/caniuse-support/compare/master...cssinjs:greenkeeper%2Fmerge2-1.4.1)\\n\\n\\n\\n<details>\\n<summary>Commits</summary>\\n<p>The new version differs by 1 commits.</p>\\n<ul>\\n<li><a href=\"https://urls.greenkeeper.io/teambition/merge2/commit/a7300d42983d668f61d751ad2bfc42c880a29a36\"><code>a7300d4</code></a> <code>Fixed: remove error listener on end.</code></li>\\n</ul>\\n<p>See the <a href=\"https://urls.greenkeeper.io/teambition/merge2/compare/5dc3ea60a18feed7fd26f29ec2f06ddb89bf88cd...a7300d42983d668f61d751ad2bfc42c880a29a36\">full diff</a></p>\\n</details>   \n",
       "21                                                                                                                                                                                                                                                                                                                                                                                                                                                                                                                                                                                                                                                                                                                                                       https://github.com/cssinjs/caniuse-support/pull/73   \n",
       "\n",
       "   comment_author_association  comment_user_id comment_user_login  \\\n",
       "19                CONTRIBUTOR         23040076   greenkeeper[bot]   \n",
       "20                CONTRIBUTOR         23040076   greenkeeper[bot]   \n",
       "21                     MEMBER          1459899         AleshaOleg   \n",
       "\n",
       "   comment_user_type  \n",
       "19               Bot  \n",
       "20               Bot  \n",
       "21              User  "
      ]
     },
     "execution_count": 85,
     "metadata": {},
     "output_type": "execute_result"
    }
   ],
   "source": [
    "get_comments_for_issue(issue_id)"
   ]
  },
  {
   "cell_type": "code",
   "execution_count": null,
   "metadata": {},
   "outputs": [],
   "source": []
  }
 ],
 "metadata": {
  "kernelspec": {
   "display_name": "Python 3",
   "language": "python",
   "name": "python3"
  },
  "language_info": {
   "codemirror_mode": {
    "name": "ipython",
    "version": 3
   },
   "file_extension": ".py",
   "mimetype": "text/x-python",
   "name": "python",
   "nbconvert_exporter": "python",
   "pygments_lexer": "ipython3",
   "version": "3.8.3"
  }
 },
 "nbformat": 4,
 "nbformat_minor": 4
}
