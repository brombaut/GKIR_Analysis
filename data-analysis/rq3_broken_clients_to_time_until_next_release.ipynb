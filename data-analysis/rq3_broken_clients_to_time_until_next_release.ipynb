{
 "cells": [
  {
   "cell_type": "code",
   "execution_count": 1,
   "id": "identified-painting",
   "metadata": {},
   "outputs": [
    {
     "name": "stderr",
     "output_type": "stream",
     "text": [
      "/Users/BenRombaut/opt/anaconda3/lib/python3.8/site-packages/IPython/core/interactiveshell.py:3338: DtypeWarning: Columns (14,16,17,20) have mixed types.Specify dtype option on import or set low_memory=False.\n",
      "  if (await self.run_code(code, result,  async_=asy)):\n"
     ]
    }
   ],
   "source": [
    "PROJECT_ROOT = '..'\n",
    "CSV_FOLDER = 'csv'\n",
    "\n",
    "%run _utils.ipynb\n",
    "\n",
    "issues = load_issues()\n",
    "library_versions = load_library_versions()"
   ]
  },
  {
   "cell_type": "code",
   "execution_count": 2,
   "id": "animated-hormone",
   "metadata": {},
   "outputs": [
    {
     "data": {
      "text/html": [
       "<div>\n",
       "<style scoped>\n",
       "    .dataframe tbody tr th:only-of-type {\n",
       "        vertical-align: middle;\n",
       "    }\n",
       "\n",
       "    .dataframe tbody tr th {\n",
       "        vertical-align: top;\n",
       "    }\n",
       "\n",
       "    .dataframe thead th {\n",
       "        text-align: right;\n",
       "    }\n",
       "</style>\n",
       "<table border=\"1\" class=\"dataframe\">\n",
       "  <thead>\n",
       "    <tr style=\"text-align: right;\">\n",
       "      <th></th>\n",
       "      <th>package_name</th>\n",
       "      <th>version</th>\n",
       "      <th>version_published_at</th>\n",
       "      <th>version_release_type</th>\n",
       "      <th>broken_clients_count</th>\n",
       "      <th>time_until_next_release</th>\n",
       "    </tr>\n",
       "  </thead>\n",
       "  <tbody>\n",
       "    <tr>\n",
       "      <th>0</th>\n",
       "      <td>3box</td>\n",
       "      <td>0.0.1</td>\n",
       "      <td>2018-08-20 14:13:14.031</td>\n",
       "      <td>NaN</td>\n",
       "      <td>0</td>\n",
       "      <td>15 days 21:44:20.609000</td>\n",
       "    </tr>\n",
       "    <tr>\n",
       "      <th>1</th>\n",
       "      <td>3box</td>\n",
       "      <td>0.0.2</td>\n",
       "      <td>2018-09-05 11:57:34.640</td>\n",
       "      <td>PATCH</td>\n",
       "      <td>0</td>\n",
       "      <td>1 days 16:38:51.812000</td>\n",
       "    </tr>\n",
       "    <tr>\n",
       "      <th>2</th>\n",
       "      <td>3box</td>\n",
       "      <td>0.0.3</td>\n",
       "      <td>2018-09-07 04:36:26.452</td>\n",
       "      <td>PATCH</td>\n",
       "      <td>0</td>\n",
       "      <td>0 days 00:59:30.090000</td>\n",
       "    </tr>\n",
       "    <tr>\n",
       "      <th>3</th>\n",
       "      <td>3box</td>\n",
       "      <td>0.0.4</td>\n",
       "      <td>2018-09-07 05:35:56.542</td>\n",
       "      <td>PATCH</td>\n",
       "      <td>0</td>\n",
       "      <td>4 days 07:42:30.188000</td>\n",
       "    </tr>\n",
       "    <tr>\n",
       "      <th>4</th>\n",
       "      <td>3box</td>\n",
       "      <td>0.0.5-beta-1</td>\n",
       "      <td>2018-09-11 13:18:26.730</td>\n",
       "      <td>PATCH</td>\n",
       "      <td>0</td>\n",
       "      <td>0 days 00:00:51.060000</td>\n",
       "    </tr>\n",
       "  </tbody>\n",
       "</table>\n",
       "</div>"
      ],
      "text/plain": [
       "  package_name       version    version_published_at version_release_type  \\\n",
       "0         3box         0.0.1 2018-08-20 14:13:14.031                  NaN   \n",
       "1         3box         0.0.2 2018-09-05 11:57:34.640                PATCH   \n",
       "2         3box         0.0.3 2018-09-07 04:36:26.452                PATCH   \n",
       "3         3box         0.0.4 2018-09-07 05:35:56.542                PATCH   \n",
       "4         3box  0.0.5-beta-1 2018-09-11 13:18:26.730                PATCH   \n",
       "\n",
       "   broken_clients_count time_until_next_release  \n",
       "0                     0 15 days 21:44:20.609000  \n",
       "1                     0  1 days 16:38:51.812000  \n",
       "2                     0  0 days 00:59:30.090000  \n",
       "3                     0  4 days 07:42:30.188000  \n",
       "4                     0  0 days 00:00:51.060000  "
      ]
     },
     "execution_count": 2,
     "metadata": {},
     "output_type": "execute_result"
    }
   ],
   "source": [
    "library_versions.head()"
   ]
  },
  {
   "cell_type": "code",
   "execution_count": 3,
   "id": "speaking-discussion",
   "metadata": {},
   "outputs": [
    {
     "data": {
      "application/vnd.jupyter.widget-view+json": {
       "model_id": "bc06726240494f0898874ed3cd859fef",
       "version_major": 2,
       "version_minor": 0
      },
      "text/plain": [
       "  0%|          | 0/7361 [00:00<?, ?it/s]"
      ]
     },
     "metadata": {},
     "output_type": "display_data"
    }
   ],
   "source": [
    "grouped = library_versions.groupby(by=['package_name'])\n",
    "\n",
    "result = {\n",
    "    'package_name': list(),\n",
    "    'broken_clients_count': list(),\n",
    "    'time_until_next_release': list(),\n",
    "}\n",
    "\n",
    "for package, group in tqdm_notebook(grouped):\n",
    "    no_breaks = group[group['broken_clients_count'] == 0]\n",
    "    if not no_breaks.empty:\n",
    "        med_time_until_next_release = \\\n",
    "            no_breaks[~pd.isna(no_breaks['time_until_next_release'])]['time_until_next_release'].median()\n",
    "        result['package_name'].append(package)\n",
    "        result['broken_clients_count'].append(0)\n",
    "        result['time_until_next_release'].append(med_time_until_next_release)\n",
    "    breaks = group[group['broken_clients_count'] != 0]\n",
    "    for idx, row in breaks.iterrows():\n",
    "        result['package_name'].append(row['package_name'])\n",
    "        result['broken_clients_count'].append(row['broken_clients_count'])\n",
    "        result['time_until_next_release'].append(row['time_until_next_release'])\n",
    "        \n",
    "for_graph = pd.DataFrame(result)\n",
    "for_graph['time_until_next_release_seconds'] = \\\n",
    "    for_graph['time_until_next_release'].astype('timedelta64[s]') + 1\n"
   ]
  },
  {
   "cell_type": "code",
   "execution_count": 99,
   "id": "black-reason",
   "metadata": {},
   "outputs": [
    {
     "data": {
      "text/html": [
       "<div>\n",
       "<style scoped>\n",
       "    .dataframe tbody tr th:only-of-type {\n",
       "        vertical-align: middle;\n",
       "    }\n",
       "\n",
       "    .dataframe tbody tr th {\n",
       "        vertical-align: top;\n",
       "    }\n",
       "\n",
       "    .dataframe thead th {\n",
       "        text-align: right;\n",
       "    }\n",
       "</style>\n",
       "<table border=\"1\" class=\"dataframe\">\n",
       "  <thead>\n",
       "    <tr style=\"text-align: right;\">\n",
       "      <th></th>\n",
       "      <th>broken_clients_count</th>\n",
       "      <th>time_until_next_release</th>\n",
       "      <th>time_until_next_release_seconds</th>\n",
       "    </tr>\n",
       "  </thead>\n",
       "  <tbody>\n",
       "    <tr>\n",
       "      <th>count</th>\n",
       "      <td>24360.000000</td>\n",
       "      <td>23624</td>\n",
       "      <td>23624.000000</td>\n",
       "    </tr>\n",
       "    <tr>\n",
       "      <th>mean</th>\n",
       "      <td>3.231117</td>\n",
       "      <td>33 days 21:56:33.148371127</td>\n",
       "      <td>814.455088</td>\n",
       "    </tr>\n",
       "    <tr>\n",
       "      <th>std</th>\n",
       "      <td>13.088075</td>\n",
       "      <td>74 days 18:04:17.637480406</td>\n",
       "      <td>1794.065813</td>\n",
       "    </tr>\n",
       "    <tr>\n",
       "      <th>min</th>\n",
       "      <td>0.000000</td>\n",
       "      <td>0 days 00:00:00</td>\n",
       "      <td>1.000000</td>\n",
       "    </tr>\n",
       "    <tr>\n",
       "      <th>25%</th>\n",
       "      <td>0.000000</td>\n",
       "      <td>1 days 19:28:24.906000</td>\n",
       "      <td>44.000000</td>\n",
       "    </tr>\n",
       "    <tr>\n",
       "      <th>50%</th>\n",
       "      <td>1.000000</td>\n",
       "      <td>7 days 23:09:26.644000</td>\n",
       "      <td>192.000000</td>\n",
       "    </tr>\n",
       "    <tr>\n",
       "      <th>75%</th>\n",
       "      <td>2.000000</td>\n",
       "      <td>29 days 02:55:26.851250</td>\n",
       "      <td>699.000000</td>\n",
       "    </tr>\n",
       "    <tr>\n",
       "      <th>max</th>\n",
       "      <td>625.000000</td>\n",
       "      <td>1741 days 00:31:52.336000</td>\n",
       "      <td>41785.000000</td>\n",
       "    </tr>\n",
       "  </tbody>\n",
       "</table>\n",
       "</div>"
      ],
      "text/plain": [
       "       broken_clients_count     time_until_next_release  \\\n",
       "count          24360.000000                       23624   \n",
       "mean               3.231117  33 days 21:56:33.148371127   \n",
       "std               13.088075  74 days 18:04:17.637480406   \n",
       "min                0.000000             0 days 00:00:00   \n",
       "25%                0.000000      1 days 19:28:24.906000   \n",
       "50%                1.000000      7 days 23:09:26.644000   \n",
       "75%                2.000000     29 days 02:55:26.851250   \n",
       "max              625.000000   1741 days 00:31:52.336000   \n",
       "\n",
       "       time_until_next_release_seconds  \n",
       "count                     23624.000000  \n",
       "mean                        814.455088  \n",
       "std                        1794.065813  \n",
       "min                           1.000000  \n",
       "25%                          44.000000  \n",
       "50%                         192.000000  \n",
       "75%                         699.000000  \n",
       "max                       41785.000000  "
      ]
     },
     "execution_count": 99,
     "metadata": {},
     "output_type": "execute_result"
    }
   ],
   "source": [
    "\n",
    "for_graph.describe()"
   ]
  },
  {
   "cell_type": "code",
   "execution_count": 100,
   "id": "bigger-contractor",
   "metadata": {},
   "outputs": [
    {
     "data": {
      "image/png": "[encoded data removed]",
      "text/plain": [
       "<Figure size 432x432 with 1 Axes>"
      ]
     },
     "metadata": {},
     "output_type": "display_data"
    }
   ],
   "source": [
    "sns.set()\n",
    "\n",
    "fig, ax = plt.subplots(nrows=1, ncols=1, figsize=(6, 6))\n",
    "\n",
    "x = for_graph['broken_clients_count']\n",
    "y = np.log10(for_graph['time_until_next_release_seconds'])\n",
    "\n",
    "\n",
    "params = dict(\n",
    "    x=x,\n",
    "    y=y,\n",
    ")\n",
    "ax = sns.scatterplot(\n",
    "    **params,\n",
    "    color=GK_GREEN,\n",
    ")\n",
    "\n",
    "fig.tight_layout()\n",
    "plt.show()"
   ]
  },
  {
   "cell_type": "code",
   "execution_count": null,
   "id": "gentle-package",
   "metadata": {},
   "outputs": [],
   "source": []
  }
 ],
 "metadata": {
  "kernelspec": {
   "display_name": "Python 3",
   "language": "python",
   "name": "python3"
  },
  "language_info": {
   "codemirror_mode": {
    "name": "ipython",
    "version": 3
   },
   "file_extension": ".py",
   "mimetype": "text/x-python",
   "name": "python",
   "nbconvert_exporter": "python",
   "pygments_lexer": "ipython3",
   "version": "3.8.5"
  }
 },
 "nbformat": 4,
 "nbformat_minor": 5
}
