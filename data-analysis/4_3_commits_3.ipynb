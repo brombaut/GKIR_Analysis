{
 "cells": [
  {
   "cell_type": "markdown",
   "id": "a2e49822-e8b7-40cf-beef-64d9784bf5b2",
   "metadata": {},
   "source": [
    "<h3>Load helper functions</h3>"
   ]
  },
  {
   "cell_type": "code",
   "execution_count": 1,
   "id": "437c3829-b772-4376-ac64-1736e4c9ee83",
   "metadata": {},
   "outputs": [],
   "source": [
    "%run _utils.ipynb"
   ]
  },
  {
   "cell_type": "markdown",
   "id": "795d8aec-eeb0-4c73-9f25-4e9a18b260ab",
   "metadata": {},
   "source": [
    "<h3>Load Greenkeeper In-Range Breaking Build <code>issues</code></h3>"
   ]
  },
  {
   "cell_type": "code",
   "execution_count": 2,
   "id": "7ea272c0-a1ed-4a08-bdb7-8113a9005fc3",
   "metadata": {},
   "outputs": [],
   "source": [
    "gk_issues = load_gk_issues_for_analysis()\n",
    "non_gk_issues = load_non_gk_issues_for_analysis()"
   ]
  },
  {
   "cell_type": "markdown",
   "id": "1588031f-729f-474d-a629-53e42161aaab",
   "metadata": {},
   "source": [
    "<h2><b>Code Changes</b></h2>"
   ]
  },
  {
   "cell_type": "code",
   "execution_count": 5,
   "id": "9ad20801-83cc-4211-b580-8a4c23026621",
   "metadata": {},
   "outputs": [],
   "source": [
    "# commits = load_commits()\n",
    "commits = load_bens_collected_commits()\n",
    "\n",
    "# Create Commit to GKIR Relationship DF\n",
    "commit_to_gkir_rel = commits[['commit_sha', 'issue_id', 'repo_name']].copy()\n",
    "commit_to_gkir_rel = commit_to_gkir_rel.drop_duplicates()\n",
    "\n",
    "# Drop any duplicates (i.e., if the same commit was reference from 2 different issue reports)\n",
    "commits = commits.drop(columns=['issue_id', 'repo_name'])\n",
    "commits = commits.drop_duplicates()"
   ]
  },
  {
   "cell_type": "code",
   "execution_count": 10,
   "id": "42df6390-4dff-4975-9380-8906cb946b22",
   "metadata": {},
   "outputs": [],
   "source": [
    "# Load Non-GKIR commits\n",
    "ngkir_commits = load_ngkir_commits()\n",
    "# Load commit to non-gkir relationship events\n",
    "commit_to_ngkir_rel = load_commit_event_relationships()\n",
    "# Only keep events that we have a commit for\n",
    "commit_to_ngkir_rel = commit_to_ngkir_rel[commit_to_ngkir_rel['commit_sha'].isin(ngkir_commits['commit_sha'])]\n",
    "\n",
    "commit_to_ngkir_rel = commit_to_ngkir_rel.drop(columns=['commit_url'])\n",
    "ngkir_commits = ngkir_commits.merge(\n",
    "    commit_to_ngkir_rel[['commit_sha', 'event_type']],\n",
    "    on='commit_sha'\n",
    ")\n",
    "ngkir_commits = ngkir_commits[ngkir_commits['event_type'] == 'referenced']\n",
    "ngkir_commits = ngkir_commits.drop(columns=['event_type'])"
   ]
  },
  {
   "cell_type": "code",
   "execution_count": 11,
   "id": "9c1315e8-1bca-48a2-bc40-f49d89bd7bd5",
   "metadata": {},
   "outputs": [
    {
     "name": "stdout",
     "output_type": "stream",
     "text": [
      "2044 GKIR commits\n",
      "88386 non-GKIR commits\n"
     ]
    }
   ],
   "source": [
    "print(f\"{commits['commit_sha'].nunique()} GKIR commits\")\n",
    "print(f\"{ngkir_commits['commit_sha'].nunique()} non-GKIR commits\")"
   ]
  },
  {
   "cell_type": "code",
   "execution_count": 12,
   "id": "e4979921-ba21-4618-8c8c-32fb661b8175",
   "metadata": {},
   "outputs": [],
   "source": [
    "# Add Short file name and only file name\n",
    "def extract_short_file_name(row):\n",
    "    if row['file_name'].rfind('/') < 0:\n",
    "        return row['file_name']\n",
    "    return f\".../{row['file_name'][row['file_name'].rfind('/')+1:]}\"\n",
    "\n",
    "def extract_only_file_name(row):\n",
    "    if row['file_name'].rfind('/') < 0:\n",
    "        return row['file_name']\n",
    "    return f\"{row['file_name'][row['file_name'].rfind('/')+1:]}\"\n",
    "\n",
    "commits['short_file_name'] = commits.apply(extract_short_file_name, axis=1).astype('category')\n",
    "commits['only_file_name'] = commits.apply(extract_only_file_name, axis=1).astype('category')\n",
    "\n",
    "ngkir_commits['short_file_name'] = ngkir_commits.apply(extract_short_file_name, axis=1).astype('category')\n",
    "ngkir_commits['only_file_name'] = ngkir_commits.apply(extract_only_file_name, axis=1).astype('category')"
   ]
  },
  {
   "cell_type": "code",
   "execution_count": 13,
   "id": "e6b38747-e726-4a8c-b28e-b387bc59055c",
   "metadata": {},
   "outputs": [
    {
     "name": "stdout",
     "output_type": "stream",
     "text": [
      "Out of 779 repos with GKIR commits, we have collected commits on non-GKIR issues from 617 of those repos\n"
     ]
    }
   ],
   "source": [
    "count = commit_to_gkir_rel[commit_to_gkir_rel['repo_name'].isin(commit_to_ngkir_rel['repo_name'])]['repo_name'].nunique()\n",
    "print(f\"Out of {commit_to_gkir_rel['repo_name'].nunique()} repos with GKIR commits, we have collected commits on non-GKIR issues from {count} of those repos\")"
   ]
  },
  {
   "cell_type": "markdown",
   "id": "b4272cfe-4151-460e-b09d-4026f4f5ce7a",
   "metadata": {},
   "source": [
    "## Helpfer functions for filtering commits"
   ]
  },
  {
   "cell_type": "code",
   "execution_count": 17,
   "id": "1d914ae7-ad42-4322-9567-6a7b72647d7e",
   "metadata": {},
   "outputs": [],
   "source": [
    "DEPS_SPEC_FILES = ['package.json', 'package-lock.json', 'yarn.lock', '.../package.json', '.../package-lock.json']\n",
    "PACKAGE_JSON = ['package.json']\n",
    "\n",
    "def commit_changes_file(commit_changes, list_of_files):    \n",
    "    commit_changes_for_list_of_files = commit_changes[commit_changes['only_file_name'].isin(list_of_files)]\n",
    "    return len(commit_changes_for_list_of_files) > 0\n",
    "\n",
    "def commit_only_changes_files(commit_changes, list_of_files):\n",
    "    count_of_file_changes = len(commit_changes)\n",
    "    count_of_changes_that_change_list_of_files = len(commit_changes[commit_changes['only_file_name'].isin(list_of_files)])\n",
    "    return count_of_file_changes == count_of_changes_that_change_list_of_files\n"
   ]
  },
  {
   "cell_type": "markdown",
   "id": "1bc4ad83-38bb-48b0-8df0-671d67f87073",
   "metadata": {},
   "source": [
    "<h3>How often do GKIR commits change dependency files?</h3>"
   ]
  },
  {
   "cell_type": "code",
   "execution_count": 15,
   "id": "40937f81-d966-4091-b798-7b171ff86b88",
   "metadata": {},
   "outputs": [],
   "source": [
    "commit_count = commits['commit_sha'].nunique()"
   ]
  },
  {
   "cell_type": "code",
   "execution_count": 18,
   "id": "18999bba-4230-4c6c-aa98-4b8ab64cdede",
   "metadata": {},
   "outputs": [
    {
     "name": "stdout",
     "output_type": "stream",
     "text": [
      "77.74% of commits change the package.json file\n"
     ]
    }
   ],
   "source": [
    "changes_package_json = commits.groupby('commit_sha').filter(lambda group: commit_changes_file(group, list_of_files=PACKAGE_JSON))\n",
    "changes_package_json_count = changes_package_json['commit_sha'].nunique()\n",
    "print(f'{calculate_percent(changes_package_json_count, commit_count)}% of commits change the package.json file')"
   ]
  },
  {
   "cell_type": "code",
   "execution_count": 20,
   "id": "fec383e3-a6f2-4516-b883-206cbe4b9b9a",
   "metadata": {},
   "outputs": [
    {
     "name": "stdout",
     "output_type": "stream",
     "text": [
      "82.49% of commits change at least 1 dependency specification file\n"
     ]
    }
   ],
   "source": [
    "changes_dep_files = commits.groupby('commit_sha').filter(lambda group: commit_changes_file(group, DEPS_SPEC_FILES))\n",
    "changes_dep_file_count = changes_dep_files['commit_sha'].nunique()\n",
    "print(f'{calculate_percent(changes_dep_file_count, commit_count)}% of commits change at least 1 dependency specification file')"
   ]
  },
  {
   "cell_type": "code",
   "execution_count": 22,
   "id": "b4625f98-f366-4f3b-92a9-d0982b29551e",
   "metadata": {},
   "outputs": [
    {
     "name": "stdout",
     "output_type": "stream",
     "text": [
      "55.87% of commits change only dependency specification files\n"
     ]
    }
   ],
   "source": [
    "changes_dep_files_only = commits.groupby('commit_sha').filter(lambda group: commit_only_changes_files(group, DEPS_SPEC_FILES))\n",
    "changes_dep_file_only_count = changes_dep_files_only['commit_sha'].nunique()\n",
    "print(f'{calculate_percent(changes_dep_file_only_count, commit_count)}% of commits change only dependency specification files')"
   ]
  },
  {
   "cell_type": "markdown",
   "id": "bb1ae69e-105e-41bc-b30b-7fb91a22381a",
   "metadata": {},
   "source": [
    "<h2>Comparison with non-GKIR</h2>"
   ]
  },
  {
   "cell_type": "markdown",
   "id": "a0b45cf6-e315-42b1-8949-150dc5cc1fd0",
   "metadata": {},
   "source": [
    "<h3>Intra-project</h3>"
   ]
  },
  {
   "cell_type": "code",
   "execution_count": 29,
   "id": "45b71cfc-3ae9-476a-bdb5-b888b59a3e28",
   "metadata": {},
   "outputs": [],
   "source": [
    "# Get commit_to_gkir_rel rows for commits that don't only change dependency files\n",
    "# NOTE - This might be why R1.6 exists - you are only looking at commits that do NOT only change dependency spec files, \n",
    "# which excludes all those only package.json changes\n",
    "changes_dep_files_only = commits.groupby('commit_sha').filter(lambda group: commit_only_changes_files(group, deps_spec_files))\n",
    "gkir_changes_other_files = commits[~commits['commit_sha'].isin(changes_dep_files_only['commit_sha'].unique())]\n",
    "shas =  gkir_changes_other_files['commit_sha'].unique()\n",
    "commit_to_gkir_rel__commit_changes_other_files = commit_to_gkir_rel[commit_to_gkir_rel['commit_sha'].isin(shas)]\n",
    "\n",
    "# changes_dep_files_only = commits.groupby('commit_sha').filter(lambda group: commit_only_changes_files(group, deps_spec_files))\n",
    "# gkir_changes_other_files = commits[~commits['commit_sha'].isin(changes_dep_files_only['commit_sha'].unique())]\n",
    "shas =  commits['commit_sha'].unique()\n",
    "commit_to_gkir_rel__commit_changes_other_files = commit_to_gkir_rel[commit_to_gkir_rel['commit_sha'].isin(shas)]\n",
    "\n",
    "# Only GKIRs with a referenced commit\n",
    "gkirs_w_referenced_commit = gk_issues[gk_issues['id'].isin(commit_to_gkir_rel__commit_changes_other_files['issue_id'])].copy()\n",
    "# Only non-GKIRs from the same project\n",
    "ngkirs_for_matching_projects = non_gk_issues[non_gk_issues['repo_name'].isin(gkirs_w_referenced_commit['repo_name'])]\n",
    "# Only Non-gkirs with a referenced commit\n",
    "ngkirs_for_matching_projects_w_referenced_commit = ngkirs_for_matching_projects[ngkirs_for_matching_projects['id'].isin(commit_to_ngkir_rel['issue_id'])]\n",
    "\n",
    "\n",
    "# For every gkir with a referenced commit\n",
    "# Get the closest non-gkir in the same project with a referenced commit\n",
    "def get_previous_ngkir_id_w_referenced_commit(gkir):\n",
    "    repo_ngkirs = (\n",
    "        ngkirs_for_matching_projects_w_referenced_commit[\n",
    "            ngkirs_for_matching_projects_w_referenced_commit['repo_name'] == gkir['repo_name']\n",
    "        ]\n",
    "    )\n",
    "    if len(repo_ngkirs) == 0:\n",
    "        return pd.NA\n",
    "    col = 'created_at'\n",
    "    ngkirs_closed_before_gkir = (\n",
    "        repo_ngkirs[\n",
    "            repo_ngkirs[col] < gkir[col]\n",
    "        ]\n",
    "    )\n",
    "    closest_at_top = (\n",
    "        ngkirs_closed_before_gkir\n",
    "            .sort_values(by=col, ascending=False)\n",
    "    )\n",
    "    if len(closest_at_top) == 0:\n",
    "        ngkirs_closed_after_gkir = (\n",
    "            repo_ngkirs[\n",
    "                repo_ngkirs[col] > gkir[col]\n",
    "            ]\n",
    "        )\n",
    "        closest_at_top = (\n",
    "            ngkirs_closed_before_gkir\n",
    "                .sort_values(by=col, ascending=True)\n",
    "        )\n",
    "    if len(closest_at_top) == 0:\n",
    "        return pd.NA\n",
    "    ngkir_closest_to_gkir = closest_at_top.iloc[0]\n",
    "    return ngkir_closest_to_gkir['id']\n",
    "        \n",
    "gkirs_w_referenced_commit['closest_ngkir_id'] = (\n",
    "    gkirs_w_referenced_commit.apply(\n",
    "        get_previous_ngkir_id_w_referenced_commit,\n",
    "        axis=1\n",
    "    )\n",
    ")"
   ]
  },
  {
   "cell_type": "code",
   "execution_count": 75,
   "id": "45aed608-1ff8-4aeb-8198-cb3bf4eafc89",
   "metadata": {},
   "outputs": [
    {
     "name": "stdout",
     "output_type": "stream",
     "text": [
      "For matching GKIR commits and their closest non-GKIR commit...\n",
      "2044 GKIR commits...\n",
      "698 non-GKIR commits...\n"
     ]
    }
   ],
   "source": [
    "# Get commits referenced from gkirs\n",
    "# NOTE - gkirs_w_referenced_commit is only commits that dont only change dep spec files\n",
    "gkir_referenced_commit_rels = commit_to_gkir_rel[commit_to_gkir_rel['issue_id'].isin(gkirs_w_referenced_commit['id'])]\n",
    "\n",
    "gkir_referenced_commits = commits[commits['commit_sha'].isin(gkir_referenced_commit_rels['commit_sha'].unique())]\n",
    "gkir_referenced_commits['commit_sha'].nunique()\n",
    "\n",
    "# Get commits referenced from non-gkirs\n",
    "ngkir_referenced_commit_rels = commit_to_ngkir_rel[commit_to_ngkir_rel['issue_id'].isin(gkirs_w_referenced_commit['closest_ngkir_id'])]\n",
    "ngkir_referenced_commits = ngkir_commits[ngkir_commits['commit_sha'].isin(ngkir_referenced_commit_rels['commit_sha'].unique())]\n",
    "\n",
    "print(f\"For matching GKIR commits and their closest non-GKIR commit...\")\n",
    "print(f\"{gkir_referenced_commits['commit_sha'].nunique()} GKIR commits...\")\n",
    "print(f\"{ngkir_referenced_commits['commit_sha'].nunique()} non-GKIR commits...\")"
   ]
  },
  {
   "cell_type": "markdown",
   "id": "29c75cb3-b3f7-4944-a9f9-c1a674d21b2f",
   "metadata": {},
   "source": [
    "<h3>How many files do these commits change?</h3>"
   ]
  },
  {
   "cell_type": "code",
   "execution_count": null,
   "id": "df2e8ab0-81c3-47ce-bfcc-a4f6e8794e82",
   "metadata": {},
   "outputs": [],
   "source": [
    "gkir_number_of_file_changes = (\n",
    "    gkir_referenced_commits\n",
    "        .groupby('commit_sha')['file_name']\n",
    "        .count()\n",
    "        .to_frame(name='files_changed')\n",
    "        .reset_index()\n",
    ")\n",
    "gkir_number_of_file_changes['type'] = 'gkir'\n",
    "ngkir_number_of_file_changes = (\n",
    "    ngkir_referenced_commits\n",
    "        .groupby('commit_sha')['file_name']\n",
    "        .count()\n",
    "        .to_frame(name='files_changed')\n",
    "        .reset_index()\n",
    ")\n",
    "ngkir_number_of_file_changes['type'] = 'non-gkir'\n",
    "\n",
    "number_of_file_changes = gkir_number_of_file_changes.append(ngkir_number_of_file_changes)\n",
    "number_of_file_changes['log_files_changed'] = np.log10(number_of_file_changes['files_changed'])\n",
    "number_of_file_changes['placeholder'] = ''"
   ]
  },
  {
   "cell_type": "code",
   "execution_count": 77,
   "id": "7db6b3eb-50db-40d1-94af-afffc1195583",
   "metadata": {},
   "outputs": [
    {
     "name": "stdout",
     "output_type": "stream",
     "text": [
      "Saving figure number_of_files_changed_per_commit\n"
     ]
    },
    {
     "data": {
      "image/png": "[encoded data removed]",
      "text/plain": [
       "<Figure size 432x216 with 1 Axes>"
      ]
     },
     "metadata": {
      "needs_background": "light"
     },
     "output_type": "display_data"
    }
   ],
   "source": [
    "for_plot = number_of_file_changes.copy()\n",
    "fig, ax = plt.subplots(nrows=1, ncols=1, figsize=(6,3))\n",
    "sns.violinplot(\n",
    "    data=for_plot,\n",
    "    x='log_files_changed',\n",
    "    y='placeholder',\n",
    "    hue='type',\n",
    "    split=True,\n",
    "    inner='quartile',\n",
    "    palette=['1', '0.6'],\n",
    "    ax=ax,\n",
    "    scale='width',\n",
    "    bw=0.35\n",
    ")\n",
    "ax.set_xlabel('Files changed in commit')\n",
    "ax.set_ylabel('')\n",
    "ax.set_xticks([0, 1, 2, 3])\n",
    "ax.set_xticklabels([1, 10, 100, 1000])\n",
    "# ax.xaxis.set_major_formatter(log10_func_formatter)\n",
    "\n",
    "L = plt.legend(\n",
    "    loc='upper center',\n",
    "    fontsize='small',\n",
    "    fancybox=True,\n",
    "    bbox_to_anchor=(0.5,1.2),\n",
    "    ncol=2\n",
    ")\n",
    "\n",
    "L.get_texts()[0].set_text('From GKIRs')\n",
    "L.get_texts()[1].set_text('From preceding non-GKIRs')\n",
    "\n",
    "save_fig('number_of_files_changed_per_commit')\n",
    "\n",
    "plt.show()"
   ]
  },
  {
   "cell_type": "code",
   "execution_count": 78,
   "id": "eba698b8-33d2-4f7d-a910-dab0441684a8",
   "metadata": {},
   "outputs": [
    {
     "name": "stdout",
     "output_type": "stream",
     "text": [
      "\tMann-Whitney: statistic=625712.0 pvalue=2.3287771950153063e-07\n",
      "\tCliff'a Delta: delta=-0.1228615165499414 size=negligible\n",
      "    \n",
      "GKIR number of files changed      Count    Mean     STD    Min    25%    Median    75%    Max\n",
      "------------------------------  -------  ------  ------  -----  -----  --------  -----  -----\n",
      "files_changed                      2044   4.183  10.066      1      1         2      3    100\n",
      "\n",
      "GKIR number of files changed      Count    Mean     STD    Min    25%    Median    75%    Max\n",
      "------------------------------  -------  ------  ------  -----  -----  --------  -----  -----\n",
      "files_changed                       698  12.319  52.009      1      1         2      6    800\n",
      "\n"
     ]
    }
   ],
   "source": [
    "mannwhitneyu_cliffsdelta(\n",
    "    number_of_file_changes[number_of_file_changes['type'] == 'gkir']['files_changed'],\n",
    "    number_of_file_changes[number_of_file_changes['type'] == 'non-gkir']['files_changed']\n",
    ")\n",
    "\n",
    "tfns(\n",
    "    gkir_number_of_file_changes,\n",
    "    ['files_changed'],\n",
    "    title='GKIR number of files changed'\n",
    ")\n",
    "tfns(\n",
    "    ngkir_number_of_file_changes,\n",
    "    ['files_changed'],\n",
    "    title='GKIR number of files changed'\n",
    ")"
   ]
  },
  {
   "cell_type": "markdown",
   "id": "99d2ac39-caac-40fe-a3a8-18c18ca410b4",
   "metadata": {},
   "source": [
    "<h3>Size of these commits change?</h3>"
   ]
  },
  {
   "cell_type": "code",
   "execution_count": 48,
   "id": "e68d862f-1cb9-4722-b818-ae62d95d5cb2",
   "metadata": {},
   "outputs": [],
   "source": [
    "gkir_size_of_changes = (\n",
    "    gkir_referenced_commits\n",
    "        .groupby('commit_sha')['stats_total']\n",
    "        .first()\n",
    "        .to_frame(name='stats_total')\n",
    "        .reset_index()\n",
    ")\n",
    "gkir_size_of_changes['type'] = 'gkir'\n",
    "ngkir_size_of_changes = (\n",
    "    ngkir_referenced_commits\n",
    "        .groupby('commit_sha')['stats_total']\n",
    "        .first()\n",
    "        .to_frame(name='stats_total')\n",
    "        .reset_index()\n",
    ")\n",
    "ngkir_size_of_changes = ngkir_size_of_changes[ngkir_size_of_changes['stats_total'] > 0]\n",
    "ngkir_size_of_changes['type'] = 'non-gkir'\n",
    "size_of_changes = gkir_size_of_changes.append(ngkir_size_of_changes)\n",
    "\n",
    "size_of_changes['log_stats_total'] = np.log10(size_of_changes['stats_total'])\n",
    "size_of_changes['placeholder'] = ''"
   ]
  },
  {
   "cell_type": "code",
   "execution_count": 79,
   "id": "761cb120-7fd3-41b6-b1f6-d37bc18e0e29",
   "metadata": {},
   "outputs": [
    {
     "name": "stdout",
     "output_type": "stream",
     "text": [
      "Saving figure size_of_commits\n"
     ]
    },
    {
     "data": {
      "image/png": "[encoded data removed]",
      "text/plain": [
       "<Figure size 432x216 with 1 Axes>"
      ]
     },
     "metadata": {
      "needs_background": "light"
     },
     "output_type": "display_data"
    }
   ],
   "source": [
    "for_plot = size_of_changes.copy()\n",
    "fig, ax = plt.subplots(nrows=1, ncols=1, figsize=(6,3))\n",
    "sns.violinplot(\n",
    "    data=for_plot,\n",
    "    x='log_stats_total',\n",
    "    y='placeholder',\n",
    "    hue='type',\n",
    "    split=True,\n",
    "    inner='quartile',\n",
    "    palette=['1', '0.6'],\n",
    "    ax=ax,\n",
    "    scale='width',\n",
    "    bw=0.3,\n",
    ")\n",
    "ax.set_xlabel('LOC churn in commit')\n",
    "ax.set_ylabel('')\n",
    "ax.set_xticks([0, 1, 2, 3, 4, 5])\n",
    "ax.set_xticklabels([1, 10, 100, 1000, 10000, 100000])\n",
    "# ax.xaxis.set_major_formatter(log10_func_formatter)\n",
    "\n",
    "L = plt.legend(\n",
    "    loc='upper center',\n",
    "    fontsize='small',\n",
    "    fancybox=True,\n",
    "    bbox_to_anchor=(0.5,1.2),\n",
    "    ncol=2\n",
    ")\n",
    "\n",
    "L.get_texts()[0].set_text('From GKIRs')\n",
    "L.get_texts()[1].set_text('From preceding non-GKIRs')\n",
    "\n",
    "save_fig('size_of_commits')\n",
    "\n",
    "plt.show()\n"
   ]
  },
  {
   "cell_type": "code",
   "execution_count": 52,
   "id": "b38bf467-1e4f-4229-a230-1db4b6637409",
   "metadata": {},
   "outputs": [
    {
     "name": "stdout",
     "output_type": "stream",
     "text": [
      "\tMann-Whitney: statistic=706956.5 pvalue=0.3826902149091883\n",
      "\tCliff'a Delta: delta=-0.007549127235257618 size=negligible\n",
      "    \n",
      "GKIR size of changes      Count     Mean      STD    Min    25%    Median    75%    Max\n",
      "----------------------  -------  -------  -------  -----  -----  --------  -----  -----\n",
      "stats_total                2044  875.707  4046.38      1      6        33    326  81555\n",
      "\n",
      "Non-GKIR size of changes      Count     Mean      STD    Min    25%    Median    75%    Max\n",
      "--------------------------  -------  -------  -------  -----  -----  --------  -----  -----\n",
      "stats_total                     697  926.481  4783.41      1      9        38    146  81555\n",
      "\n"
     ]
    }
   ],
   "source": [
    "mannwhitneyu_cliffsdelta(\n",
    "    size_of_changes[size_of_changes['type'] == 'gkir']['stats_total'],\n",
    "    size_of_changes[size_of_changes['type'] == 'non-gkir']['stats_total']\n",
    ")\n",
    "\n",
    "tfns(\n",
    "    gkir_size_of_changes,\n",
    "    ['stats_total'],\n",
    "    title='GKIR size of changes'\n",
    ")\n",
    "tfns(\n",
    "    ngkir_size_of_changes,\n",
    "    ['stats_total'],\n",
    "    title='Non-GKIR size of changes'\n",
    ")"
   ]
  },
  {
   "cell_type": "markdown",
   "id": "a30bf57f-66c2-4278-8480-27f60418f2eb",
   "metadata": {},
   "source": [
    "<h3>Just compare across all issue reports</h3>"
   ]
  },
  {
   "cell_type": "code",
   "execution_count": 54,
   "id": "5ccd84fc-66df-46c4-819b-a74964cff28d",
   "metadata": {},
   "outputs": [],
   "source": [
    "gkir_commits_that_change_dep_files_only = commits.groupby('commit_sha').filter(lambda group: commit_only_changes_files(group, DEPS_SPEC_FILES))\n",
    "gkir_shas_that_change_dep_files_only = gkir_commits_that_change_dep_files_only['commit_sha'].unique()\n",
    "gkir_commits_that_change_other_files = commits[~commits['commit_sha'].isin(gkir_shas_that_change_dep_files_only)]\n",
    "\n",
    "ngkir_commits_that_change_dep_files_only = ngkir_commits.groupby('commit_sha').filter(lambda group: commit_only_changes_files(group, DEPS_SPEC_FILES))\n",
    "ngkir_shas_that_change_dep_files_only = ngkir_commits_that_change_dep_files_only['commit_sha'].unique()\n",
    "ngkir_commits_that_change_other_files = ngkir_commits[~ngkir_commits['commit_sha'].isin(ngkir_shas_that_change_dep_files_only)]"
   ]
  },
  {
   "cell_type": "code",
   "execution_count": 55,
   "id": "3b5058b6-f2b6-44e7-9c86-ce44e87d5638",
   "metadata": {},
   "outputs": [
    {
     "name": "stdout",
     "output_type": "stream",
     "text": [
      "To recap:\n",
      "55.87% of commits referenced from GKIRs only change dependency specification files\n",
      "3.63% of commits referenced from non-GKIRs only change dependency specification files\n"
     ]
    }
   ],
   "source": [
    "gkir_prop = calculate_percent(\n",
    "    gkir_commits_that_change_dep_files_only['commit_sha'].nunique(),\n",
    "    commits['commit_sha'].nunique()\n",
    ")\n",
    "ngkir_prop = calculate_percent(\n",
    "    ngkir_commits_that_change_dep_files_only['commit_sha'].nunique(),\n",
    "    ngkir_commits['commit_sha'].nunique()\n",
    ")\n",
    "\n",
    "print(f\"To recap:\")\n",
    "print(f\"{gkir_prop}% of commits referenced from GKIRs only change dependency specification files\")\n",
    "print(f\"{ngkir_prop}% of commits referenced from non-GKIRs only change dependency specification files\")"
   ]
  },
  {
   "cell_type": "code",
   "execution_count": 56,
   "id": "5c65a1b4-6442-4374-8994-2fdd6e8a53da",
   "metadata": {},
   "outputs": [
    {
     "name": "stdout",
     "output_type": "stream",
     "text": [
      "77.74% of commits referenced from GKIRs change package.json file\n",
      "17.44% of commits referenced from non-GKIRs change package.json file\n"
     ]
    }
   ],
   "source": [
    "gkir_commits_that_change_package_json = commits.groupby('commit_sha').filter(lambda group: commit_changes_file(group, ['package.json']))\n",
    "gkir_prop = calculate_percent(\n",
    "    gkir_commits_that_change_package_json['commit_sha'].nunique(),\n",
    "    commits['commit_sha'].nunique()\n",
    ")\n",
    "\n",
    "ngkir_commits_that_change_package_json = ngkir_commits.groupby('commit_sha').filter(lambda group: commit_changes_file(group, ['package.json']))\n",
    "ngkir_prop = calculate_percent(\n",
    "    ngkir_commits_that_change_package_json['commit_sha'].nunique(),\n",
    "    ngkir_commits['commit_sha'].nunique()\n",
    ")\n",
    "\n",
    "print(f'{gkir_prop}% of commits referenced from GKIRs change package.json file')\n",
    "print(f'{ngkir_prop}% of commits referenced from non-GKIRs change package.json file')\n"
   ]
  },
  {
   "cell_type": "code",
   "execution_count": 57,
   "id": "8a40c815-97e4-4354-a595-b536bfe581e9",
   "metadata": {},
   "outputs": [
    {
     "name": "stdout",
     "output_type": "stream",
     "text": [
      "28.28% of commits referenced from GKIRs change package-lock.json file\n",
      "3.81% of commits referenced from non-GKIRs change package-lock.json file\n"
     ]
    }
   ],
   "source": [
    "gkir_commits_that_change_package_lock_json = commits.groupby('commit_sha').filter(lambda group: commit_changes_file(group, ['package-lock.json']))\n",
    "gkir_prop = calculate_percent(\n",
    "    gkir_commits_that_change_package_lock_json['commit_sha'].nunique(),\n",
    "    commits['commit_sha'].nunique()\n",
    ")\n",
    "\n",
    "ngkir_commits_that_change_package_lock_json = ngkir_commits.groupby('commit_sha').filter(lambda group: commit_changes_file(group, ['package-lock.json']))\n",
    "ngkir_prop = calculate_percent(\n",
    "    ngkir_commits_that_change_package_lock_json['commit_sha'].nunique(),\n",
    "    ngkir_commits['commit_sha'].nunique()\n",
    ")\n",
    "\n",
    "print(f'{gkir_prop}% of commits referenced from GKIRs change package-lock.json file')\n",
    "print(f'{ngkir_prop}% of commits referenced from non-GKIRs change package-lock.json file')"
   ]
  },
  {
   "cell_type": "code",
   "execution_count": 58,
   "id": "9fd09798-092e-4029-9663-dc0ce7778070",
   "metadata": {},
   "outputs": [
    {
     "name": "stdout",
     "output_type": "stream",
     "text": [
      "26.96% of commits referenced from GKIRs change yarn.lock file\n",
      "2.94% of commits referenced from non-GKIRs change yarn.lock file\n"
     ]
    }
   ],
   "source": [
    "gkir_commits_that_change_yarn_lock = commits.groupby('commit_sha').filter(lambda group: commit_changes_file(group, ['yarn.lock']))\n",
    "gkir_prop = calculate_percent(\n",
    "    gkir_commits_that_change_yarn_lock['commit_sha'].nunique(),\n",
    "    commits['commit_sha'].nunique()\n",
    ")\n",
    "\n",
    "ngkir_commits_that_change_yarn_lock = ngkir_commits.groupby('commit_sha').filter(lambda group: commit_changes_file(group, ['yarn.lock']))\n",
    "ngkir_prop = calculate_percent(\n",
    "    ngkir_commits_that_change_yarn_lock['commit_sha'].nunique(),\n",
    "    ngkir_commits['commit_sha'].nunique()\n",
    ")\n",
    "\n",
    "print(f'{gkir_prop}% of commits referenced from GKIRs change yarn.lock file')\n",
    "print(f'{ngkir_prop}% of commits referenced from non-GKIRs change yarn.lock file')"
   ]
  },
  {
   "cell_type": "code",
   "execution_count": 65,
   "id": "5d1f2881-f74e-4d50-af04-a47941c565c9",
   "metadata": {},
   "outputs": [
    {
     "data": {
      "text/html": [
       "<div>\n",
       "<style scoped>\n",
       "    .dataframe tbody tr th:only-of-type {\n",
       "        vertical-align: middle;\n",
       "    }\n",
       "\n",
       "    .dataframe tbody tr th {\n",
       "        vertical-align: top;\n",
       "    }\n",
       "\n",
       "    .dataframe thead th {\n",
       "        text-align: right;\n",
       "    }\n",
       "</style>\n",
       "<table border=\"1\" class=\"dataframe\">\n",
       "  <thead>\n",
       "    <tr style=\"text-align: right;\">\n",
       "      <th></th>\n",
       "      <th>file_changes</th>\n",
       "      <th>file_additions</th>\n",
       "      <th>file_deletions</th>\n",
       "      <th>proportion</th>\n",
       "      <th>label</th>\n",
       "    </tr>\n",
       "  </thead>\n",
       "  <tbody>\n",
       "    <tr>\n",
       "      <th>0</th>\n",
       "      <td>2</td>\n",
       "      <td>1</td>\n",
       "      <td>1</td>\n",
       "      <td>0.549189</td>\n",
       "      <td>2 (1, 1)</td>\n",
       "    </tr>\n",
       "    <tr>\n",
       "      <th>1</th>\n",
       "      <td>4</td>\n",
       "      <td>2</td>\n",
       "      <td>2</td>\n",
       "      <td>0.110270</td>\n",
       "      <td>4 (2, 2)</td>\n",
       "    </tr>\n",
       "    <tr>\n",
       "      <th>2</th>\n",
       "      <td>6</td>\n",
       "      <td>3</td>\n",
       "      <td>3</td>\n",
       "      <td>0.050811</td>\n",
       "      <td>6 (3, 3)</td>\n",
       "    </tr>\n",
       "    <tr>\n",
       "      <th>3</th>\n",
       "      <td>10</td>\n",
       "      <td>5</td>\n",
       "      <td>5</td>\n",
       "      <td>0.032432</td>\n",
       "      <td>10 (5, 5)</td>\n",
       "    </tr>\n",
       "    <tr>\n",
       "      <th>4</th>\n",
       "      <td>12</td>\n",
       "      <td>6</td>\n",
       "      <td>6</td>\n",
       "      <td>0.025946</td>\n",
       "      <td>12 (6, 6)</td>\n",
       "    </tr>\n",
       "    <tr>\n",
       "      <th>...</th>\n",
       "      <td>...</td>\n",
       "      <td>...</td>\n",
       "      <td>...</td>\n",
       "      <td>...</td>\n",
       "      <td>...</td>\n",
       "    </tr>\n",
       "    <tr>\n",
       "      <th>61</th>\n",
       "      <td>14</td>\n",
       "      <td>8</td>\n",
       "      <td>6</td>\n",
       "      <td>0.001081</td>\n",
       "      <td>14 (8, 6)</td>\n",
       "    </tr>\n",
       "    <tr>\n",
       "      <th>62</th>\n",
       "      <td>14</td>\n",
       "      <td>9</td>\n",
       "      <td>5</td>\n",
       "      <td>0.001081</td>\n",
       "      <td>14 (9, 5)</td>\n",
       "    </tr>\n",
       "    <tr>\n",
       "      <th>63</th>\n",
       "      <td>18</td>\n",
       "      <td>1</td>\n",
       "      <td>17</td>\n",
       "      <td>0.001081</td>\n",
       "      <td>18 (1, 17)</td>\n",
       "    </tr>\n",
       "    <tr>\n",
       "      <th>64</th>\n",
       "      <td>18</td>\n",
       "      <td>11</td>\n",
       "      <td>7</td>\n",
       "      <td>0.001081</td>\n",
       "      <td>18 (11, 7)</td>\n",
       "    </tr>\n",
       "    <tr>\n",
       "      <th>65</th>\n",
       "      <td>88</td>\n",
       "      <td>44</td>\n",
       "      <td>44</td>\n",
       "      <td>0.001081</td>\n",
       "      <td>88 (44, 44)</td>\n",
       "    </tr>\n",
       "  </tbody>\n",
       "</table>\n",
       "<p>66 rows × 5 columns</p>\n",
       "</div>"
      ],
      "text/plain": [
       "    file_changes  file_additions  file_deletions  proportion        label\n",
       "0              2               1               1    0.549189     2 (1, 1)\n",
       "1              4               2               2    0.110270     4 (2, 2)\n",
       "2              6               3               3    0.050811     6 (3, 3)\n",
       "3             10               5               5    0.032432    10 (5, 5)\n",
       "4             12               6               6    0.025946    12 (6, 6)\n",
       "..           ...             ...             ...         ...          ...\n",
       "61            14               8               6    0.001081    14 (8, 6)\n",
       "62            14               9               5    0.001081    14 (9, 5)\n",
       "63            18               1              17    0.001081   18 (1, 17)\n",
       "64            18              11               7    0.001081   18 (11, 7)\n",
       "65            88              44              44    0.001081  88 (44, 44)\n",
       "\n",
       "[66 rows x 5 columns]"
      ]
     },
     "execution_count": 65,
     "metadata": {},
     "output_type": "execute_result"
    }
   ],
   "source": [
    "gkir_commits_that_change_dep_files_only__packagejson = (\n",
    "    gkir_commits_that_change_dep_files_only[\n",
    "        gkir_commits_that_change_dep_files_only['file_name'] == 'package.json'\n",
    "    ].groupby('commit_sha')\n",
    "    .first()\n",
    "    .reset_index()\n",
    ")\n",
    "\n",
    "grouped_by_file_changes = \\\n",
    "    gkir_commits_that_change_dep_files_only__packagejson.groupby(['file_changes', 'file_additions', 'file_deletions'])['commit_sha']\n",
    "\n",
    "grouped_by_file_changes.count()\n",
    "\n",
    "for_plot = (\n",
    "    (\n",
    "        grouped_by_file_changes.count() /\n",
    "        grouped_by_file_changes.count().sum()\n",
    "    ).sort_values(ascending=False)\n",
    "    .reset_index(name='proportion')\n",
    ")\n",
    "for_plot['label'] = for_plot.apply(\n",
    "    lambda row: f\"{int(row['file_changes'])} ({int(row['file_additions'])}, {int(row['file_deletions'])})\",\n",
    "    axis=1\n",
    ")\n",
    "for_plot"
   ]
  },
  {
   "cell_type": "code",
   "execution_count": 66,
   "id": "18802bc6-292e-43d9-bd16-2c2dc792c9fa",
   "metadata": {},
   "outputs": [
    {
     "data": {
      "image/png": "[encoded data removed]",
      "text/plain": [
       "<Figure size 432x288 with 1 Axes>"
      ]
     },
     "metadata": {
      "needs_background": "light"
     },
     "output_type": "display_data"
    }
   ],
   "source": [
    "fig, ax = plt.subplots(nrows=1, ncols=1, figsize=(6,4))\n",
    "sns.barplot(\n",
    "    data=for_plot.head(10),\n",
    "    y='label',\n",
    "    x='proportion',\n",
    "    color=\"0.3\",\n",
    "    ax=ax\n",
    ")\n",
    "ax.set_xlabel('Proportion of change sizes on package.json file \\n(over commits that only change dependency specification files)')\n",
    "ax.set_ylabel('Changes (Additions, Deletions)')\n",
    "ax.xaxis.set_major_formatter(proportion_func_formatter)\n",
    "plt.show()"
   ]
  },
  {
   "cell_type": "code",
   "execution_count": 70,
   "id": "671bb3ae-1e27-4773-af5e-df83b869857c",
   "metadata": {},
   "outputs": [
    {
     "name": "stdout",
     "output_type": "stream",
     "text": [
      "GKIR referenced commits that only change deps files (package.json file changes)\n",
      "0.5675675675675677% are one-line changes\n",
      "0.7513513513513514% modify three or fewer lines\n"
     ]
    }
   ],
   "source": [
    "single_line_change_labels = [\n",
    "    '1 (1, 0)',\n",
    "    '1 (0, 1)',\n",
    "    '2 (1, 1)'\n",
    "]\n",
    "\n",
    "prop_that_modify_one_line = (\n",
    "    for_plot[\n",
    "        for_plot['label'].isin(single_line_change_labels)\n",
    "    ]['proportion'].sum()\n",
    ")\n",
    "\n",
    "less_than_three_labels = [\n",
    "    '1 (1, 0)',\n",
    "    '1 (0, 1)',\n",
    "    '2 (1, 1)',\n",
    "    '2 (2, 0)',\n",
    "    '2 (0, 2)',\n",
    "    '3 (3, 0)',\n",
    "    '3 (2, 1)',\n",
    "    '3 (1, 2)',\n",
    "    '3 (0, 3)',\n",
    "    '4 (3, 1)',\n",
    "    '4 (2, 2)',\n",
    "    '4 (1, 3)',\n",
    "    '6 (3, 3)',\n",
    "]\n",
    "prop_that_modify_three_lines = (\n",
    "    for_plot[\n",
    "        for_plot['label'].isin(less_than_three_labels)\n",
    "    ]['proportion'].sum()\n",
    ")\n",
    "print(\"GKIR referenced commits that only change deps files (package.json file changes)\")\n",
    "\n",
    "print(f\"{prop_that_modify_one_line}% are one-line changes\")\n",
    "print(f\"{prop_that_modify_three_lines}% modify three or fewer lines\")"
   ]
  },
  {
   "cell_type": "code",
   "execution_count": 71,
   "id": "6b5ca3df-db5a-4e7a-8b03-d702c52076af",
   "metadata": {},
   "outputs": [
    {
     "data": {
      "text/html": [
       "<div>\n",
       "<style scoped>\n",
       "    .dataframe tbody tr th:only-of-type {\n",
       "        vertical-align: middle;\n",
       "    }\n",
       "\n",
       "    .dataframe tbody tr th {\n",
       "        vertical-align: top;\n",
       "    }\n",
       "\n",
       "    .dataframe thead th {\n",
       "        text-align: right;\n",
       "    }\n",
       "</style>\n",
       "<table border=\"1\" class=\"dataframe\">\n",
       "  <thead>\n",
       "    <tr style=\"text-align: right;\">\n",
       "      <th></th>\n",
       "      <th>file_changes</th>\n",
       "      <th>file_additions</th>\n",
       "      <th>file_deletions</th>\n",
       "      <th>proportion</th>\n",
       "      <th>label</th>\n",
       "    </tr>\n",
       "  </thead>\n",
       "  <tbody>\n",
       "    <tr>\n",
       "      <th>0</th>\n",
       "      <td>2</td>\n",
       "      <td>1</td>\n",
       "      <td>1</td>\n",
       "      <td>0.654391</td>\n",
       "      <td>2 (1, 1)</td>\n",
       "    </tr>\n",
       "    <tr>\n",
       "      <th>1</th>\n",
       "      <td>4</td>\n",
       "      <td>2</td>\n",
       "      <td>2</td>\n",
       "      <td>0.057467</td>\n",
       "      <td>4 (2, 2)</td>\n",
       "    </tr>\n",
       "    <tr>\n",
       "      <th>2</th>\n",
       "      <td>1</td>\n",
       "      <td>1</td>\n",
       "      <td>0</td>\n",
       "      <td>0.048563</td>\n",
       "      <td>1 (1, 0)</td>\n",
       "    </tr>\n",
       "    <tr>\n",
       "      <th>3</th>\n",
       "      <td>3</td>\n",
       "      <td>2</td>\n",
       "      <td>1</td>\n",
       "      <td>0.025900</td>\n",
       "      <td>3 (2, 1)</td>\n",
       "    </tr>\n",
       "    <tr>\n",
       "      <th>4</th>\n",
       "      <td>6</td>\n",
       "      <td>3</td>\n",
       "      <td>3</td>\n",
       "      <td>0.024282</td>\n",
       "      <td>6 (3, 3)</td>\n",
       "    </tr>\n",
       "    <tr>\n",
       "      <th>...</th>\n",
       "      <td>...</td>\n",
       "      <td>...</td>\n",
       "      <td>...</td>\n",
       "      <td>...</td>\n",
       "      <td>...</td>\n",
       "    </tr>\n",
       "    <tr>\n",
       "      <th>117</th>\n",
       "      <td>22</td>\n",
       "      <td>11</td>\n",
       "      <td>11</td>\n",
       "      <td>0.000405</td>\n",
       "      <td>22 (11, 11)</td>\n",
       "    </tr>\n",
       "    <tr>\n",
       "      <th>118</th>\n",
       "      <td>22</td>\n",
       "      <td>18</td>\n",
       "      <td>4</td>\n",
       "      <td>0.000405</td>\n",
       "      <td>22 (18, 4)</td>\n",
       "    </tr>\n",
       "    <tr>\n",
       "      <th>119</th>\n",
       "      <td>23</td>\n",
       "      <td>22</td>\n",
       "      <td>1</td>\n",
       "      <td>0.000405</td>\n",
       "      <td>23 (22, 1)</td>\n",
       "    </tr>\n",
       "    <tr>\n",
       "      <th>120</th>\n",
       "      <td>24</td>\n",
       "      <td>13</td>\n",
       "      <td>11</td>\n",
       "      <td>0.000405</td>\n",
       "      <td>24 (13, 11)</td>\n",
       "    </tr>\n",
       "    <tr>\n",
       "      <th>121</th>\n",
       "      <td>181</td>\n",
       "      <td>92</td>\n",
       "      <td>89</td>\n",
       "      <td>0.000405</td>\n",
       "      <td>181 (92, 89)</td>\n",
       "    </tr>\n",
       "  </tbody>\n",
       "</table>\n",
       "<p>122 rows × 5 columns</p>\n",
       "</div>"
      ],
      "text/plain": [
       "     file_changes  file_additions  file_deletions  proportion         label\n",
       "0               2               1               1    0.654391      2 (1, 1)\n",
       "1               4               2               2    0.057467      4 (2, 2)\n",
       "2               1               1               0    0.048563      1 (1, 0)\n",
       "3               3               2               1    0.025900      3 (2, 1)\n",
       "4               6               3               3    0.024282      6 (3, 3)\n",
       "..            ...             ...             ...         ...           ...\n",
       "117            22              11              11    0.000405   22 (11, 11)\n",
       "118            22              18               4    0.000405    22 (18, 4)\n",
       "119            23              22               1    0.000405    23 (22, 1)\n",
       "120            24              13              11    0.000405   24 (13, 11)\n",
       "121           181              92              89    0.000405  181 (92, 89)\n",
       "\n",
       "[122 rows x 5 columns]"
      ]
     },
     "execution_count": 71,
     "metadata": {},
     "output_type": "execute_result"
    }
   ],
   "source": [
    "ngkir_commits_that_change_dep_files_only__packagejson = (\n",
    "    ngkir_commits_that_change_dep_files_only[\n",
    "        ngkir_commits_that_change_dep_files_only['file_name'] == 'package.json'\n",
    "    ].groupby('commit_sha')\n",
    "    .first()\n",
    "    .reset_index()\n",
    ")\n",
    "\n",
    "grouped_by_file_changes = (\n",
    "    ngkir_commits_that_change_dep_files_only__packagejson\n",
    "        .groupby(['file_changes', 'file_additions', 'file_deletions'])\n",
    "        ['commit_sha']\n",
    ")\n",
    "\n",
    "for_plot = (\n",
    "    (\n",
    "        grouped_by_file_changes.count() /\n",
    "        grouped_by_file_changes.count().sum()\n",
    "    ).sort_values(ascending=False)\n",
    "    .reset_index(name='proportion')\n",
    ")\n",
    "for_plot['label'] = for_plot.apply(\n",
    "    lambda row: f\"{int(row['file_changes'])} ({int(row['file_additions'])}, {int(row['file_deletions'])})\",\n",
    "    axis=1\n",
    ")\n",
    "for_plot"
   ]
  },
  {
   "cell_type": "code",
   "execution_count": 72,
   "id": "b677bae5-92f7-4872-9d77-d478545bcc42",
   "metadata": {},
   "outputs": [
    {
     "data": {
      "image/png": "[encoded data removed]",
      "text/plain": [
       "<Figure size 432x288 with 1 Axes>"
      ]
     },
     "metadata": {
      "needs_background": "light"
     },
     "output_type": "display_data"
    }
   ],
   "source": [
    "fig, ax = plt.subplots(nrows=1, ncols=1, figsize=(6,4))\n",
    "sns.barplot(\n",
    "    data=for_plot.head(10),\n",
    "    y='label',\n",
    "    x='proportion',\n",
    "    color=\"0.3\",\n",
    "    ax=ax\n",
    ")\n",
    "ax.set_xlabel('Proportion of change sizes on package.json file \\n(over commits that only change dependency specification files)')\n",
    "ax.set_ylabel('Changes (Additions, Deletions)')\n",
    "ax.xaxis.set_major_formatter(proportion_func_formatter)\n",
    "# save_fig('')\n",
    "plt.show()"
   ]
  },
  {
   "cell_type": "code",
   "execution_count": 74,
   "id": "2200fb22-7dac-4c67-a3c1-c958b37f9f5a",
   "metadata": {},
   "outputs": [
    {
     "name": "stdout",
     "output_type": "stream",
     "text": [
      "Non-GKIR referenced commits that only change deps files (package.json file changes)\n",
      "0.7183326588425739% are one-line changes\n",
      "0.8624038850667747% modify three or fewer lines\n"
     ]
    }
   ],
   "source": [
    "single_line_change_labels = [\n",
    "    '1 (1, 0)',\n",
    "    '1 (0, 1)',\n",
    "    '2 (1, 1)'\n",
    "]\n",
    "prop_that_modify_one_line = (\n",
    "    for_plot[\n",
    "        for_plot['label'].isin(single_line_change_labels)\n",
    "    ]['proportion'].sum()\n",
    ")\n",
    "less_than_three_labels = [\n",
    "    '1 (1, 0)',\n",
    "    '1 (0, 1)',\n",
    "    '2 (1, 1)',\n",
    "    '2 (2, 0)',\n",
    "    '2 (0, 2)',\n",
    "    '3 (3, 0)',\n",
    "    '3 (2, 1)',\n",
    "    '3 (1, 2)',\n",
    "    '3 (0, 3)',\n",
    "    '4 (3, 1)',\n",
    "    '4 (2, 2)',\n",
    "    '4 (1, 3)',\n",
    "    '6 (3, 3)',\n",
    "]\n",
    "prop_that_modify_three_lines = (\n",
    "    for_plot[\n",
    "        for_plot['label'].isin(less_than_three_labels)\n",
    "    ]['proportion'].sum()\n",
    ")\n",
    "\n",
    "print(\"Non-GKIR referenced commits that only change deps files (package.json file changes)\")\n",
    "print(f\"{prop_that_modify_one_line}% are one-line changes\")\n",
    "\n",
    "print(f\"{prop_that_modify_three_lines}% modify three or fewer lines\")"
   ]
  },
  {
   "cell_type": "code",
   "execution_count": null,
   "id": "137a60b9-a5ba-4a98-98c5-40e4913db448",
   "metadata": {},
   "outputs": [],
   "source": []
  }
 ],
 "metadata": {
  "kernelspec": {
   "display_name": "Python 3",
   "language": "python",
   "name": "python3"
  },
  "language_info": {
   "codemirror_mode": {
    "name": "ipython",
    "version": 3
   },
   "file_extension": ".py",
   "mimetype": "text/x-python",
   "name": "python",
   "nbconvert_exporter": "python",
   "pygments_lexer": "ipython3",
   "version": "3.8.8"
  }
 },
 "nbformat": 4,
 "nbformat_minor": 5
}
