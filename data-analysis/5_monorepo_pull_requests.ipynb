{
 "cells": [
  {
   "cell_type": "code",
   "execution_count": 79,
   "metadata": {},
   "outputs": [],
   "source": [
    "%run _utils.ipynb"
   ]
  },
  {
   "cell_type": "code",
   "execution_count": 80,
   "metadata": {},
   "outputs": [],
   "source": [
    "all_issues = load_all_issues()\n",
    "gk_issues = all_issues[all_issues['user_login'] == 'greenkeeper[bot]']\n",
    "gk_prs = gk_issues[gk_issues['is_pull_request']]\n",
    "gk_issues = gk_issues[~gk_issues['is_pull_request']]"
   ]
  },
  {
   "cell_type": "code",
   "execution_count": 81,
   "metadata": {},
   "outputs": [
    {
     "name": "stdout",
     "output_type": "stream",
     "text": [
      "dict_keys(['angular', 'angular2', 'angular1', 'apollo-client', 'apollo-link', 'apollo-server', 'apollo-tooling', 'aws-cdk', 'babel', 'babel7', 'baset', 'commitlint', 'electron-builder', 'emotion', 'enzyme', 'fortawesome', 'gatsby', 'jest', 'jest2', 'lodash', 'material-ui', 'nestjs', 'ngxs', 'polyfill-io-aot', 'pouchdb', 'react', 'react-dnd', 'storybook', 'react-cosmos', 'uppy', 'vue', 'gk-test', 'appcenter', 'material', 'pika-builders', 'reach-ui'])\n"
     ]
    }
   ],
   "source": [
    "import requests\n",
    "import json\n",
    "url = 'https://raw.githubusercontent.com/greenkeeperio/monorepo-definitions/master/index.js'\n",
    "resp = requests.get(url)\n",
    "js = resp.text\n",
    "json_text = js.split(' = ')[1]\n",
    "json_text = json_text.replace('\\'', '\"')\n",
    "json_text = json_text.replace('//', '')\n",
    "json_text = json_text.split('module.exports')[0]\n",
    "data = json.loads(json_text)\n",
    "monorepos = data.keys()\n",
    "print(monorepos)"
   ]
  },
  {
   "cell_type": "markdown",
   "metadata": {},
   "source": [
    "## Looking at PRs"
   ]
  },
  {
   "cell_type": "code",
   "execution_count": 82,
   "metadata": {},
   "outputs": [
    {
     "data": {
      "text/plain": [
       "'^Update (angular|angular2|angular1|apollo-client|apollo-link|apollo-server|apollo-tooling|aws-cdk|babel|babel7|baset|commitlint|electron-builder|emotion|enzyme|fortawesome|gatsby|jest|jest2|lodash|material-ui|nestjs|ngxs|polyfill-io-aot|pouchdb|react|react-dnd|storybook|react-cosmos|uppy|vue|gk-test|appcenter|material|pika-builders|reach-ui) to the latest version'"
      ]
     },
     "execution_count": 82,
     "metadata": {},
     "output_type": "execute_result"
    }
   ],
   "source": [
    "monorepo_pr_pattern = f'^Update ({\"|\".join(monorepos)}) to the latest version'\n",
    "monorepo_pr_pattern"
   ]
  },
  {
   "cell_type": "code",
   "execution_count": 83,
   "metadata": {},
   "outputs": [],
   "source": [
    "prs_for_monorepos = gk_prs[gk_prs['title'].str.match(monorepo_pr_pattern)].copy()\n",
    "prs_for_monorepos['type'] = 'monorepo'\n",
    "prs_for_non_monorepos = gk_prs[~gk_prs['title'].str.match(monorepo_pr_pattern)].copy()\n",
    "prs_for_non_monorepos['type'] = 'non_monorepo'"
   ]
  },
  {
   "cell_type": "code",
   "execution_count": 84,
   "metadata": {},
   "outputs": [
    {
     "data": {
      "text/plain": [
       "count                          7803\n",
       "mean     27 days 22:49:39.909906446\n",
       "std      84 days 00:54:11.006945041\n",
       "min                 0 days 00:00:01\n",
       "25%          0 days 06:27:26.500000\n",
       "50%                 1 days 13:20:48\n",
       "75%                14 days 03:08:06\n",
       "max              1173 days 14:51:01\n",
       "Name: time_to_close, dtype: object"
      ]
     },
     "execution_count": 84,
     "metadata": {},
     "output_type": "execute_result"
    }
   ],
   "source": [
    "closed_prs_for_monorepos = prs_for_monorepos[~pd.isna(prs_for_monorepos['closed_at'])].copy()\n",
    "closed_prs_for_monorepos['time_to_close'] = closed_prs_for_monorepos['closed_at'] - closed_prs_for_monorepos['created_at']\n",
    "closed_prs_for_monorepos['time_to_close'].describe()"
   ]
  },
  {
   "cell_type": "code",
   "execution_count": 61,
   "metadata": {},
   "outputs": [
    {
     "data": {
      "text/plain": [
       "count                        291701\n",
       "mean     34 days 18:37:51.454074549\n",
       "std      96 days 08:39:15.069942755\n",
       "min                 0 days 00:00:00\n",
       "25%                 0 days 04:06:47\n",
       "50%                 1 days 17:38:35\n",
       "75%                19 days 04:33:49\n",
       "max              1404 days 03:01:17\n",
       "Name: time_to_close, dtype: object"
      ]
     },
     "execution_count": 61,
     "metadata": {},
     "output_type": "execute_result"
    }
   ],
   "source": [
    "closed_prs_for_non_monorepos = prs_for_non_monorepos[~pd.isna(prs_for_non_monorepos['closed_at'])].copy()\n",
    "closed_prs_for_non_monorepos['time_to_close'] = closed_prs_for_non_monorepos['closed_at'] - closed_prs_for_non_monorepos['created_at']\n",
    "closed_prs_for_non_monorepos['time_to_close'].describe()"
   ]
  },
  {
   "cell_type": "code",
   "execution_count": 72,
   "metadata": {},
   "outputs": [
    {
     "data": {
      "image/png": "[encoded data removed]",
      "text/plain": [
       "<Figure size 432x144 with 1 Axes>"
      ]
     },
     "metadata": {
      "needs_background": "light"
     },
     "output_type": "display_data"
    },
    {
     "name": "stdout",
     "output_type": "stream",
     "text": [
      "\tMann-Whitney: statistic=1131738629.0 pvalue=0.20126316747582318\n",
      "\tCliff'a Delta: delta=-0.005544066036210418 size=negligible\n",
      "    \n"
     ]
    }
   ],
   "source": [
    "cols = ['time_to_close', 'type']\n",
    "for_plot = closed_prs_for_monorepos[cols].append(closed_prs_for_non_monorepos[cols])\n",
    "for_plot['time_to_close_hours'] = for_plot['time_to_close'] / np.timedelta64(1, 'h')\n",
    "for_plot = for_plot[for_plot['time_to_close_hours'] > 0]\n",
    "for_plot['time_to_close_hours_log'] = np.log10(for_plot['time_to_close_hours'])\n",
    "for_plot['placeholder'] = ''\n",
    "\n",
    "fig, ax = plt.subplots(nrows=1, ncols=1, figsize=(6,2))\n",
    "sns.violinplot(\n",
    "    data=for_plot,\n",
    "    x='time_to_close_hours_log',\n",
    "    y='placeholder',\n",
    "    hue='type',\n",
    "    split=True,\n",
    "    inner='quartile',\n",
    "    palette=['1', '0.6'],\n",
    "    ax=ax,\n",
    ")\n",
    "ax.set_ylabel('')\n",
    "ax.set_xlabel('Time to close Greenkeeper Pull Requests')\n",
    "ax.xaxis.set_major_formatter(log10_func_formatter)\n",
    "\n",
    "L = plt.legend(\n",
    "    loc='upper center',\n",
    "    fontsize='small',\n",
    "    fancybox=True,\n",
    "    bbox_to_anchor=(0.5,1.2),\n",
    "    ncol=2,\n",
    "    shadow=False,\n",
    ")\n",
    "L.get_texts()[0].set_text('Monorepo Pull Requests')\n",
    "L.get_texts()[1].set_text('Non-Monorepo Pull Requests')\n",
    "\n",
    "plt.show()\n",
    "\n",
    "mannwhitneyu_cliffsdelta(\n",
    "    for_plot[for_plot['type'] == 'monorepo']['time_to_close_hours'],\n",
    "    for_plot[for_plot['type'] == 'non_monorepo']['time_to_close_hours']\n",
    ")"
   ]
  },
  {
   "cell_type": "markdown",
   "metadata": {},
   "source": [
    "## Looking at issues"
   ]
  },
  {
   "cell_type": "code",
   "execution_count": 52,
   "metadata": {},
   "outputs": [
    {
     "data": {
      "text/plain": [
       "1244080    An in-range update of ember-frost-navigation is breaking the build 🚨\n",
       "999404                  An in-range update of can-event is breaking the build 🚨\n",
       "252929                     An in-range update of rollup is breaking the build 🚨\n",
       "33401                       An in-range update of lerna is breaking the build 🚨\n",
       "64892                  An in-range update of gulp-shell is breaking the build 🚨\n",
       "451247                  An in-range update of puppeteer is breaking the build 🚨\n",
       "2190219                     An in-range update of mocha is breaking the build 🚨\n",
       "1797600                    An in-range update of babel7 is breaking the build 🚨\n",
       "767218               An in-range update of @types/sinon is breaking the build 🚨\n",
       "2207849           An in-range update of request-promise is breaking the build 🚨\n",
       "Name: title, dtype: object"
      ]
     },
     "execution_count": 52,
     "metadata": {},
     "output_type": "execute_result"
    }
   ],
   "source": [
    "gk_issues['title'].sample(10)"
   ]
  },
  {
   "cell_type": "code",
   "execution_count": 53,
   "metadata": {},
   "outputs": [
    {
     "data": {
      "text/plain": [
       "'^An in-range update of (angular|angular2|angular1|apollo-client|apollo-link|apollo-server|apollo-tooling|aws-cdk|babel|babel7|baset|commitlint|electron-builder|emotion|enzyme|fortawesome|gatsby|jest|jest2|lodash|material-ui|nestjs|ngxs|polyfill-io-aot|pouchdb|react|react-dnd|storybook|react-cosmos|uppy|vue|gk-test|appcenter|material|pika-builders|reach-ui) is breaking the build'"
      ]
     },
     "execution_count": 53,
     "metadata": {},
     "output_type": "execute_result"
    }
   ],
   "source": [
    "monorepo_issue_pattern = f'^An in-range update of ({\"|\".join(monorepos)}) is breaking the build'\n",
    "monorepo_issue_pattern"
   ]
  },
  {
   "cell_type": "code",
   "execution_count": 75,
   "metadata": {},
   "outputs": [],
   "source": [
    "issues_for_monorepos = gk_issues[gk_issues['title'].str.match(monorepo_issue_pattern)].copy()\n",
    "issues_for_monorepos['type'] = 'monorepo'\n",
    "issues_for_non_monorepos = gk_issues[~gk_issues['title'].str.match(monorepo_issue_pattern)].copy()\n",
    "issues_for_non_monorepos['type'] = 'non_monorepo'"
   ]
  },
  {
   "cell_type": "code",
   "execution_count": 76,
   "metadata": {},
   "outputs": [
    {
     "data": {
      "text/plain": [
       "count                           5789\n",
       "mean      60 days 09:48:44.367593713\n",
       "std      116 days 21:48:46.997651530\n",
       "min                  0 days 00:00:10\n",
       "25%                  0 days 20:22:15\n",
       "50%                 10 days 03:42:36\n",
       "75%                 61 days 23:56:53\n",
       "max               1219 days 02:01:10\n",
       "Name: time_to_close, dtype: object"
      ]
     },
     "execution_count": 76,
     "metadata": {},
     "output_type": "execute_result"
    }
   ],
   "source": [
    "closed_issues_for_monorepos = issues_for_monorepos[~pd.isna(issues_for_monorepos['closed_at'])].copy()\n",
    "closed_issues_for_monorepos['time_to_close'] = closed_issues_for_monorepos['closed_at'] - closed_issues_for_monorepos['created_at']\n",
    "closed_issues_for_monorepos['time_to_close'].describe()"
   ]
  },
  {
   "cell_type": "code",
   "execution_count": 77,
   "metadata": {},
   "outputs": [
    {
     "data": {
      "text/plain": [
       "count                          88252\n",
       "mean      49 days 22:56:19.147690703\n",
       "std      119 days 10:43:53.758122378\n",
       "min                  0 days 00:00:04\n",
       "25%                  0 days 08:02:34\n",
       "50%                  4 days 03:07:56\n",
       "75%          36 days 13:19:10.750000\n",
       "max               1450 days 16:01:20\n",
       "Name: time_to_close, dtype: object"
      ]
     },
     "execution_count": 77,
     "metadata": {},
     "output_type": "execute_result"
    }
   ],
   "source": [
    "closed_issues_for_non_monorepos = issues_for_non_monorepos[~pd.isna(issues_for_non_monorepos['closed_at'])].copy()\n",
    "closed_issues_for_non_monorepos['time_to_close'] = closed_issues_for_non_monorepos['closed_at'] - closed_issues_for_non_monorepos['created_at']\n",
    "closed_issues_for_non_monorepos['time_to_close'].describe()"
   ]
  },
  {
   "cell_type": "code",
   "execution_count": 78,
   "metadata": {},
   "outputs": [
    {
     "data": {
      "image/png": "[encoded data removed]",
      "text/plain": [
       "<Figure size 432x144 with 1 Axes>"
      ]
     },
     "metadata": {
      "needs_background": "light"
     },
     "output_type": "display_data"
    },
    {
     "name": "stdout",
     "output_type": "stream",
     "text": [
      "\tMann-Whitney: statistic=215470811.5 pvalue=4.287976817135657e-89\n",
      "\tCliff'a Delta: delta=0.15648980294474968 size=small\n",
      "    \n"
     ]
    }
   ],
   "source": [
    "cols = ['time_to_close', 'type']\n",
    "for_plot = closed_issues_for_monorepos[cols].append(closed_issues_for_non_monorepos[cols])\n",
    "for_plot['time_to_close_hours'] = for_plot['time_to_close'] / np.timedelta64(1, 'h')\n",
    "for_plot = for_plot[for_plot['time_to_close_hours'] > 0]\n",
    "for_plot['time_to_close_hours_log'] = np.log10(for_plot['time_to_close_hours'])\n",
    "for_plot['placeholder'] = ''\n",
    "\n",
    "fig, ax = plt.subplots(nrows=1, ncols=1, figsize=(6,2))\n",
    "sns.violinplot(\n",
    "    data=for_plot,\n",
    "    x='time_to_close_hours_log',\n",
    "    y='placeholder',\n",
    "    hue='type',\n",
    "    split=True,\n",
    "    inner='quartile',\n",
    "    palette=['1', '0.6'],\n",
    "    ax=ax,\n",
    ")\n",
    "ax.set_ylabel('')\n",
    "ax.set_xlabel('Time to close Greenkeeper In-Range Breaking Build Issue Reports')\n",
    "ax.xaxis.set_major_formatter(log10_func_formatter)\n",
    "\n",
    "L = plt.legend(\n",
    "    loc='upper center',\n",
    "    fontsize='small',\n",
    "    fancybox=True,\n",
    "    bbox_to_anchor=(0.5,1.2),\n",
    "    ncol=2,\n",
    "    shadow=False,\n",
    ")\n",
    "L.get_texts()[0].set_text('Monorepo Issue Reports')\n",
    "L.get_texts()[1].set_text('Non-Monorepo Issue Reports')\n",
    "\n",
    "plt.show()\n",
    "\n",
    "mannwhitneyu_cliffsdelta(\n",
    "    for_plot[for_plot['type'] == 'monorepo']['time_to_close_hours'],\n",
    "    for_plot[for_plot['type'] == 'non_monorepo']['time_to_close_hours']\n",
    ")"
   ]
  }
 ],
 "metadata": {
  "kernelspec": {
   "display_name": "Python 3",
   "language": "python",
   "name": "python3"
  },
  "language_info": {
   "codemirror_mode": {
    "name": "ipython",
    "version": 3
   },
   "file_extension": ".py",
   "mimetype": "text/x-python",
   "name": "python",
   "nbconvert_exporter": "python",
   "pygments_lexer": "ipython3",
   "version": "3.8.5"
  }
 },
 "nbformat": 4,
 "nbformat_minor": 4
}
