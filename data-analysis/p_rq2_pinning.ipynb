{
 "cells": [
  {
   "cell_type": "markdown",
   "metadata": {},
   "source": [
    "<h3>Load helper functions</h3>"
   ]
  },
  {
   "cell_type": "code",
   "execution_count": 2,
   "metadata": {},
   "outputs": [],
   "source": [
    "%run _utils.ipynb"
   ]
  },
  {
   "cell_type": "markdown",
   "metadata": {},
   "source": [
    "<h3>Load Greenkeeper In-Range Breaking Build <code>issues</code></h3>"
   ]
  },
  {
   "cell_type": "code",
   "execution_count": 7,
   "metadata": {},
   "outputs": [],
   "source": [
    "issues = load_issues()\n",
    "comments = load_comments()"
   ]
  },
  {
   "cell_type": "markdown",
   "metadata": {},
   "source": [
    "<h3>Load <code>all_issues</code></h3>\n",
    "<p>NOTE that this includes every single issue from every single repo in the list of repos from the GK In-range breaking build issues set</p>"
   ]
  },
  {
   "cell_type": "code",
   "execution_count": 4,
   "metadata": {},
   "outputs": [
    {
     "name": "stdout",
     "output_type": "stream",
     "text": [
      "Count=2398438 (Project Count=12017) Median=55.0 Mean=199.58708496296913\n"
     ]
    },
    {
     "data": {
      "image/png": "[encoded data removed]",
      "text/plain": [
       "<Figure size 432x144 with 1 Axes>"
      ]
     },
     "metadata": {
      "needs_background": "light"
     },
     "output_type": "display_data"
    }
   ],
   "source": [
    "all_issues = load_all_issues()\n",
    "counts = all_issues.groupby('repo_name')['id'].count()\n",
    "print(f\"Count={len(all_issues)} (Project Count={len(counts)}) Median={counts.median()} Mean={counts.mean()}\")\n",
    "for_plot = counts.to_frame(name='num_of_issues')\n",
    "for_plot['placeholder'] = ''\n",
    "for_plot['num_of_issues_log'] = np.log10(for_plot['num_of_issues'])\n",
    "fig, ax = plt.subplots(nrows=1, ncols=1, figsize=(6,2))\n",
    "ax = sns.violinplot(\n",
    "    data=for_plot,\n",
    "    x='num_of_issues_log',\n",
    "    y='placeholder',\n",
    "    inner='quartile',\n",
    "    palette=['0.9'],\n",
    "    logscale=True\n",
    ")\n",
    "ax.set_ylabel('')\n",
    "ax.xaxis.set_major_formatter(log10_func_formatter)\n",
    "plt.show()"
   ]
  },
  {
   "cell_type": "markdown",
   "metadata": {},
   "source": [
    "<h3>Create data sets of <code>non_gk_issues</code> and <code>gk_issues</code></h3>\n",
    "<p>\n",
    "    For analysis, we ignore gk_issues that we dont have all issues for, and remove the duplicate gk_issues from the all_issues data set\n",
    "</p>"
   ]
  },
  {
   "cell_type": "code",
   "execution_count": 5,
   "metadata": {},
   "outputs": [],
   "source": [
    "def filter_issues_for_analyses(all_issues, gk_issues):\n",
    "    # Make copies\n",
    "    gk_issues_for_analysis = gk_issues.copy()\n",
    "    non_gk_issues_for_analysis = all_issues.copy()\n",
    "    # Remove pull requests from all issues\n",
    "    non_gk_issues_for_analysis = non_gk_issues_for_analysis[\n",
    "        ~non_gk_issues_for_analysis['is_pull_request']\n",
    "    ]\n",
    "    # Filter out any issues that are GK in-range breakin gbuild issues\n",
    "    non_gk_issues_for_analysis = non_gk_issues_for_analysis[\n",
    "        ~non_gk_issues_for_analysis['id'].isin(gk_issues_for_analysis['id'])\n",
    "    ]\n",
    "    # Only analyze GK issues for projects we have all issues for\n",
    "    gk_issues_for_analysis = gk_issues_for_analysis[\n",
    "        gk_issues_for_analysis['repo_name'].isin(non_gk_issues_for_analysis['repo_name'])\n",
    "    ]\n",
    "    # Copy the html_url and body attributes over from all_issues to their respective rows on gk_issues\n",
    "    gk_issues_for_analysis = gk_issues_for_analysis.merge(\n",
    "        all_issues[['id', 'html_url', 'body']],\n",
    "        how='left',\n",
    "        on='id',\n",
    "    )\n",
    "    return non_gk_issues_for_analysis, gk_issues_for_analysis\n",
    "    \n",
    "\n",
    "non_gk_issues, gk_issues = filter_issues_for_analyses(all_issues, issues)"
   ]
  },
  {
   "cell_type": "markdown",
   "metadata": {},
   "source": [
    "<h2><b>Pinning</b></h2>"
   ]
  },
  {
   "cell_type": "markdown",
   "metadata": {},
   "source": [
    "<h3><b><i>How successful is auto-pinning the dependency?</i></b></h3>"
   ]
  },
  {
   "cell_type": "code",
   "execution_count": 9,
   "metadata": {},
   "outputs": [
    {
     "name": "stdout",
     "output_type": "stream",
     "text": [
      "--How successful is pinning the dependency?--\n"
     ]
    },
    {
     "data": {
      "text/html": [
       "<div>\n",
       "<style scoped>\n",
       "    .dataframe tbody tr th:only-of-type {\n",
       "        vertical-align: middle;\n",
       "    }\n",
       "\n",
       "    .dataframe tbody tr th {\n",
       "        vertical-align: top;\n",
       "    }\n",
       "\n",
       "    .dataframe thead th {\n",
       "        text-align: right;\n",
       "    }\n",
       "</style>\n",
       "<table border=\"1\" class=\"dataframe\">\n",
       "  <thead>\n",
       "    <tr style=\"text-align: right;\">\n",
       "      <th></th>\n",
       "      <th>pin_status</th>\n",
       "      <th>proportion</th>\n",
       "    </tr>\n",
       "  </thead>\n",
       "  <tbody>\n",
       "    <tr>\n",
       "      <th>0</th>\n",
       "      <td>failure</td>\n",
       "      <td>0.676202</td>\n",
       "    </tr>\n",
       "    <tr>\n",
       "      <th>1</th>\n",
       "      <td>success</td>\n",
       "      <td>0.323798</td>\n",
       "    </tr>\n",
       "  </tbody>\n",
       "</table>\n",
       "</div>"
      ],
      "text/plain": [
       "  pin_status  proportion\n",
       "0    failure    0.676202\n",
       "1    success    0.323798"
      ]
     },
     "execution_count": 9,
     "metadata": {},
     "output_type": "execute_result"
    }
   ],
   "source": [
    "pinning_comments = comments.loc[\n",
    "    (\n",
    "        (comments['comment_user_type'] == 'Bot') &\n",
    "        (comments['comment_user_login'] == 'greenkeeper[bot]') &\n",
    "        (comments['comment_body'].str.contains('After pinning to', case=False))\n",
    "    )\n",
    "][['comment_issue_id', 'comment_url', 'comment_body']]\n",
    "issue_pin_status = pinning_comments.merge(\n",
    "    gk_issues[['id', 'url', 'title', 'html_url', 'body']],\n",
    "    left_on='comment_issue_id',\n",
    "    right_on='id'\n",
    ")\n",
    "# Re-order columns\n",
    "issue_pin_status = issue_pin_status[['id', 'url', 'title', 'html_url', 'body', 'comment_issue_id', 'comment_url', 'comment_body']]\n",
    "issue_pin_status['pin_status'] = 'unknown'\n",
    "pin_fail_regex = '|'.join([\n",
    "    \"your tests are still failing\",\n",
    "])\n",
    "pin_success_regex = '|'.join([\n",
    "    \"your tests are passing again\"\n",
    "])\n",
    "issue_pin_status.loc[\n",
    "    issue_pin_status['comment_body'].str.contains(pin_success_regex, case=False),\n",
    "    'pin_status'\n",
    "] = 'success'\n",
    "issue_pin_status.loc[\n",
    "    issue_pin_status['comment_body'].str.contains(pin_fail_regex, case=False),\n",
    "    'pin_status'\n",
    "] = 'failure'\n",
    "\n",
    "issue_pin_status['pin_status'].value_counts()\n",
    "\n",
    "proportions = (\n",
    "    issue_pin_status['pin_status'].value_counts() / \n",
    "    issue_pin_status['pin_status'].count()\n",
    ").to_frame(name='proportion')\\\n",
    "    .rename_axis('pin_status')\\\n",
    "    .reset_index()\n",
    "print('--How successful is pinning the dependency?--')\n",
    "proportions.head()"
   ]
  },
  {
   "cell_type": "markdown",
   "metadata": {},
   "source": [
    "<h4>Write out cases for manual analysis</h4>"
   ]
  },
  {
   "cell_type": "code",
   "execution_count": 10,
   "metadata": {},
   "outputs": [],
   "source": [
    "# failed_pins = issue_pin_status[issue_pin_status['pin_status'] == 'failure']\n",
    "# # failed_pins.info()\n",
    "# sample_failed_pins = failed_pins.sample(n=800, random_state=42)\n",
    "# sample_failed_pins.to_csv(f'./manual_analysis/failed_pins/sample_failed_pins.csv', index=False)"
   ]
  },
  {
   "cell_type": "markdown",
   "metadata": {},
   "source": [
    "<h4>Do success/fail pins predict whether a new release will fix the issue?</h4>"
   ]
  },
  {
   "cell_type": "code",
   "execution_count": 13,
   "metadata": {},
   "outputs": [
    {
     "name": "stdout",
     "output_type": "stream",
     "text": [
      "SUCCESSFUL PINS\n",
      "38.1% (2980/7822) of issues with a successful pin attempt also eventually see a new passing release of the dependency\n",
      "61.9% (4842/7822) of issues with a successful pin attempt only see new failing releases of the dependency'\n",
      "(i.e. none of the dependencies new releases ever pass the clients pipeline )\n",
      "\n",
      "26.51% (2074/7822) of issues with a successful pin attempt only see new passing releases of the dependency'\n",
      "(i.e. all of the dependencies new releases pass the clients pipeline )\n",
      "\n"
     ]
    }
   ],
   "source": [
    "succ_pin_issue_ids = issue_pin_status[issue_pin_status['pin_status'] == 'success']['id'].unique()\n",
    "fail_pin_issues_ids = issue_pin_status[issue_pin_status['pin_status'] == 'failure']['id'].unique()\n",
    "\n",
    "gk_comments = comments.loc[\n",
    "    (\n",
    "        (comments['comment_user_type'] == 'Bot') &\n",
    "        (comments['comment_user_login'] == 'greenkeeper[bot]')\n",
    "    )\n",
    "]\n",
    "# Get comments for issues with successful pins\n",
    "succ_pin_gk_comments = gk_comments[gk_comments['comment_issue_id'].isin(succ_pin_issue_ids)]\n",
    "\n",
    "failing_with_new_release_regex = 'Your tests are still failing with this version'\n",
    "passing_with_new_release_regex = 'Your tests are passing again with this version'\n",
    "\n",
    "\n",
    "def comment_group_saw_new_release(comment_group):\n",
    "    new_release_comments = comment_group[\n",
    "        (comment_group['comment_body'].str.contains(failing_with_new_release_regex)) |\n",
    "        (comment_group['comment_body'].str.contains(passing_with_new_release_regex))\n",
    "    ]\n",
    "    return len(new_release_comments) > 0\n",
    "\n",
    "def issue_has_passing_with_new_release_comment(comment_group):\n",
    "    new_passing_release_comments = comment_group[\n",
    "        comment_group['comment_body'].str.contains(passing_with_new_release_regex)\n",
    "    ]\n",
    "    return len(new_passing_release_comments) > 0\n",
    "\n",
    "def issue_has_failing_with_new_release_comment(comment_group):\n",
    "    new_failing_release_comments = comment_group[\n",
    "        comment_group['comment_body'].str.contains(failing_with_new_release_regex)\n",
    "    ]\n",
    "    return len(new_failing_release_comments) > 0\n",
    "\n",
    "def issue_has_only_failing_new_release_comments(comment_group):\n",
    "    return (\n",
    "        not issue_has_passing_with_new_release_comment(comment_group) and\n",
    "        issue_has_failing_with_new_release_comment(comment_group)\n",
    "    )\n",
    "\n",
    "def issue_has_only_passing_new_release_comments(comment_group):\n",
    "    return (\n",
    "        issue_has_passing_with_new_release_comment(comment_group) and\n",
    "        not issue_has_failing_with_new_release_comment(comment_group)\n",
    "    )\n",
    "\n",
    "print('SUCCESSFUL PINS')\n",
    "\n",
    "# Only issues that saw new release\n",
    "succ_pin_comments_with_new_release = \\\n",
    "    succ_pin_gk_comments\\\n",
    "        .groupby('comment_issue_id')\\\n",
    "        .filter(comment_group_saw_new_release)\n",
    "\n",
    "succ_pin_comments_with_new_release_count = (\n",
    "    succ_pin_comments_with_new_release['comment_issue_id']\n",
    "        .nunique()\n",
    ")\n",
    "\n",
    "passing_with_new_release = (\n",
    "    succ_pin_comments_with_new_release\n",
    "        .groupby('comment_issue_id')\n",
    "        .filter(issue_has_passing_with_new_release_comment)\n",
    ")\n",
    "issues_with_passing_new_release_count = (\n",
    "    passing_with_new_release['comment_issue_id']\n",
    "        .nunique()\n",
    ")\n",
    "proportion = calculate_percent(\n",
    "    issues_with_passing_new_release_count,\n",
    "    succ_pin_comments_with_new_release_count\n",
    ")\n",
    "print(f'{proportion}% ({issues_with_passing_new_release_count}/{succ_pin_comments_with_new_release_count}) \\\n",
    "of issues with a successful pin attempt also eventually see a new passing release of the dependency')\n",
    "\n",
    "only_failing_new_release = (\n",
    "    succ_pin_comments_with_new_release\n",
    "        .groupby('comment_issue_id')\n",
    "        .filter(issue_has_only_failing_new_release_comments)\n",
    ")\n",
    "issues_with_only_failing_new_release_count = (\n",
    "    only_failing_new_release['comment_issue_id']\n",
    "        .nunique()\n",
    ")\n",
    "proportion = calculate_percent(\n",
    "    issues_with_only_failing_new_release_count,\n",
    "    succ_pin_comments_with_new_release_count\n",
    ")\n",
    "print(f'''\\\n",
    "{proportion}% ({issues_with_only_failing_new_release_count}/{succ_pin_comments_with_new_release_count}) \\\n",
    "of issues with a successful pin attempt only see new failing releases of the dependency'\n",
    "(i.e. none of the dependencies new releases ever pass the clients pipeline )\n",
    "''')\n",
    "\n",
    "only_passing_new_release = (\n",
    "    succ_pin_comments_with_new_release\n",
    "        .groupby('comment_issue_id')\n",
    "        .filter(issue_has_only_passing_new_release_comments)\n",
    ")\n",
    "issues_with_only_passing_new_release_count = (\n",
    "    only_passing_new_release['comment_issue_id']\n",
    "        .nunique()\n",
    ")\n",
    "proportion = calculate_percent(\n",
    "    issues_with_only_passing_new_release_count,\n",
    "    succ_pin_comments_with_new_release_count\n",
    ")\n",
    "print(f'''\\\n",
    "{proportion}% ({issues_with_only_passing_new_release_count}/{succ_pin_comments_with_new_release_count}) \\\n",
    "of issues with a successful pin attempt only see new passing releases of the dependency'\n",
    "(i.e. all of the dependencies new releases pass the clients pipeline )\n",
    "''')"
   ]
  },
  {
   "cell_type": "code",
   "execution_count": 15,
   "metadata": {},
   "outputs": [
    {
     "name": "stdout",
     "output_type": "stream",
     "text": [
      "61.9% (4842/7822) of issues with a successful pin attempt only see new failing releases of the dependency'\n",
      "(i.e. none of the dependencies new releases ever pass the clients pipeline )\n",
      "\n",
      "26.51% (2074/7822) of issues with a successful pin attempt only see new passing releases of the dependency'\n",
      "(i.e. all of the dependencies new releases pass the clients pipeline )\n",
      "\n"
     ]
    }
   ],
   "source": [
    "# Only issues that saw new release\n",
    "succ_pin_comments_with_new_release = \\\n",
    "    succ_pin_gk_comments\\\n",
    "        .groupby('comment_issue_id')\\\n",
    "        .filter(comment_group_saw_new_release)\n",
    "\n",
    "succ_pin_comments_with_new_release_count = (\n",
    "    succ_pin_comments_with_new_release['comment_issue_id']\n",
    "        .nunique()\n",
    ")\n",
    "\n",
    "\n",
    "only_failing_new_release = (\n",
    "    succ_pin_comments_with_new_release\n",
    "        .groupby('comment_issue_id')\n",
    "        .filter(issue_has_only_failing_new_release_comments)\n",
    ")\n",
    "issues_with_only_failing_new_release_count = (\n",
    "    only_failing_new_release['comment_issue_id']\n",
    "        .nunique()\n",
    ")\n",
    "proportion = calculate_percent(\n",
    "    issues_with_only_failing_new_release_count,\n",
    "    succ_pin_comments_with_new_release_count\n",
    ")\n",
    "print(f'''\\\n",
    "{proportion}% ({issues_with_only_failing_new_release_count}/{succ_pin_comments_with_new_release_count}) \\\n",
    "of issues with a successful pin attempt only see new failing releases of the dependency'\n",
    "(i.e. none of the dependencies new releases ever pass the clients pipeline )\n",
    "''')\n",
    "\n",
    "only_passing_new_release = (\n",
    "    succ_pin_comments_with_new_release\n",
    "        .groupby('comment_issue_id')\n",
    "        .filter(issue_has_only_passing_new_release_comments)\n",
    ")\n",
    "issues_with_only_passing_new_release_count = (\n",
    "    only_passing_new_release['comment_issue_id']\n",
    "        .nunique()\n",
    ")\n",
    "proportion = calculate_percent(\n",
    "    issues_with_only_passing_new_release_count,\n",
    "    succ_pin_comments_with_new_release_count\n",
    ")\n",
    "print(f'''\\\n",
    "{proportion}% ({issues_with_only_passing_new_release_count}/{succ_pin_comments_with_new_release_count}) \\\n",
    "of issues with a successful pin attempt only see new passing releases of the dependency'\n",
    "(i.e. all of the dependencies new releases pass the clients pipeline )\n",
    "''')\n",
    "\n"
   ]
  },
  {
   "cell_type": "code",
   "execution_count": 12,
   "metadata": {},
   "outputs": [
    {
     "name": "stdout",
     "output_type": "stream",
     "text": [
      "FAIL PINS\n",
      "8.83% (1757/19909) of issues with a failing pin attempt also eventually see a new passing release of the dependency\n",
      "91.17% (18152/19909) of issues with a failing pin attempt only see new failing releases of the dependency'\n",
      "(i.e. none of the dependencies new releases ever pass the clients pipeline )\n",
      "\n",
      "4.62% (920/19909) of issues with a failing pin attempt only see new failing releases of the dependency'\n",
      "(i.e. none of the dependencies new releases ever pass the clients pipeline )\n",
      "\n"
     ]
    }
   ],
   "source": [
    "print('FAIL PINS')\n",
    "\n",
    "fail_pin_gk_comments = gk_comments[gk_comments['comment_issue_id'].isin(fail_pin_issues_ids)]\n",
    "\n",
    "fail_pin_comments_with_new_release = (\n",
    "    fail_pin_gk_comments\n",
    "        .groupby('comment_issue_id')\n",
    "        .filter(comment_group_saw_new_release)\n",
    ")\n",
    "\n",
    "fail_pin_comments_with_new_release_count = (\n",
    "    fail_pin_comments_with_new_release['comment_issue_id']\n",
    "        .nunique()\n",
    ")\n",
    "\n",
    "passing_with_new_release = (\n",
    "    fail_pin_comments_with_new_release\n",
    "        .groupby('comment_issue_id')\n",
    "        .filter(issue_has_passing_with_new_release_comment)\n",
    ")\n",
    "issues_with_passing_new_release_count = (\n",
    "    passing_with_new_release['comment_issue_id']\n",
    "        .nunique()\n",
    ")\n",
    "proportion = calculate_percent(\n",
    "    issues_with_passing_new_release_count,\n",
    "    fail_pin_comments_with_new_release_count\n",
    ")\n",
    "print(f'{proportion}% ({issues_with_passing_new_release_count}/{fail_pin_comments_with_new_release_count}) \\\n",
    "of issues with a failing pin attempt also eventually see a new passing release of the dependency')\n",
    "\n",
    "only_failing_new_release = (\n",
    "    fail_pin_comments_with_new_release\n",
    "        .groupby('comment_issue_id')\n",
    "        .filter(issue_has_only_failing_new_release_comments)\n",
    ")\n",
    "issues_with_only_failing_new_release_count = (\n",
    "    only_failing_new_release['comment_issue_id']\n",
    "        .nunique()\n",
    ")\n",
    "proportion = calculate_percent(\n",
    "    issues_with_only_failing_new_release_count,\n",
    "    fail_pin_comments_with_new_release_count\n",
    ")\n",
    "print(f'''\\\n",
    "{proportion}% ({issues_with_only_failing_new_release_count}/{fail_pin_comments_with_new_release_count}) \\\n",
    "of issues with a failing pin attempt only see new failing releases of the dependency'\n",
    "(i.e. none of the dependencies new releases ever pass the clients pipeline )\n",
    "''')\n",
    "\n",
    "only_passing_new_release = (\n",
    "    fail_pin_comments_with_new_release\n",
    "        .groupby('comment_issue_id')\n",
    "        .filter(issue_has_only_passing_new_release_comments)\n",
    ")\n",
    "issues_with_only_passing_new_release_count = (\n",
    "    only_passing_new_release['comment_issue_id']\n",
    "        .nunique()\n",
    ")\n",
    "proportion = calculate_percent(\n",
    "    issues_with_only_passing_new_release_count,\n",
    "    fail_pin_comments_with_new_release_count\n",
    ")\n",
    "print(f'''\\\n",
    "{proportion}% ({issues_with_only_passing_new_release_count}/{fail_pin_comments_with_new_release_count}) \\\n",
    "of issues with a failing pin attempt only see new passing releases of the dependency'\n",
    "(i.e. all of the dependencies new releases pass the clients pipeline )\n",
    "''')"
   ]
  },
  {
   "cell_type": "code",
   "execution_count": null,
   "metadata": {},
   "outputs": [],
   "source": []
  }
 ],
 "metadata": {
  "kernelspec": {
   "display_name": "Python 3",
   "language": "python",
   "name": "python3"
  },
  "language_info": {
   "codemirror_mode": {
    "name": "ipython",
    "version": 3
   },
   "file_extension": ".py",
   "mimetype": "text/x-python",
   "name": "python",
   "nbconvert_exporter": "python",
   "pygments_lexer": "ipython3",
   "version": "3.8.5"
  }
 },
 "nbformat": 4,
 "nbformat_minor": 4
}
