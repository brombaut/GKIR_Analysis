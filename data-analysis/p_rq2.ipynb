{
 "cells": [
  {
   "cell_type": "markdown",
   "metadata": {},
   "source": [
    "<h1>RQ2 - How do clients respond to in-range breaking updates?</h1>"
   ]
  },
  {
   "cell_type": "markdown",
   "metadata": {},
   "source": [
    "<h2>Findings</h2>\n",
    "<ul>\n",
    "    <li><b>Finding) TODO</b></li>\n",
    "</ul>"
   ]
  },
  {
   "cell_type": "markdown",
   "metadata": {},
   "source": [
    "<h3>Load helper functions</h3>"
   ]
  },
  {
   "cell_type": "code",
   "execution_count": 1002,
   "metadata": {},
   "outputs": [],
   "source": [
    "%run _utils.ipynb"
   ]
  },
  {
   "cell_type": "markdown",
   "metadata": {},
   "source": [
    "<h3>Load Greenkeeper In-Range Breaking Build <code>issues</code></h3>"
   ]
  },
  {
   "cell_type": "code",
   "execution_count": 658,
   "metadata": {},
   "outputs": [],
   "source": [
    "issues = load_issues()"
   ]
  },
  {
   "cell_type": "markdown",
   "metadata": {},
   "source": [
    "<h3>Load <code>all_issues</code></h3>\n",
    "<p>NOTE that this includes every single issue from every single repo in the list of repos from the GK In-range breaking build issues set</p>"
   ]
  },
  {
   "cell_type": "code",
   "execution_count": 659,
   "metadata": {},
   "outputs": [
    {
     "name": "stdout",
     "output_type": "stream",
     "text": [
      "Count=2398438 (Project Count=12017) Median=55.0 Mean=199.58708496296913\n"
     ]
    },
    {
     "data": {
      "image/png": "[encoded data removed]",
      "text/plain": [
       "<Figure size 432x144 with 1 Axes>"
      ]
     },
     "metadata": {
      "needs_background": "light"
     },
     "output_type": "display_data"
    }
   ],
   "source": [
    "all_issues = load_all_issues()\n",
    "counts = all_issues.groupby('repo_name')['id'].count()\n",
    "print(f\"Count={len(all_issues)} (Project Count={len(counts)}) Median={counts.median()} Mean={counts.mean()}\")\n",
    "for_plot = counts.to_frame(name='num_of_issues')\n",
    "for_plot['placeholder'] = ''\n",
    "for_plot['num_of_issues_log'] = np.log10(for_plot['num_of_issues'])\n",
    "fig, ax = plt.subplots(nrows=1, ncols=1, figsize=(6,2))\n",
    "ax = sns.violinplot(\n",
    "    data=for_plot,\n",
    "    x='num_of_issues_log',\n",
    "    y='placeholder',\n",
    "    inner='quartile',\n",
    "    palette=['0.9'],\n",
    "    logscale=True\n",
    ")\n",
    "ax.set_ylabel('')\n",
    "ax.xaxis.set_major_formatter(log10_func_formatter)\n",
    "plt.show()"
   ]
  },
  {
   "cell_type": "markdown",
   "metadata": {},
   "source": [
    "<h3>Create data sets of <code>non_gk_issues</code> and <code>gk_issues</code></h3>\n",
    "<p>\n",
    "    For analysis, we ignore gk_issues that we dont have all issues for, and remove the duplicate gk_issues from the all_issues data set\n",
    "</p>"
   ]
  },
  {
   "cell_type": "code",
   "execution_count": 660,
   "metadata": {},
   "outputs": [],
   "source": [
    "def filter_issues_for_analyses(all_issues, gk_issues):\n",
    "    # Make copies\n",
    "    gk_issues_for_analysis = gk_issues.copy()\n",
    "    non_gk_issues_for_analysis = all_issues.copy()\n",
    "    # Remove pull requests from all issues\n",
    "    non_gk_issues_for_analysis = non_gk_issues_for_analysis[\n",
    "        ~non_gk_issues_for_analysis['is_pull_request']\n",
    "    ]\n",
    "    # Filter out any issues that are GK in-range breakin gbuild issues\n",
    "    non_gk_issues_for_analysis = non_gk_issues_for_analysis[\n",
    "        ~non_gk_issues_for_analysis['id'].isin(gk_issues_for_analysis['id'])\n",
    "    ]\n",
    "    # Only analyze GK issues for projects we have all issues for\n",
    "    gk_issues_for_analysis = gk_issues_for_analysis[\n",
    "        gk_issues_for_analysis['repo_name'].isin(non_gk_issues_for_analysis['repo_name'])\n",
    "    ]\n",
    "    # Copy the html_url and body attributes over from all_issues to their respective rows on gk_issues\n",
    "    gk_issues_for_analysis = gk_issues_for_analysis.merge(\n",
    "        all_issues[['id', 'html_url', 'body']],\n",
    "        how='left',\n",
    "        on='id',\n",
    "    )\n",
    "    return non_gk_issues_for_analysis, gk_issues_for_analysis\n",
    "    \n",
    "\n",
    "non_gk_issues, gk_issues = filter_issues_for_analyses(all_issues, issues)"
   ]
  },
  {
   "cell_type": "markdown",
   "metadata": {},
   "source": [
    "<h3><b><i>What proportion of a projects issues are GKIRs?</i></b></h3>"
   ]
  },
  {
   "cell_type": "code",
   "execution_count": 955,
   "metadata": {},
   "outputs": [
    {
     "name": "stdout",
     "output_type": "stream",
     "text": [
      "--What proportion of issues in a project are GK issues?--\n",
      "                      Count    Mean      STD    Min    25%    Median     75%        Max\n",
      "------------------  -------  ------  -------  -----  -----  --------  ------  ---------\n",
      "proportion_gk          9632   0.436    0.292      0  0.167     0.417   0.667      0.998\n",
      "issue_count_gk         9632  10.774   30.134      1  2         4      10       1781\n",
      "issue_count_non_gk     9632  59.534  356.212      1  2         5      21      12906\n",
      "\n",
      "Saving figure projects_proportion_of_gk_issues\n"
     ]
    },
    {
     "data": {
      "image/png": "[encoded data removed]",
      "text/plain": [
       "<Figure size 576x216 with 1 Axes>"
      ]
     },
     "metadata": {
      "needs_background": "light"
     },
     "output_type": "display_data"
    }
   ],
   "source": [
    "non_gk_issues__count = (\n",
    "    non_gk_issues\n",
    "        .groupby('repo_name')['id']\n",
    "        .count()\n",
    "        .to_frame(name='issue_count')\n",
    "        .reset_index()\n",
    ")\n",
    "gk_issues__count = (\n",
    "    gk_issues\n",
    "        .groupby('repo_name')['id']\n",
    "        .count()\n",
    "        .to_frame(name='issue_count')\n",
    "        .reset_index()\n",
    ")\n",
    "\n",
    "gk_to_non_gk_issue_counts = non_gk_issues__count.merge(\n",
    "    gk_issues__count,\n",
    "    on='repo_name',\n",
    "    how='inner',\n",
    "    suffixes=['_non_gk', '_gk'],\n",
    ")\n",
    "gk_to_non_gk_issue_counts['proportion_gk'] = (\n",
    "    gk_to_non_gk_issue_counts['issue_count_gk'] / \n",
    "    (gk_to_non_gk_issue_counts['issue_count_gk'] + gk_to_non_gk_issue_counts['issue_count_non_gk'])\n",
    ")\n",
    "gk_to_non_gk_issue_counts['placeholder'] = ''\n",
    "fig, ax = plt.subplots(nrows=1, ncols=1, figsize=(8,3))\n",
    "sns.violinplot(\n",
    "    data=gk_to_non_gk_issue_counts,\n",
    "    x='proportion_gk',\n",
    "    y='placeholder',\n",
    "    inner='quartile',\n",
    "    palette=['0.6'],\n",
    ")\n",
    "ax.set_ylabel('')\n",
    "ax.set_xlabel('Proportion of issues in a project that are in-range breaking build update issues')\n",
    "print('--What proportion of issues in a project are GK issues?--')\n",
    "tfns(gk_to_non_gk_issue_counts, ['proportion_gk', 'issue_count_gk', 'issue_count_non_gk'], should_round=True)\n",
    "save_fig('projects_proportion_of_gk_issues')\n",
    "plt.show()\n",
    "# merged.info()"
   ]
  },
  {
   "cell_type": "markdown",
   "metadata": {},
   "source": [
    "<h3><b><i>What proportion of in-range breaking build issue reports are closed (i.e., resolved)?</i></b></h3>\n",
    "<p>\n",
    "    Overall, in-range breaking build issue reports are closed 79.8% of the time (20.2% are never closed).\n",
    "    <br>\n",
    "    When comparing at the intra-project level, the median proportion of in-range breaking build issue reports closed by individual projects is 100% (median for other issues is 0.905). Projects are closing in-range breaking build issue reports at the same rate as other issues in the project (median ratio for gk to non-gk is 1.022).\n",
    "</p>"
   ]
  },
  {
   "cell_type": "code",
   "execution_count": 999,
   "metadata": {},
   "outputs": [
    {
     "name": "stdout",
     "output_type": "stream",
     "text": [
      "--All GK in-range breaking issue state proportions (not calculated per project)--\n"
     ]
    },
    {
     "data": {
      "text/html": [
       "<div>\n",
       "<style scoped>\n",
       "    .dataframe tbody tr th:only-of-type {\n",
       "        vertical-align: middle;\n",
       "    }\n",
       "\n",
       "    .dataframe tbody tr th {\n",
       "        vertical-align: top;\n",
       "    }\n",
       "\n",
       "    .dataframe thead th {\n",
       "        text-align: right;\n",
       "    }\n",
       "</style>\n",
       "<table border=\"1\" class=\"dataframe\">\n",
       "  <thead>\n",
       "    <tr style=\"text-align: right;\">\n",
       "      <th></th>\n",
       "      <th>state</th>\n",
       "      <th>proportion</th>\n",
       "    </tr>\n",
       "  </thead>\n",
       "  <tbody>\n",
       "    <tr>\n",
       "      <th>0</th>\n",
       "      <td>closed</td>\n",
       "      <td>0.822751</td>\n",
       "    </tr>\n",
       "    <tr>\n",
       "      <th>1</th>\n",
       "      <td>open</td>\n",
       "      <td>0.177249</td>\n",
       "    </tr>\n",
       "  </tbody>\n",
       "</table>\n",
       "</div>"
      ],
      "text/plain": [
       "    state  proportion\n",
       "0  closed    0.822751\n",
       "1    open    0.177249"
      ]
     },
     "execution_count": 999,
     "metadata": {},
     "output_type": "execute_result"
    }
   ],
   "source": [
    "proportions = (\n",
    "    gk_issues['state'].value_counts() / \n",
    "    gk_issues['state'].count()\n",
    ").to_frame(name='proportion')\\\n",
    "    .rename_axis('state')\\\n",
    "    .reset_index()\n",
    "print('--All GK in-range breaking issue state proportions (not calculated per project)--')\n",
    "proportions.head()"
   ]
  },
  {
   "cell_type": "code",
   "execution_count": 1003,
   "metadata": {},
   "outputs": [
    {
     "name": "stdout",
     "output_type": "stream",
     "text": [
      "Saving figure projects_proportion_of_closed_gk_and_non_gk_issues\n",
      "--Intra-project comparison for proportion of closed non-GKIRs & GKIRs--\n",
      "Proportion of closed issues      Count    Mean    STD    Min    25%    Median    75%    Max\n",
      "-----------------------------  -------  ------  -----  -----  -----  --------  -----  -----\n",
      "proportion_non_gk                 7290   0.826  0.209  0.026    0.7     0.905  1          1\n",
      "proportion_gk                     7290   0.909  0.211  0.022    1       1      1          1\n",
      "ratio                             7290   1.224  0.729  0.022    1       1.022  1.321     19\n",
      "\n"
     ]
    },
    {
     "data": {
      "image/png": "[encoded data removed]",
      "text/plain": [
       "<Figure size 576x216 with 1 Axes>"
      ]
     },
     "metadata": {
      "needs_background": "light"
     },
     "output_type": "display_data"
    },
    {
     "name": "stdout",
     "output_type": "stream",
     "text": [
      "\tMann-Whitney: statistic=17380989.0 pvalue=0.0\n",
      "\tCliff'a Delta: delta=0.34589205575030907 size=medium\n",
      "    \n"
     ]
    }
   ],
   "source": [
    "non_gk_issues__state_proportions = (\n",
    "    (\n",
    "        non_gk_issues.groupby('repo_name', observed=True)['state'].value_counts() / \n",
    "        non_gk_issues.groupby('repo_name')['state'].count()\n",
    "    ).to_frame(name='proportion').reset_index()\n",
    ")\n",
    "gk_issues__state_proportions = (\n",
    "    (\n",
    "        gk_issues.groupby('repo_name')['state'].value_counts() / \n",
    "        gk_issues.groupby('repo_name')['state'].count()\n",
    "    ).to_frame(name='proportion').reset_index()\n",
    ")\n",
    "\n",
    "project_issue__state_proportions = non_gk_issues__state_proportions.merge(\n",
    "    gk_issues__state_proportions,\n",
    "    how='inner',\n",
    "    on=['repo_name', 'state'],\n",
    "    suffixes=['_non_gk', '_gk'],\n",
    ")\n",
    "project_issue__state_proportions['ratio'] = project_issue__state_proportions['proportion_gk'] / project_issue__state_proportions['proportion_non_gk']\n",
    "project_issue__state_proportions__closed = project_issue__state_proportions[project_issue__state_proportions['state'] == 'closed']\n",
    "\n",
    "melted = pd.melt(\n",
    "    project_issue__state_proportions__closed,\n",
    "    id_vars='repo_name',\n",
    "    value_vars=['proportion_gk', 'proportion_non_gk'],\n",
    "    var_name='proportion_type',\n",
    "    value_name='proportion',\n",
    ")\n",
    "melted['placeholder'] = ''\n",
    "fig, ax = plt.subplots(nrows=1, ncols=1, figsize=(8,3))\n",
    "sns.violinplot(\n",
    "    data=melted,\n",
    "    x='proportion',\n",
    "    y='placeholder',\n",
    "    hue='proportion_type',\n",
    "    split=False,\n",
    "    inner='quartile',\n",
    "    palette=['1', '0.6'],\n",
    "    ax=ax,\n",
    ")\n",
    "ax.set_ylabel('')\n",
    "ax.set_xlabel('Proportion of issues that are closed')\n",
    "# ax.set_xlim(0, 1)\n",
    "ax.legend(\n",
    "    title='',\n",
    ")\n",
    "L = plt.legend(loc=2)\n",
    "\n",
    "L.get_texts()[0].set_text('In-Range Breaking Build Issues')\n",
    "L.get_texts()[1].set_text('Other Issues')\n",
    "save_fig('projects_proportion_of_closed_gk_and_non_gk_issues')\n",
    "print('--Intra-project comparison for proportion of closed non-GKIRs & GKIRs--')\n",
    "tfns(project_issue__state_proportions__closed, ['proportion_non_gk', 'proportion_gk', 'ratio'], title='Proportion of closed issues')\n",
    "plt.show()\n",
    "\n",
    "mannwhitneyu_cliffsdelta(\n",
    "    project_issue__state_proportions__closed['proportion_gk'],\n",
    "    project_issue__state_proportions__closed['proportion_non_gk']\n",
    ")"
   ]
  },
  {
   "cell_type": "markdown",
   "metadata": {},
   "source": [
    "<h4>Project ratio between proportion of closed non-gk issues and gk issues</h4>"
   ]
  },
  {
   "cell_type": "code",
   "execution_count": 1004,
   "metadata": {},
   "outputs": [
    {
     "name": "stdout",
     "output_type": "stream",
     "text": [
      "Saving figure projects_proportion_of_closed_gk_and_non_gk_issues_high_gk_count\n",
      "--Intra-project comparison for proportion of closed non-GKIRs & GKIRs--\n",
      "Proportion of closed issues      Count    Mean    STD    Min    25%    Median    75%    Max\n",
      "-----------------------------  -------  ------  -----  -----  -----  --------  -----  -----\n",
      "proportion_non_gk                 4453   0.818  0.209  0.026  0.694     0.888  1          1\n",
      "proportion_gk                     4453   0.878  0.24   0.022  0.889     1      1          1\n",
      "ratio                             4453   1.193  0.764  0.022  1         1.031  1.286     19\n",
      "\n"
     ]
    },
    {
     "data": {
      "image/png": "[encoded data removed]",
      "text/plain": [
       "<Figure size 576x216 with 1 Axes>"
      ]
     },
     "metadata": {
      "needs_background": "light"
     },
     "output_type": "display_data"
    },
    {
     "name": "stdout",
     "output_type": "stream",
     "text": [
      "\tMann-Whitney: statistic=6949757.0 pvalue=3.1988694444249047e-155\n",
      "\tCliff'a Delta: delta=0.29903840339773513 size=small\n",
      "    \n"
     ]
    }
   ],
   "source": [
    "projects_with_high_gk_counts = (\n",
    "    gk_to_non_gk_issue_counts[\n",
    "        gk_to_non_gk_issue_counts['issue_count_gk'] >= gk_to_non_gk_issue_counts['issue_count_gk'].median()\n",
    "    ]['repo_name'].copy().reset_index(drop=True)\n",
    ")\n",
    "\n",
    "project_issue_with_high_gk_counts__state_proportions = (\n",
    "    project_issue__state_proportions[\n",
    "        project_issue__state_proportions['repo_name'].isin(projects_with_high_gk_counts)\n",
    "    ]\n",
    ")\n",
    "project_issue__state_proportions__closed = (\n",
    "    project_issue_with_high_gk_counts__state_proportions[\n",
    "        project_issue_with_high_gk_counts__state_proportions['state'] == 'closed'\n",
    "    ]\n",
    ")\n",
    "\n",
    "melted = pd.melt(\n",
    "    project_issue__state_proportions__closed,\n",
    "    id_vars='repo_name',\n",
    "    value_vars=['proportion_gk', 'proportion_non_gk'],\n",
    "    var_name='proportion_type',\n",
    "    value_name='proportion',\n",
    ")\n",
    "melted['placeholder'] = ''\n",
    "fig, ax = plt.subplots(nrows=1, ncols=1, figsize=(8,3))\n",
    "sns.violinplot(\n",
    "    data=melted,\n",
    "    x='proportion',\n",
    "    y='placeholder',\n",
    "    hue='proportion_type',\n",
    "    split=False,\n",
    "    inner='quartile',\n",
    "    palette=['1', '0.6'],\n",
    "    ax=ax,\n",
    ")\n",
    "ax.set_ylabel('')\n",
    "ax.set_xlabel('Proportion of issues that are closed')\n",
    "# ax.set_xlim(0, 1)\n",
    "ax.legend(\n",
    "    title='',\n",
    ")\n",
    "L = plt.legend(loc=2)\n",
    "\n",
    "L.get_texts()[0].set_text('In-Range Breaking Build Issues')\n",
    "L.get_texts()[1].set_text('Other Issues')\n",
    "save_fig('projects_proportion_of_closed_gk_and_non_gk_issues_high_gk_count')\n",
    "print('--Intra-project comparison for proportion of closed non-GKIRs & GKIRs--')\n",
    "tfns(project_issue__state_proportions__closed, ['proportion_non_gk', 'proportion_gk', 'ratio'], title='Proportion of closed issues')\n",
    "plt.show()\n",
    "\n",
    "\n",
    "mannwhitneyu_cliffsdelta(\n",
    "    project_issue__state_proportions__closed['proportion_gk'],\n",
    "    project_issue__state_proportions__closed['proportion_non_gk']\n",
    ")\n"
   ]
  },
  {
   "cell_type": "markdown",
   "metadata": {},
   "source": [
    "<h4>Project ratio between proportion of closed non-gk issues and gk issues</h4>"
   ]
  },
  {
   "cell_type": "code",
   "execution_count": 664,
   "metadata": {},
   "outputs": [
    {
     "name": "stdout",
     "output_type": "stream",
     "text": [
      "--Intra-project comparison for ratio of a projects proportion of closed GK issues to proportion of closed non-gk issues--\n",
      "         Count    Mean    STD    Min    25%    Median    75%    Max\n",
      "-----  -------  ------  -----  -----  -----  --------  -----  -----\n",
      "ratio     7290   1.224  0.729  0.022      1     1.022  1.321     19\n",
      "\n"
     ]
    },
    {
     "data": {
      "image/png": "[encoded data removed]",
      "text/plain": [
       "<Figure size 576x216 with 1 Axes>"
      ]
     },
     "metadata": {
      "needs_background": "light"
     },
     "output_type": "display_data"
    }
   ],
   "source": [
    "for_plot = project_issue__state_proportions__closed[['ratio']].copy()\n",
    "for_plot = filter_outliers(for_plot, col='ratio', threshold=3)\n",
    "for_plot['placeholder'] = ''\n",
    "fig, ax = plt.subplots(nrows=1, ncols=1, figsize=(8,3))\n",
    "ax = sns.violinplot(\n",
    "    data=for_plot,\n",
    "    x='ratio',\n",
    "    y='placeholder',\n",
    "    inner='quartile',\n",
    "    palette=['0.6'],\n",
    "    scale='width'\n",
    ")\n",
    "ax.set_ylabel('')\n",
    "# ax.set_xlim(0, 2)\n",
    "print('--Intra-project comparison for ratio of a projects proportion of closed GK issues to proportion of closed non-gk issues--')\n",
    "tfns(project_issue__state_proportions__closed, ['ratio'])\n",
    "plt.show()"
   ]
  },
  {
   "cell_type": "markdown",
   "metadata": {},
   "source": [
    "<h3><b><i>How long does it take for in-range breaking build issue reports to be closed (i.e., resolved)?</i></b></h3>\n",
    "<ul>\n",
    "    <li>Overall, in-range breaking build issue reports are closed in a median of 4 days 11 hours.</li>\n",
    "    <li>When comparing at the intra-project level, the median time to close in-range breaking build issues is 13 days 21 hours, while the median time to close other issues is 6 days 6 hours.</li>\n",
    "    <li>At the project level, in-range breaking build issue reports stay open with a medain value of 1.575x as long as other issues.</li>\n",
    "</ul>"
   ]
  },
  {
   "cell_type": "code",
   "execution_count": 665,
   "metadata": {},
   "outputs": [
    {
     "name": "stdout",
     "output_type": "stream",
     "text": [
      "--All GK in-range breaking issue state proportions (not calculated per project)--\n",
      "                 Count  Mean              STD               Min              25%              Median           75%               Max\n",
      "-------------  -------  ----------------  ----------------  ---------------  ---------------  ---------------  ----------------  ------------------\n",
      "time_to_close    98341  43 days 04:48:29  98 days 22:44:48  0 days 00:00:04  0 days 09:58:19  4 days 11:04:25  35 days 07:48:16  1219 days 02:01:10\n",
      "\n"
     ]
    },
    {
     "data": {
      "image/png": "[encoded data removed]",
      "text/plain": [
       "<Figure size 432x144 with 1 Axes>"
      ]
     },
     "metadata": {
      "needs_background": "light"
     },
     "output_type": "display_data"
    }
   ],
   "source": [
    "closed_issues = issues[issues['state'] == 'closed'][['created_at', 'closed_at']]\n",
    "closed_issues['time_to_close'] = closed_issues['closed_at'] - closed_issues['created_at']\n",
    "closed_issues['time_to_close_hours'] = closed_issues['time_to_close'] / np.timedelta64(1, 'h')\n",
    "closed_issues['log_time_to_close_hours'] = np.log10(closed_issues['time_to_close_hours'])\n",
    "closed_issues['placeholder'] = ''\n",
    "fig, ax = plt.subplots(nrows=1, ncols=1, figsize=(6,2))\n",
    "ax = sns.violinplot(\n",
    "    data=closed_issues,\n",
    "    x='log_time_to_close_hours',\n",
    "    y='placeholder',\n",
    "    inner='quartile',\n",
    "    palette=['0.9'],\n",
    ")\n",
    "ax.set_ylabel('')\n",
    "ax.set_xlabel('Time to close (hours)')\n",
    "ax.xaxis.set_major_formatter(log10_func_formatter)\n",
    "print('--All GK in-range breaking issue state proportions (not calculated per project)--')\n",
    "tfns(closed_issues, ['time_to_close'])\n",
    "plt.show()"
   ]
  },
  {
   "cell_type": "code",
   "execution_count": 1006,
   "metadata": {},
   "outputs": [
    {
     "name": "stderr",
     "output_type": "stream",
     "text": [
      "/home/local/SAIL/benjamin/anaconda3/lib/python3.8/site-packages/pandas/core/arraylike.py:358: RuntimeWarning: divide by zero encountered in log10\n",
      "  result = getattr(ufunc, method)(*inputs, **kwargs)\n"
     ]
    },
    {
     "name": "stdout",
     "output_type": "stream",
     "text": [
      "--Intra-project comparison for median time to close issues & median time to close GK in-range breaking build issues--\n",
      "Median time to close issue      Count  Mean              STD                Min              25%              Median            75%               Max\n",
      "----------------------------  -------  ----------------  -----------------  ---------------  ---------------  ----------------  ----------------  ------------------\n",
      "median_non_gk                    7290  49 days 00:04:46  127 days 16:11:47  0 days 00:00:03  1 days 04:16:50  6 days 05:58:38   28 days 19:27:22  2097 days 11:47:18\n",
      "median_gk                        7290  61 days 16:10:13  118 days 16:37:48  0 days 00:00:28  1 days 16:16:38  13 days 17:56:34  63 days 07:50:48  1130 days 03:37:18\n",
      "\n",
      "Saving figure intra_project_median_time_to_close\n"
     ]
    },
    {
     "data": {
      "image/png": "[encoded data removed]",
      "text/plain": [
       "<Figure size 576x216 with 1 Axes>"
      ]
     },
     "metadata": {
      "needs_background": "light"
     },
     "output_type": "display_data"
    },
    {
     "name": "stdout",
     "output_type": "stream",
     "text": [
      "\tMann-Whitney: statistic=22914848.5 pvalue=2.9085825020758275e-47\n",
      "\tCliff'a Delta: delta=0.1376333967458288 size=negligible\n",
      "    \n"
     ]
    }
   ],
   "source": [
    "# Calculate mean and median intra-project time_to_close for Non-GK issues\n",
    "non_gk_issues__closed = non_gk_issues[non_gk_issues['state'] == 'closed'].copy()\n",
    "non_gk_issues__closed['time_to_close'] = (\n",
    "    (non_gk_issues__closed['closed_at'] - non_gk_issues__closed['created_at'])\n",
    "        .dt\n",
    "        .total_seconds()  # Have to convert to seconds to calculate mean and median\n",
    ")\n",
    "project__non_gk_issue__time_to_close = (\n",
    "    non_gk_issues__closed\n",
    "        .groupby('repo_name')['time_to_close']\n",
    "        .agg(['mean', 'median'])\n",
    "        .reset_index()\n",
    "        .dropna()\n",
    ")\n",
    "project__non_gk_issue__time_to_close['mean'] = pd.to_timedelta(\n",
    "    project__non_gk_issue__time_to_close['mean'],\n",
    "    unit='s'\n",
    ")\n",
    "project__non_gk_issue__time_to_close['mean_hours_log'] = np.log10(\n",
    "    project__non_gk_issue__time_to_close['mean'] / np.timedelta64(1, 'h')\n",
    ")\n",
    "project__non_gk_issue__time_to_close['median'] = pd.to_timedelta(\n",
    "    project__non_gk_issue__time_to_close['median'],\n",
    "    unit='s'\n",
    ")\n",
    "project__non_gk_issue__time_to_close['median_hours'] = (\n",
    "    project__non_gk_issue__time_to_close['median'] / np.timedelta64(1, 'h')\n",
    ")\n",
    "project__non_gk_issue__time_to_close['median_hours_log'] = np.log10(\n",
    "    project__non_gk_issue__time_to_close['median_hours']\n",
    ")\n",
    "\n",
    "# Calculate mean and median intra-project time_to_close for GK issues\n",
    "gk_issues__closed = gk_issues[gk_issues['state'] == 'closed'].copy()\n",
    "gk_issues__closed['time_to_close'] = (\n",
    "    gk_issues__closed['closed_at'] - gk_issues__closed['created_at']\n",
    ").dt.total_seconds()  # Have to convert to seconds to calculate mean and median\n",
    "project__gk_issue__time_to_close = (\n",
    "    gk_issues__closed\n",
    "        .groupby('repo_name')['time_to_close']\n",
    "        .agg(['mean', 'median'])\n",
    "        .reset_index()\n",
    "        .dropna()\n",
    ")\n",
    "project__gk_issue__time_to_close['mean'] = pd.to_timedelta(\n",
    "    project__gk_issue__time_to_close['mean'],\n",
    "    unit='s'\n",
    ")\n",
    "project__gk_issue__time_to_close['mean_hours_log'] = np.log10(\n",
    "    project__gk_issue__time_to_close['mean'] / np.timedelta64(1, 'h')\n",
    ")\n",
    "project__gk_issue__time_to_close['median'] = pd.to_timedelta(\n",
    "    project__gk_issue__time_to_close['median'],\n",
    "    unit='s'\n",
    ")\n",
    "project__gk_issue__time_to_close['median_hours'] = (\n",
    "    project__gk_issue__time_to_close['median'] / np.timedelta64(1, 'h')\n",
    ")\n",
    "project__gk_issue__time_to_close['median_hours_log'] = np.log10(\n",
    "    project__gk_issue__time_to_close['median_hours']\n",
    ")\n",
    "\n",
    "# Merge the two\n",
    "project__all_issues__time_to_close = project__non_gk_issue__time_to_close.merge(\n",
    "    project__gk_issue__time_to_close,\n",
    "    how='inner',\n",
    "    on=['repo_name'],\n",
    "    suffixes=['_non_gk', '_gk'],\n",
    ")\n",
    "\n",
    "# Melt for violine plot\n",
    "melted = pd.melt(\n",
    "    project__all_issues__time_to_close,\n",
    "    id_vars='repo_name',\n",
    "    value_vars=['median_hours_log_gk', 'median_hours_log_non_gk'],\n",
    "    var_name='issue_type',\n",
    "    value_name='median_time_to_close_hours_log',\n",
    ")\n",
    "\n",
    "melted['placeholder'] = ''\n",
    "fig, ax = plt.subplots(nrows=1, ncols=1, figsize=(8,3))\n",
    "sns.violinplot(\n",
    "    data=melted,\n",
    "    x='median_time_to_close_hours_log',\n",
    "    y='placeholder',\n",
    "    hue='issue_type',\n",
    "    split=True,\n",
    "    inner='quartile',\n",
    "    palette=['1', '0.6'],\n",
    "    ax=ax,\n",
    ")\n",
    "ax.set_ylabel('')\n",
    "ax.set_xlabel('Median time to close issue (hours)')\n",
    "ax.xaxis.set_major_formatter(log10_func_formatter)\n",
    "ax.legend(\n",
    "    title='',\n",
    ")\n",
    "L = plt.legend()\n",
    "L.get_texts()[0].set_text('In-Range Breaking Build Issues')\n",
    "L.get_texts()[1].set_text('Other Issues')\n",
    "print('--Intra-project comparison for median time to close issues & median time to close GK in-range breaking build issues--')\n",
    "tfns(\n",
    "    project__all_issues__time_to_close,\n",
    "    ['median_non_gk', 'median_gk'],\n",
    "    title='Median time to close issue'\n",
    ")\n",
    "save_fig('intra_project_median_time_to_close')\n",
    "plt.show()\n",
    "\n",
    "mannwhitneyu_cliffsdelta(\n",
    "    project__all_issues__time_to_close['median_hours_log_gk'],\n",
    "    project__all_issues__time_to_close['median_hours_log_non_gk']\n",
    ")"
   ]
  },
  {
   "cell_type": "code",
   "execution_count": 667,
   "metadata": {},
   "outputs": [
    {
     "name": "stdout",
     "output_type": "stream",
     "text": [
      "--Intra-project comparison for ratio of median time to close GK issues vs median time to close non-GK issues--\n",
      "                Count     Mean      STD    Min    25%    Median     75%     Max\n",
      "------------  -------  -------  -------  -----  -----  --------  ------  ------\n",
      "median_ratio     7290  808.67   12013.5      0  0.239     1.575  12.023  566938\n",
      "mean_ratio       7290  616.496  11735.8      0  0.141     0.698   3.317  623097\n",
      "\n"
     ]
    },
    {
     "data": {
      "image/png": "[encoded data removed]",
      "text/plain": [
       "<Figure size 576x216 with 1 Axes>"
      ]
     },
     "metadata": {
      "needs_background": "light"
     },
     "output_type": "display_data"
    }
   ],
   "source": [
    "project__all_issues__time_to_close['median_ratio'] = (\n",
    "    project__all_issues__time_to_close['median_gk'] / \n",
    "    project__all_issues__time_to_close['median_non_gk']\n",
    ")\n",
    "project__all_issues__time_to_close['mean_ratio'] = (\n",
    "    project__all_issues__time_to_close['mean_gk'] / \n",
    "    project__all_issues__time_to_close['mean_non_gk']\n",
    ")\n",
    "for_plot = project__all_issues__time_to_close[['median_ratio']].copy()\n",
    "# Remove outliers and extemes for plot\n",
    "for_plot = for_plot[for_plot['median_ratio'] < 100]\n",
    "for_plot = filter_outliers(for_plot, col='median_ratio', threshold=3)\n",
    "\n",
    "for_plot['placeholder'] = ''\n",
    "fig, ax = plt.subplots(nrows=1, ncols=1, figsize=(8,3))\n",
    "sns.violinplot(\n",
    "    data=for_plot,\n",
    "    x='median_ratio',\n",
    "    y='placeholder',\n",
    "    inner='quartile',\n",
    "    palette=['0.6'],\n",
    ")\n",
    "ax.set_ylabel('')\n",
    "print('--Intra-project comparison for ratio of median time to close GK issues vs median time to close non-GK issues--')\n",
    "tfns(project__all_issues__time_to_close, ['median_ratio', 'mean_ratio'])\n",
    "plt.show()"
   ]
  },
  {
   "cell_type": "markdown",
   "metadata": {},
   "source": [
    "<h2><b>Comments</b></h2>"
   ]
  },
  {
   "cell_type": "code",
   "execution_count": 668,
   "metadata": {},
   "outputs": [],
   "source": [
    "comments = load_comments()\n",
    "NOT_CLASSIFIED = 'Other'\n",
    "# Set all comments to 'Not Classified'\n",
    "comments['comment_classification'] = NOT_CLASSIFIED"
   ]
  },
  {
   "cell_type": "markdown",
   "metadata": {},
   "source": [
    "<h3><b><i>How many comments to in-range breaking build issue reports have in total and from actual developers?</i></b></h3>"
   ]
  },
  {
   "cell_type": "code",
   "execution_count": 669,
   "metadata": {},
   "outputs": [
    {
     "name": "stdout",
     "output_type": "stream",
     "text": [
      "  comment_user_type  proportion\n",
      "0               Bot    0.970669\n",
      "1              User    0.029331\n",
      "Number of comments on In-Range issues      Count     Mean      STD    Min    25%    Median    75%    Max\n",
      "---------------------------------------  -------  -------  -------  -----  -----  --------  -----  -----\n",
      "num_of_comments                            99581  3.67163  5.40044      1      1         2      4     30\n",
      "\n",
      "Number of user comments on In-Range issues      Count     Mean       STD    Min    25%    Median    75%    Max\n",
      "--------------------------------------------  -------  -------  --------  -----  -----  --------  -----  -----\n",
      "num_of_comments                                  9854  1.08829  0.646108      1      1         1      1     28\n",
      "\n",
      "Number of bot comments on In-Range issues      Count     Mean      STD    Min    25%    Median    75%    Max\n",
      "-------------------------------------------  -------  -------  -------  -----  -----  --------  -----  -----\n",
      "num_of_comments                                97800  3.62884  5.44561      1      1         2      3     30\n",
      "\n"
     ]
    }
   ],
   "source": [
    "proportions = (\n",
    "    comments['comment_user_type'].value_counts() / \n",
    "    comments['comment_user_type'].count()\n",
    ").to_frame(name='proportion')\\\n",
    "    .rename_axis('comment_user_type')\\\n",
    "    .reset_index()\n",
    "print(proportions.head())\n",
    "\n",
    "def get_issue_comment_count(df):\n",
    "    return df.groupby('comment_issue_id')['comment_id']\\\n",
    "        .count()\\\n",
    "        .to_frame(name='num_of_comments')\\\n",
    "        .reset_index()\n",
    "\n",
    "counts = get_issue_comment_count(comments)\n",
    "tfns(counts, ['num_of_comments'], should_round=False, title='Number of comments on In-Range issues')\n",
    "\n",
    "user_counts = get_issue_comment_count(comments[comments['comment_user_type'] == 'User'])\n",
    "tfns(user_counts, ['num_of_comments'], should_round=False, title='Number of user comments on In-Range issues')\n",
    "\n",
    "bot_counts = get_issue_comment_count(comments[comments['comment_user_type'] == 'Bot'])\n",
    "tfns(bot_counts, ['num_of_comments'], should_round=False, title='Number of bot comments on In-Range issues')\n"
   ]
  },
  {
   "cell_type": "markdown",
   "metadata": {},
   "source": [
    "<h3>User Comments Analysis</h3>"
   ]
  },
  {
   "cell_type": "code",
   "execution_count": 670,
   "metadata": {},
   "outputs": [
    {
     "name": "stdout",
     "output_type": "stream",
     "text": [
      "9.3% of in-range issues have a comment from a user.\n"
     ]
    }
   ],
   "source": [
    "users_comments = comments[comments['comment_user_type'] == 'User'].copy().reset_index(drop=True)\n",
    "issues_with_user_comment = \\\n",
    "    gk_issues[gk_issues['id']\\\n",
    "        .isin(users_comments['comment_issue_id'])]\\\n",
    "        .copy()\\\n",
    "        .reset_index(drop=True)\n",
    "percent_of_issues_with_user_comment = f'{calculate_percent(len(issues_with_user_comment), len(gk_issues))}%'\n",
    "print(f'{percent_of_issues_with_user_comment} of in-range issues have a comment from a user.')"
   ]
  },
  {
   "cell_type": "markdown",
   "metadata": {},
   "source": [
    "<h3><b><i>How long does it take for users to comment?</i></b></h3>"
   ]
  },
  {
   "cell_type": "code",
   "execution_count": 792,
   "metadata": {},
   "outputs": [
    {
     "name": "stdout",
     "output_type": "stream",
     "text": [
      "                   Count  Mean              STD               Min              25%              Median           75%               Max\n",
      "---------------  -------  ----------------  ----------------  ---------------  ---------------  ---------------  ----------------  ------------------\n",
      "time_to_comment     9652  25 days 17:24:11  65 days 08:20:06  0 days 00:00:01  0 days 08:17:24  2 days 12:57:58  18 days 16:46:52  1039 days 05:34:55\n",
      "\n"
     ]
    },
    {
     "data": {
      "image/png": "[encoded data removed]",
      "text/plain": [
       "<Figure size 432x144 with 1 Axes>"
      ]
     },
     "metadata": {
      "needs_background": "light"
     },
     "output_type": "display_data"
    }
   ],
   "source": [
    "users_comments_simplified = users_comments[['comment_issue_id', 'comment_created_at']]\n",
    "users_comments_simplified = \\\n",
    "    users_comments_simplified\\\n",
    "        .groupby('comment_issue_id')['comment_created_at']\\\n",
    "        .min()\\\n",
    "        .to_frame()\\\n",
    "        .reset_index()\n",
    "issues_simplified = gk_issues[['id', 'created_at', 'repo_name']]\n",
    "\n",
    "gk_issues_with_first_user_comments = issues_simplified.merge(\n",
    "    users_comments_simplified,\n",
    "    left_on='id',\n",
    "    right_on='comment_issue_id'\n",
    ")\n",
    "gk_issues_with_first_user_comments['time_to_comment'] = \\\n",
    "    gk_issues_with_first_user_comments['comment_created_at'] - gk_issues_with_first_user_comments['created_at']\n",
    "\n",
    "gk_issues_with_first_user_comments['time_to_comment_hours'] = \\\n",
    "    gk_issues_with_first_user_comments['time_to_comment'] / np.timedelta64(1, 'h')\n",
    "gk_issues_with_first_user_comments = \\\n",
    "    gk_issues_with_first_user_comments[~(gk_issues_with_first_user_comments['time_to_comment_hours'] == 0)]\n",
    "gk_issues_with_first_user_comments['log_time_to_comment_hours'] = \\\n",
    "    np.log10(gk_issues_with_first_user_comments['time_to_comment_hours'])\n",
    "gk_issues_with_first_user_comments['placeholder'] = ''\n",
    "fig, ax = plt.subplots(nrows=1, ncols=1, figsize=(6,2))\n",
    "ax = sns.violinplot(\n",
    "    data=gk_issues_with_first_user_comments,\n",
    "    x='log_time_to_comment_hours',\n",
    "    y='placeholder',\n",
    "    inner='quartile',\n",
    "    palette=['0.6'],\n",
    ")\n",
    "ax.set_ylabel('')\n",
    "ax.set_xlabel('Time to first user comment (hours)')\n",
    "ax.xaxis.set_major_formatter(log10_func_formatter)\n",
    "tfns(merged, ['time_to_comment'])\n",
    "plt.show()"
   ]
  },
  {
   "cell_type": "markdown",
   "metadata": {},
   "source": [
    "<h3><b>Intra-project comparison of time until first user comment</b></h3>"
   ]
  },
  {
   "cell_type": "code",
   "execution_count": 681,
   "metadata": {},
   "outputs": [],
   "source": [
    "# Writing out CSV for creating non_gkirbbi_comments\n",
    "# for_csv = non_gk_issues[['id', 'repo_name', 'comments_url']]\n",
    "# for_csv.to_csv(f'../csv/issues_to_collect_comments_for.csv', index=False)"
   ]
  },
  {
   "cell_type": "code",
   "execution_count": 822,
   "metadata": {},
   "outputs": [
    {
     "name": "stdout",
     "output_type": "stream",
     "text": [
      "Count of unique projects: 1258\n"
     ]
    }
   ],
   "source": [
    "non_gkirbbi_comments = load_non_gkirbbi_comments()\n",
    "print(f'Count of unique projects: {non_gkirbbi_comments[\"repo_name\"].nunique()}')\n",
    "\n",
    "# Determine time until first user comment on non-gk issues\n",
    "non_gkirbbi_user_comments = non_gkirbbi_comments.loc[\n",
    "    (non_gkirbbi_comments['user_type'] == 'User') &\n",
    "    (~non_gkirbbi_comments['issue_id'].isin(gk_issues_with_first_user_comments['id']))\n",
    "]\n",
    "non_gkirbbi_first_user_comments = (\n",
    "    non_gkirbbi_user_comments\n",
    "        .groupby('issue_id')['created_at']\n",
    "        .min()\n",
    "        .to_frame()\n",
    "        .reset_index()   \n",
    ")\n",
    "non_gkirbbi_with_first_comment = non_gkirbbi_first_user_comments.merge(\n",
    "    non_gk_issues[['id', 'repo_name', 'created_at']],\n",
    "    how='inner',\n",
    "    left_on='issue_id',\n",
    "    right_on='id',\n",
    "    suffixes=['_comment', '_issue']\n",
    ")\n",
    "non_gkirbbi_with_first_comment['time_to_comment'] = \\\n",
    "    non_gkirbbi_with_first_comment['created_at_comment'] - non_gkirbbi_with_first_comment['created_at_issue']\n",
    "\n",
    "# Find what the mean and median time to first user comment on non-gk issues at project level\n",
    "non_gkirbbi_with_first_comment__simplified = \\\n",
    "    non_gkirbbi_with_first_comment[['id', 'repo_name', 'time_to_comment']].copy()\n",
    "\n",
    "non_gkirbbi_with_first_comment__simplified['time_to_comment'] = \\\n",
    "    non_gkirbbi_with_first_comment__simplified['time_to_comment'].dt.total_seconds()  # Have to convert to seconds to calculate mean and median\n",
    "\n",
    "projects__non_gkirbbi_with_first_user_comment = (\n",
    "    non_gkirbbi_with_first_comment__simplified\n",
    "        .groupby('repo_name')['time_to_comment']\n",
    "        .agg(['mean', 'median'])\n",
    "        .reset_index()\n",
    ")\n",
    "\n",
    "projects__non_gkirbbi_with_first_user_comment = \\\n",
    "    projects__non_gkirbbi_with_first_user_comment[~pd.isna(projects__non_gkirbbi_with_first_user_comment['median'])]\n",
    "\n",
    "projects__non_gkirbbi_with_first_user_comment['mean'] = pd.to_timedelta(\n",
    "    projects__non_gkirbbi_with_first_user_comment['mean'],\n",
    "    unit='s'\n",
    ")\n",
    "projects__non_gkirbbi_with_first_user_comment['mean_hours_log'] = np.log10(\n",
    "    projects__non_gkirbbi_with_first_user_comment['mean'] / np.timedelta64(1, 'h')\n",
    ")\n",
    "projects__non_gkirbbi_with_first_user_comment['median'] = pd.to_timedelta(\n",
    "    projects__non_gkirbbi_with_first_user_comment['median'],\n",
    "    unit='s'\n",
    ")\n",
    "projects__non_gkirbbi_with_first_user_comment['median_hours_log'] = np.log10(\n",
    "    projects__non_gkirbbi_with_first_user_comment['median'] / np.timedelta64(1, 'h')\n",
    ")"
   ]
  },
  {
   "cell_type": "code",
   "execution_count": 824,
   "metadata": {},
   "outputs": [],
   "source": [
    "gk_issues_with_first_user_comments__simplified = \\\n",
    "    gk_issues_with_first_user_comments[['id', 'repo_name', 'time_to_comment']].copy()\n",
    "\n",
    "gk_issues_with_first_user_comments__simplified['time_to_comment'] = \\\n",
    "    gk_issues_with_first_user_comments__simplified['time_to_comment'].dt.total_seconds()  # Have to convert to seconds to calculate mean and median\n",
    "\n",
    "projects__gk_issues_with_first_user_comments = (\n",
    "    gk_issues_with_first_user_comments__simplified\n",
    "        .groupby('repo_name')['time_to_comment']\n",
    "        .agg(['mean', 'median'])\n",
    "        .reset_index()\n",
    ")\n",
    "projects__gk_issues_with_first_user_comments['mean'] = pd.to_timedelta(\n",
    "    projects__gk_issues_with_first_user_comments['mean'],\n",
    "    unit='s'\n",
    ")\n",
    "projects__gk_issues_with_first_user_comments['mean_hours_log'] = np.log10(\n",
    "    projects__gk_issues_with_first_user_comments['mean'] / np.timedelta64(1, 'h')\n",
    ")\n",
    "projects__gk_issues_with_first_user_comments['median'] = pd.to_timedelta(\n",
    "    projects__gk_issues_with_first_user_comments['median'],\n",
    "    unit='s'\n",
    ")\n",
    "projects__gk_issues_with_first_user_comments['median_hours_log'] = np.log10(\n",
    "    projects__gk_issues_with_first_user_comments['median'] / np.timedelta64(1, 'h')\n",
    ")"
   ]
  },
  {
   "cell_type": "code",
   "execution_count": 830,
   "metadata": {},
   "outputs": [
    {
     "name": "stdout",
     "output_type": "stream",
     "text": [
      "--Intra-project comparison for median time to first user comment on non-GK issues & median time to first user comment on GK in-range breaking build issues--\n",
      "                 Count  Mean              STD               Min              25%              Median           75%               Max\n",
      "-------------  -------  ----------------  ----------------  ---------------  ---------------  ---------------  ----------------  ------------------\n",
      "median_non_gk      458  19 days 20:50:07  84 days 21:24:15  0 days 00:00:41  0 days 04:52:51  0 days 16:25:52  3 days 00:29:13   1139 days 22:27:21\n",
      "median_gk          458  25 days 01:36:42  63 days 22:26:09  0 days 00:00:06  0 days 07:55:06  2 days 06:41:50  17 days 03:40:50  515 days 04:38:21\n",
      "\n"
     ]
    },
    {
     "data": {
      "image/png": "[encoded data removed]",
      "text/plain": [
       "<Figure size 576x216 with 1 Axes>"
      ]
     },
     "metadata": {
      "needs_background": "light"
     },
     "output_type": "display_data"
    }
   ],
   "source": [
    "# Merge gk and non-gk project time to user comment by repo_name\n",
    "project__all_issues__time_to_comment = projects__non_gkirbbi_with_first_user_comment.merge(\n",
    "    projects__gk_issues_with_first_user_comments,\n",
    "    how='inner',\n",
    "    on=['repo_name'],\n",
    "    suffixes=['_non_gk', '_gk'],\n",
    ")\n",
    "# Melt for violine plot\n",
    "melted = pd.melt(\n",
    "    project__all_issues__time_to_comment,\n",
    "    id_vars='repo_name',\n",
    "    value_vars=['median_hours_log_gk', 'median_hours_log_non_gk'],\n",
    "    var_name='issue_type',\n",
    "    value_name='median_time_to_comment_hours_log',\n",
    ")\n",
    "\n",
    "melted['placeholder'] = ''\n",
    "fig, ax = plt.subplots(nrows=1, ncols=1, figsize=(8,3))\n",
    "sns.violinplot(\n",
    "    data=melted,\n",
    "    x='median_time_to_comment_hours_log',\n",
    "    y='placeholder',\n",
    "    hue='issue_type',\n",
    "    split=True,\n",
    "    inner='quartile',\n",
    "    palette=['1', '0.6'],\n",
    "    ax=ax,\n",
    ")\n",
    "ax.set_ylabel('')\n",
    "ax.set_xlabel('Median time to first use comment on issue (hours)')\n",
    "ax.xaxis.set_major_formatter(log10_func_formatter)\n",
    "ax.legend(\n",
    "    title='',\n",
    ")\n",
    "L = plt.legend()\n",
    "L.get_texts()[0].set_text('Non-Greenkeeper In-Range Breaking Issue')\n",
    "L.get_texts()[1].set_text('Greenkeeper In-Range Breaking Issue')\n",
    "print('--Intra-project comparison for median time to first user comment on non-GK issues & median time to first user comment on GK in-range breaking build issues--')\n",
    "tfns(project__all_issues__time_to_comment, ['median_non_gk', 'median_gk'], title='')\n",
    "plt.show()"
   ]
  },
  {
   "cell_type": "code",
   "execution_count": 831,
   "metadata": {},
   "outputs": [
    {
     "name": "stdout",
     "output_type": "stream",
     "text": [
      "--Intra-project comparison for ratio of median time to first user comment on GK issues vs non-GK issues--\n",
      "                Count     Mean      STD    Min    25%    Median     75%     Max\n",
      "------------  -------  -------  -------  -----  -----  --------  ------  ------\n",
      "median_ratio      458  778.275  13892.5      0  0.331     2.987  24.141  296580\n",
      "mean_ratio        458  734.819  13889.6      0  0.052     0.474   2.276  296580\n",
      "\n"
     ]
    },
    {
     "data": {
      "image/png": "[encoded data removed]",
      "text/plain": [
       "<Figure size 576x216 with 1 Axes>"
      ]
     },
     "metadata": {
      "needs_background": "light"
     },
     "output_type": "display_data"
    }
   ],
   "source": [
    "project__all_issues__time_to_comment['median_ratio'] = (\n",
    "    project__all_issues__time_to_comment['median_gk'] / \n",
    "    project__all_issues__time_to_comment['median_non_gk']\n",
    ")\n",
    "project__all_issues__time_to_comment['mean_ratio'] = (\n",
    "    project__all_issues__time_to_comment['mean_gk'] / \n",
    "    project__all_issues__time_to_comment['mean_non_gk']\n",
    ")\n",
    "for_plot = project__all_issues__time_to_comment[['median_ratio']].copy()\n",
    "# Remove outliers and extemes for plot\n",
    "for_plot = for_plot[for_plot['median_ratio'] < 100]\n",
    "for_plot = filter_outliers(for_plot, col='median_ratio', threshold=3)\n",
    "\n",
    "for_plot['placeholder'] = ''\n",
    "fig, ax = plt.subplots(nrows=1, ncols=1, figsize=(8,3))\n",
    "sns.violinplot(\n",
    "    data=for_plot,\n",
    "    x='median_ratio',\n",
    "    y='placeholder',\n",
    "    inner='quartile',\n",
    "    palette=['0.6'],\n",
    ")\n",
    "ax.set_ylabel('')\n",
    "print('--Intra-project comparison for ratio of median time to first user comment on GK issues vs non-GK issues--')\n",
    "tfns(project__all_issues__time_to_comment, ['median_ratio', 'mean_ratio'])\n",
    "plt.show()"
   ]
  },
  {
   "cell_type": "markdown",
   "metadata": {},
   "source": [
    "<h3>Bot Comments Analysis</h3>"
   ]
  },
  {
   "cell_type": "markdown",
   "metadata": {},
   "source": [
    "<h3><b><i>How many issues are eventually resolved by the provider releasing a new version?</i></b></h3>"
   ]
  },
  {
   "cell_type": "code",
   "execution_count": 892,
   "metadata": {},
   "outputs": [
    {
     "name": "stdout",
     "output_type": "stream",
     "text": [
      "37.87% (39298) of issues saw a new release of the dependency\n",
      "18.72% (7355) of issues that saw a new release saw at least on passing release (7.09% of all issues)\n",
      "81.28% (31943) of issues that saw a new release saw only failing releases (30.78% of all issues)\n",
      "\n"
     ]
    }
   ],
   "source": [
    "gk_comments = comments.loc[\n",
    "    (\n",
    "        (comments['comment_user_type'] == 'Bot') &\n",
    "        (comments['comment_user_login'] == 'greenkeeper[bot]')\n",
    "    )\n",
    "]\n",
    "failing_with_new_release_regex = 'Your tests are still failing with this version'\n",
    "passing_with_new_release_regex = 'Your tests are passing again with this version'\n",
    "\n",
    "def comment_group_saw_new_release(comment_group):\n",
    "    new_release_comments = comment_group[\n",
    "        (comment_group['comment_body'].str.contains(failing_with_new_release_regex)) |\n",
    "        (comment_group['comment_body'].str.contains(passing_with_new_release_regex))\n",
    "    ]\n",
    "    return len(new_release_comments) > 0\n",
    "\n",
    "gk_new_release_comments = gk_comments.groupby('comment_issue_id').filter(comment_group_saw_new_release)\n",
    "issues_with_new_release_count = gk_new_release_comments['comment_issue_id'].nunique()\n",
    "proportion = calculate_percent(issues_with_new_release_count, len(gk_issues))\n",
    "print(f'{proportion}% ({issues_with_new_release_count}) of issues saw a new release of the dependency')\n",
    "\n",
    "\n",
    "def issue_has_passing_with_new_release_comment(comment_group):\n",
    "    new_passing_release_comments = comment_group[\n",
    "        comment_group['comment_body'].str.contains(passing_with_new_release_regex)\n",
    "    ]\n",
    "    return len(new_passing_release_comments) > 0\n",
    "\n",
    "def issue_has_only_failing_new_release_comments(comment_group):\n",
    "    if issue_has_passing_with_new_release_comment(comment_group):\n",
    "        return False\n",
    "    new_failing_release_comments = comment_group[\n",
    "        comment_group['comment_body'].str.contains(failing_with_new_release_regex)\n",
    "    ]\n",
    "    return len(new_failing_release_comments) > 0\n",
    "\n",
    "passing_with_new_release = \\\n",
    "    gk_new_release_comments.groupby('comment_issue_id').filter(issue_has_passing_with_new_release_comment)\n",
    "issues_with_passing_new_release_count = \\\n",
    "    passing_with_new_release['comment_issue_id'].nunique()\n",
    "proportion_of_new_releases = \\\n",
    "    calculate_percent(issues_with_passing_new_release_count, issues_with_new_release_count)\n",
    "proportion_all = \\\n",
    "    calculate_percent(issues_with_passing_new_release_count, len(gk_issues))\n",
    "print(f'''\\\n",
    "{proportion_of_new_releases}% ({issues_with_passing_new_release_count}) of issues that saw a new release saw \\\n",
    "at least on passing release ({proportion_all}% of all issues)\\\n",
    "''')\n",
    "\n",
    "only_failing_new_release = \\\n",
    "    gk_new_release_comments.groupby('comment_issue_id').filter(issue_has_only_failing_new_release_comments)\n",
    "issues_with_only_failing_new_release_count = \\\n",
    "    only_failing_new_release['comment_issue_id'].nunique()\n",
    "proportion_of_new_releases = \\\n",
    "    calculate_percent(issues_with_only_failing_new_release_count, issues_with_new_release_count)\n",
    "proportion_all = \\\n",
    "    calculate_percent(issues_with_only_failing_new_release_count, len(gk_issues))\n",
    "print(f'''\\\n",
    "{proportion_of_new_releases}% ({issues_with_only_failing_new_release_count}) of issues that saw a new release saw \\\n",
    "only failing releases ({proportion_all}% of all issues)\n",
    "''')"
   ]
  },
  {
   "cell_type": "markdown",
   "metadata": {},
   "source": [
    "<h4>Issues with only failing new releases - how did the pin attempt turn out?</h4>"
   ]
  },
  {
   "cell_type": "code",
   "execution_count": 750,
   "metadata": {},
   "outputs": [
    {
     "name": "stdout",
     "output_type": "stream",
     "text": [
      "--For issues with only failing new releases, how did the pin attempt turn out?--\n"
     ]
    },
    {
     "data": {
      "text/html": [
       "<div>\n",
       "<style scoped>\n",
       "    .dataframe tbody tr th:only-of-type {\n",
       "        vertical-align: middle;\n",
       "    }\n",
       "\n",
       "    .dataframe tbody tr th {\n",
       "        vertical-align: top;\n",
       "    }\n",
       "\n",
       "    .dataframe thead th {\n",
       "        text-align: right;\n",
       "    }\n",
       "</style>\n",
       "<table border=\"1\" class=\"dataframe\">\n",
       "  <thead>\n",
       "    <tr style=\"text-align: right;\">\n",
       "      <th></th>\n",
       "      <th>pin_status</th>\n",
       "      <th>proportion</th>\n",
       "    </tr>\n",
       "  </thead>\n",
       "  <tbody>\n",
       "    <tr>\n",
       "      <th>0</th>\n",
       "      <td>failure</td>\n",
       "      <td>0.786456</td>\n",
       "    </tr>\n",
       "    <tr>\n",
       "      <th>1</th>\n",
       "      <td>success</td>\n",
       "      <td>0.213544</td>\n",
       "    </tr>\n",
       "  </tbody>\n",
       "</table>\n",
       "</div>"
      ],
      "text/plain": [
       "  pin_status  proportion\n",
       "0    failure    0.786456\n",
       "1    success    0.213544"
      ]
     },
     "execution_count": 750,
     "metadata": {},
     "output_type": "execute_result"
    }
   ],
   "source": [
    "pin_attempts_from_only_failing_new_release = only_failing_new_release[only_failing_new_release['comment_body'].str.contains('after pinning to', case=False)].copy()\n",
    "pin_fail_regex = '|'.join([\n",
    "    \"your tests are still failing\",\n",
    "])\n",
    "pin_success_string = '|'.join([\n",
    "    \"your tests are passing again\"\n",
    "])\n",
    "pin_attempts_from_only_failing_new_release.loc[\n",
    "    pin_attempts_from_only_failing_new_release['comment_body'].str.contains(pin_success_string, case=False),\n",
    "    'pin_status'\n",
    "] = 'success'\n",
    "pin_attempts_from_only_failing_new_release.loc[\n",
    "    pin_attempts_from_only_failing_new_release['comment_body'].str.contains(pin_fail_string, case=False),\n",
    "    'pin_status'\n",
    "] = 'failure'\n",
    "\n",
    "proportions = (\n",
    "    pin_attempts_from_only_failing_new_release['pin_status'].value_counts() / \n",
    "    pin_attempts_from_only_failing_new_release['pin_status'].count()\n",
    ").to_frame(name='proportion')\\\n",
    "    .rename_axis('pin_status')\\\n",
    "    .reset_index()\n",
    "print('--For issues with only failing new releases, how did the pin attempt turn out?--')\n",
    "proportions.head()"
   ]
  },
  {
   "cell_type": "markdown",
   "metadata": {},
   "source": [
    "<h4>Issues with a passing new release - how did the pin attempt turn out?</h4>"
   ]
  },
  {
   "cell_type": "code",
   "execution_count": 751,
   "metadata": {},
   "outputs": [
    {
     "name": "stdout",
     "output_type": "stream",
     "text": [
      "--For issues with passing new releases, how did the pin attempt turn out?--\n"
     ]
    },
    {
     "data": {
      "text/html": [
       "<div>\n",
       "<style scoped>\n",
       "    .dataframe tbody tr th:only-of-type {\n",
       "        vertical-align: middle;\n",
       "    }\n",
       "\n",
       "    .dataframe tbody tr th {\n",
       "        vertical-align: top;\n",
       "    }\n",
       "\n",
       "    .dataframe thead th {\n",
       "        text-align: right;\n",
       "    }\n",
       "</style>\n",
       "<table border=\"1\" class=\"dataframe\">\n",
       "  <thead>\n",
       "    <tr style=\"text-align: right;\">\n",
       "      <th></th>\n",
       "      <th>pin_status</th>\n",
       "      <th>proportion</th>\n",
       "    </tr>\n",
       "  </thead>\n",
       "  <tbody>\n",
       "    <tr>\n",
       "      <th>0</th>\n",
       "      <td>success</td>\n",
       "      <td>0.634492</td>\n",
       "    </tr>\n",
       "    <tr>\n",
       "      <th>1</th>\n",
       "      <td>failure</td>\n",
       "      <td>0.365508</td>\n",
       "    </tr>\n",
       "  </tbody>\n",
       "</table>\n",
       "</div>"
      ],
      "text/plain": [
       "  pin_status  proportion\n",
       "0    success    0.634492\n",
       "1    failure    0.365508"
      ]
     },
     "execution_count": 751,
     "metadata": {},
     "output_type": "execute_result"
    }
   ],
   "source": [
    "pin_attempts_from_passing_with_new_release = \\\n",
    "    passing_with_new_release[passing_with_new_release['comment_body'].str.contains('after pinning to', case=False)].copy()\n",
    "pin_fail_regex = '|'.join([\n",
    "    \"your tests are still failing\",\n",
    "])\n",
    "pin_success_string = '|'.join([\n",
    "    \"your tests are passing again\"\n",
    "])\n",
    "pin_attempts_from_passing_with_new_release.loc[\n",
    "    pin_attempts_from_passing_with_new_release['comment_body'].str.contains(pin_success_string, case=False),\n",
    "    'pin_status'\n",
    "] = 'success'\n",
    "pin_attempts_from_passing_with_new_release.loc[\n",
    "    pin_attempts_from_passing_with_new_release['comment_body'].str.contains(pin_fail_string, case=False),\n",
    "    'pin_status'\n",
    "] = 'failure'\n",
    "\n",
    "proportions = (\n",
    "    pin_attempts_from_passing_with_new_release['pin_status'].value_counts() / \n",
    "    pin_attempts_from_passing_with_new_release['pin_status'].count()\n",
    ").to_frame(name='proportion')\\\n",
    "    .rename_axis('pin_status')\\\n",
    "    .reset_index()\n",
    "print('--For issues with passing new releases, how did the pin attempt turn out?--')\n",
    "proportions.head()"
   ]
  },
  {
   "cell_type": "markdown",
   "metadata": {},
   "source": [
    "<h2><b>Pinning</b></h2>"
   ]
  },
  {
   "cell_type": "markdown",
   "metadata": {},
   "source": [
    "<h3><b><i>How successful is auto-pinning the dependency?</i></b></h3>"
   ]
  },
  {
   "cell_type": "code",
   "execution_count": 672,
   "metadata": {},
   "outputs": [
    {
     "name": "stdout",
     "output_type": "stream",
     "text": [
      "--How successful is pinning the dependency?--\n"
     ]
    },
    {
     "data": {
      "text/html": [
       "<div>\n",
       "<style scoped>\n",
       "    .dataframe tbody tr th:only-of-type {\n",
       "        vertical-align: middle;\n",
       "    }\n",
       "\n",
       "    .dataframe tbody tr th {\n",
       "        vertical-align: top;\n",
       "    }\n",
       "\n",
       "    .dataframe thead th {\n",
       "        text-align: right;\n",
       "    }\n",
       "</style>\n",
       "<table border=\"1\" class=\"dataframe\">\n",
       "  <thead>\n",
       "    <tr style=\"text-align: right;\">\n",
       "      <th></th>\n",
       "      <th>pin_status</th>\n",
       "      <th>proportion</th>\n",
       "    </tr>\n",
       "  </thead>\n",
       "  <tbody>\n",
       "    <tr>\n",
       "      <th>0</th>\n",
       "      <td>failure</td>\n",
       "      <td>0.676202</td>\n",
       "    </tr>\n",
       "    <tr>\n",
       "      <th>1</th>\n",
       "      <td>success</td>\n",
       "      <td>0.323798</td>\n",
       "    </tr>\n",
       "  </tbody>\n",
       "</table>\n",
       "</div>"
      ],
      "text/plain": [
       "  pin_status  proportion\n",
       "0    failure    0.676202\n",
       "1    success    0.323798"
      ]
     },
     "execution_count": 672,
     "metadata": {},
     "output_type": "execute_result"
    }
   ],
   "source": [
    "pinning_comments = comments.loc[\n",
    "    (\n",
    "        (comments['comment_user_type'] == 'Bot') &\n",
    "        (comments['comment_user_login'] == 'greenkeeper[bot]') &\n",
    "        (comments['comment_body'].str.contains('After pinning to', case=False))\n",
    "    )\n",
    "][['comment_issue_id', 'comment_url', 'comment_body']]\n",
    "issue_pin_status = pinning_comments.merge(\n",
    "    gk_issues[['id', 'url', 'title', 'html_url', 'body']],\n",
    "    left_on='comment_issue_id',\n",
    "    right_on='id'\n",
    ")\n",
    "# Re-order columns\n",
    "issue_pin_status = issue_pin_status[['id', 'url', 'title', 'html_url', 'body', 'comment_issue_id', 'comment_url', 'comment_body']]\n",
    "issue_pin_status['pin_status'] = 'unknown'\n",
    "pin_fail_regex = '|'.join([\n",
    "    \"your tests are still failing\",\n",
    "])\n",
    "pin_success_string = '|'.join([\n",
    "    \"your tests are passing again\"\n",
    "])\n",
    "issue_pin_status.loc[\n",
    "    issue_pin_status['comment_body'].str.contains(pin_success_string, case=False),\n",
    "    'pin_status'\n",
    "] = 'success'\n",
    "issue_pin_status.loc[\n",
    "    issue_pin_status['comment_body'].str.contains(pin_fail_string, case=False),\n",
    "    'pin_status'\n",
    "] = 'failure'\n",
    "\n",
    "issue_pin_status['pin_status'].value_counts()\n",
    "\n",
    "proportions = (\n",
    "    issue_pin_status['pin_status'].value_counts() / \n",
    "    issue_pin_status['pin_status'].count()\n",
    ").to_frame(name='proportion')\\\n",
    "    .rename_axis('pin_status')\\\n",
    "    .reset_index()\n",
    "print('--How successful is pinning the dependency?--')\n",
    "proportions.head()"
   ]
  },
  {
   "cell_type": "markdown",
   "metadata": {},
   "source": [
    "<h4>Write out cases for manual analysis</h4>"
   ]
  },
  {
   "cell_type": "code",
   "execution_count": 923,
   "metadata": {},
   "outputs": [],
   "source": [
    "# failed_pins = issue_pin_status[issue_pin_status['pin_status'] == 'failure']\n",
    "# # failed_pins.info()\n",
    "# sample_failed_pins = failed_pins.sample(n=800, random_state=42)\n",
    "# sample_failed_pins.to_csv(f'./manual_analysis/failed_pins/sample_failed_pins.csv', index=False)"
   ]
  },
  {
   "cell_type": "markdown",
   "metadata": {},
   "source": [
    "<h4>Do success/fail pins predict whether a new release will fix the issue? (basically the inverse of the previous section)</h4>"
   ]
  },
  {
   "cell_type": "code",
   "execution_count": 970,
   "metadata": {},
   "outputs": [
    {
     "name": "stdout",
     "output_type": "stream",
     "text": [
      "SUCCESSFUL PINS\n",
      "38.1% (2980/7822) of issues with a successful pin attempt also eventually see a new passing release of the dependency\n",
      "61.9% (4842/7822) of issues with a successful pin attempt only see new failing releases of the dependency'\n",
      "(i.e. none of the dependencies new releases ever pass the clients pipeline )\n",
      "\n"
     ]
    }
   ],
   "source": [
    "succ_pin_issue_ids = issue_pin_status[issue_pin_status['pin_status'] == 'success']['id'].unique()\n",
    "fail_pin_issues_ids = issue_pin_status[issue_pin_status['pin_status'] == 'failure']['id'].unique()\n",
    "\n",
    "gk_comments = comments.loc[\n",
    "    (\n",
    "        (comments['comment_user_type'] == 'Bot') &\n",
    "        (comments['comment_user_login'] == 'greenkeeper[bot]')\n",
    "    )\n",
    "]\n",
    "# Get comments for issues with successful pins\n",
    "succ_pin_gk_comments = gk_comments[gk_comments['comment_issue_id'].isin(succ_pin_issue_ids)]\n",
    "\n",
    "failing_with_new_release_regex = 'Your tests are still failing with this version'\n",
    "passing_with_new_release_regex = 'Your tests are passing again with this version'\n",
    "\n",
    "\n",
    "def comment_group_saw_new_release(comment_group):\n",
    "    new_release_comments = comment_group[\n",
    "        (comment_group['comment_body'].str.contains(failing_with_new_release_regex)) |\n",
    "        (comment_group['comment_body'].str.contains(passing_with_new_release_regex))\n",
    "    ]\n",
    "    return len(new_release_comments) > 0\n",
    "\n",
    "def issue_has_passing_with_new_release_comment(comment_group):\n",
    "    new_passing_release_comments = comment_group[\n",
    "        comment_group['comment_body'].str.contains(passing_with_new_release_regex)\n",
    "    ]\n",
    "    return len(new_passing_release_comments) > 0\n",
    "\n",
    "def issue_has_failing_with_new_release_comment(comment_group):\n",
    "    new_failing_release_comments = comment_group[\n",
    "        comment_group['comment_body'].str.contains(failing_with_new_release_regex)\n",
    "    ]\n",
    "    return len(new_failing_release_comments) > 0\n",
    "\n",
    "def issue_has_only_failing_new_release_comments(comment_group):\n",
    "    return (\n",
    "        not issue_has_passing_with_new_release_comment(comment_group) and\n",
    "        issue_has_failing_with_new_release_comment(comment_group)\n",
    "    )\n",
    "\n",
    "def issue_has_only_passing_new_release_comments(comment_group):\n",
    "    return (\n",
    "        issue_has_passing_with_new_release_comment(comment_group) and\n",
    "        not issue_has_failing_with_new_release_comment(comment_group)\n",
    "    )\n",
    "\n",
    "print('SUCCESSFUL PINS')\n",
    "\n",
    "# Only issues that saw new release\n",
    "succ_pin_comments_with_new_release = \\\n",
    "    succ_pin_gk_comments\\\n",
    "        .groupby('comment_issue_id')\\\n",
    "        .filter(comment_group_saw_new_release)\n",
    "\n",
    "succ_pin_comments_with_new_release_count = (\n",
    "    succ_pin_comments_with_new_release['comment_issue_id']\n",
    "        .nunique()\n",
    ")\n",
    "\n",
    "passing_with_new_release = (\n",
    "    succ_pin_comments_with_new_release\n",
    "        .groupby('comment_issue_id')\n",
    "        .filter(issue_has_passing_with_new_release_comment)\n",
    ")\n",
    "issues_with_passing_new_release_count = (\n",
    "    passing_with_new_release['comment_issue_id']\n",
    "        .nunique()\n",
    ")\n",
    "proportion = calculate_percent(\n",
    "    issues_with_passing_new_release_count,\n",
    "    succ_pin_comments_with_new_release_count\n",
    ")\n",
    "print(f'{proportion}% ({issues_with_passing_new_release_count}/{succ_pin_comments_with_new_release_count}) \\\n",
    "of issues with a successful pin attempt also eventually see a new passing release of the dependency')\n",
    "\n",
    "only_failing_new_release = (\n",
    "    succ_pin_comments_with_new_release\n",
    "        .groupby('comment_issue_id')\n",
    "        .filter(issue_has_only_failing_new_release_comments)\n",
    ")\n",
    "issues_with_only_failing_new_release_count = (\n",
    "    only_failing_new_release['comment_issue_id']\n",
    "        .nunique()\n",
    ")\n",
    "proportion = calculate_percent(\n",
    "    issues_with_only_failing_new_release_count,\n",
    "    succ_pin_comments_with_new_release_count\n",
    ")\n",
    "print(f'''\\\n",
    "{proportion}% ({issues_with_only_failing_new_release_count}/{succ_pin_comments_with_new_release_count}) \\\n",
    "of issues with a successful pin attempt only see new failing releases of the dependency'\n",
    "(i.e. none of the dependencies new releases ever pass the clients pipeline )\n",
    "''')"
   ]
  },
  {
   "cell_type": "code",
   "execution_count": 971,
   "metadata": {},
   "outputs": [
    {
     "name": "stdout",
     "output_type": "stream",
     "text": [
      "FAIL PINS\n",
      "8.83% (1757/19909) of issues with a failing pin attempt also eventually see a new passing release of the dependency\n",
      "91.17% (18152/19909) of issues with a failing pin attempt only see new failing releases of the dependency'\n",
      "(i.e. none of the dependencies new releases ever pass the clients pipeline )\n",
      "\n",
      "4.62% (920/19909) of issues with a failing pin attempt only see new failing releases of the dependency'\n",
      "(i.e. none of the dependencies new releases ever pass the clients pipeline )\n",
      "\n"
     ]
    }
   ],
   "source": [
    "print('FAIL PINS')\n",
    "\n",
    "fail_pin_gk_comments = gk_comments[gk_comments['comment_issue_id'].isin(fail_pin_issues_ids)]\n",
    "\n",
    "fail_pin_comments_with_new_release = (\n",
    "    fail_pin_gk_comments\n",
    "        .groupby('comment_issue_id')\n",
    "        .filter(comment_group_saw_new_release)\n",
    ")\n",
    "\n",
    "fail_pin_comments_with_new_release_count = (\n",
    "    fail_pin_comments_with_new_release['comment_issue_id']\n",
    "        .nunique()\n",
    ")\n",
    "\n",
    "passing_with_new_release = (\n",
    "    fail_pin_comments_with_new_release\n",
    "        .groupby('comment_issue_id')\n",
    "        .filter(issue_has_passing_with_new_release_comment)\n",
    ")\n",
    "issues_with_passing_new_release_count = (\n",
    "    passing_with_new_release['comment_issue_id']\n",
    "        .nunique()\n",
    ")\n",
    "proportion = calculate_percent(\n",
    "    issues_with_passing_new_release_count,\n",
    "    fail_pin_comments_with_new_release_count\n",
    ")\n",
    "print(f'{proportion}% ({issues_with_passing_new_release_count}/{fail_pin_comments_with_new_release_count}) \\\n",
    "of issues with a failing pin attempt also eventually see a new passing release of the dependency')\n",
    "\n",
    "only_failing_new_release = (\n",
    "    fail_pin_comments_with_new_release\n",
    "        .groupby('comment_issue_id')\n",
    "        .filter(issue_has_only_failing_new_release_comments)\n",
    ")\n",
    "issues_with_only_failing_new_release_count = (\n",
    "    only_failing_new_release['comment_issue_id']\n",
    "        .nunique()\n",
    ")\n",
    "proportion = calculate_percent(\n",
    "    issues_with_only_failing_new_release_count,\n",
    "    fail_pin_comments_with_new_release_count\n",
    ")\n",
    "print(f'''\\\n",
    "{proportion}% ({issues_with_only_failing_new_release_count}/{fail_pin_comments_with_new_release_count}) \\\n",
    "of issues with a failing pin attempt only see new failing releases of the dependency'\n",
    "(i.e. none of the dependencies new releases ever pass the clients pipeline )\n",
    "''')\n",
    "\n",
    "only_passing_new_release = (\n",
    "    fail_pin_comments_with_new_release\n",
    "        .groupby('comment_issue_id')\n",
    "        .filter(issue_has_only_passing_new_release_comments)\n",
    ")\n",
    "issues_with_only_passing_new_release_count = (\n",
    "    only_passing_new_release['comment_issue_id']\n",
    "        .nunique()\n",
    ")\n",
    "proportion = calculate_percent(\n",
    "    issues_with_only_passing_new_release_count,\n",
    "    fail_pin_comments_with_new_release_count\n",
    ")\n",
    "print(f'''\\\n",
    "{proportion}% ({issues_with_only_passing_new_release_count}/{fail_pin_comments_with_new_release_count}) \\\n",
    "of issues with a failing pin attempt only see new failing releases of the dependency'\n",
    "(i.e. none of the dependencies new releases ever pass the clients pipeline )\n",
    "''')"
   ]
  },
  {
   "cell_type": "markdown",
   "metadata": {},
   "source": [
    "<h2><b>Code Changes</b></h2>"
   ]
  },
  {
   "cell_type": "code",
   "execution_count": 832,
   "metadata": {},
   "outputs": [],
   "source": [
    "commits = load_commits()\n",
    "gk_commits = (\n",
    "    commits[commits['issue_id']\n",
    "        .isin(gk_issues['id'])]\n",
    "        .reset_index(drop=True)\n",
    ")\n",
    "issues_with_commit = (\n",
    "    gk_issues[gk_issues['id']\n",
    "        .isin(gk_commits['issue_id'])]\n",
    ")"
   ]
  },
  {
   "cell_type": "markdown",
   "metadata": {},
   "source": [
    "<h3><b><i>Can we tell when clients take the pin approach?</i></b></h3>"
   ]
  },
  {
   "cell_type": "code",
   "execution_count": 879,
   "metadata": {},
   "outputs": [],
   "source": [
    "bens_collected_commits = load_bens_collected_commits()"
   ]
  },
  {
   "cell_type": "code",
   "execution_count": 891,
   "metadata": {},
   "outputs": [
    {
     "data": {
      "text/html": [
       "<div>\n",
       "<style scoped>\n",
       "    .dataframe tbody tr th:only-of-type {\n",
       "        vertical-align: middle;\n",
       "    }\n",
       "\n",
       "    .dataframe tbody tr th {\n",
       "        vertical-align: top;\n",
       "    }\n",
       "\n",
       "    .dataframe thead th {\n",
       "        text-align: right;\n",
       "    }\n",
       "</style>\n",
       "<table border=\"1\" class=\"dataframe\">\n",
       "  <thead>\n",
       "    <tr style=\"text-align: right;\">\n",
       "      <th></th>\n",
       "      <th>url_issue</th>\n",
       "      <th>message</th>\n",
       "    </tr>\n",
       "  </thead>\n",
       "  <tbody>\n",
       "    <tr>\n",
       "      <th>0</th>\n",
       "      <td>https://api.github.com/repos/adobe/aio-lib-template/issues/14</td>\n",
       "      <td>fix: pin swagger-client to 3.9.6\\n\\ncloses #14</td>\n",
       "    </tr>\n",
       "    <tr>\n",
       "      <th>19</th>\n",
       "      <td>https://api.github.com/repos/webcompat/webcompat.com/issues/3235</td>\n",
       "      <td>Merge pull request #3237 from webcompat/greenkeeper/yargs-pin-15.2.0\\n\\nFixes #3235 - pin yargs to 15.2.0</td>\n",
       "    </tr>\n",
       "    <tr>\n",
       "      <th>387</th>\n",
       "      <td>https://api.github.com/repos/k-yle/sACN/issues/5</td>\n",
       "      <td>Merge pull request #6 from k-yle/greenkeeper/@types/node-pin-12.12.1\\n\\nfix: pin @types/node to 12.12.1 fix #5</td>\n",
       "    </tr>\n",
       "    <tr>\n",
       "      <th>1307</th>\n",
       "      <td>https://api.github.com/repos/Azure/react-appinsights/issues/78</td>\n",
       "      <td>fix: pin rollup to 1.9.2 (#79), closes #78</td>\n",
       "    </tr>\n",
       "    <tr>\n",
       "      <th>2077</th>\n",
       "      <td>https://api.github.com/repos/fastify/fastify/issues/1281</td>\n",
       "      <td>chore: pin ajv to 6.5.5 (#1282)\\n\\nNeeded because of #1281 and https://github.com/epoberezkin/ajv/issues/889.</td>\n",
       "    </tr>\n",
       "    <tr>\n",
       "      <th>3039</th>\n",
       "      <td>https://api.github.com/repos/website-scraper/node-website-scraper/issues/304</td>\n",
       "      <td>chore: pin debug to 3.1.0 (#306), fixes #304</td>\n",
       "    </tr>\n",
       "    <tr>\n",
       "      <th>4194</th>\n",
       "      <td>https://api.github.com/repos/buildo/react-components/issues/705</td>\n",
       "      <td>Merge pull request #707 from buildo/greenkeeper/stylelint-pin-7.6.0\\n\\nchore: pin stylelint to 7.6.0 (closes #705)</td>\n",
       "    </tr>\n",
       "  </tbody>\n",
       "</table>\n",
       "</div>"
      ],
      "text/plain": [
       "                                                                         url_issue  \\\n",
       "0                    https://api.github.com/repos/adobe/aio-lib-template/issues/14   \n",
       "19                https://api.github.com/repos/webcompat/webcompat.com/issues/3235   \n",
       "387                               https://api.github.com/repos/k-yle/sACN/issues/5   \n",
       "1307                https://api.github.com/repos/Azure/react-appinsights/issues/78   \n",
       "2077                      https://api.github.com/repos/fastify/fastify/issues/1281   \n",
       "3039  https://api.github.com/repos/website-scraper/node-website-scraper/issues/304   \n",
       "4194               https://api.github.com/repos/buildo/react-components/issues/705   \n",
       "\n",
       "                                                                                                                 message  \n",
       "0                                                                         fix: pin swagger-client to 3.9.6\\n\\ncloses #14  \n",
       "19             Merge pull request #3237 from webcompat/greenkeeper/yargs-pin-15.2.0\\n\\nFixes #3235 - pin yargs to 15.2.0  \n",
       "387       Merge pull request #6 from k-yle/greenkeeper/@types/node-pin-12.12.1\\n\\nfix: pin @types/node to 12.12.1 fix #5  \n",
       "1307                                                                          fix: pin rollup to 1.9.2 (#79), closes #78  \n",
       "2077       chore: pin ajv to 6.5.5 (#1282)\\n\\nNeeded because of #1281 and https://github.com/epoberezkin/ajv/issues/889.  \n",
       "3039                                                                        chore: pin debug to 3.1.0 (#306), fixes #304  \n",
       "4194  Merge pull request #707 from buildo/greenkeeper/stylelint-pin-7.6.0\\n\\nchore: pin stylelint to 7.6.0 (closes #705)  "
      ]
     },
     "execution_count": 891,
     "metadata": {},
     "output_type": "execute_result"
    }
   ],
   "source": [
    "def is_potential_pin(issue_commit_changes):\n",
    "    result = (\n",
    "        issue_commit_changes['stats_total'].max() == 2 and\n",
    "        len(issue_commit_changes[issue_commit_changes['message'].str.contains('pin')]) > 0\n",
    "    )\n",
    "    return result\n",
    "temp = (\n",
    "    succ_pin_issues_with_commit__merged\n",
    "        .groupby(['id', 'commit_sha'])\n",
    "        .filter(is_potential_pin)\n",
    ")\n",
    "temp[['url_issue', 'message']]"
   ]
  },
  {
   "cell_type": "code",
   "execution_count": 882,
   "metadata": {},
   "outputs": [
    {
     "name": "stdout",
     "output_type": "stream",
     "text": [
      "<class 'pandas.core.frame.DataFrame'>\n",
      "Int64Index: 4225 entries, 0 to 4224\n",
      "Data columns (total 26 columns):\n",
      " #   Column                     Non-Null Count  Dtype   \n",
      "---  ------                     --------------  -----   \n",
      " 0   id                         4225 non-null   int64   \n",
      " 1   url_issue                  4225 non-null   object  \n",
      " 2   repo_name_issue            4225 non-null   object  \n",
      " 3   dependency_name            4205 non-null   category\n",
      " 4   dependency_type            3010 non-null   category\n",
      " 5   dependency_actual_version  4205 non-null   object  \n",
      " 6   dependency_next_version    3010 non-null   object  \n",
      " 7   commit_sha                 4225 non-null   object  \n",
      " 8   issue_id                   4225 non-null   int64   \n",
      " 9   repo_name_commit           4225 non-null   object  \n",
      " 10  url_commit                 4225 non-null   object  \n",
      " 11  html_url                   4225 non-null   object  \n",
      " 12  message                    4225 non-null   object  \n",
      " 13  author_login               4146 non-null   object  \n",
      " 14  author_type                4146 non-null   object  \n",
      " 15  committer_login            4144 non-null   object  \n",
      " 16  committer_type             4144 non-null   object  \n",
      " 17  stats_total                4225 non-null   int64   \n",
      " 18  stats_additions            4225 non-null   int64   \n",
      " 19  stats_deletions            4225 non-null   int64   \n",
      " 20  file_name                  4225 non-null   object  \n",
      " 21  file_status                4225 non-null   object  \n",
      " 22  file_additions             4225 non-null   int64   \n",
      " 23  file_deletions             4225 non-null   int64   \n",
      " 24  file_changes               4225 non-null   int64   \n",
      " 25  file_patch                 3846 non-null   object  \n",
      "dtypes: category(2), int64(8), object(16)\n",
      "memory usage: 1.1+ MB\n"
     ]
    }
   ],
   "source": [
    "succ_pins = issue_pin_status[issue_pin_status['pin_status'] == 'success']\n",
    "succ_pin_issues_with_commit = issues_with_commit[issues_with_commit['id'].isin(succ_pins['id'])]\n",
    "succ_pin_issues_with_commit__merged = succ_pin_issues_with_commit[[\n",
    "    'id',\n",
    "    'url',\n",
    "    'repo_name',\n",
    "    'dependency_name',\n",
    "    'dependency_type',\n",
    "    'dependency_actual_version',\n",
    "    'dependency_next_version',\n",
    "]].merge(\n",
    "    bens_collected_commits,\n",
    "    how='inner',\n",
    "    left_on=['id'],\n",
    "    right_on=['issue_id'],\n",
    "    suffixes=['_issue', '_commit']\n",
    ")\n",
    "succ_pin_issues_with_commit__merged.info()"
   ]
  },
  {
   "cell_type": "code",
   "execution_count": 875,
   "metadata": {},
   "outputs": [],
   "source": [
    "# Not used anymore\n",
    "# cols = ['repo_name', 'id', 'sha']\n",
    "# to_recollect_commits_for = succ_pin_issues_with_commit__merged.sort_values(by=['stats_total']).copy()[cols]\n",
    "# to_recollect_commits_for.rename(columns={'id': 'issue_id'})\n",
    "# to_recollect_commits_for.to_csv(f'../csv/to_recollect_commits_for.csv', index=False)\n",
    "# https://api.github.com/repos/sharvit/generator-node-mdl/commits/cb2a509a8e3c17f81a058bb36dc5ff15d00a7888"
   ]
  },
  {
   "cell_type": "markdown",
   "metadata": {},
   "source": [
    "<h3><b><i>What files are changed the most often?</i></b></h3>"
   ]
  },
  {
   "cell_type": "code",
   "execution_count": 677,
   "metadata": {},
   "outputs": [
    {
     "data": {
      "text/plain": [
       "sha                                       file_name                            \n",
       "0013f3b513d4988483ff8a8d8b26cd428ac4af13  appveyor.yml                             1\n",
       "                                          package.json                             1\n",
       "00140fef447691c1e805b3a542e5c6dba9c9589c  package.json                             2\n",
       "                                          src/components/molecules/Networks.jsx    2\n",
       "                                          src/helpers/wrapPageElement.jsx          2\n",
       "                                                                                  ..\n",
       "ffa5475f3efaeeb7b1a6116171517816d233a799  package.json                             1\n",
       "ffd899692d03f3c9c40fcd4e003f8cdf16819026  test/integration/happy-path-test.js      2\n",
       "ffdd605bfe3b9214381cdb8e9ccaa1fba56f322d  package.json                             1\n",
       "fff09e3c8e6dd8e435aef43e9900bc303916cfc6  package-lock.json                        1\n",
       "                                          package.json                             1\n",
       "Name: file_name, Length: 9739, dtype: int64"
      ]
     },
     "execution_count": 677,
     "metadata": {},
     "output_type": "execute_result"
    }
   ],
   "source": [
    "commits.groupby('sha')['file_name'].value_counts()"
   ]
  },
  {
   "cell_type": "code",
   "execution_count": 678,
   "metadata": {},
   "outputs": [
    {
     "data": {
      "text/html": [
       "<div>\n",
       "<style scoped>\n",
       "    .dataframe tbody tr th:only-of-type {\n",
       "        vertical-align: middle;\n",
       "    }\n",
       "\n",
       "    .dataframe tbody tr th {\n",
       "        vertical-align: top;\n",
       "    }\n",
       "\n",
       "    .dataframe thead th {\n",
       "        text-align: right;\n",
       "    }\n",
       "</style>\n",
       "<table border=\"1\" class=\"dataframe\">\n",
       "  <thead>\n",
       "    <tr style=\"text-align: right;\">\n",
       "      <th></th>\n",
       "      <th>event_url</th>\n",
       "      <th>event_id</th>\n",
       "      <th>message</th>\n",
       "      <th>committer_email</th>\n",
       "      <th>committer_name</th>\n",
       "      <th>author_email</th>\n",
       "      <th>author_email</th>\n",
       "      <th>committer_login</th>\n",
       "      <th>committer_id</th>\n",
       "      <th>committer_type</th>\n",
       "      <th>author_login</th>\n",
       "      <th>author_id</th>\n",
       "      <th>author_type</th>\n",
       "      <th>deletions</th>\n",
       "      <th>additions</th>\n",
       "      <th>stats_total</th>\n",
       "      <th>tree_sha</th>\n",
       "      <th>sha</th>\n",
       "      <th>num_parents</th>\n",
       "      <th>num_comments</th>\n",
       "      <th>file_name</th>\n",
       "      <th>file_additions</th>\n",
       "      <th>file_deletions</th>\n",
       "      <th>file_changes</th>\n",
       "      <th>file_sha</th>\n",
       "      <th>file_status</th>\n",
       "      <th>issue_id</th>\n",
       "    </tr>\n",
       "  </thead>\n",
       "  <tbody>\n",
       "    <tr>\n",
       "      <th>6200</th>\n",
       "      <td>https://api.github.com/repos/kremalicious/portfolio/issues/events/2049551299</td>\n",
       "      <td>2049551299</td>\n",
       "      <td>package updates\\n\\n* closes #83\\n* closes #84</td>\n",
       "      <td>m@kretschmann.io</td>\n",
       "      <td>Matthias Kretschmann</td>\n",
       "      <td>m@kretschmann.io</td>\n",
       "      <td>Matthias Kretschmann</td>\n",
       "      <td>kremalicious</td>\n",
       "      <td>90316.0</td>\n",
       "      <td>User</td>\n",
       "      <td>kremalicious</td>\n",
       "      <td>90316.0</td>\n",
       "      <td>User</td>\n",
       "      <td>14</td>\n",
       "      <td>24</td>\n",
       "      <td>38</td>\n",
       "      <td>6fb296ff7159c4867f0576c886330bcdb257067a</td>\n",
       "      <td>00140fef447691c1e805b3a542e5c6dba9c9589c</td>\n",
       "      <td>1</td>\n",
       "      <td>0</td>\n",
       "      <td>package.json</td>\n",
       "      <td>14</td>\n",
       "      <td>14</td>\n",
       "      <td>28</td>\n",
       "      <td>a6668c1fc3759a0722f05f83964e62b86cc87413</td>\n",
       "      <td>modified</td>\n",
       "      <td>394489335.0</td>\n",
       "    </tr>\n",
       "    <tr>\n",
       "      <th>6201</th>\n",
       "      <td>https://api.github.com/repos/kremalicious/portfolio/issues/events/2049551299</td>\n",
       "      <td>2049551299</td>\n",
       "      <td>package updates\\n\\n* closes #83\\n* closes #84</td>\n",
       "      <td>m@kretschmann.io</td>\n",
       "      <td>Matthias Kretschmann</td>\n",
       "      <td>m@kretschmann.io</td>\n",
       "      <td>Matthias Kretschmann</td>\n",
       "      <td>kremalicious</td>\n",
       "      <td>90316.0</td>\n",
       "      <td>User</td>\n",
       "      <td>kremalicious</td>\n",
       "      <td>90316.0</td>\n",
       "      <td>User</td>\n",
       "      <td>14</td>\n",
       "      <td>24</td>\n",
       "      <td>38</td>\n",
       "      <td>6fb296ff7159c4867f0576c886330bcdb257067a</td>\n",
       "      <td>00140fef447691c1e805b3a542e5c6dba9c9589c</td>\n",
       "      <td>1</td>\n",
       "      <td>0</td>\n",
       "      <td>src/components/molecules/Networks.jsx</td>\n",
       "      <td>4</td>\n",
       "      <td>0</td>\n",
       "      <td>4</td>\n",
       "      <td>7bc2f0e26b34bc39a1e9c7d1d1d86713538afd86</td>\n",
       "      <td>modified</td>\n",
       "      <td>394489335.0</td>\n",
       "    </tr>\n",
       "    <tr>\n",
       "      <th>6202</th>\n",
       "      <td>https://api.github.com/repos/kremalicious/portfolio/issues/events/2049551299</td>\n",
       "      <td>2049551299</td>\n",
       "      <td>package updates\\n\\n* closes #83\\n* closes #84</td>\n",
       "      <td>m@kretschmann.io</td>\n",
       "      <td>Matthias Kretschmann</td>\n",
       "      <td>m@kretschmann.io</td>\n",
       "      <td>Matthias Kretschmann</td>\n",
       "      <td>kremalicious</td>\n",
       "      <td>90316.0</td>\n",
       "      <td>User</td>\n",
       "      <td>kremalicious</td>\n",
       "      <td>90316.0</td>\n",
       "      <td>User</td>\n",
       "      <td>14</td>\n",
       "      <td>24</td>\n",
       "      <td>38</td>\n",
       "      <td>6fb296ff7159c4867f0576c886330bcdb257067a</td>\n",
       "      <td>00140fef447691c1e805b3a542e5c6dba9c9589c</td>\n",
       "      <td>1</td>\n",
       "      <td>0</td>\n",
       "      <td>src/helpers/wrapPageElement.jsx</td>\n",
       "      <td>6</td>\n",
       "      <td>0</td>\n",
       "      <td>6</td>\n",
       "      <td>c15e7c1c345842aedf6dcca2911c9b3a2d8ac64e</td>\n",
       "      <td>modified</td>\n",
       "      <td>394489335.0</td>\n",
       "    </tr>\n",
       "    <tr>\n",
       "      <th>6211</th>\n",
       "      <td>https://api.github.com/repos/kremalicious/portfolio/issues/events/2049551301</td>\n",
       "      <td>2049551301</td>\n",
       "      <td>package updates\\n\\n* closes #83\\n* closes #84</td>\n",
       "      <td>m@kretschmann.io</td>\n",
       "      <td>Matthias Kretschmann</td>\n",
       "      <td>m@kretschmann.io</td>\n",
       "      <td>Matthias Kretschmann</td>\n",
       "      <td>kremalicious</td>\n",
       "      <td>90316.0</td>\n",
       "      <td>User</td>\n",
       "      <td>kremalicious</td>\n",
       "      <td>90316.0</td>\n",
       "      <td>User</td>\n",
       "      <td>14</td>\n",
       "      <td>24</td>\n",
       "      <td>38</td>\n",
       "      <td>6fb296ff7159c4867f0576c886330bcdb257067a</td>\n",
       "      <td>00140fef447691c1e805b3a542e5c6dba9c9589c</td>\n",
       "      <td>1</td>\n",
       "      <td>0</td>\n",
       "      <td>package.json</td>\n",
       "      <td>14</td>\n",
       "      <td>14</td>\n",
       "      <td>28</td>\n",
       "      <td>a6668c1fc3759a0722f05f83964e62b86cc87413</td>\n",
       "      <td>modified</td>\n",
       "      <td>394593144.0</td>\n",
       "    </tr>\n",
       "    <tr>\n",
       "      <th>6212</th>\n",
       "      <td>https://api.github.com/repos/kremalicious/portfolio/issues/events/2049551301</td>\n",
       "      <td>2049551301</td>\n",
       "      <td>package updates\\n\\n* closes #83\\n* closes #84</td>\n",
       "      <td>m@kretschmann.io</td>\n",
       "      <td>Matthias Kretschmann</td>\n",
       "      <td>m@kretschmann.io</td>\n",
       "      <td>Matthias Kretschmann</td>\n",
       "      <td>kremalicious</td>\n",
       "      <td>90316.0</td>\n",
       "      <td>User</td>\n",
       "      <td>kremalicious</td>\n",
       "      <td>90316.0</td>\n",
       "      <td>User</td>\n",
       "      <td>14</td>\n",
       "      <td>24</td>\n",
       "      <td>38</td>\n",
       "      <td>6fb296ff7159c4867f0576c886330bcdb257067a</td>\n",
       "      <td>00140fef447691c1e805b3a542e5c6dba9c9589c</td>\n",
       "      <td>1</td>\n",
       "      <td>0</td>\n",
       "      <td>src/components/molecules/Networks.jsx</td>\n",
       "      <td>4</td>\n",
       "      <td>0</td>\n",
       "      <td>4</td>\n",
       "      <td>7bc2f0e26b34bc39a1e9c7d1d1d86713538afd86</td>\n",
       "      <td>modified</td>\n",
       "      <td>394593144.0</td>\n",
       "    </tr>\n",
       "    <tr>\n",
       "      <th>6213</th>\n",
       "      <td>https://api.github.com/repos/kremalicious/portfolio/issues/events/2049551301</td>\n",
       "      <td>2049551301</td>\n",
       "      <td>package updates\\n\\n* closes #83\\n* closes #84</td>\n",
       "      <td>m@kretschmann.io</td>\n",
       "      <td>Matthias Kretschmann</td>\n",
       "      <td>m@kretschmann.io</td>\n",
       "      <td>Matthias Kretschmann</td>\n",
       "      <td>kremalicious</td>\n",
       "      <td>90316.0</td>\n",
       "      <td>User</td>\n",
       "      <td>kremalicious</td>\n",
       "      <td>90316.0</td>\n",
       "      <td>User</td>\n",
       "      <td>14</td>\n",
       "      <td>24</td>\n",
       "      <td>38</td>\n",
       "      <td>6fb296ff7159c4867f0576c886330bcdb257067a</td>\n",
       "      <td>00140fef447691c1e805b3a542e5c6dba9c9589c</td>\n",
       "      <td>1</td>\n",
       "      <td>0</td>\n",
       "      <td>src/helpers/wrapPageElement.jsx</td>\n",
       "      <td>6</td>\n",
       "      <td>0</td>\n",
       "      <td>6</td>\n",
       "      <td>c15e7c1c345842aedf6dcca2911c9b3a2d8ac64e</td>\n",
       "      <td>modified</td>\n",
       "      <td>394593144.0</td>\n",
       "    </tr>\n",
       "  </tbody>\n",
       "</table>\n",
       "</div>"
      ],
      "text/plain": [
       "                                                                         event_url  \\\n",
       "6200  https://api.github.com/repos/kremalicious/portfolio/issues/events/2049551299   \n",
       "6201  https://api.github.com/repos/kremalicious/portfolio/issues/events/2049551299   \n",
       "6202  https://api.github.com/repos/kremalicious/portfolio/issues/events/2049551299   \n",
       "6211  https://api.github.com/repos/kremalicious/portfolio/issues/events/2049551301   \n",
       "6212  https://api.github.com/repos/kremalicious/portfolio/issues/events/2049551301   \n",
       "6213  https://api.github.com/repos/kremalicious/portfolio/issues/events/2049551301   \n",
       "\n",
       "        event_id                                        message  \\\n",
       "6200  2049551299  package updates\\n\\n* closes #83\\n* closes #84   \n",
       "6201  2049551299  package updates\\n\\n* closes #83\\n* closes #84   \n",
       "6202  2049551299  package updates\\n\\n* closes #83\\n* closes #84   \n",
       "6211  2049551301  package updates\\n\\n* closes #83\\n* closes #84   \n",
       "6212  2049551301  package updates\\n\\n* closes #83\\n* closes #84   \n",
       "6213  2049551301  package updates\\n\\n* closes #83\\n* closes #84   \n",
       "\n",
       "       committer_email        committer_name      author_email  \\\n",
       "6200  m@kretschmann.io  Matthias Kretschmann  m@kretschmann.io   \n",
       "6201  m@kretschmann.io  Matthias Kretschmann  m@kretschmann.io   \n",
       "6202  m@kretschmann.io  Matthias Kretschmann  m@kretschmann.io   \n",
       "6211  m@kretschmann.io  Matthias Kretschmann  m@kretschmann.io   \n",
       "6212  m@kretschmann.io  Matthias Kretschmann  m@kretschmann.io   \n",
       "6213  m@kretschmann.io  Matthias Kretschmann  m@kretschmann.io   \n",
       "\n",
       "              author_email committer_login  committer_id committer_type  \\\n",
       "6200  Matthias Kretschmann    kremalicious       90316.0           User   \n",
       "6201  Matthias Kretschmann    kremalicious       90316.0           User   \n",
       "6202  Matthias Kretschmann    kremalicious       90316.0           User   \n",
       "6211  Matthias Kretschmann    kremalicious       90316.0           User   \n",
       "6212  Matthias Kretschmann    kremalicious       90316.0           User   \n",
       "6213  Matthias Kretschmann    kremalicious       90316.0           User   \n",
       "\n",
       "      author_login  author_id author_type  deletions  additions  stats_total  \\\n",
       "6200  kremalicious    90316.0        User         14         24           38   \n",
       "6201  kremalicious    90316.0        User         14         24           38   \n",
       "6202  kremalicious    90316.0        User         14         24           38   \n",
       "6211  kremalicious    90316.0        User         14         24           38   \n",
       "6212  kremalicious    90316.0        User         14         24           38   \n",
       "6213  kremalicious    90316.0        User         14         24           38   \n",
       "\n",
       "                                      tree_sha  \\\n",
       "6200  6fb296ff7159c4867f0576c886330bcdb257067a   \n",
       "6201  6fb296ff7159c4867f0576c886330bcdb257067a   \n",
       "6202  6fb296ff7159c4867f0576c886330bcdb257067a   \n",
       "6211  6fb296ff7159c4867f0576c886330bcdb257067a   \n",
       "6212  6fb296ff7159c4867f0576c886330bcdb257067a   \n",
       "6213  6fb296ff7159c4867f0576c886330bcdb257067a   \n",
       "\n",
       "                                           sha  num_parents  num_comments  \\\n",
       "6200  00140fef447691c1e805b3a542e5c6dba9c9589c            1             0   \n",
       "6201  00140fef447691c1e805b3a542e5c6dba9c9589c            1             0   \n",
       "6202  00140fef447691c1e805b3a542e5c6dba9c9589c            1             0   \n",
       "6211  00140fef447691c1e805b3a542e5c6dba9c9589c            1             0   \n",
       "6212  00140fef447691c1e805b3a542e5c6dba9c9589c            1             0   \n",
       "6213  00140fef447691c1e805b3a542e5c6dba9c9589c            1             0   \n",
       "\n",
       "                                  file_name  file_additions  file_deletions  \\\n",
       "6200                           package.json              14              14   \n",
       "6201  src/components/molecules/Networks.jsx               4               0   \n",
       "6202        src/helpers/wrapPageElement.jsx               6               0   \n",
       "6211                           package.json              14              14   \n",
       "6212  src/components/molecules/Networks.jsx               4               0   \n",
       "6213        src/helpers/wrapPageElement.jsx               6               0   \n",
       "\n",
       "      file_changes                                  file_sha file_status  \\\n",
       "6200            28  a6668c1fc3759a0722f05f83964e62b86cc87413    modified   \n",
       "6201             4  7bc2f0e26b34bc39a1e9c7d1d1d86713538afd86    modified   \n",
       "6202             6  c15e7c1c345842aedf6dcca2911c9b3a2d8ac64e    modified   \n",
       "6211            28  a6668c1fc3759a0722f05f83964e62b86cc87413    modified   \n",
       "6212             4  7bc2f0e26b34bc39a1e9c7d1d1d86713538afd86    modified   \n",
       "6213             6  c15e7c1c345842aedf6dcca2911c9b3a2d8ac64e    modified   \n",
       "\n",
       "         issue_id  \n",
       "6200  394489335.0  \n",
       "6201  394489335.0  \n",
       "6202  394489335.0  \n",
       "6211  394593144.0  \n",
       "6212  394593144.0  \n",
       "6213  394593144.0  "
      ]
     },
     "execution_count": 678,
     "metadata": {},
     "output_type": "execute_result"
    }
   ],
   "source": [
    "commits[commits['sha'] == '00140fef447691c1e805b3a542e5c6dba9c9589c']"
   ]
  },
  {
   "cell_type": "code",
   "execution_count": 679,
   "metadata": {},
   "outputs": [
    {
     "name": "stdout",
     "output_type": "stream",
     "text": [
      "<class 'pandas.core.frame.DataFrame'>\n",
      "RangeIndex: 17623 entries, 0 to 17622\n",
      "Data columns (total 27 columns):\n",
      " #   Column           Non-Null Count  Dtype   \n",
      "---  ------           --------------  -----   \n",
      " 0   event_url        17623 non-null  object  \n",
      " 1   event_id         17623 non-null  int64   \n",
      " 2   message          17623 non-null  object  \n",
      " 3   committer_email  17623 non-null  object  \n",
      " 4   committer_name   17623 non-null  object  \n",
      " 5   author_email     17623 non-null  object  \n",
      " 6   author_email     17623 non-null  object  \n",
      " 7   committer_login  17301 non-null  object  \n",
      " 8   committer_id     17301 non-null  float64 \n",
      " 9   committer_type   17301 non-null  category\n",
      " 10  author_login     17327 non-null  object  \n",
      " 11  author_id        17327 non-null  float64 \n",
      " 12  author_type      17327 non-null  category\n",
      " 13  deletions        17623 non-null  int64   \n",
      " 14  additions        17623 non-null  int64   \n",
      " 15  stats_total      17623 non-null  int64   \n",
      " 16  tree_sha         17623 non-null  object  \n",
      " 17  sha              17623 non-null  object  \n",
      " 18  num_parents      17623 non-null  int64   \n",
      " 19  num_comments     17623 non-null  int64   \n",
      " 20  file_name        17623 non-null  category\n",
      " 21  file_additions   17623 non-null  int64   \n",
      " 22  file_deletions   17623 non-null  int64   \n",
      " 23  file_changes     17623 non-null  int64   \n",
      " 24  file_sha         17621 non-null  object  \n",
      " 25  file_status      17623 non-null  category\n",
      " 26  issue_id         17608 non-null  float64 \n",
      "dtypes: category(4), float64(3), int64(9), object(11)\n",
      "memory usage: 3.3+ MB\n"
     ]
    }
   ],
   "source": [
    "commits.info()"
   ]
  },
  {
   "cell_type": "code",
   "execution_count": null,
   "metadata": {},
   "outputs": [],
   "source": []
  }
 ],
 "metadata": {
  "kernelspec": {
   "display_name": "Python 3",
   "language": "python",
   "name": "python3"
  },
  "language_info": {
   "codemirror_mode": {
    "name": "ipython",
    "version": 3
   },
   "file_extension": ".py",
   "mimetype": "text/x-python",
   "name": "python",
   "nbconvert_exporter": "python",
   "pygments_lexer": "ipython3",
   "version": "3.8.5"
  }
 },
 "nbformat": 4,
 "nbformat_minor": 4
}
