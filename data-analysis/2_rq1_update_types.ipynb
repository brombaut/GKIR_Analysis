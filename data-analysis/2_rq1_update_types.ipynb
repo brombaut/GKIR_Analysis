{
 "cells": [
  {
   "cell_type": "markdown",
   "metadata": {},
   "source": [
    "# Analysis around Major vs Minor vs Patch vs Pinned"
   ]
  },
  {
   "cell_type": "code",
   "execution_count": 1,
   "metadata": {},
   "outputs": [
    {
     "name": "stderr",
     "output_type": "stream",
     "text": [
      "/Users/BenRombaut/opt/anaconda3/lib/python3.8/site-packages/tqdm/std.py:703: FutureWarning: The Panel class is removed from pandas. Accessing it from the top-level namespace will also be removed in the next version\n",
      "  from pandas import Panel\n",
      "/Users/BenRombaut/opt/anaconda3/lib/python3.8/site-packages/IPython/core/interactiveshell.py:3146: DtypeWarning: Columns (14,16,17,20) have mixed types.Specify dtype option on import or set low_memory=False.\n",
      "  has_raised = await self.run_ast_nodes(code_ast.body, cell_name,\n"
     ]
    }
   ],
   "source": [
    "PROJECT_ROOT = '..'\n",
    "CSV_FOLDER = 'csv'\n",
    "\n",
    "%run _utils.ipynb\n",
    "\n",
    "issues = pd.read_csv(f'{PROJECT_ROOT}/{CSV_FOLDER}/aug_greenkeeper_issues.csv')\n",
    "comments = pd.read_csv(f'{PROJECT_ROOT}/{CSV_FOLDER}/greenkeeper_comments.csv')\n",
    "events = pd.read_csv(f'{PROJECT_ROOT}/{CSV_FOLDER}/greenkeeper_events.csv')\n",
    "commits = pd.read_csv(f'{PROJECT_ROOT}/{CSV_FOLDER}/aug_greenkeeper_commits.csv')\n",
    "package_names = pd.read_csv(f'{PROJECT_ROOT}/{CSV_FOLDER}/greenkeeper_package_names.csv')\n",
    "library_versions = pd.read_csv(f'{PROJECT_ROOT}/{CSV_FOLDER}/aug_breaking_library_versions.csv')\n",
    "library_releases = pd.read_csv(f'{PROJECT_ROOT}/{CSV_FOLDER}/breaking_library_releases.csv')\n",
    "packages_release_and_breaks = pd.read_csv(f'{PROJECT_ROOT}/{CSV_FOLDER}/releases_and_breaks_counts_by_package.csv')\n",
    "\n",
    "\n",
    "events['event_description'] = events['event_description'].astype('category')\n",
    "issues[\"issue_created_at\"] = issues[\"issue_created_at\"].astype(\"datetime64\")\n",
    "issues[\"issue_updated_at\"] = issues[\"issue_updated_at\"].astype(\"datetime64\")\n",
    "issues[\"issue_closed_at\"] = issues[\"issue_closed_at\"].astype(\"datetime64\")\n",
    "issues['update_type'] = issues['update_type'].astype('category')\n",
    "library_releases[\"first_release_date\"] = library_releases[\"first_release_date\"].astype(\"datetime64\")\n",
    "library_releases[\"last_release_date\"] = library_releases[\"last_release_date\"].astype(\"datetime64\")\n",
    "\n",
    "library_releases[\"avg_time_between_releases\"] = \\\n",
    "    pd.to_timedelta(library_releases[\"avg_time_between_releases\"])\n",
    "\n",
    "comments['comment_created_at'] = pd.to_datetime(comments['comment_created_at'])\n",
    "comments['comment_updated_at'] = pd.to_datetime(comments['comment_updated_at'])\n",
    "comments['comment_user_type'] = comments['comment_user_type'].astype('category')"
   ]
  },
  {
   "cell_type": "markdown",
   "metadata": {},
   "source": [
    "# How many of each type are there issue reports for?"
   ]
  },
  {
   "cell_type": "code",
   "execution_count": 2,
   "metadata": {},
   "outputs": [
    {
     "name": "stdout",
     "output_type": "stream",
     "text": [
      "64.04% (78900) of Greenkeeper issues could have their update type extracted.\n",
      "\t0.15% (122) are major breaking updates\n",
      "\t34.56% (27264) are minor breaking updates\n",
      "\t65.29% (51514) are patch breaking updates\n"
     ]
    }
   ],
   "source": [
    "# Breaking issues from Greenkeeper reports\n",
    "issues_with_update_type_count = len(issues[~(issues['update_type'].isnull())])\n",
    "percent_with_update_type = calculate_percent(issues_with_update_type_count, len(issues))\n",
    "\n",
    "major_break_count = len(issues[issues['update_type'] == MAJOR])\n",
    "minor_break_count = len(issues[issues['update_type'] == MINOR])\n",
    "patch_break_count = len(issues[issues['update_type'] == PATCH])\n",
    "\n",
    "major_break_percent = calculate_percent(major_break_count, issues_with_update_type_count)\n",
    "minor_break_percent = calculate_percent(minor_break_count, issues_with_update_type_count)\n",
    "patch_break_percent = calculate_percent(patch_break_count, issues_with_update_type_count)\n",
    "\n",
    "print(f\"{percent_with_update_type}% ({issues_with_update_type_count}) of Greenkeeper issues could have their update type extracted.\")\n",
    "print(f\"\\t{major_break_percent}% ({major_break_count}) are major breaking updates\")\n",
    "print(f\"\\t{minor_break_percent}% ({minor_break_count}) are minor breaking updates\")\n",
    "print(f\"\\t{patch_break_percent}% ({patch_break_count}) are patch breaking updates\")"
   ]
  },
  {
   "cell_type": "markdown",
   "metadata": {},
   "source": [
    "# What types of updates do packages release most often?"
   ]
  },
  {
   "cell_type": "code",
   "execution_count": 3,
   "metadata": {},
   "outputs": [
    {
     "name": "stdout",
     "output_type": "stream",
     "text": [
      "453942 releases could have an explicit release type assigned\n",
      "\t8.34% (37845) are major updates\n",
      "\t23.37% (106107) are minor updates\n",
      "\t68.29% (309990) are patch updates\n"
     ]
    }
   ],
   "source": [
    "# Releases of all packages from libraries.io\n",
    "all_library_updates_count = len(library_versions[~(library_versions['version_release_type'].isnull())])\n",
    "major_all_library_updates_count = len(library_versions[library_versions['version_release_type'] == MAJOR])\n",
    "minor_all_library_updates_count = len(library_versions[library_versions['version_release_type'] == MINOR])\n",
    "patch_all_library_updates_count = len(library_versions[library_versions['version_release_type'] == PATCH])\n",
    "\n",
    "major_all_library_percent = calculate_percent(major_all_library_updates_count, all_library_updates_count)\n",
    "minor_all_library_percent = calculate_percent(minor_all_library_updates_count, all_library_updates_count)\n",
    "patch_all_library_percent = calculate_percent(patch_all_library_updates_count, all_library_updates_count)\n",
    "\n",
    "print(f\"{all_library_updates_count} releases could have an explicit release type assigned\")\n",
    "print(f\"\\t{major_all_library_percent}% ({major_all_library_updates_count}) are major updates\")\n",
    "print(f\"\\t{minor_all_library_percent}% ({minor_all_library_updates_count}) are minor updates\")\n",
    "print(f\"\\t{patch_all_library_percent}% ({patch_all_library_updates_count}) are patch updates\")"
   ]
  },
  {
   "cell_type": "markdown",
   "metadata": {},
   "source": [
    "# Breakages, Releases, and Breakages/Releases"
   ]
  },
  {
   "cell_type": "code",
   "execution_count": 4,
   "metadata": {},
   "outputs": [
    {
     "name": "stderr",
     "output_type": "stream",
     "text": [
      "<ipython-input-4-0dac322a52a6>:40: UserWarning: FixedFormatter should only be used together with FixedLocator\n",
      "  bp.set_yticklabels(y_labels)\n"
     ]
    },
    {
     "data": {
      "image/png": "[encoded data removed]",
      "text/plain": [
       "<Figure size 576x504 with 1 Axes>"
      ]
     },
     "metadata": {},
     "output_type": "display_data"
    }
   ],
   "source": [
    "value_type = ['Breakages', 'Breakages', 'Breakages', 'Releases', 'Releases', 'Releases', 'Breakages/Releases', 'Breakages/Releases', 'Breakages/Releases']\n",
    "update_types = ['Patch', 'Minor', 'Major', 'Patch', 'Minor', 'Major', 'Patch', 'Minor', 'Major']\n",
    "value = [\n",
    "    patch_break_count/issues_with_update_type_count,\n",
    "    minor_break_count/issues_with_update_type_count,\n",
    "    major_break_count/issues_with_update_type_count,\n",
    "    patch_all_library_updates_count/all_library_updates_count,\n",
    "    minor_all_library_updates_count/all_library_updates_count,\n",
    "    major_all_library_updates_count/all_library_updates_count,\n",
    "    patch_break_count/patch_all_library_updates_count,\n",
    "    minor_break_count/minor_all_library_updates_count,\n",
    "    major_break_count/major_all_library_updates_count,\n",
    "]\n",
    "rq1_for_plot = pd.DataFrame({\n",
    "    'value_type': value_type,\n",
    "    'update_type': update_types,\n",
    "    'value': value,\n",
    "})\n",
    "rq1_for_plot['value_type'] = rq1_for_plot['value_type'].astype('category')\n",
    "rq1_for_plot['update_type'] = rq1_for_plot['update_type'].astype('category')\n",
    "\n",
    "sns.set()\n",
    "fig, ax = plt.subplots(figsize=(8, 7))\n",
    "params = dict(\n",
    "    data=rq1_for_plot,\n",
    "    x=\"update_type\",\n",
    "    y='value',\n",
    "    hue='value_type',\n",
    "    order=['Patch', 'Minor', 'Major'],\n",
    "    hue_order=['Breakages', 'Releases', 'Breakages/Releases'],\n",
    ")\n",
    "bp = sns.barplot(\n",
    "    **params,\n",
    "    palette=THREE_COLOUR_PALETTE,\n",
    ")\n",
    "ax.set_title(f'', fontsize=20)\n",
    "ax.set_ylabel('', fontsize=20)\n",
    "ax.set_xlabel('', fontsize=20)\n",
    "y_labels = [f\"{int(y*100)}%\" for y in bp.get_yticks()]\n",
    "bp.set_yticklabels(y_labels)\n",
    "ax.legend(\n",
    "    title=\"\",\n",
    "    fancybox=True\n",
    ")\n",
    "plt.show()"
   ]
  },
  {
   "cell_type": "markdown",
   "metadata": {},
   "source": [
    "# How many types of each update from providers break a clien't build?"
   ]
  },
  {
   "cell_type": "code",
   "execution_count": 5,
   "metadata": {},
   "outputs": [
    {
     "name": "stdout",
     "output_type": "stream",
     "text": [
      "<class 'pandas.core.frame.DataFrame'>\n",
      "Int64Index: 78900 entries, 5631 to 85330\n",
      "Data columns (total 21 columns):\n",
      " #   Column                           Non-Null Count  Dtype         \n",
      "---  ------                           --------------  -----         \n",
      " 0   issue_id                         78900 non-null  int64         \n",
      " 1   issue_number                     78900 non-null  int64         \n",
      " 2   issue_url                        78900 non-null  object        \n",
      " 3   issue_title                      78900 non-null  object        \n",
      " 4   issue_state                      78900 non-null  object        \n",
      " 5   issue_is_locked                  78900 non-null  bool          \n",
      " 6   issue_created_at                 78900 non-null  datetime64[ns]\n",
      " 7   issue_updated_at                 78900 non-null  datetime64[ns]\n",
      " 8   issue_closed_at                  61428 non-null  datetime64[ns]\n",
      " 9   issue_user_login                 78900 non-null  object        \n",
      " 10  issue_labels                     78900 non-null  object        \n",
      " 11  issue_num_comments               78900 non-null  int64         \n",
      " 12  issue_events_url                 78900 non-null  object        \n",
      " 13  issue_dependency_name            78892 non-null  object        \n",
      " 14  issue_dependency_type            78900 non-null  object        \n",
      " 15  issue_dependency_actual_version  78900 non-null  object        \n",
      " 16  issue_dependency_next_version    78900 non-null  object        \n",
      " 17  issue_dependency_bundle_name     18590 non-null  object        \n",
      " 18  issue_body_parser                78900 non-null  object        \n",
      " 19  issue_repo_url                   78900 non-null  object        \n",
      " 20  update_type                      78900 non-null  category      \n",
      "dtypes: bool(1), category(1), datetime64[ns](3), int64(3), object(13)\n",
      "memory usage: 12.2+ MB\n"
     ]
    }
   ],
   "source": [
    "issues_with_update_type_count = issues[~(issues['update_type'].isnull())]\n",
    "issues_with_update_type_count.info()"
   ]
  },
  {
   "cell_type": "code",
   "execution_count": 6,
   "metadata": {},
   "outputs": [
    {
     "name": "stdout",
     "output_type": "stream",
     "text": [
      "<class 'pandas.core.frame.DataFrame'>\n",
      "RangeIndex: 556742 entries, 0 to 556741\n",
      "Data columns (total 4 columns):\n",
      " #   Column                Non-Null Count   Dtype \n",
      "---  ------                --------------   ----- \n",
      " 0   package_name          556742 non-null  object\n",
      " 1   version               556742 non-null  object\n",
      " 2   version_published_at  556742 non-null  object\n",
      " 3   version_release_type  453942 non-null  object\n",
      "dtypes: object(4)\n",
      "memory usage: 17.0+ MB\n"
     ]
    }
   ],
   "source": [
    "library_versions.info()"
   ]
  },
  {
   "cell_type": "code",
   "execution_count": 12,
   "metadata": {},
   "outputs": [
    {
     "name": "stdout",
     "output_type": "stream",
     "text": [
      "<class 'pandas.core.frame.DataFrame'>\n",
      "RangeIndex: 7361 entries, 0 to 7360\n",
      "Data columns (total 13 columns):\n",
      " #   Column          Non-Null Count  Dtype  \n",
      "---  ------          --------------  -----  \n",
      " 0   package         7361 non-null   object \n",
      " 1   total_releases  7361 non-null   int64  \n",
      " 2   total_breaks    7361 non-null   int64  \n",
      " 3   major_releases  7361 non-null   int64  \n",
      " 4   major_breaks    7361 non-null   int64  \n",
      " 5   minor_releases  7361 non-null   int64  \n",
      " 6   minor_breaks    7361 non-null   int64  \n",
      " 7   patch_releases  7361 non-null   int64  \n",
      " 8   patch_breaks    7361 non-null   int64  \n",
      " 9   total_ratio     7341 non-null   float64\n",
      " 10  major_ratio     5511 non-null   float64\n",
      " 11  minor_ratio     6719 non-null   float64\n",
      " 12  patch_ratio     7296 non-null   float64\n",
      "dtypes: float64(4), int64(8), object(1)\n",
      "memory usage: 747.7+ KB\n"
     ]
    }
   ],
   "source": [
    "packages_release_and_breaks.info()"
   ]
  },
  {
   "cell_type": "code",
   "execution_count": null,
   "metadata": {},
   "outputs": [],
   "source": []
  },
  {
   "cell_type": "markdown",
   "metadata": {},
   "source": [
    "# Comparing Specifying Versioning Practices"
   ]
  },
  {
   "cell_type": "markdown",
   "metadata": {},
   "source": [
    "# How many dependencies do packages have?"
   ]
  },
  {
   "cell_type": "code",
   "execution_count": 51,
   "metadata": {},
   "outputs": [
    {
     "data": {
      "application/vnd.jupyter.widget-view+json": {
       "model_id": "b2ec9b021374400198c1a23655fb0050",
       "version_major": 2,
       "version_minor": 0
      },
      "text/plain": [
       "HBox(children=(HTML(value=''), FloatProgress(value=1.0, bar_style='info', layout=Layout(width='20px'), max=1.0…"
      ]
     },
     "metadata": {},
     "output_type": "display_data"
    },
    {
     "name": "stdout",
     "output_type": "stream",
     "text": [
      "\n"
     ]
    },
    {
     "data": {
      "application/vnd.jupyter.widget-view+json": {
       "model_id": "3dbb42f4452d47dc86cd7a5b8e11c142",
       "version_major": 2,
       "version_minor": 0
      },
      "text/plain": [
       "HBox(children=(HTML(value=''), FloatProgress(value=0.0, max=12005.0), HTML(value='')))"
      ]
     },
     "metadata": {},
     "output_type": "display_data"
    },
    {
     "name": "stdout",
     "output_type": "stream",
     "text": [
      "\n"
     ]
    }
   ],
   "source": [
    "import json\n",
    "\n",
    "deps_dtos = list()\n",
    "for index, row in tqdm_notebook(package_names.iterrows()):\n",
    "    deps_str = row['package_dependencies']\n",
    "    if pd.isna(deps_str):\n",
    "        deps = dict()\n",
    "    else:\n",
    "        deps = json.loads(deps_str.replace(\"'\", '\"')) if ~pd.isna(deps_str) else dict()\n",
    "\n",
    "    dev_deps_str = row['package_dev_dependencies']\n",
    "    if pd.isna(dev_deps_str):\n",
    "        dev_deps = dict()\n",
    "    else:\n",
    "        dev_deps = json.loads(dev_deps_str.replace(\"'\", '\"')) if dev_deps_str else dict()\n",
    "    deps_dtos.append({\n",
    "        'package_name': row['package_name'],\n",
    "        'deps': deps,\n",
    "        'dev_deps': dev_deps,\n",
    "    })\n",
    "    \n",
    "DEP = 'Dependency'\n",
    "DEV_DEP = 'Dev Dependency'\n",
    "packages = list()\n",
    "deps_names = list()\n",
    "deps_versions = list()\n",
    "deps_types =  list()\n",
    "\n",
    "for deps_dto in tqdm_notebook(deps_dtos):\n",
    "    package = deps_dto['package_name']\n",
    "    for dep_name, dep_version in deps_dto['deps'].items():\n",
    "        packages.append(package)\n",
    "        deps_names.append(dep_name)\n",
    "        deps_versions.append(dep_version)\n",
    "        deps_types.append(DEP)\n",
    "    for dep_name, dep_version in deps_dto['dev_deps'].items():\n",
    "        packages.append(package)\n",
    "        deps_names.append(dep_name)\n",
    "        deps_versions.append(dep_version)\n",
    "        deps_types.append(DEV_DEP)\n",
    "        \n",
    "dependencies_df = pd.DataFrame({\n",
    "    'package': packages,\n",
    "    'deps_name': deps_names,\n",
    "    'deps_version': deps_versions,\n",
    "    'deps_type': deps_types,\n",
    "})\n",
    "\n",
    "# For testing regex\n",
    "# 13.4.9\n",
    "# 10.1.1\n",
    "# 0.1.92\n",
    "# 16.13.1\n",
    "# 1.0.1-RC.1\n",
    "# 1.0.0-beta.30\n",
    "# <2.0.0\n",
    "# < 2.0.0\n",
    "# ^0.0.1\n",
    "\n",
    "\n",
    "# ~13.2.4\n",
    "# 13.2.x\n",
    "# 13.2.*\n",
    "# 2.3\n",
    "# ^0.1.2\n",
    "\n",
    "# ^13.2.4\n",
    "# 13.x\n",
    "# 13.*\n",
    "# 2.*.*\n",
    "# 2\n",
    "# 2\n",
    "\n",
    "# *\n",
    "# x\n",
    "# >=20.0.0\n",
    "# latest\n",
    "\n",
    "regex_pinned = '^([<=]?\\d+.\\d+.\\d+)|(^\\^0.0.\\d+$)'\n",
    "regex_patch_release = '(^=?(\\~|\\d+.\\d+.[x*]$)|^\\d+.\\d+$)|(^\\^0.[1-9]\\d*)'\n",
    "regex_minor_release = '^=?(\\^|\\d+.([x*].)*[x*]$)|^\\d+$'\n",
    "regex_major_release = '^[\\*x]$|^latest$|^>=|x.x|x.x.x'\n",
    "dependencies_df['accpected_update_type'] = 'Other'\n",
    "\n",
    "def set_accepted_update_type(df, reg_ex, accepted_update_type):\n",
    "    df.loc[\n",
    "        df['deps_version'].str.contains(reg_ex, regex=True),\n",
    "        'accpected_update_type'\n",
    "    ] = accepted_update_type\n",
    "\n",
    "    \n",
    "set_accepted_update_type(dependencies_df, regex_patch_release, PATCH)\n",
    "set_accepted_update_type(dependencies_df, regex_minor_release, MINOR)\n",
    "set_accepted_update_type(dependencies_df, regex_major_release, MAJOR)\n",
    "set_accepted_update_type(dependencies_df, regex_pinned, PINNED)\n",
    "\n",
    "dependencies_df['accpected_update_type'] = dependencies_df['accpected_update_type'].astype('category')"
   ]
  },
  {
   "cell_type": "code",
   "execution_count": 53,
   "metadata": {},
   "outputs": [
    {
     "name": "stdout",
     "output_type": "stream",
     "text": [
      "80573 Dependencies and 192925 Dev Dependencoes\n",
      "\t34256 (12.53%) Pinned\n",
      "\t10224 (3.74%) Patch\n",
      "\t225125 (82.31%) Minor\n",
      "\t2951 (1.08%) Major\n"
     ]
    }
   ],
   "source": [
    "def get_deps_count_for_type(df, deps_type=None, update_type=None):\n",
    "    result = 0\n",
    "    if not deps_type and not update_type:\n",
    "        result = len(df)\n",
    "    elif not update_type:\n",
    "        result = len(df[df['deps_type'] == deps_type])\n",
    "    elif not deps_type:\n",
    "        result = len(df[df['accpected_update_type'] == update_type])\n",
    "    else:\n",
    "        result = \\\n",
    "            len(df[(df['deps_type'] == deps_type) & (df['accpected_update_type'] == update_type)])\n",
    "    return result\n",
    "\n",
    "deps_count = get_deps_count_for_type(dependencies_df, deps_type=DEP, update_type=None)\n",
    "dev_deps_count = get_deps_count_for_type(dependencies_df, deps_type=DEV_DEP, update_type=None)\n",
    "\n",
    "deps_pinned_count = get_deps_count_for_type(dependencies_df, deps_type=DEP, update_type=PINNED)\n",
    "deps_patch_count = get_deps_count_for_type(dependencies_df, deps_type=DEP, update_type=PATCH)\n",
    "deps_minor_count = get_deps_count_for_type(dependencies_df, deps_type=DEP, update_type=MINOR)\n",
    "deps_major_count = get_deps_count_for_type(dependencies_df, deps_type=DEP, update_type=MAJOR)\n",
    "\n",
    "dev_deps_pinned_count = get_deps_count_for_type(dependencies_df, deps_type=DEV_DEP, update_type=PINNED)\n",
    "dev_deps_patch_count = get_deps_count_for_type(dependencies_df, deps_type=DEV_DEP, update_type=PATCH)\n",
    "dev_deps_minor_count = get_deps_count_for_type(dependencies_df, deps_type=DEV_DEP, update_type=MINOR)\n",
    "dev_deps_major_count = get_deps_count_for_type(dependencies_df, deps_type=DEV_DEP, update_type=MAJOR)\n",
    "\n",
    "all_deps_pinned_count = get_deps_count_for_type(dependencies_df, deps_type=None, update_type=PINNED)\n",
    "all_deps_patch_count = get_deps_count_for_type(dependencies_df, deps_type=None, update_type=PATCH)\n",
    "all_deps_minor_count = get_deps_count_for_type(dependencies_df, deps_type=None, update_type=MINOR)\n",
    "all_deps_major_count = get_deps_count_for_type(dependencies_df, deps_type=None, update_type=MAJOR)\n",
    "\n",
    "deps_pinned_rat = deps_pinned_count / deps_count\n",
    "deps_patch_rat = deps_patch_count / deps_count\n",
    "deps_minor_rat = deps_minor_count / deps_count\n",
    "deps_major_rat = deps_major_count / deps_count\n",
    "\n",
    "dev_deps_pinned_rat = dev_deps_pinned_count / dev_deps_count\n",
    "dev_deps_patch_rat = dev_deps_patch_count / dev_deps_count\n",
    "dev_deps_minor_rat = dev_deps_minor_count / dev_deps_count\n",
    "dev_deps_major_rat = dev_deps_major_count / dev_deps_count\n",
    "\n",
    "all_deps_pinned_rat = all_deps_pinned_count / (dev_deps_count + deps_count)\n",
    "all_deps_patch_rat = all_deps_patch_count / (dev_deps_count + deps_count)\n",
    "all_deps_minor_rat = all_deps_minor_count / (dev_deps_count + deps_count)\n",
    "all_deps_major_rat = all_deps_major_count / (dev_deps_count + deps_count)\n",
    "\n",
    "\n",
    "ratios = pd.DataFrame({\n",
    "    'deps_type': ['Dependency', 'Dependency', 'Dependency', 'Dependency', 'Dev Dependency', 'Dev Dependency', 'Dev Dependency', 'Dev Dependency'],\n",
    "    'accpected_update_type': ['Pinned', 'Patch', 'Minor', 'Major', 'Pinned', 'Patch', 'Minor', 'Major'],\n",
    "    'ratio': [deps_pinned_rat, deps_patch_rat, deps_minor_rat, deps_major_rat, dev_deps_pinned_rat, dev_deps_patch_rat, dev_deps_minor_rat, dev_deps_major_rat]\n",
    "})\n",
    "\n",
    "all_ratios = pd.DataFrame({\n",
    "    'accpected_update_type': ['Pinned', 'Patch', 'Minor', 'Major'],\n",
    "    'ratio': [all_deps_pinned_rat, all_deps_patch_rat, all_deps_minor_rat, all_deps_major_rat]\n",
    "})\n",
    "\n",
    "print(f'{deps_count} Dependencies and {dev_deps_count} Dev Dependencoes')\n",
    "print(f'\\t{deps_pinned_count + dev_deps_pinned_count} ({round(all_deps_pinned_rat*100, 2)}%) Pinned')\n",
    "print(f'\\t{deps_patch_count + dev_deps_patch_count} ({round(all_deps_patch_rat*100, 2)}%) Patch')\n",
    "print(f'\\t{deps_minor_count + dev_deps_minor_count} ({round(all_deps_minor_rat*100, 2)}%) Minor')\n",
    "print(f'\\t{deps_major_count + dev_deps_major_count} ({round(all_deps_major_rat*100, 2)}%) Major')"
   ]
  },
  {
   "cell_type": "code",
   "execution_count": 54,
   "metadata": {},
   "outputs": [
    {
     "name": "stderr",
     "output_type": "stream",
     "text": [
      "<ipython-input-54-37bff38bc686>:24: UserWarning: FixedFormatter should only be used together with FixedLocator\n",
      "  ax_1.set_yticklabels(y_labels, fontsize=16)\n",
      "<ipython-input-54-37bff38bc686>:44: UserWarning: FixedFormatter should only be used together with FixedLocator\n",
      "  ax_2.set_yticklabels(y_labels, fontsize=16)\n"
     ]
    },
    {
     "data": {
      "image/png": "[encoded data removed]",
      "text/plain": [
       "<Figure size 1152x576 with 2 Axes>"
      ]
     },
     "metadata": {},
     "output_type": "display_data"
    }
   ],
   "source": [
    "grouped_deps = dependencies_df.groupby(by=['package', 'deps_type'])['deps_name'].count().reset_index(name='count')\n",
    "\n",
    "sns.set()\n",
    "fig, (ax_1, ax_2) = plt.subplots(nrows=1, ncols=2, figsize=(16, 8))\n",
    "deps_type_order = ['Dependency', 'Dev Dependency']\n",
    "\n",
    "params_1 = dict(\n",
    "    data=grouped_deps,\n",
    "    x='deps_type',\n",
    "    y='count',\n",
    "    order=deps_type_order,\n",
    ")\n",
    "ax_1 = sns.boxplot(\n",
    "    **params_1,\n",
    "    palette=TWO_COLOUR_PALETTE,\n",
    "    ax=ax_1\n",
    ")\n",
    "\n",
    "ax_1.set_yscale(\"log\")\n",
    "ax_1.set_title(f'Number of Project Dependencies', fontsize=20)\n",
    "ax_1.set_ylabel('', fontsize=20)\n",
    "ax_1.set_xlabel('', fontsize=20)\n",
    "y_labels = [f\"{int(x)}\" for x in ax_1.get_yticks()]\n",
    "ax_1.set_yticklabels(y_labels, fontsize=16)\n",
    "ax_1.set_xticklabels(ax_1.get_xticklabels(), fontsize=16)\n",
    "\n",
    "params_2 = dict(\n",
    "    data=ratios,\n",
    "    x='accpected_update_type',\n",
    "    y='ratio',\n",
    "    hue='deps_type',\n",
    "    order=['Patch', 'Minor', 'Major', 'Pinned'],\n",
    "    hue_order=deps_type_order,\n",
    ")\n",
    "ax_2 = sns.barplot(\n",
    "    **params_2,\n",
    "    palette=TWO_COLOUR_PALETTE,\n",
    "    ax=ax_2,\n",
    ")\n",
    "ax_2.set_title(f'Accepted Update Types', fontsize=20)\n",
    "ax_2.set_ylabel('', fontsize=20)\n",
    "ax_2.set_xlabel('', fontsize=20)\n",
    "y_labels = [f\"{int(x*100)}%\" for x in ax_2.get_yticks()]\n",
    "ax_2.set_yticklabels(y_labels, fontsize=16)\n",
    "ax_2.set_xticklabels(ax_2.get_xticklabels(), fontsize=16)\n",
    "ax_2.legend(\n",
    "    title=\"\",\n",
    "    fancybox=True\n",
    ")\n",
    "fig.tight_layout()\n",
    "plt.show()"
   ]
  },
  {
   "cell_type": "code",
   "execution_count": 41,
   "metadata": {},
   "outputs": [],
   "source": [
    "all_ratios_to_add_rq1 = pd.DataFrame({\n",
    "    'value_type': 'Accepted Update Types',\n",
    "    'update_type': all_ratios['accpected_update_type'],\n",
    "    'value': all_ratios['ratio'],\n",
    "})\n",
    "rq1_for_plot_aug = rq1_for_plot.append(all_ratios_to_add_rq1, ignore_index=True)"
   ]
  },
  {
   "cell_type": "code",
   "execution_count": 44,
   "metadata": {},
   "outputs": [
    {
     "name": "stderr",
     "output_type": "stream",
     "text": [
      "<ipython-input-44-65c5e5f8b68d>:29: UserWarning: FixedFormatter should only be used together with FixedLocator\n",
      "  ax.set_yticklabels(y_labels, fontsize=16)\n"
     ]
    },
    {
     "data": {
      "image/png": "[encoded data removed]",
      "text/plain": [
       "<Figure size 1152x576 with 1 Axes>"
      ]
     },
     "metadata": {},
     "output_type": "display_data"
    }
   ],
   "source": [
    "\n",
    "sns.set()\n",
    "fig, ax = plt.subplots(figsize=(16, 8))\n",
    "\n",
    "hue_order = [\n",
    "    'Breakages',\n",
    "    'Releases',\n",
    "#     'Breakages/Releases',\n",
    "    'Accepted Update Types'\n",
    "]\n",
    "\n",
    "params = dict(\n",
    "    data=rq1_for_plot_aug[rq1_for_plot_aug['value_type'] != 'Breakages/Releases'],\n",
    "    x=\"update_type\",\n",
    "    y='value',\n",
    "    hue='value_type',\n",
    "    order=['Patch', 'Minor', 'Major', 'Pinned'],\n",
    "    hue_order=hue_order,\n",
    ")\n",
    "ax = sns.barplot(\n",
    "    **params,\n",
    "    palette=FOUR_COLOUR_PALETTE,\n",
    ")\n",
    "\n",
    "ax.set_title(f'', fontsize=20)\n",
    "ax.set_ylabel('', fontsize=20)\n",
    "ax.set_xlabel('', fontsize=20)\n",
    "\n",
    "y_labels = [f\"{int(y*100)}%\" for y in ax.get_yticks()]\n",
    "ax.set_yticklabels(y_labels, fontsize=16)\n",
    "ax.set_xticklabels(ax.get_xticklabels(), fontsize=16)\n",
    "\n",
    "# Make legend bigger\n",
    "ax.legend(\n",
    "    title=\"\",\n",
    "    fancybox=True,\n",
    "    fontsize=16,\n",
    ")\n",
    "fig.tight_layout()\n",
    "plt.show()\n",
    "\n"
   ]
  },
  {
   "cell_type": "code",
   "execution_count": 45,
   "metadata": {},
   "outputs": [],
   "source": [
    "for_stacked = \\\n",
    "    rq1_for_plot_aug[rq1_for_plot_aug['value_type'].isin(['Breakages', 'Releases', 'Accepted Update Types'])].copy()\n",
    "for_stacked['per'] = for_stacked['value'] * 100\n",
    "major_bars = list(for_stacked[for_stacked['update_type'] == 'Major']['per'].to_numpy())\n",
    "minor_bars = list(for_stacked[for_stacked['update_type'] == 'Minor']['per'].to_numpy())\n",
    "patch_bars = list(for_stacked[for_stacked['update_type'] == 'Patch']['per'].to_numpy())\n",
    "pinned_bars = [0, 0] + list(for_stacked[for_stacked['update_type'] == 'Pinned']['per'].to_numpy())"
   ]
  },
  {
   "cell_type": "code",
   "execution_count": 46,
   "metadata": {},
   "outputs": [
    {
     "data": {
      "image/png": "[encoded data removed]",
      "text/plain": [
       "<Figure size 576x432 with 1 Axes>"
      ]
     },
     "metadata": {},
     "output_type": "display_data"
    }
   ],
   "source": [
    "# Data\n",
    "sns.set()\n",
    "fig, ax = plt.subplots(figsize=(8, 6))\n",
    "r = [0, 1, 2]\n",
    "# plot\n",
    "barWidth = 0.5\n",
    "names = ('Breakages','Releases','Accepted Update Type')\n",
    "# Create Major Bars\n",
    "ax = plt.bar(\n",
    "    r,\n",
    "    major_bars,\n",
    "    color=FOUR_COLOUR_PALETTE[0],\n",
    "    edgecolor='white',\n",
    "    width=barWidth,\n",
    "    label=\"Major\",\n",
    ")\n",
    "# Create Minor Bars\n",
    "ax = plt.bar(\n",
    "    r,\n",
    "    minor_bars,\n",
    "    bottom=major_bars,\n",
    "    color=FOUR_COLOUR_PALETTE[1],\n",
    "    edgecolor='white',\n",
    "    width=barWidth,\n",
    "    label=\"Minor\",\n",
    ")\n",
    "# Create Patch Bars\n",
    "ax = plt.bar(\n",
    "    r,\n",
    "    patch_bars,\n",
    "    bottom=[i+j for i,j in zip(major_bars, minor_bars)],\n",
    "    color=FOUR_COLOUR_PALETTE[2],\n",
    "    edgecolor='white',\n",
    "    width=barWidth,\n",
    "    label=\"Patch\",\n",
    ")\n",
    "ax = plt.bar(\n",
    "    r,\n",
    "    pinned_bars,\n",
    "    bottom=[i+j+k for i,j,k in zip(major_bars, minor_bars, patch_bars)],\n",
    "    color=FOUR_COLOUR_PALETTE[3],\n",
    "    edgecolor='white',\n",
    "    width=barWidth,\n",
    "    label=\"Pinned\",\n",
    ")\n",
    "# Custom x axis\n",
    "plt.xticks(r, names, fontsize=14)\n",
    "plt.xlabel(\"\")\n",
    "locs, labels = plt.yticks()\n",
    "plt.yticks(locs, [f\"{int(y)}%\" for y in locs], fontsize=12)\n",
    "# Add a legend\n",
    "plt.legend(loc='upper left', bbox_to_anchor=(1,1), ncol=1)\n",
    "# Show graphic\n",
    "fig.tight_layout()\n",
    "plt.show()"
   ]
  },
  {
   "cell_type": "code",
   "execution_count": null,
   "metadata": {},
   "outputs": [],
   "source": []
  },
  {
   "cell_type": "code",
   "execution_count": null,
   "metadata": {},
   "outputs": [],
   "source": []
  },
  {
   "cell_type": "code",
   "execution_count": null,
   "metadata": {},
   "outputs": [],
   "source": []
  }
 ],
 "metadata": {
  "kernelspec": {
   "display_name": "Python 3",
   "language": "python",
   "name": "python3"
  },
  "language_info": {
   "codemirror_mode": {
    "name": "ipython",
    "version": 3
   },
   "file_extension": ".py",
   "mimetype": "text/x-python",
   "name": "python",
   "nbconvert_exporter": "python",
   "pygments_lexer": "ipython3",
   "version": "3.8.5"
  }
 },
 "nbformat": 4,
 "nbformat_minor": 4
}
