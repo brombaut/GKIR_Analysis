{
 "cells": [
  {
   "cell_type": "markdown",
   "metadata": {},
   "source": [
    "<h1>RQ1 -What are the characteristics of in-range updates that break a client’s build?</h1>"
   ]
  },
  {
   "cell_type": "markdown",
   "metadata": {},
   "source": [
    "<h2>Motivation</h2>\n",
    "<p>\n",
    "It is not uncommon for client packages to specify a range of versions they would like to accept from a provider package, as using versioning range statements has the advantage of reducing the overhead of keeping its provider up-to-date (Cogo et al., 2019). However, the adoption of version range statements leaves the client package susceptible to implicitly accepting a dependency release that makes the provider package no longer compatible with their own. When this scenario occurs, not only will the client’s build be broken, but also any additional packages that depend on them will also be affected. Therefore, build issues caused by a dependency specified with a version range should be treated with a sense of urgency in order to get them resolved as quickly as possible. While numerous studies have investigated breaking changes (refs), none have looked specifically at issues caused by in-range updates. Identifying characteristics of in-range breaking changes can provide insight to provider package maintainers to help them avoid inadvertently releasing changes that could potentially have a high impact on clients who use a version range for their dependency. Additionally, while multiple studies suggest that practitioners often advocate against the adoption of version range statements due to the possibility of being caught by a surprised breaking provider release, doing so is identified to be a dependency code smell (Jafari et al., 2020). Investigating these in-range breakages could provide insight into which type of version range specification is safest, and which should be avoided. Therefore, in this RQ, we investigate what types of changes are released by providers that are automatically accepted by clients but end up breaking the client's build.  \n",
    "</p>"
   ]
  },
  {
   "cell_type": "markdown",
   "metadata": {},
   "source": [
    "<h2>Findings</h2>\n",
    "<ul>\n",
    "    <li><b>Finding) The majority of in-range breaking updates are caused by development dependencies.</b></li>\n",
    "</ul>"
   ]
  },
  {
   "cell_type": "markdown",
   "metadata": {},
   "source": [
    "<h3>Load helper functions</h3>"
   ]
  },
  {
   "cell_type": "code",
   "execution_count": 152,
   "metadata": {},
   "outputs": [],
   "source": [
    "%run _utils.ipynb"
   ]
  },
  {
   "cell_type": "markdown",
   "metadata": {},
   "source": [
    "<h3>Load data set</h3>"
   ]
  },
  {
   "cell_type": "code",
   "execution_count": 85,
   "metadata": {},
   "outputs": [],
   "source": [
    "issues = load_issues()\n",
    "client_packages = load_package_names()\n",
    "library_versions = load_library_versions()"
   ]
  },
  {
   "cell_type": "markdown",
   "metadata": {},
   "source": [
    "<h3><i>What dependency types are causeing in-range breakages in their clients?</i></h3>"
   ]
  },
  {
   "cell_type": "code",
   "execution_count": 67,
   "metadata": {
    "jupyter": {
     "source_hidden": true
    }
   },
   "outputs": [
    {
     "data": {
      "text/html": [
       "<div>\n",
       "<style scoped>\n",
       "    .dataframe tbody tr th:only-of-type {\n",
       "        vertical-align: middle;\n",
       "    }\n",
       "\n",
       "    .dataframe tbody tr th {\n",
       "        vertical-align: top;\n",
       "    }\n",
       "\n",
       "    .dataframe thead th {\n",
       "        text-align: right;\n",
       "    }\n",
       "</style>\n",
       "<table border=\"1\" class=\"dataframe\">\n",
       "  <thead>\n",
       "    <tr style=\"text-align: right;\">\n",
       "      <th></th>\n",
       "      <th>dependency_type</th>\n",
       "      <th>proportion</th>\n",
       "    </tr>\n",
       "  </thead>\n",
       "  <tbody>\n",
       "    <tr>\n",
       "      <th>0</th>\n",
       "      <td>devDependency</td>\n",
       "      <td>0.703926</td>\n",
       "    </tr>\n",
       "    <tr>\n",
       "      <th>1</th>\n",
       "      <td>dependency</td>\n",
       "      <td>0.294407</td>\n",
       "    </tr>\n",
       "    <tr>\n",
       "      <th>2</th>\n",
       "      <td>optionalDependency</td>\n",
       "      <td>0.000972</td>\n",
       "    </tr>\n",
       "    <tr>\n",
       "      <th>3</th>\n",
       "      <td>peerDependency</td>\n",
       "      <td>0.000695</td>\n",
       "    </tr>\n",
       "  </tbody>\n",
       "</table>\n",
       "</div>"
      ],
      "text/plain": [
       "      dependency_type  proportion\n",
       "0       devDependency    0.703926\n",
       "1          dependency    0.294407\n",
       "2  optionalDependency    0.000972\n",
       "3      peerDependency    0.000695"
      ]
     },
     "execution_count": 67,
     "metadata": {},
     "output_type": "execute_result"
    }
   ],
   "source": [
    "proportions = (\n",
    "    issues['dependency_type'].value_counts() / \n",
    "    issues['dependency_type'].count()\n",
    ").to_frame(name='proportion')\\\n",
    "    .rename_axis('dependency_type')\\\n",
    "    .reset_index()\n",
    "proportions.head()"
   ]
  },
  {
   "cell_type": "markdown",
   "metadata": {},
   "source": [
    "<h3><i>What types of updates do dependencies release most often?</i></h3>"
   ]
  },
  {
   "cell_type": "code",
   "execution_count": 79,
   "metadata": {
    "jupyter": {
     "source_hidden": true
    }
   },
   "outputs": [
    {
     "data": {
      "text/html": [
       "<div>\n",
       "<style scoped>\n",
       "    .dataframe tbody tr th:only-of-type {\n",
       "        vertical-align: middle;\n",
       "    }\n",
       "\n",
       "    .dataframe tbody tr th {\n",
       "        vertical-align: top;\n",
       "    }\n",
       "\n",
       "    .dataframe thead th {\n",
       "        text-align: right;\n",
       "    }\n",
       "</style>\n",
       "<table border=\"1\" class=\"dataframe\">\n",
       "  <thead>\n",
       "    <tr style=\"text-align: right;\">\n",
       "      <th></th>\n",
       "      <th>release_type</th>\n",
       "      <th>proportion</th>\n",
       "    </tr>\n",
       "  </thead>\n",
       "  <tbody>\n",
       "    <tr>\n",
       "      <th>0</th>\n",
       "      <td>PATCH</td>\n",
       "      <td>0.682885</td>\n",
       "    </tr>\n",
       "    <tr>\n",
       "      <th>1</th>\n",
       "      <td>MINOR</td>\n",
       "      <td>0.233746</td>\n",
       "    </tr>\n",
       "    <tr>\n",
       "      <th>2</th>\n",
       "      <td>MAJOR</td>\n",
       "      <td>0.083370</td>\n",
       "    </tr>\n",
       "  </tbody>\n",
       "</table>\n",
       "</div>"
      ],
      "text/plain": [
       "  release_type  proportion\n",
       "0        PATCH    0.682885\n",
       "1        MINOR    0.233746\n",
       "2        MAJOR    0.083370"
      ]
     },
     "execution_count": 79,
     "metadata": {},
     "output_type": "execute_result"
    }
   ],
   "source": [
    "proportions = (\n",
    "    library_versions['version_release_type'].value_counts() / \n",
    "    library_versions['version_release_type'].count()\n",
    ").to_frame(name='proportion')\\\n",
    "    .rename_axis('release_type')\\\n",
    "    .reset_index()\n",
    "proportions.head()"
   ]
  },
  {
   "cell_type": "markdown",
   "metadata": {},
   "source": [
    "<h3><i>What dependency release types are causing in-range breakages in their clients?</i></h3>"
   ]
  },
  {
   "cell_type": "code",
   "execution_count": 71,
   "metadata": {
    "jupyter": {
     "source_hidden": true
    }
   },
   "outputs": [
    {
     "data": {
      "text/html": [
       "<div>\n",
       "<style scoped>\n",
       "    .dataframe tbody tr th:only-of-type {\n",
       "        vertical-align: middle;\n",
       "    }\n",
       "\n",
       "    .dataframe tbody tr th {\n",
       "        vertical-align: top;\n",
       "    }\n",
       "\n",
       "    .dataframe thead th {\n",
       "        text-align: right;\n",
       "    }\n",
       "</style>\n",
       "<table border=\"1\" class=\"dataframe\">\n",
       "  <thead>\n",
       "    <tr style=\"text-align: right;\">\n",
       "      <th></th>\n",
       "      <th>release_type</th>\n",
       "      <th>proportion</th>\n",
       "    </tr>\n",
       "  </thead>\n",
       "  <tbody>\n",
       "    <tr>\n",
       "      <th>0</th>\n",
       "      <td>PATCH</td>\n",
       "      <td>0.652902</td>\n",
       "    </tr>\n",
       "    <tr>\n",
       "      <th>1</th>\n",
       "      <td>MINOR</td>\n",
       "      <td>0.345551</td>\n",
       "    </tr>\n",
       "    <tr>\n",
       "      <th>2</th>\n",
       "      <td>MAJOR</td>\n",
       "      <td>0.001546</td>\n",
       "    </tr>\n",
       "  </tbody>\n",
       "</table>\n",
       "</div>"
      ],
      "text/plain": [
       "  release_type  proportion\n",
       "0        PATCH    0.652902\n",
       "1        MINOR    0.345551\n",
       "2        MAJOR    0.001546"
      ]
     },
     "execution_count": 71,
     "metadata": {},
     "output_type": "execute_result"
    }
   ],
   "source": [
    "issues_with_update_type = issues[~pd.isna(issues['update_type'])]\n",
    "proportions = (\n",
    "    issues_with_update_type['update_type'].value_counts() / \n",
    "    issues_with_update_type['update_type'].count()\n",
    ").to_frame(name='proportion')\\\n",
    "    .rename_axis('release_type')\\\n",
    "    .reset_index()\n",
    "proportions.head()"
   ]
  },
  {
   "cell_type": "markdown",
   "metadata": {},
   "source": [
    "<h3><i>[Normalized] - What dependency release types are causing in-range breakages in their clients?</i></h3>"
   ]
  },
  {
   "cell_type": "code",
   "execution_count": 80,
   "metadata": {},
   "outputs": [],
   "source": [
    "# TODO"
   ]
  },
  {
   "cell_type": "markdown",
   "metadata": {},
   "source": [
    "<h4>How many dependencies do clients have?</h4>"
   ]
  },
  {
   "cell_type": "code",
   "execution_count": 168,
   "metadata": {},
   "outputs": [
    {
     "data": {
      "image/png": "[encoded data removed]",
      "text/plain": [
       "<Figure size 576x180 with 1 Axes>"
      ]
     },
     "metadata": {},
     "output_type": "display_data"
    }
   ],
   "source": [
    "dependencies_count = dependencies\\\n",
    "    .groupby(('package'))['deps_type']\\\n",
    "    .value_counts()\\\n",
    "    .to_frame(name='count')\\\n",
    "    .reset_index()\n",
    "dependencies_count['placeholder'] = ''\n",
    "dependencies_count['count_log'] = np.log10(dependencies_count['count'])\n",
    "fig, ax = plt.subplots(nrows=1, ncols=1, figsize=(8,2.5))\n",
    "ax = sns.violinplot(\n",
    "    data=dependencies_count,\n",
    "    x='count_log',\n",
    "    y='placeholder',\n",
    "    hue='deps_type',\n",
    "    split=True,\n",
    "    inner='quartile',\n",
    "    palette=['1', '0.6'],\n",
    "    scale='width',\n",
    ")\n",
    "\n",
    "ax.set_ylabel('')\n",
    "ax.set_xlabel('Count')\n",
    "ax.set_xticks([0, 1, 2, 3])\n",
    "ax.xaxis.set_major_formatter(FuncFormatter(lambda x, pos: int(10 ** x)))\n",
    "ax.legend(\n",
    "    title='',\n",
    "    loc=1\n",
    ")\n",
    "\n",
    "plt.show()"
   ]
  },
  {
   "cell_type": "markdown",
   "metadata": {},
   "source": [
    "<h3><i>What types of updates do clients accept (i.e. dependency version range)</i></h3>"
   ]
  },
  {
   "cell_type": "code",
   "execution_count": 130,
   "metadata": {
    "jupyter": {
     "source_hidden": true
    }
   },
   "outputs": [],
   "source": [
    "# Parse and flatten each clients dependencies\n",
    "\n",
    "import json\n",
    "\n",
    "deps_dtos = list()\n",
    "\n",
    "def parse_client_package_deps(row):\n",
    "    deps_str = row['dependencies']\n",
    "    if pd.isna(deps_str):\n",
    "        deps = dict()\n",
    "    else:\n",
    "        deps = json.loads(deps_str.replace(\"'\", '\"')) if ~pd.isna(deps_str) else dict()\n",
    "    dev_deps_str = row['dev_dependencies']\n",
    "    if pd.isna(dev_deps_str):\n",
    "        dev_deps = dict()\n",
    "    else:\n",
    "        dev_deps = json.loads(dev_deps_str.replace(\"'\", '\"')) if dev_deps_str else dict()\n",
    "    deps_dtos.append({\n",
    "        'package_name': row['name'],\n",
    "        'deps': deps,\n",
    "        'dev_deps': dev_deps,\n",
    "    })\n",
    "\n",
    "client_packages.apply(parse_client_package_deps, axis=1)\n",
    "DEP = 'Dependency'\n",
    "DEV_DEP = 'Dev Dependency'\n",
    "packages = list()\n",
    "deps_names = list()\n",
    "deps_versions = list()\n",
    "deps_types =  list()\n",
    "\n",
    "for deps_dto in deps_dtos:\n",
    "    package = deps_dto['package_name']\n",
    "    for dep_name, dep_version in deps_dto['deps'].items():\n",
    "        packages.append(package)\n",
    "        deps_names.append(dep_name)\n",
    "        deps_versions.append(dep_version)\n",
    "        deps_types.append(DEP)\n",
    "    for dep_name, dep_version in deps_dto['dev_deps'].items():\n",
    "        packages.append(package)\n",
    "        deps_names.append(dep_name)\n",
    "        deps_versions.append(dep_version)\n",
    "        deps_types.append(DEV_DEP)\n",
    "        \n",
    "dependencies = pd.DataFrame({\n",
    "    'package': packages,\n",
    "    'deps_name': deps_names,\n",
    "    'deps_version': deps_versions,\n",
    "    'deps_type': deps_types,\n",
    "})\n",
    "\n",
    "# For testing regex\n",
    "# 13.4.9\n",
    "# 10.1.1\n",
    "# 0.1.92\n",
    "# 16.13.1\n",
    "# 1.0.1-RC.1\n",
    "# 1.0.0-beta.30\n",
    "# <2.0.0\n",
    "# < 2.0.0\n",
    "# ^0.0.1\n",
    "\n",
    "\n",
    "# ~13.2.4\n",
    "# 13.2.x\n",
    "# 13.2.*\n",
    "# 2.3\n",
    "# ^0.1.2\n",
    "\n",
    "# ^13.2.4\n",
    "# 13.x\n",
    "# 13.*\n",
    "# 2.*.*\n",
    "# 2\n",
    "# 2\n",
    "\n",
    "# *\n",
    "# x\n",
    "# >=20.0.0\n",
    "# latest\n",
    "\n",
    "regex_pinned = '^([<=]?\\d+.\\d+.\\d+)|(^\\^0.0.\\d+$)'\n",
    "regex_patch_release = '(^=?(\\~|\\d+.\\d+.[x*]$)|^\\d+.\\d+$)|(^\\^0.[1-9]\\d*)'\n",
    "regex_minor_release = '^=?(\\^|\\d+.([x*].)*[x*]$)|^\\d+$'\n",
    "regex_major_release = '^[\\*x]$|^latest$|^>=|x.x|x.x.x'\n",
    "dependencies_df['accepted_update_type'] = 'Unknown'\n",
    "\n",
    "import warnings\n",
    "warnings.filterwarnings('ignore', 'This pattern has match groups')\n",
    "\n",
    "def set_accepted_update_type(df, reg_ex, accepted_update_type):\n",
    "    df.loc[\n",
    "        df['deps_version'].str.contains(reg_ex, regex=True),\n",
    "        'accepted_update_type'\n",
    "    ] = accepted_update_type\n",
    "\n",
    "    \n",
    "set_accepted_update_type(dependencies_df, regex_patch_release, PATCH)\n",
    "set_accepted_update_type(dependencies_df, regex_minor_release, MINOR)\n",
    "set_accepted_update_type(dependencies_df, regex_major_release, MAJOR)\n",
    "set_accepted_update_type(dependencies_df, regex_pinned, PINNED)\n",
    "\n",
    "dependencies['accepted_update_type'] = dependencies_df['accepted_update_type'].astype('category')"
   ]
  },
  {
   "cell_type": "code",
   "execution_count": 129,
   "metadata": {
    "jupyter": {
     "source_hidden": true
    }
   },
   "outputs": [
    {
     "data": {
      "text/html": [
       "<div>\n",
       "<style scoped>\n",
       "    .dataframe tbody tr th:only-of-type {\n",
       "        vertical-align: middle;\n",
       "    }\n",
       "\n",
       "    .dataframe tbody tr th {\n",
       "        vertical-align: top;\n",
       "    }\n",
       "\n",
       "    .dataframe thead th {\n",
       "        text-align: right;\n",
       "    }\n",
       "</style>\n",
       "<table border=\"1\" class=\"dataframe\">\n",
       "  <thead>\n",
       "    <tr style=\"text-align: right;\">\n",
       "      <th></th>\n",
       "      <th>accepted_update_type</th>\n",
       "      <th>proportion</th>\n",
       "    </tr>\n",
       "  </thead>\n",
       "  <tbody>\n",
       "    <tr>\n",
       "      <th>0</th>\n",
       "      <td>MINOR</td>\n",
       "      <td>0.823132</td>\n",
       "    </tr>\n",
       "    <tr>\n",
       "      <th>1</th>\n",
       "      <td>PINNED</td>\n",
       "      <td>0.125251</td>\n",
       "    </tr>\n",
       "    <tr>\n",
       "      <th>2</th>\n",
       "      <td>PATCH</td>\n",
       "      <td>0.037382</td>\n",
       "    </tr>\n",
       "    <tr>\n",
       "      <th>3</th>\n",
       "      <td>MAJOR</td>\n",
       "      <td>0.010790</td>\n",
       "    </tr>\n",
       "    <tr>\n",
       "      <th>4</th>\n",
       "      <td>Unknown</td>\n",
       "      <td>0.003444</td>\n",
       "    </tr>\n",
       "  </tbody>\n",
       "</table>\n",
       "</div>"
      ],
      "text/plain": [
       "  accepted_update_type  proportion\n",
       "0                MINOR    0.823132\n",
       "1               PINNED    0.125251\n",
       "2                PATCH    0.037382\n",
       "3                MAJOR    0.010790\n",
       "4              Unknown    0.003444"
      ]
     },
     "execution_count": 129,
     "metadata": {},
     "output_type": "execute_result"
    }
   ],
   "source": [
    "proportions = (\n",
    "    dependencies['accepted_update_type'].value_counts() / \n",
    "    dependencies['accepted_update_type'].count()\n",
    ").to_frame(name='proportion')\\\n",
    "    .rename_axis('accepted_update_type')\\\n",
    "    .reset_index()\n",
    "proportions.head()"
   ]
  },
  {
   "cell_type": "code",
   "execution_count": null,
   "metadata": {},
   "outputs": [],
   "source": []
  }
 ],
 "metadata": {
  "kernelspec": {
   "display_name": "Python 3",
   "language": "python",
   "name": "python3"
  },
  "language_info": {
   "codemirror_mode": {
    "name": "ipython",
    "version": 3
   },
   "file_extension": ".py",
   "mimetype": "text/x-python",
   "name": "python",
   "nbconvert_exporter": "python",
   "pygments_lexer": "ipython3",
   "version": "3.8.5"
  }
 },
 "nbformat": 4,
 "nbformat_minor": 4
}
