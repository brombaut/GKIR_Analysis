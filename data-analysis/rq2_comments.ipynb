{
 "cells": [
  {
   "cell_type": "code",
   "execution_count": 57,
   "id": "spatial-conference",
   "metadata": {},
   "outputs": [
    {
     "name": "stderr",
     "output_type": "stream",
     "text": [
      "/Users/BenRombaut/opt/anaconda3/lib/python3.8/site-packages/IPython/core/interactiveshell.py:3338: DtypeWarning: Columns (14,16,17,20) have mixed types.Specify dtype option on import or set low_memory=False.\n",
      "  if (await self.run_code(code, result,  async_=asy)):\n"
     ]
    }
   ],
   "source": [
    "%run _utils.ipynb\n",
    "\n",
    "PROJECT_ROOT = '..'\n",
    "PLOTS_PATH = f'{PROJECT_ROOT}/plots'\n",
    "CSV_FOLDER = 'csv'\n",
    "import warnings\n",
    "warnings.simplefilter(action='ignore', category=UserWarning)\n",
    "\n",
    "issues = load_issues()\n",
    "comments = load_comments()"
   ]
  },
  {
   "cell_type": "code",
   "execution_count": 58,
   "id": "sharing-graduation",
   "metadata": {},
   "outputs": [
    {
     "data": {
      "text/plain": [
       "365625"
      ]
     },
     "execution_count": 58,
     "metadata": {},
     "output_type": "execute_result"
    }
   ],
   "source": [
    "len(comments)"
   ]
  },
  {
   "cell_type": "markdown",
   "id": "capital-branch",
   "metadata": {},
   "source": [
    "# Comments on Breaking Issues"
   ]
  },
  {
   "cell_type": "markdown",
   "id": "aging-wrist",
   "metadata": {},
   "source": [
    "# How many comments do Greenkeeper Breaking Issues have?"
   ]
  },
  {
   "cell_type": "code",
   "execution_count": 59,
   "id": "optional-maker",
   "metadata": {},
   "outputs": [
    {
     "name": "stdout",
     "output_type": "stream",
     "text": [
      "# of bot comments: 354901\n",
      "# of greenkeeper comments: 354250\n"
     ]
    }
   ],
   "source": [
    "bot_comments = comments[(comments['comment_user_type'] == \"Bot\")]\n",
    "\n",
    "print(f'# of bot comments: {len(bot_comments)}')\n",
    "greenkeeper_comments = bot_comments[bot_comments['comment_user_login'].str.contains('greenkeeper')]\n",
    "print(f'# of greenkeeper comments: {len(greenkeeper_comments)}')\n"
   ]
  },
  {
   "cell_type": "markdown",
   "id": "signal-crisis",
   "metadata": {},
   "source": [
    "# User Comments"
   ]
  },
  {
   "cell_type": "code",
   "execution_count": 60,
   "id": "comprehensive-resort",
   "metadata": {},
   "outputs": [
    {
     "name": "stdout",
     "output_type": "stream",
     "text": [
      "\n",
      "10724 comments from users (2.93% of comments) on 9854 unique issues (8.0% of issues)\n",
      "\n"
     ]
    }
   ],
   "source": [
    "users_comments = comments[(comments['comment_user_type'] == \"User\")].copy()\n",
    "percent_of_user_comments = calculate_percent(len(users_comments), len(comments))\n",
    "unique_issue_ids = users_comments['comment_issue_id'].unique()\n",
    "percent_of_issues_with_user_comment = calculate_percent(len(unique_issue_ids), len(issues['issue_id']))\n",
    "s = f'''\n",
    "{len(users_comments)} comments from users ({percent_of_user_comments}% of comments) on \\\n",
    "{len(unique_issue_ids)} unique issues ({percent_of_issues_with_user_comment}% of issues)\n",
    "'''\n",
    "print(s)"
   ]
  },
  {
   "cell_type": "markdown",
   "id": "greenhouse-adams",
   "metadata": {},
   "source": [
    "# What are users saying?"
   ]
  },
  {
   "cell_type": "code",
   "execution_count": 61,
   "id": "included-white",
   "metadata": {},
   "outputs": [],
   "source": [
    "NOT_CLASSIFIED = 'Other'\n",
    "\n",
    "# Set all comments to 'Not Classified'\n",
    "users_comments['comment_classification'] = NOT_CLASSIFIED\n",
    "users_comments = users_comments.drop(users_comments[pd.isna(users_comments['comment_body'])].index)"
   ]
  },
  {
   "cell_type": "code",
   "execution_count": 62,
   "id": "incorporate-eleven",
   "metadata": {},
   "outputs": [
    {
     "name": "stdout",
     "output_type": "stream",
     "text": [
      "3704 comments from users explicitly link a fix.\n",
      "1959 comments from users indicate a false alarm.\n",
      "26 comments saying failure was caused by transient dependency\n",
      "386 comments mentioning Greenkeeper\n",
      "490 comments the projects CI build system\n",
      "1865 comments from users saying the issues has been fixed (without linking the fix).\n"
     ]
    }
   ],
   "source": [
    "################################\n",
    "# START FIX_REFERENCED\n",
    "################################\n",
    "FIX_REFERENCED = 'Fix Referenced'\n",
    "\n",
    "reg_pr_url = 'https:\\/\\/github\\.com\\/[\\S]*\\/(pull|issues)\\/[\\S]*'\n",
    "reg_closed_by = '(closed|fixed|resolved|done|updated) (in|by|via|with)'\n",
    "reg_number = '^#\\d*|(Merged|Close|PR|see).*#\\d*'\n",
    "\n",
    "users_comments.loc[\n",
    "    (users_comments['comment_classification'] == NOT_CLASSIFIED) & (\n",
    "        (users_comments['comment_body'].str.contains(pat=reg_pr_url, case=True, regex=True)) |\n",
    "        (users_comments['comment_body'].str.contains(pat=reg_closed_by, case=False, regex=True)) |\n",
    "        (users_comments['comment_body'].str.contains(pat=reg_number, case=False, regex=True))\n",
    "    ),\n",
    "    'comment_classification'\n",
    "] = FIX_REFERENCED\n",
    "\n",
    "fix_referenced_comments = users_comments[users_comments['comment_classification'] == FIX_REFERENCED]\n",
    "print(f\"{len(fix_referenced_comments)} comments from users explicitly link a fix.\")\n",
    "# fix_referenced_comments['comment_body'].sample(10)\n",
    "################################\n",
    "# END FIX_REFERENCED\n",
    "################################\n",
    "\n",
    "\n",
    "################################\n",
    "# START FALSE_ALARM\n",
    "################################\n",
    "FALSE_ALARM = 'False Alarm'\n",
    "\n",
    "reg_flaky = 'flake|flaky|flakiness|fluke|(server|test) hiccup|inconsistent test|brittle test|unstable unit test|unstable test|Spurious test failure|Tests are passing'\n",
    "reg_random = '(fail|failing) random|random.*fail.*|random build error|intermittent'\n",
    "reg_retrigger = '(retrigger|re-trigger|rebuild|re-build|restart|re-starting|re-run|retried|rerun|reran|re-ran)'\n",
    "reg_false_positive = 'false (positive|alarm|negative|alert)|falso positive'\n",
    "reg_invalid = '^(invalid|not applicable|not (a|an) issue|unrelated)|Couldn\\'t reproduce|all tests pass'\n",
    "reg_unrelated='(unrelated.*fail)|(failed for other reasons)|(build is actually passing)|build hiccup'\n",
    "reg_timeout = 'timeout|time-out'\n",
    "\n",
    "\n",
    "users_comments.loc[\n",
    "    (users_comments['comment_classification'] == NOT_CLASSIFIED) & (\n",
    "        (users_comments['comment_body'].str.contains(pat=reg_flaky, case=False, regex=True)) |\n",
    "        (users_comments['comment_body'].str.contains(pat=reg_random, case=False, regex=True)) |\n",
    "        (users_comments['comment_body'].str.contains(pat=reg_retrigger, case=False, regex=True)) |\n",
    "        (users_comments['comment_body'].str.contains(pat=reg_false_positive, case=False, regex=True)) | \n",
    "        (users_comments['comment_body'].str.contains(pat=reg_invalid, case=False, regex=True)) |\n",
    "        (users_comments['comment_body'].str.contains(pat=reg_unrelated, case=False, regex=True)) |\n",
    "        (users_comments['comment_body'].str.contains(pat=reg_timeout, case=False, regex=True))\n",
    "    ),\n",
    "    'comment_classification'\n",
    "] = FALSE_ALARM\n",
    "\n",
    "\n",
    "false_alarm_comments = users_comments[users_comments['comment_classification'] == FALSE_ALARM]\n",
    "print(f\"{len(false_alarm_comments)} comments from users indicate a false alarm.\")\n",
    "# false_alarm_comments['comment_body'].sample(10)\n",
    "################################\n",
    "# END FALSE_ALARM\n",
    "################################\n",
    "\n",
    "\n",
    "\n",
    "################################\n",
    "# START TRANSIENT_FAILURE\n",
    "################################\n",
    "TRANSIENT_FAILURE = 'Transient Failure'\n",
    "\n",
    "reg_transient = 'transient.*fail'\n",
    "\n",
    "users_comments.loc[\n",
    "    (users_comments['comment_classification'] == NOT_CLASSIFIED) & (\n",
    "        (users_comments['comment_body'].str.contains(pat=reg_transient, case=False, regex=True))\n",
    "    ),\n",
    "    'comment_classification'\n",
    "] = TRANSIENT_FAILURE\n",
    "\n",
    "transient_failure_comments = users_comments[users_comments['comment_classification'] == TRANSIENT_FAILURE]\n",
    "print(f\"{len(transient_failure_comments)} comments saying failure was caused by transient dependency\")\n",
    "# transient_failure_comments['comment_body'].sample(10)\n",
    "################################\n",
    "# END TRANSIENT_FAILURE\n",
    "################################\n",
    "\n",
    "\n",
    "\n",
    "################################\n",
    "# START MENTION_GREENKEEPER\n",
    "################################\n",
    "MENTION_GREENKEEPER = 'Mention Greenkeeper'\n",
    "\n",
    "reg_greenkeeper = '(greenkeeper)'\n",
    "\n",
    "users_comments.loc[\n",
    "    (users_comments['comment_classification'] == NOT_CLASSIFIED) & (\n",
    "        (users_comments['comment_body'].str.contains(pat=reg_greenkeeper, case=False, regex=True))\n",
    "    ),\n",
    "    'comment_classification'\n",
    "] = MENTION_GREENKEEPER\n",
    "\n",
    "mention_greenkeeper_comments = users_comments[users_comments['comment_classification'] == MENTION_GREENKEEPER]\n",
    "print(f\"{len(mention_greenkeeper_comments)} comments mentioning Greenkeeper\")\n",
    "# mention_greenkeeper_comments['comment_body'].sample(10)\n",
    "################################\n",
    "# END MENTION_GREENKEEPER\n",
    "################################\n",
    "\n",
    "################################\n",
    "# START MENTION_CI_SYSTEM\n",
    "################################\n",
    "MENTION_CI_SYSTEM = 'Mention CI System'\n",
    "\n",
    "reg_ci_system = '(travis|CircleCI|circle ci|jarvis|jenkins|CI.*issue)'\n",
    "\n",
    "users_comments.loc[\n",
    "    (users_comments['comment_classification'] == NOT_CLASSIFIED) & (\n",
    "        (users_comments['comment_body'].str.contains(pat=reg_ci_system, case=False, regex=True))\n",
    "    ),\n",
    "    'comment_classification'\n",
    "] = MENTION_CI_SYSTEM\n",
    "\n",
    "mention_ci_system_comments = users_comments[users_comments['comment_classification'] == MENTION_CI_SYSTEM]\n",
    "print(f\"{len(mention_ci_system_comments)} comments the projects CI build system\")\n",
    "# mention_greenkeeper_comments['comment_body'].sample(10)\n",
    "################################\n",
    "# END MENTION_CI_SYSTEM\n",
    "################################\n",
    "\n",
    "\n",
    "################################\n",
    "# START FIX_MENTIONED\n",
    "################################\n",
    "FIX_MENTIONED = 'Fix Mentioned'\n",
    "\n",
    "reg_fixed = '(fix(ed)*|resolved|done|solved|closed|updated|upgraded|closing|merged)|(fix|fixed|bumped|merged|upgraded).*manually|manually.*merged'\n",
    "reg_update_in = '.*update.*in.*|Making a PR'\n",
    "\n",
    "users_comments.loc[\n",
    "    (users_comments['comment_classification'] == NOT_CLASSIFIED) & (\n",
    "        (users_comments['comment_body'].str.contains(pat=reg_fixed, case=False, regex=True)) | \n",
    "        (users_comments['comment_body'].str.contains(pat=reg_update_in, case=False, regex=True))\n",
    "    ),\n",
    "    'comment_classification'\n",
    "] = FIX_MENTIONED\n",
    "\n",
    "fix_mentioned_comments = users_comments[users_comments['comment_classification'] == FIX_MENTIONED]\n",
    "print(f\"{len(fix_mentioned_comments)} comments from users saying the issues has been fixed (without linking the fix).\")\n",
    "# fix_mentioned_comments['comment_body'].sample(10)\n",
    "################################\n",
    "# END FIX_MENTIONED\n",
    "################################"
   ]
  },
  {
   "cell_type": "code",
   "execution_count": 63,
   "id": "clean-kelly",
   "metadata": {},
   "outputs": [
    {
     "data": {
      "text/plain": [
       "array(['Fix Referenced', 'Fix Mentioned', 'Mention Greenkeeper',\n",
       "       'False Alarm', 'Other', 'Mention CI System', 'Transient Failure'],\n",
       "      dtype=object)"
      ]
     },
     "execution_count": 63,
     "metadata": {},
     "output_type": "execute_result"
    }
   ],
   "source": [
    "users_comments['comment_classification'].unique()"
   ]
  },
  {
   "cell_type": "code",
   "execution_count": 102,
   "id": "threatened-opportunity",
   "metadata": {},
   "outputs": [
    {
     "data": {
      "text/html": [
       "<div>\n",
       "<style scoped>\n",
       "    .dataframe tbody tr th:only-of-type {\n",
       "        vertical-align: middle;\n",
       "    }\n",
       "\n",
       "    .dataframe tbody tr th {\n",
       "        vertical-align: top;\n",
       "    }\n",
       "\n",
       "    .dataframe thead th {\n",
       "        text-align: right;\n",
       "    }\n",
       "</style>\n",
       "<table border=\"1\" class=\"dataframe\">\n",
       "  <thead>\n",
       "    <tr style=\"text-align: right;\">\n",
       "      <th></th>\n",
       "      <th>comment_body</th>\n",
       "    </tr>\n",
       "  </thead>\n",
       "  <tbody>\n",
       "    <tr>\n",
       "      <th>355644</th>\n",
       "      <td>There was a transient build failure at this time.</td>\n",
       "    </tr>\n",
       "    <tr>\n",
       "      <th>313211</th>\n",
       "      <td>transient travis failure (nvm installing node 6, not always node 8).</td>\n",
       "    </tr>\n",
       "    <tr>\n",
       "      <th>33184</th>\n",
       "      <td>Transient BrowserStack failure...</td>\n",
       "    </tr>\n",
       "  </tbody>\n",
       "</table>\n",
       "</div>"
      ],
      "text/plain": [
       "                                                                comment_body\n",
       "355644                     There was a transient build failure at this time.\n",
       "313211  transient travis failure (nvm installing node 6, not always node 8).\n",
       "33184                                      Transient BrowserStack failure..."
      ]
     },
     "execution_count": 102,
     "metadata": {},
     "output_type": "execute_result"
    }
   ],
   "source": [
    "users_comments[users_comments['comment_classification'] == 'Transient Failure'][['comment_body']].sample(3)"
   ]
  },
  {
   "cell_type": "code",
   "execution_count": 33,
   "id": "fixed-sunday",
   "metadata": {},
   "outputs": [
    {
     "data": {
      "image/png": "[encoded data removed]",
      "text/plain": [
       "<Figure size 576x576 with 1 Axes>"
      ]
     },
     "metadata": {},
     "output_type": "display_data"
    }
   ],
   "source": [
    "sns.set()\n",
    "\n",
    "fig, ax = plt.subplots(figsize=(8, 8))\n",
    "\n",
    "users_comments['comment_classification'].unique()\n",
    "\n",
    "cp = sns.countplot(\n",
    "    data=users_comments,\n",
    "    x=\"comment_classification\",\n",
    "    order = users_comments['comment_classification'].value_counts().index,\n",
    "    palette=COLOUR_PALETTE,\n",
    ")\n",
    "\n",
    "# gist_earth\n",
    "# Paired\n",
    "ax = ax.set_xticklabels(ax.get_xticklabels(), rotation=20)\n",
    "fig.tight_layout()\n",
    "save_plot(cp.get_figure(), 'types_of_user_comments.png')"
   ]
  },
  {
   "cell_type": "code",
   "execution_count": null,
   "id": "increasing-diving",
   "metadata": {},
   "outputs": [],
   "source": []
  },
  {
   "cell_type": "markdown",
   "id": "hawaiian-communication",
   "metadata": {},
   "source": [
    "# How Quickly Do Users Comment"
   ]
  },
  {
   "cell_type": "code",
   "execution_count": 34,
   "id": "experimental-intensity",
   "metadata": {},
   "outputs": [
    {
     "data": {
      "application/vnd.jupyter.widget-view+json": {
       "model_id": "77c9b54bf1f241ae994fae2f5480e5ec",
       "version_major": 2,
       "version_minor": 0
      },
      "text/plain": [
       "  0%|          | 0/9853 [00:00<?, ?it/s]"
      ]
     },
     "metadata": {},
     "output_type": "display_data"
    },
    {
     "data": {
      "application/vnd.jupyter.widget-view+json": {
       "model_id": "109a9e0ddd3948a4bd230d92795e8c58",
       "version_major": 2,
       "version_minor": 0
      },
      "text/plain": [
       "  0%|          | 0/9830 [00:00<?, ?it/s]"
      ]
     },
     "metadata": {},
     "output_type": "display_data"
    },
    {
     "name": "stdout",
     "output_type": "stream",
     "text": [
      "5 number summary of time until first user comment:\n",
      "count                          9830\n",
      "mean     26 days 06:01:46.397761953\n",
      "std      65 days 16:10:10.331253024\n",
      "min                 0 days 00:00:00\n",
      "25%          0 days 07:45:44.500000\n",
      "50%                 2 days 12:22:44\n",
      "75%         18 days 22:36:09.750000\n",
      "max              1039 days 05:34:55\n",
      "Name: time_diff, dtype: object\n"
     ]
    }
   ],
   "source": [
    "first_user_comments = \\\n",
    "    users_comments.loc[users_comments.groupby(['comment_issue_id'])[\"comment_created_at\"].idxmin()]\n",
    "rel_time_comment_to_issue = pd.DataFrame({\n",
    "    'comment_id': first_user_comments['comment_id'],\n",
    "    'comment_created_at': first_user_comments['comment_created_at'],\n",
    "    'issue_id': first_user_comments['comment_issue_id'],\n",
    "})\n",
    "# rel_time_comment_to_issue['comment_created_at']\n",
    "rel_time_comment_to_issue.reset_index()\n",
    "\n",
    "def get_comment_created_at(row, issues):\n",
    "    issue = issues[issues['issue_id'] == row.issue_id]\n",
    "    if issue.empty:\n",
    "        return pd.NA\n",
    "    return issue['issue_created_at'].iloc[0]\n",
    "    \n",
    "    \n",
    "rel_time_comment_to_issue['issue_created_at'] = \\\n",
    "    rel_time_comment_to_issue.progress_apply(lambda row: get_comment_created_at(row, issues), axis=1)\n",
    "rel_time_comment_to_issue = rel_time_comment_to_issue.dropna()\n",
    "rel_time_comment_to_issue['issue_created_at'] = pd.to_datetime(rel_time_comment_to_issue['issue_created_at'], utc=True)\n",
    "\n",
    "def get_time_diff(row):\n",
    "    return row['comment_created_at'] - row['issue_created_at']\n",
    "\n",
    "rel_time_comment_to_issue['time_diff'] = rel_time_comment_to_issue.progress_apply(get_time_diff, axis=1)\n",
    "\n",
    "\n",
    "print(f'5 number summary of time until first user comment:')\n",
    "print(rel_time_comment_to_issue['time_diff'].describe())"
   ]
  },
  {
   "cell_type": "code",
   "execution_count": 35,
   "id": "appreciated-dryer",
   "metadata": {},
   "outputs": [
    {
     "data": {
      "application/vnd.jupyter.widget-view+json": {
       "model_id": "439284fb42fd46a0805f03304a52abbe",
       "version_major": 2,
       "version_minor": 0
      },
      "text/plain": [
       "  0%|          | 0/9830 [00:00<?, ?it/s]"
      ]
     },
     "metadata": {},
     "output_type": "display_data"
    }
   ],
   "source": [
    "def get_comment_type(row):\n",
    "    if row['comment_id'] in fix_referenced_comments['comment_id'].unique():\n",
    "        return FIX_REFERENCED\n",
    "    if row['comment_id'] in false_alarm_comments['comment_id'].unique():\n",
    "        return FALSE_ALARM\n",
    "    if row['comment_id'] in transient_failure_comments['comment_id'].unique():\n",
    "        return TRANSIENT_FAILURE\n",
    "    if row['comment_id'] in mention_greenkeeper_comments['comment_id'].unique():\n",
    "        return MENTION_GREENKEEPER\n",
    "    if row['comment_id'] in mention_ci_system_comments['comment_id'].unique():\n",
    "        return MENTION_CI_SYSTEM\n",
    "    if row['comment_id'] in fix_mentioned_comments['comment_id'].unique():\n",
    "        return FIX_MENTIONED\n",
    "    return NOT_CLASSIFIED\n",
    "\n",
    "rel_time_comment_to_issue['comment_classification'] = \\\n",
    "    rel_time_comment_to_issue.progress_apply(get_comment_type, axis=1)\n",
    "rel_time_comment_to_issue['x_seconds'] = \\\n",
    "    rel_time_comment_to_issue['time_diff'].astype('timedelta64[s]')\n",
    "\n",
    "rel_time_comment_to_issue.drop(\n",
    "    rel_time_comment_to_issue[ rel_time_comment_to_issue['x_seconds'] == 0 ].index , inplace=True)\n",
    "\n",
    "rel_time_comment_to_issue['x_seconds_log'] = \\\n",
    "    np.log10(rel_time_comment_to_issue['x_seconds'])\n",
    "rel_time_comment_to_issue['x_days'] = \\\n",
    "    rel_time_comment_to_issue['x_seconds'] / 86400"
   ]
  },
  {
   "cell_type": "code",
   "execution_count": 36,
   "id": "medical-privacy",
   "metadata": {},
   "outputs": [
    {
     "data": {
      "image/png": "[encoded data removed]",
      "text/plain": [
       "<Figure size 540x432 with 1 Axes>"
      ]
     },
     "metadata": {},
     "output_type": "display_data"
    }
   ],
   "source": [
    "sns.set()\n",
    "fig, ax = plt.subplots(nrows=1, ncols=1, figsize=(FIG_SIZE_W, FIF_SIZE_H))\n",
    "\n",
    "params = dict(\n",
    "    data=users_comments,\n",
    "    y=\"comment_classification\",\n",
    "    order = users_comments['comment_classification'].value_counts().index,\n",
    ")\n",
    "ax = sns.countplot(\n",
    "    **params,\n",
    "    palette=COLOUR_PALETTE,\n",
    "    ax=ax,\n",
    ")\n",
    "ax.set_title(f'')\n",
    "type_labels = [f'{int((y/len(users_comments)*100))}%' for y in ax.get_xticks()]\n",
    "ax.set_xticklabels(type_labels, fontsize=PLOT_TICK_LABEL_SIZE, rotation=0)\n",
    "ax.set_yticklabels(ax.get_yticklabels(), rotation=0, fontsize=PLOT_TICK_LABEL_SIZE)\n",
    "ax.set_ylabel('', fontsize=PLOT_LABEL_SIZE)\n",
    "ax.set_xlabel('', fontsize=20)\n",
    "ax.grid(b=True, which='major', color='w', linewidth=1.0)\n",
    "fig.tight_layout()\n",
    "plt.show()\n",
    "save_plot(fig, f'{PLOTS_PATH}/user_comment_type.png')"
   ]
  },
  {
   "cell_type": "code",
   "execution_count": 37,
   "id": "conscious-gospel",
   "metadata": {},
   "outputs": [],
   "source": [
    "rel_time_comment_to_issue['x_seconds'].describe()\n",
    "PLOT_LABEL_SIZE = 16\n",
    "PLOT_TICK_LABEL_SIZE = 14"
   ]
  },
  {
   "cell_type": "code",
   "execution_count": 38,
   "id": "equal-parts",
   "metadata": {},
   "outputs": [
    {
     "data": {
      "image/png": "[encoded data removed]",
      "text/plain": [
       "<Figure size 540x432 with 1 Axes>"
      ]
     },
     "metadata": {},
     "output_type": "display_data"
    }
   ],
   "source": [
    "sns.set()\n",
    "fig, ax = plt.subplots(nrows=1, ncols=1, figsize=(FIG_SIZE_W, FIF_SIZE_H))\n",
    "\n",
    "params = dict(\n",
    "    data=rel_time_comment_to_issue,\n",
    "    x='x_days',\n",
    "    y='comment_classification',\n",
    "    order = users_comments['comment_classification'].value_counts().index,\n",
    ")\n",
    "ax = sns.boxplot(\n",
    "    **params,\n",
    "    showfliers=False,\n",
    "    palette=COLOUR_PALETTE,\n",
    ")\n",
    "ax.set_xscale('log')\n",
    "# ax.set_xticklabels(x_ticks, fontsize=14, rotation=0)\n",
    "\n",
    "for ind, label in enumerate(ax.get_xticklabels()):\n",
    "    if ind % 2 == 1:  # every 10th label is kept\n",
    "        label.set_visible(True)\n",
    "    else:\n",
    "        label.set_visible(False)\n",
    "ax.set_xticklabels(ax.get_xticks(), rotation=0, fontsize=PLOT_TICK_LABEL_SIZE)\n",
    "\n",
    "ax.set_yticklabels(ax.get_yticklabels(), rotation=0, fontsize=PLOT_TICK_LABEL_SIZE)\n",
    "# ax.set_yticklabels([])\n",
    "ax.set_title(f'')\n",
    "ax.set_ylabel(f'', fontsize=PLOT_LABEL_SIZE)\n",
    "ax.set_xlabel(f'', fontsize=PLOT_LABEL_SIZE)\n",
    "# ax.set_xlabel(f'Time Until First User Comment in Days (Log Scale)', fontsize=PLOT_LABEL_SIZE)\n",
    "ax.grid(b=True, which='major', color='w', linewidth=1.0)\n",
    "\n",
    "fig.tight_layout()\n",
    "plt.show()\n",
    "save_plot(fig, f'{PLOTS_PATH}/time_until_user_comment.png')"
   ]
  },
  {
   "cell_type": "code",
   "execution_count": null,
   "id": "coordinate-tradition",
   "metadata": {},
   "outputs": [],
   "source": []
  },
  {
   "cell_type": "code",
   "execution_count": null,
   "id": "described-family",
   "metadata": {},
   "outputs": [],
   "source": []
  },
  {
   "cell_type": "code",
   "execution_count": null,
   "id": "representative-ethernet",
   "metadata": {},
   "outputs": [],
   "source": []
  },
  {
   "cell_type": "code",
   "execution_count": null,
   "id": "steady-morgan",
   "metadata": {},
   "outputs": [],
   "source": []
  }
 ],
 "metadata": {
  "kernelspec": {
   "display_name": "Python 3",
   "language": "python",
   "name": "python3"
  },
  "language_info": {
   "codemirror_mode": {
    "name": "ipython",
    "version": 3
   },
   "file_extension": ".py",
   "mimetype": "text/x-python",
   "name": "python",
   "nbconvert_exporter": "python",
   "pygments_lexer": "ipython3",
   "version": "3.8.5"
  }
 },
 "nbformat": 4,
 "nbformat_minor": 5
}
