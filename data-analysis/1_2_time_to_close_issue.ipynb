{
 "cells": [
  {
   "cell_type": "code",
   "execution_count": 3,
   "metadata": {},
   "outputs": [],
   "source": [
    "%run _utils.ipynb"
   ]
  },
  {
   "cell_type": "code",
   "execution_count": 4,
   "metadata": {},
   "outputs": [],
   "source": [
    "gk_issues = load_gk_issues_for_analysis()\n",
    "non_gk_issues = load_non_gk_issues_for_analysis()"
   ]
  },
  {
   "cell_type": "markdown",
   "metadata": {},
   "source": [
    "<h3>How many issues does each project?</h3>"
   ]
  },
  {
   "cell_type": "code",
   "execution_count": 5,
   "metadata": {},
   "outputs": [
    {
     "data": {
      "text/plain": [
       "count    9632.000000\n",
       "mean       10.773983\n",
       "std        30.134494\n",
       "min         1.000000\n",
       "25%         2.000000\n",
       "50%         4.000000\n",
       "75%        10.000000\n",
       "max      1781.000000\n",
       "dtype: float64"
      ]
     },
     "execution_count": 5,
     "metadata": {},
     "output_type": "execute_result"
    }
   ],
   "source": [
    "gk_issues.groupby('repo_name', observed=True).size().describe()"
   ]
  },
  {
   "cell_type": "code",
   "execution_count": 6,
   "metadata": {},
   "outputs": [
    {
     "data": {
      "text/plain": [
       "count    6824.000000\n",
       "mean       41.845692\n",
       "std       250.268658\n",
       "min         1.000000\n",
       "25%         1.000000\n",
       "50%         4.000000\n",
       "75%        14.000000\n",
       "max      9633.000000\n",
       "dtype: float64"
      ]
     },
     "execution_count": 6,
     "metadata": {},
     "output_type": "execute_result"
    }
   ],
   "source": [
    "non_gk_issues.groupby('repo_name', observed=True).size().describe()"
   ]
  },
  {
   "cell_type": "markdown",
   "metadata": {},
   "source": [
    "<h3>Add stargazers and other repo info</h3>"
   ]
  },
  {
   "cell_type": "code",
   "execution_count": 7,
   "metadata": {},
   "outputs": [
    {
     "name": "stdout",
     "output_type": "stream",
     "text": [
      "<class 'pandas.core.frame.DataFrame'>\n",
      "Int64Index: 9627 entries, 0 to 9626\n",
      "Data columns (total 15 columns):\n",
      " #   Column                     Non-Null Count  Dtype   \n",
      "---  ------                     --------------  -----   \n",
      " 0   repo_name                  9627 non-null   category\n",
      " 1   is_fork                    9627 non-null   bool    \n",
      " 2   size                       9627 non-null   int64   \n",
      " 3   stargazers_count           9627 non-null   int64   \n",
      " 4   watchers_count             9627 non-null   int64   \n",
      " 5   language                   9585 non-null   category\n",
      " 6   package_name               9627 non-null   category\n",
      " 7   use_repo_name              9627 non-null   bool    \n",
      " 8   on_libraries_io_npm        9627 non-null   bool    \n",
      " 9   npm_dependent_repos_count  7322 non-null   float64 \n",
      " 10  npm_dependents_count       7322 non-null   float64 \n",
      " 11  npm_forks                  7322 non-null   float64 \n",
      " 12  npm_language               6855 non-null   category\n",
      " 13  npm_rank                   7322 non-null   float64 \n",
      " 14  npm_stars                  7322 non-null   float64 \n",
      "dtypes: bool(3), category(4), float64(5), int64(3)\n",
      "memory usage: 1.4 MB\n"
     ]
    }
   ],
   "source": [
    "dtypes = {\n",
    "    'repo_name': 'category',\n",
    "    'is_fork': 'bool',\n",
    "    'size': 'int64',\n",
    "    'stargazers_count': 'int64',\n",
    "    'watchers_count': 'int64',\n",
    "    'language': 'category'\n",
    "}\n",
    "gkir_repos_info_gh = pd.read_csv(f'../csv/gkir_repos_info.csv', dtype=dtypes)\n",
    "\n",
    "dtypes = {\n",
    "    'repo_name': 'category',\n",
    "    'package_name': 'category',\n",
    "    'use_repo_name': 'bool',\n",
    "    'on_libraries_io_npm': 'bool',\n",
    "    'npm_dependent_repos_count': 'float64',\n",
    "    'npm_dependents_count': 'float64',\n",
    "    'npm_forks': 'float64',\n",
    "    'npm_language': 'category',\n",
    "    'npm_rank': 'float64',\n",
    "    'npm_stars': 'float64',\n",
    "}\n",
    "gkir_repos_info_libraries_io = pd.read_csv(f'../csv/repo_npm_package_info_with_libraries_io.csv', dtype=dtypes)\n",
    "\n",
    "gkir_repos_info = pd.merge(\n",
    "    left=gkir_repos_info_gh,\n",
    "    right=gkir_repos_info_libraries_io,\n",
    "    on='repo_name'\n",
    ")\n",
    "gkir_repos_info.info()"
   ]
  },
  {
   "cell_type": "markdown",
   "metadata": {},
   "source": [
    "<h3>Stargazers counts</h3>"
   ]
  },
  {
   "cell_type": "code",
   "execution_count": 8,
   "metadata": {},
   "outputs": [
    {
     "name": "stdout",
     "output_type": "stream",
     "text": [
      "count     9627.000000\n",
      "mean       256.176171\n",
      "std       2019.148280\n",
      "min          0.000000\n",
      "25%          1.000000\n",
      "50%          6.000000\n",
      "75%         35.000000\n",
      "max      69711.000000\n",
      "Name: stargazers_count, dtype: float64\n",
      "4818 of repos have >=6 stars\n",
      "3991 of repos have >=10 stars\n"
     ]
    }
   ],
   "source": [
    "print(gkir_repos_info['stargazers_count'].describe())\n",
    "\n",
    "print(f\"{len(gkir_repos_info[gkir_repos_info['stargazers_count'] >= 6])} of repos have >=6 stars\")\n",
    "print(f\"{len(gkir_repos_info[gkir_repos_info['stargazers_count'] >= 10])} of repos have >=10 stars\")"
   ]
  },
  {
   "cell_type": "markdown",
   "metadata": {},
   "source": [
    "<h3>Popular libraries for analysis</h3>"
   ]
  },
  {
   "cell_type": "code",
   "execution_count": 9,
   "metadata": {},
   "outputs": [
    {
     "name": "stdout",
     "output_type": "stream",
     "text": [
      "32.74% of repos are on npm and have >= 10 stargazers\n"
     ]
    }
   ],
   "source": [
    "popular_npm_repos = (\n",
    "    gkir_repos_info.loc[\n",
    "        (gkir_repos_info['stargazers_count'] >= 10) &\n",
    "        (gkir_repos_info['on_libraries_io_npm'])\n",
    "    ]\n",
    ")\n",
    "print(f'{calculate_percent(len(popular_npm_repos), len(gkir_repos_info))}% of repos are on npm and have >= 10 stargazers')"
   ]
  },
  {
   "cell_type": "code",
   "execution_count": 10,
   "metadata": {},
   "outputs": [
    {
     "data": {
      "text/plain": [
       "count      3152.000000\n",
       "mean       8367.588198\n",
       "std       56968.003358\n",
       "min           0.000000\n",
       "25%           1.000000\n",
       "50%           9.000000\n",
       "75%          94.000000\n",
       "max      845125.000000\n",
       "Name: npm_dependent_repos_count, dtype: float64"
      ]
     },
     "execution_count": 10,
     "metadata": {},
     "output_type": "execute_result"
    }
   ],
   "source": [
    "popular_npm_repos['npm_dependent_repos_count'].describe()"
   ]
  },
  {
   "cell_type": "markdown",
   "metadata": {},
   "source": [
    "<h3>Comparing distributions within same project</h3>"
   ]
  },
  {
   "cell_type": "markdown",
   "metadata": {},
   "source": [
    "Create combined issues dataset"
   ]
  },
  {
   "cell_type": "code",
   "execution_count": 12,
   "metadata": {},
   "outputs": [],
   "source": [
    "# non_gk_issues, gk_issues\n",
    "non_gk_simplified = non_gk_issues[['id', 'repo_name', 'state', 'created_at', 'closed_at']].copy()\n",
    "non_gk_simplified['dependency_type'] = pd.NA\n",
    "non_gk_simplified['time_to_close'] = non_gk_simplified['closed_at'] - non_gk_simplified['created_at']\n",
    "non_gk_simplified['time_to_close_hours'] = non_gk_simplified['time_to_close'] / np.timedelta64(1, 'h')\n",
    "non_gk_simplified['type'] = 'non_gk'"
   ]
  },
  {
   "cell_type": "code",
   "execution_count": 13,
   "metadata": {},
   "outputs": [],
   "source": [
    "gk_simplified = gk_issues[['id', 'repo_name', 'state', 'created_at', 'closed_at', 'dependency_type']].copy()\n",
    "gk_simplified['time_to_close'] = gk_simplified['closed_at'] - gk_simplified['created_at']\n",
    "gk_simplified['time_to_close_hours'] = gk_simplified['time_to_close'] / np.timedelta64(1, 'h')\n",
    "gk_simplified['type'] = 'gk'"
   ]
  },
  {
   "cell_type": "code",
   "execution_count": 14,
   "metadata": {},
   "outputs": [],
   "source": [
    "combined = non_gk_simplified.append(gk_simplified)\n",
    "combined_closed = combined[combined['state'] == 'closed']\n",
    "combined_closed = combined_closed[combined_closed['time_to_close_hours'] != 0]\n",
    "# combined_closed.info()"
   ]
  },
  {
   "cell_type": "markdown",
   "metadata": {},
   "source": [
    "Only do analysis for NPM projects with at least 10 GH stars"
   ]
  },
  {
   "cell_type": "code",
   "execution_count": 15,
   "metadata": {},
   "outputs": [],
   "source": [
    "combined_closed = combined_closed[combined_closed['repo_name'].isin(popular_npm_repos['repo_name'])]"
   ]
  },
  {
   "cell_type": "markdown",
   "metadata": {},
   "source": [
    "<h3>Median time to close values</h3>"
   ]
  },
  {
   "cell_type": "code",
   "execution_count": 16,
   "metadata": {},
   "outputs": [
    {
     "name": "stdout",
     "output_type": "stream",
     "text": [
      "<class 'pandas.core.frame.DataFrame'>\n",
      "Int64Index: 172994 entries, 28 to 103765\n",
      "Data columns (total 9 columns):\n",
      " #   Column               Non-Null Count   Dtype              \n",
      "---  ------               --------------   -----              \n",
      " 0   id                   172994 non-null  int64              \n",
      " 1   repo_name            172994 non-null  object             \n",
      " 2   state                172994 non-null  category           \n",
      " 3   created_at           172994 non-null  datetime64[ns, UTC]\n",
      " 4   closed_at            172994 non-null  datetime64[ns, UTC]\n",
      " 5   dependency_type      28926 non-null   object             \n",
      " 6   time_to_close        172994 non-null  timedelta64[ns]    \n",
      " 7   time_to_close_hours  172994 non-null  float64            \n",
      " 8   type                 172994 non-null  object             \n",
      "dtypes: category(1), datetime64[ns, UTC](2), float64(1), int64(1), object(3), timedelta64[ns](1)\n",
      "memory usage: 12.0+ MB\n"
     ]
    }
   ],
   "source": [
    "combined_closed.info()"
   ]
  },
  {
   "cell_type": "code",
   "execution_count": 17,
   "metadata": {},
   "outputs": [
    {
     "data": {
      "text/plain": [
       "count                         30251\n",
       "mean     44 days 03:03:02.589005322\n",
       "std      92 days 17:12:28.601618956\n",
       "min                 0 days 00:00:08\n",
       "25%                 0 days 12:13:00\n",
       "50%                 6 days 00:37:20\n",
       "75%                40 days 18:59:18\n",
       "max              1115 days 07:04:42\n",
       "Name: time_to_close, dtype: object"
      ]
     },
     "execution_count": 17,
     "metadata": {},
     "output_type": "execute_result"
    }
   ],
   "source": [
    "issue_type = 'gk'\n",
    "combined_closed[combined_closed['type'] == issue_type]['time_to_close'].describe()"
   ]
  },
  {
   "cell_type": "code",
   "execution_count": 18,
   "metadata": {},
   "outputs": [
    {
     "data": {
      "text/plain": [
       "count                         142743\n",
       "mean      61 days 12:30:41.600386709\n",
       "std      140 days 07:11:24.132875110\n",
       "min                  0 days 00:00:01\n",
       "25%           0 days 10:32:33.500000\n",
       "50%                  5 days 02:20:50\n",
       "75%          50 days 11:46:20.500000\n",
       "max               1506 days 12:45:41\n",
       "Name: time_to_close, dtype: object"
      ]
     },
     "execution_count": 18,
     "metadata": {},
     "output_type": "execute_result"
    }
   ],
   "source": [
    "issue_type = 'non_gk'\n",
    "combined_closed[combined_closed['type'] == issue_type]['time_to_close'].describe()"
   ]
  },
  {
   "cell_type": "code",
   "execution_count": 20,
   "metadata": {},
   "outputs": [
    {
     "data": {
      "text/plain": [
       "devDependency         21529\n",
       "dependency             7314\n",
       "peerDependency           57\n",
       "optionalDependency       26\n",
       "Name: dependency_type, dtype: int64"
      ]
     },
     "execution_count": 20,
     "metadata": {},
     "output_type": "execute_result"
    }
   ],
   "source": [
    "combined_closed['dependency_type'].value_counts()"
   ]
  },
  {
   "cell_type": "markdown",
   "metadata": {},
   "source": [
    "<h3>Compare intra project GKIR and non-GKIR time to close values</h3>"
   ]
  },
  {
   "cell_type": "code",
   "execution_count": 21,
   "metadata": {},
   "outputs": [],
   "source": [
    "import statsmodels\n",
    "def compare_project_distributions(project_issues):\n",
    "    l_ngki = project_issues[project_issues['type'] == 'non_gk']\n",
    "    l_gki = project_issues[project_issues['type'] == 'gk']\n",
    "    project_issue_count = len(project_issues)\n",
    "    project_ngki_count = len(l_ngki)\n",
    "    project_gki_count = len(l_gki)\n",
    "    \n",
    "    def create_return_obj(*args):\n",
    "        return pd.Series([a for a in args])\n",
    "\n",
    "    if len(l_ngki['time_to_close_hours']) == 0 or len(l_gki['time_to_close_hours']) == 0:\n",
    "        return create_return_obj(project_issue_count, project_ngki_count, project_gki_count,\n",
    "            None, None, None, None, None, None)\n",
    "    (statistic, pvalue) = mannwhitneyu(\n",
    "        l_ngki['time_to_close_hours'],\n",
    "        l_gki['time_to_close_hours']\n",
    "    )\n",
    "    (delta, size) = cliffsDelta(\n",
    "        l_ngki['time_to_close_hours'],\n",
    "        l_gki['time_to_close_hours']\n",
    "    )\n",
    "    return create_return_obj(project_issue_count, project_ngki_count, project_gki_count,\n",
    "        l_ngki['time_to_close_hours'].median(), l_gki['time_to_close_hours'].median(), statistic, pvalue, delta, size)"
   ]
  },
  {
   "cell_type": "code",
   "execution_count": 26,
   "metadata": {},
   "outputs": [],
   "source": [
    "intra_project_distribution_compares = (\n",
    "    combined_closed\n",
    "        .groupby('repo_name')[['repo_name', 'type', 'time_to_close_hours', 'dependency_type']]\n",
    "        .apply(compare_project_distributions)\n",
    ")\n",
    "\n",
    "intra_project_distribution_compares.columns = [\n",
    "    'project_issue_count',\n",
    "    'project_ngki_count',\n",
    "    'project_gki_count',\n",
    "    'median_ngki_ttc',\n",
    "    'median_gki_ttc',\n",
    "    'issue_type_statistic',\n",
    "    'issue_type_pvalue',\n",
    "    'issue_type_delta',\n",
    "    'issue_type_size',\n",
    "]\n",
    "intra_project_distribution_compares = intra_project_distribution_compares.dropna().copy()\n",
    "intra_project_distribution_compares['issue_type_significant'] = intra_project_distribution_compares['issue_type_pvalue'] < 0.05\n",
    "intra_project_distribution_compares['issue_type_size'] = intra_project_distribution_compares['issue_type_size'].astype('category')\n"
   ]
  },
  {
   "cell_type": "code",
   "execution_count": 27,
   "metadata": {},
   "outputs": [
    {
     "data": {
      "text/html": [
       "<div>\n",
       "<style scoped>\n",
       "    .dataframe tbody tr th:only-of-type {\n",
       "        vertical-align: middle;\n",
       "    }\n",
       "\n",
       "    .dataframe tbody tr th {\n",
       "        vertical-align: top;\n",
       "    }\n",
       "\n",
       "    .dataframe thead th {\n",
       "        text-align: right;\n",
       "    }\n",
       "</style>\n",
       "<table border=\"1\" class=\"dataframe\">\n",
       "  <thead>\n",
       "    <tr style=\"text-align: right;\">\n",
       "      <th></th>\n",
       "      <th>project_ngki_count</th>\n",
       "      <th>project_gki_count</th>\n",
       "    </tr>\n",
       "  </thead>\n",
       "  <tbody>\n",
       "    <tr>\n",
       "      <th>count</th>\n",
       "      <td>2365.000000</td>\n",
       "      <td>2365.000000</td>\n",
       "    </tr>\n",
       "    <tr>\n",
       "      <th>mean</th>\n",
       "      <td>60.055814</td>\n",
       "      <td>11.957294</td>\n",
       "    </tr>\n",
       "    <tr>\n",
       "      <th>std</th>\n",
       "      <td>272.797548</td>\n",
       "      <td>25.552910</td>\n",
       "    </tr>\n",
       "    <tr>\n",
       "      <th>min</th>\n",
       "      <td>1.000000</td>\n",
       "      <td>1.000000</td>\n",
       "    </tr>\n",
       "    <tr>\n",
       "      <th>25%</th>\n",
       "      <td>3.000000</td>\n",
       "      <td>2.000000</td>\n",
       "    </tr>\n",
       "    <tr>\n",
       "      <th>50%</th>\n",
       "      <td>8.000000</td>\n",
       "      <td>5.000000</td>\n",
       "    </tr>\n",
       "    <tr>\n",
       "      <th>75%</th>\n",
       "      <td>28.000000</td>\n",
       "      <td>12.000000</td>\n",
       "    </tr>\n",
       "    <tr>\n",
       "      <th>max</th>\n",
       "      <td>9173.000000</td>\n",
       "      <td>643.000000</td>\n",
       "    </tr>\n",
       "  </tbody>\n",
       "</table>\n",
       "</div>"
      ],
      "text/plain": [
       "       project_ngki_count  project_gki_count\n",
       "count         2365.000000        2365.000000\n",
       "mean            60.055814          11.957294\n",
       "std            272.797548          25.552910\n",
       "min              1.000000           1.000000\n",
       "25%              3.000000           2.000000\n",
       "50%              8.000000           5.000000\n",
       "75%             28.000000          12.000000\n",
       "max           9173.000000         643.000000"
      ]
     },
     "execution_count": 27,
     "metadata": {},
     "output_type": "execute_result"
    }
   ],
   "source": [
    "intra_project_distribution_compares[['project_ngki_count', 'project_gki_count']].describe()"
   ]
  },
  {
   "cell_type": "markdown",
   "metadata": {},
   "source": [
    "Bonferroni correction"
   ]
  },
  {
   "cell_type": "code",
   "execution_count": 33,
   "metadata": {},
   "outputs": [
    {
     "data": {
      "text/plain": [
       "issue_type_significant  significant_corrected\n",
       "False                   False                    1791\n",
       "True                    False                     512\n",
       "                        True                       62\n",
       "dtype: int64"
      ]
     },
     "execution_count": 33,
     "metadata": {},
     "output_type": "execute_result"
    }
   ],
   "source": [
    "import statsmodels.stats.multitest as multi\n",
    "uncorrected_pvals = intra_project_distribution_compares['issue_type_pvalue'].to_numpy()\n",
    "(reject, pvals_corrected, _, _) = multi.multipletests(uncorrected_pvals, alpha=0.05, method='holm')\n",
    "intra_project_distribution_compares['significant_corrected'] = reject\n",
    "intra_project_distribution_compares['pvalue_corrected'] = pvals_corrected\n",
    "\n",
    "intra_project_distribution_compares.groupby(['issue_type_significant', 'significant_corrected']).size()"
   ]
  },
  {
   "cell_type": "code",
   "execution_count": 30,
   "metadata": {},
   "outputs": [],
   "source": [
    "# Use corrected column?\n",
    "SIGNIFICANT_COLUMN = 'significant_corrected'"
   ]
  },
  {
   "cell_type": "code",
   "execution_count": 34,
   "metadata": {},
   "outputs": [
    {
     "data": {
      "text/html": [
       "<div>\n",
       "<style scoped>\n",
       "    .dataframe tbody tr th:only-of-type {\n",
       "        vertical-align: middle;\n",
       "    }\n",
       "\n",
       "    .dataframe tbody tr th {\n",
       "        vertical-align: top;\n",
       "    }\n",
       "\n",
       "    .dataframe thead th {\n",
       "        text-align: right;\n",
       "    }\n",
       "</style>\n",
       "<table border=\"1\" class=\"dataframe\">\n",
       "  <thead>\n",
       "    <tr style=\"text-align: right;\">\n",
       "      <th></th>\n",
       "      <th></th>\n",
       "      <th>count</th>\n",
       "      <th>proportion</th>\n",
       "    </tr>\n",
       "    <tr>\n",
       "      <th>issue_type_significant</th>\n",
       "      <th>issue_type_size</th>\n",
       "      <th></th>\n",
       "      <th></th>\n",
       "    </tr>\n",
       "  </thead>\n",
       "  <tbody>\n",
       "    <tr>\n",
       "      <th rowspan=\"2\" valign=\"top\">False</th>\n",
       "      <th>large</th>\n",
       "      <td>693</td>\n",
       "      <td>0.293023</td>\n",
       "    </tr>\n",
       "    <tr>\n",
       "      <th>negligible</th>\n",
       "      <td>474</td>\n",
       "      <td>0.200423</td>\n",
       "    </tr>\n",
       "    <tr>\n",
       "      <th>True</th>\n",
       "      <th>large</th>\n",
       "      <td>424</td>\n",
       "      <td>0.179281</td>\n",
       "    </tr>\n",
       "    <tr>\n",
       "      <th rowspan=\"2\" valign=\"top\">False</th>\n",
       "      <th>small</th>\n",
       "      <td>376</td>\n",
       "      <td>0.158985</td>\n",
       "    </tr>\n",
       "    <tr>\n",
       "      <th>medium</th>\n",
       "      <td>248</td>\n",
       "      <td>0.104863</td>\n",
       "    </tr>\n",
       "    <tr>\n",
       "      <th rowspan=\"3\" valign=\"top\">True</th>\n",
       "      <th>medium</th>\n",
       "      <td>106</td>\n",
       "      <td>0.044820</td>\n",
       "    </tr>\n",
       "    <tr>\n",
       "      <th>small</th>\n",
       "      <td>42</td>\n",
       "      <td>0.017759</td>\n",
       "    </tr>\n",
       "    <tr>\n",
       "      <th>negligible</th>\n",
       "      <td>2</td>\n",
       "      <td>0.000846</td>\n",
       "    </tr>\n",
       "  </tbody>\n",
       "</table>\n",
       "</div>"
      ],
      "text/plain": [
       "                                        count  proportion\n",
       "issue_type_significant issue_type_size                   \n",
       "False                  large              693    0.293023\n",
       "                       negligible         474    0.200423\n",
       "True                   large              424    0.179281\n",
       "False                  small              376    0.158985\n",
       "                       medium             248    0.104863\n",
       "True                   medium             106    0.044820\n",
       "                       small               42    0.017759\n",
       "                       negligible           2    0.000846"
      ]
     },
     "execution_count": 34,
     "metadata": {},
     "output_type": "execute_result"
    }
   ],
   "source": [
    "sig_and_size = (\n",
    "    intra_project_distribution_compares[['issue_type_significant', 'issue_type_size']]\n",
    "        .value_counts()\n",
    "        .to_frame(name='count')\n",
    ")\n",
    "sig_and_size['proportion'] = sig_and_size['count'] / sig_and_size['count'].sum()\n",
    "sig_and_size"
   ]
  },
  {
   "cell_type": "code",
   "execution_count": 35,
   "metadata": {},
   "outputs": [
    {
     "data": {
      "text/html": [
       "<div>\n",
       "<style scoped>\n",
       "    .dataframe tbody tr th:only-of-type {\n",
       "        vertical-align: middle;\n",
       "    }\n",
       "\n",
       "    .dataframe tbody tr th {\n",
       "        vertical-align: top;\n",
       "    }\n",
       "\n",
       "    .dataframe thead th {\n",
       "        text-align: right;\n",
       "    }\n",
       "</style>\n",
       "<table border=\"1\" class=\"dataframe\">\n",
       "  <thead>\n",
       "    <tr style=\"text-align: right;\">\n",
       "      <th></th>\n",
       "      <th></th>\n",
       "      <th>count</th>\n",
       "      <th>proportion</th>\n",
       "    </tr>\n",
       "    <tr>\n",
       "      <th>significant_corrected</th>\n",
       "      <th>issue_type_size</th>\n",
       "      <th></th>\n",
       "      <th></th>\n",
       "    </tr>\n",
       "  </thead>\n",
       "  <tbody>\n",
       "    <tr>\n",
       "      <th rowspan=\"4\" valign=\"top\">False</th>\n",
       "      <th>large</th>\n",
       "      <td>1070</td>\n",
       "      <td>0.452431</td>\n",
       "    </tr>\n",
       "    <tr>\n",
       "      <th>negligible</th>\n",
       "      <td>476</td>\n",
       "      <td>0.201268</td>\n",
       "    </tr>\n",
       "    <tr>\n",
       "      <th>small</th>\n",
       "      <td>415</td>\n",
       "      <td>0.175476</td>\n",
       "    </tr>\n",
       "    <tr>\n",
       "      <th>medium</th>\n",
       "      <td>342</td>\n",
       "      <td>0.144609</td>\n",
       "    </tr>\n",
       "    <tr>\n",
       "      <th rowspan=\"3\" valign=\"top\">True</th>\n",
       "      <th>large</th>\n",
       "      <td>47</td>\n",
       "      <td>0.019873</td>\n",
       "    </tr>\n",
       "    <tr>\n",
       "      <th>medium</th>\n",
       "      <td>12</td>\n",
       "      <td>0.005074</td>\n",
       "    </tr>\n",
       "    <tr>\n",
       "      <th>small</th>\n",
       "      <td>3</td>\n",
       "      <td>0.001268</td>\n",
       "    </tr>\n",
       "  </tbody>\n",
       "</table>\n",
       "</div>"
      ],
      "text/plain": [
       "                                       count  proportion\n",
       "significant_corrected issue_type_size                   \n",
       "False                 large             1070    0.452431\n",
       "                      negligible         476    0.201268\n",
       "                      small              415    0.175476\n",
       "                      medium             342    0.144609\n",
       "True                  large               47    0.019873\n",
       "                      medium              12    0.005074\n",
       "                      small                3    0.001268"
      ]
     },
     "execution_count": 35,
     "metadata": {},
     "output_type": "execute_result"
    }
   ],
   "source": [
    "sig_and_size = (\n",
    "    intra_project_distribution_compares[[SIGNIFICANT_COLUMN, 'issue_type_size']]\n",
    "        .value_counts()\n",
    "        .to_frame(name='count')\n",
    ")\n",
    "sig_and_size['proportion'] = sig_and_size['count'] / sig_and_size['count'].sum()\n",
    "sig_and_size"
   ]
  },
  {
   "cell_type": "code",
   "execution_count": 36,
   "metadata": {},
   "outputs": [],
   "source": [
    "sig_and_size = (\n",
    "    intra_project_distribution_compares\n",
    "        .groupby(['issue_type_size', SIGNIFICANT_COLUMN])\n",
    "        .size()\n",
    "        .unstack()\n",
    "        .T\n",
    ")\n",
    "\n",
    "sig_and_size = sig_and_size[['negligible', 'small', 'medium', 'large']]\n",
    "sig_and_size = sig_and_size.reindex([True, False])\n",
    "sig_and_size_proportions = sig_and_size.applymap(lambda x: x / sig_and_size.sum().sum())\n",
    "\n",
    "def make_label(x):\n",
    "    label = f'{round(x * 100)}%'\n",
    "    if label == '0%':\n",
    "        label = '<1%'\n",
    "    return label\n",
    "        \n",
    "sig_and_size_labels = sig_and_size_proportions.applymap(lambda x: make_label(x))"
   ]
  },
  {
   "cell_type": "code",
   "execution_count": 37,
   "metadata": {},
   "outputs": [
    {
     "name": "stdout",
     "output_type": "stream",
     "text": [
      "Saving figure time_to_close_project_distribution_significant_effect_size_table\n"
     ]
    },
    {
     "data": {
      "image/png": "[encoded data removed]",
      "text/plain": [
       "<Figure size 432x288 with 1 Axes>"
      ]
     },
     "metadata": {
      "needs_background": "light"
     },
     "output_type": "display_data"
    }
   ],
   "source": [
    "fig, ax = plt.subplots(nrows=1, ncols=1, figsize=(6,4))\n",
    "\n",
    "sns.heatmap(\n",
    "    sig_and_size_proportions,\n",
    "    annot=sig_and_size_labels,\n",
    "    annot_kws={\n",
    "        'fontsize': 12\n",
    "    },\n",
    "    fmt='',\n",
    "    cbar=False,\n",
    "    square=False,\n",
    "    ax=ax,\n",
    "    cmap=plt.get_cmap('Greys'),\n",
    "    vmin=0,\n",
    "    vmax=1,\n",
    ")\n",
    "\n",
    "ax.set_xlabel('Effect Size', fontsize=12)\n",
    "ax.set_xticklabels(['Negligible', 'Small', 'Medium', 'Large'], rotation=0, fontsize=12)\n",
    "\n",
    "ax.set_ylabel('Significant (p < 0.05)', fontsize=12)\n",
    "ax.set_yticklabels(['Yes', 'No'], rotation=0, fontsize=12)\n",
    "\n",
    "for _, spine in ax.spines.items():\n",
    "    spine.set_visible(True)\n",
    "\n",
    "    \n",
    "save_fig('time_to_close_project_distribution_significant_effect_size_table')\n",
    "\n",
    "plt.show()"
   ]
  },
  {
   "cell_type": "code",
   "execution_count": 39,
   "metadata": {},
   "outputs": [
    {
     "data": {
      "text/html": [
       "<div>\n",
       "<style scoped>\n",
       "    .dataframe tbody tr th:only-of-type {\n",
       "        vertical-align: middle;\n",
       "    }\n",
       "\n",
       "    .dataframe tbody tr th {\n",
       "        vertical-align: top;\n",
       "    }\n",
       "\n",
       "    .dataframe thead th {\n",
       "        text-align: right;\n",
       "    }\n",
       "</style>\n",
       "<table border=\"1\" class=\"dataframe\">\n",
       "  <thead>\n",
       "    <tr style=\"text-align: right;\">\n",
       "      <th></th>\n",
       "      <th>not_significant</th>\n",
       "      <th>small</th>\n",
       "      <th>medium</th>\n",
       "      <th>large</th>\n",
       "    </tr>\n",
       "  </thead>\n",
       "  <tbody>\n",
       "    <tr>\n",
       "      <th>my_effect_size</th>\n",
       "      <td>0.973784</td>\n",
       "      <td>0.001268</td>\n",
       "      <td>0.005074</td>\n",
       "      <td>0.019873</td>\n",
       "    </tr>\n",
       "  </tbody>\n",
       "</table>\n",
       "</div>"
      ],
      "text/plain": [
       "                not_significant     small    medium     large\n",
       "my_effect_size         0.973784  0.001268  0.005074  0.019873"
      ]
     },
     "execution_count": 39,
     "metadata": {},
     "output_type": "execute_result"
    }
   ],
   "source": [
    "intra_project_distribution_compares_simplified = intra_project_distribution_compares.copy()\n",
    "intra_project_distribution_compares_simplified['my_effect_size'] = 'not_significant'\n",
    "valid_sizes = ['small', 'medium', 'large']\n",
    "for s in valid_sizes:\n",
    "    intra_project_distribution_compares_simplified.loc[\n",
    "        (\n",
    "            (intra_project_distribution_compares_simplified[SIGNIFICANT_COLUMN]) &\n",
    "            (intra_project_distribution_compares_simplified['issue_type_size'] == s)\n",
    "        ),\n",
    "        'my_effect_size'\n",
    "    ] = s\n",
    "\n",
    "intra_project_distribution_compares_simplified['my_effect_size'] = (\n",
    "    intra_project_distribution_compares_simplified['my_effect_size'].astype('category')\n",
    ")\n",
    "intra_project_distribution_compares_simplified['my_effect_size'].value_counts()\n",
    "\n",
    "sig_and_size_simplified = intra_project_distribution_compares_simplified['my_effect_size'].value_counts()\n",
    "sig_and_size_simplified = sig_and_size_simplified[['not_significant', 'small', 'medium', 'large']]\n",
    "sig_and_size_simplified_proportions = sig_and_size_simplified.apply(lambda x: x / sig_and_size_simplified.sum())\n",
    "\n",
    "def make_label(x):\n",
    "    label = f'{round(x * 100, 1)}%'\n",
    "    if label == '0%':\n",
    "        label = '<1%'\n",
    "    return label\n",
    "        \n",
    "sig_and_size_simplified_labels = sig_and_size_simplified_proportions.apply(lambda x: make_label(x))\n",
    "\n",
    "sig_and_size_simplified_proportions.to_frame().T"
   ]
  },
  {
   "cell_type": "code",
   "execution_count": 40,
   "metadata": {},
   "outputs": [
    {
     "name": "stdout",
     "output_type": "stream",
     "text": [
      "Saving figure time_to_close_project_distribution_significant_effect_size_table_simplified\n"
     ]
    },
    {
     "data": {
      "image/png": "[encoded data removed]",
      "text/plain": [
       "<Figure size 576x216 with 1 Axes>"
      ]
     },
     "metadata": {
      "needs_background": "light"
     },
     "output_type": "display_data"
    }
   ],
   "source": [
    "fig, ax = plt.subplots(nrows=1, ncols=1, figsize=(8,3))\n",
    "\n",
    "sns.heatmap(\n",
    "    sig_and_size_simplified_proportions.to_frame().T,\n",
    "    annot=sig_and_size_simplified_labels.to_frame().T,\n",
    "    annot_kws={\n",
    "        'fontsize': 12\n",
    "    },\n",
    "    fmt='',\n",
    "    cbar=False,\n",
    "    square=False,\n",
    "    ax=ax,\n",
    "    cmap=plt.get_cmap('Greys'),\n",
    "    vmin=0,\n",
    "    vmax=1,\n",
    ")\n",
    "\n",
    "ax.set_xlabel('Effect Size', fontsize=12)\n",
    "ax.set_xticklabels(['Negligible/Not\\nSignificant', 'Small', 'Medium', 'Large'], rotation=0, fontsize=12)\n",
    "\n",
    "ax.set_ylabel('')\n",
    "ax.set_yticklabels('')\n",
    "\n",
    "for _, spine in ax.spines.items():\n",
    "    spine.set_visible(True)\n",
    "\n",
    "    \n",
    "save_fig('time_to_close_project_distribution_significant_effect_size_table_simplified')\n",
    "\n",
    "plt.show()"
   ]
  },
  {
   "cell_type": "code",
   "execution_count": 41,
   "metadata": {},
   "outputs": [
    {
     "name": "stdout",
     "output_type": "stream",
     "text": [
      "Median times for each effect size\n"
     ]
    },
    {
     "data": {
      "text/html": [
       "<div>\n",
       "<style scoped>\n",
       "    .dataframe tbody tr th:only-of-type {\n",
       "        vertical-align: middle;\n",
       "    }\n",
       "\n",
       "    .dataframe tbody tr th {\n",
       "        vertical-align: top;\n",
       "    }\n",
       "\n",
       "    .dataframe thead th {\n",
       "        text-align: right;\n",
       "    }\n",
       "</style>\n",
       "<table border=\"1\" class=\"dataframe\">\n",
       "  <thead>\n",
       "    <tr style=\"text-align: right;\">\n",
       "      <th></th>\n",
       "      <th>median_ngki_ttc</th>\n",
       "      <th>median_gki_ttc</th>\n",
       "    </tr>\n",
       "    <tr>\n",
       "      <th>my_effect_size</th>\n",
       "      <th></th>\n",
       "      <th></th>\n",
       "    </tr>\n",
       "  </thead>\n",
       "  <tbody>\n",
       "    <tr>\n",
       "      <th>large</th>\n",
       "      <td>7 days 17:03:45</td>\n",
       "      <td>0 days 07:12:49.500000</td>\n",
       "    </tr>\n",
       "    <tr>\n",
       "      <th>medium</th>\n",
       "      <td>4 days 18:20:34.249999200</td>\n",
       "      <td>0 days 15:30:21.750001200</td>\n",
       "    </tr>\n",
       "    <tr>\n",
       "      <th>not_significant</th>\n",
       "      <td>6 days 13:20:32.499999600</td>\n",
       "      <td>11 days 22:41:03.500001600</td>\n",
       "    </tr>\n",
       "    <tr>\n",
       "      <th>small</th>\n",
       "      <td>5 days 02:15:55.000000800</td>\n",
       "      <td>1 days 13:13:07.500000</td>\n",
       "    </tr>\n",
       "  </tbody>\n",
       "</table>\n",
       "</div>"
      ],
      "text/plain": [
       "                          median_ngki_ttc             median_gki_ttc\n",
       "my_effect_size                                                      \n",
       "large                     7 days 17:03:45     0 days 07:12:49.500000\n",
       "medium          4 days 18:20:34.249999200  0 days 15:30:21.750001200\n",
       "not_significant 6 days 13:20:32.499999600 11 days 22:41:03.500001600\n",
       "small           5 days 02:15:55.000000800     1 days 13:13:07.500000"
      ]
     },
     "execution_count": 41,
     "metadata": {},
     "output_type": "execute_result"
    }
   ],
   "source": [
    "for_table = (\n",
    "    intra_project_distribution_compares_simplified[\n",
    "        ['median_ngki_ttc', 'median_gki_ttc', 'my_effect_size']\n",
    "    ].copy()\n",
    ")\n",
    "\n",
    "for_table['td_median_ngki_ttc'] = pd.to_timedelta(for_table['median_ngki_ttc'], unit='h')\n",
    "for_table['td_median_gki_ttc'] = pd.to_timedelta(for_table['median_gki_ttc'], unit='h')\n",
    "for_table = (\n",
    "    for_table\n",
    "        .groupby('my_effect_size')[['median_ngki_ttc', 'median_gki_ttc']]\n",
    "        .median()\n",
    "        .applymap(lambda x: pd.to_timedelta(x, unit='h'))\n",
    ")\n",
    "\n",
    "print('Median times for each effect size')\n",
    "for_table.head()"
   ]
  },
  {
   "cell_type": "code",
   "execution_count": 43,
   "metadata": {},
   "outputs": [
    {
     "name": "stdout",
     "output_type": "stream",
     "text": [
      "\n",
      "For Medium and Large effect size:\n",
      "    Median for Non GKIR - 6 days 08:37:14.000001600\n",
      "    Median for GKIR - 0 days 10:34:35.000000399\n",
      "\n"
     ]
    }
   ],
   "source": [
    "m_o_l = ['medium', 'large']\n",
    "only_med_and_large = (\n",
    "    intra_project_distribution_compares_simplified[\n",
    "        intra_project_distribution_compares_simplified['my_effect_size'].isin(m_o_l)\n",
    "    ][\n",
    "        ['median_ngki_ttc', 'median_gki_ttc', 'my_effect_size']\n",
    "    ].copy()\n",
    ")\n",
    "\n",
    "print(f'''\n",
    "For Medium and Large effect size:\n",
    "    Median for Non GKIR - {pd.to_timedelta(only_med_and_large['median_ngki_ttc'].median(), unit='h')}\n",
    "    Median for GKIR - {pd.to_timedelta(only_med_and_large['median_gki_ttc'].median(), unit='h')}\n",
    "''')"
   ]
  },
  {
   "cell_type": "markdown",
   "metadata": {},
   "source": [
    "<h3>Dev vs. Runtime Dependencys</h3>"
   ]
  },
  {
   "cell_type": "code",
   "execution_count": 44,
   "metadata": {},
   "outputs": [],
   "source": [
    "gk_combined_closed = combined_closed[combined_closed['type'] == 'gk'].copy()\n",
    "deps = ['devDependency', 'dependency']\n",
    "gk_combined_closed = gk_combined_closed[gk_combined_closed['dependency_type'].isin(deps)]"
   ]
  },
  {
   "cell_type": "code",
   "execution_count": 45,
   "metadata": {},
   "outputs": [
    {
     "data": {
      "text/plain": [
       "devDependency    0.74642\n",
       "dependency       0.25358\n",
       "Name: dependency_type, dtype: float64"
      ]
     },
     "execution_count": 45,
     "metadata": {},
     "output_type": "execute_result"
    }
   ],
   "source": [
    "gk_combined_closed['dependency_type'].value_counts() / gk_combined_closed['dependency_type'].count()"
   ]
  },
  {
   "cell_type": "code",
   "execution_count": 49,
   "metadata": {},
   "outputs": [
    {
     "name": "stdout",
     "output_type": "stream",
     "text": [
      "\n",
      "6 days 12:48:48\n",
      "5 days 17:48:07\n",
      "\n",
      "4.929122517543197e-06\n",
      "0.03454025605210658\n",
      "negligible\n"
     ]
    }
   ],
   "source": [
    "deps = ['devDependency', 'dependency']\n",
    "gk_combined_closed = gk_combined_closed[gk_combined_closed['dependency_type'].isin(deps)]\n",
    "for_plot = gk_combined_closed[['dependency_type', 'time_to_close', 'time_to_close_hours']].copy()\n",
    "for_plot['time_to_close_hours_log'] = np.log10(for_plot['time_to_close_hours'])\n",
    "for_plot['placeholder'] = ''\n",
    "\n",
    "(statistic, pvalue) = mannwhitneyu(\n",
    "    gk_combined_closed[gk_combined_closed['dependency_type'] == 'devDependency']['time_to_close_hours'],\n",
    "    gk_combined_closed[gk_combined_closed['dependency_type'] == 'dependency']['time_to_close_hours']\n",
    ")\n",
    "(delta, size) = cliffsDelta(\n",
    "    gk_combined_closed[gk_combined_closed['dependency_type'] == 'devDependency']['time_to_close_hours'],\n",
    "    gk_combined_closed[gk_combined_closed['dependency_type'] == 'dependency']['time_to_close_hours']\n",
    ")\n",
    "\n",
    "print(f'''\n",
    "{gk_combined_closed[gk_combined_closed['dependency_type'] == 'devDependency']['time_to_close'].median()}\n",
    "{gk_combined_closed[gk_combined_closed['dependency_type'] == 'dependency']['time_to_close'].median()}\n",
    "''')\n",
    "print(pvalue)\n",
    "print(delta)\n",
    "print(size)"
   ]
  },
  {
   "cell_type": "code",
   "execution_count": null,
   "metadata": {},
   "outputs": [],
   "source": []
  },
  {
   "cell_type": "code",
   "execution_count": 48,
   "metadata": {},
   "outputs": [
    {
     "data": {
      "image/png": "[encoded data removed]",
      "text/plain": [
       "<Figure size 432x216 with 1 Axes>"
      ]
     },
     "metadata": {
      "needs_background": "light"
     },
     "output_type": "display_data"
    }
   ],
   "source": [
    "fig, ax = plt.subplots(nrows=1, ncols=1, figsize=(6,3))\n",
    "sns.violinplot(\n",
    "    data=for_plot,\n",
    "    x='time_to_close_hours_log',\n",
    "    y='placeholder',\n",
    "    hue='dependency_type',\n",
    "    split=True,\n",
    "    inner='quartile',\n",
    "    palette=['1', '0.6'],\n",
    "    scale='width',\n",
    ")\n",
    "# ax.set_ylabel('')\n",
    "# ax.set_xlabel('Proportion of project issues that are in-range breaking build update issues.')\n",
    "# ax.legend(\n",
    "#     title='',\n",
    "# )\n",
    "# L = plt.legend(\n",
    "#     loc='upper center',\n",
    "#     fontsize='small',\n",
    "#     fancybox=True,\n",
    "#     bbox_to_anchor=(0.5,1.2),\n",
    "#     ncol=2\n",
    "# )\n",
    "\n",
    "# L.get_texts()[0].set_text('All Projects')\n",
    "# L.get_texts()[1].set_text('Project Issue Count At Least Median')\n",
    "\n",
    "plt.show()"
   ]
  },
  {
   "cell_type": "code",
   "execution_count": null,
   "metadata": {},
   "outputs": [],
   "source": []
  }
 ],
 "metadata": {
  "kernelspec": {
   "display_name": "Python 3",
   "language": "python",
   "name": "python3"
  },
  "language_info": {
   "codemirror_mode": {
    "name": "ipython",
    "version": 3
   },
   "file_extension": ".py",
   "mimetype": "text/x-python",
   "name": "python",
   "nbconvert_exporter": "python",
   "pygments_lexer": "ipython3",
   "version": "3.8.5"
  }
 },
 "nbformat": 4,
 "nbformat_minor": 4
}
