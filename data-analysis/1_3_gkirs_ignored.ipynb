{
 "cells": [
  {
   "cell_type": "code",
   "execution_count": 1,
   "id": "d9d0d413-2576-44b2-988b-aec0a065d5cd",
   "metadata": {},
   "outputs": [],
   "source": [
    "%run _utils.ipynb"
   ]
  },
  {
   "cell_type": "code",
   "execution_count": 5,
   "id": "5dfbcc9f-d2ea-4f4f-9aec-2e7805bcc788",
   "metadata": {},
   "outputs": [],
   "source": [
    "def copy_reset(df):\n",
    "    return df.copy().reset_index(drop=True)"
   ]
  },
  {
   "cell_type": "markdown",
   "id": "4b44aedd-5cc2-4b85-981d-61f37fb39d88",
   "metadata": {},
   "source": [
    "## Load Dataset"
   ]
  },
  {
   "cell_type": "code",
   "execution_count": 4,
   "id": "89892133-c15b-45a1-b2f1-c0aa940bda5a",
   "metadata": {},
   "outputs": [],
   "source": [
    "gkirs = load_gk_issues_for_analysis()\n",
    "comments = load_comments()"
   ]
  },
  {
   "cell_type": "code",
   "execution_count": 20,
   "id": "f1f1d65b-61d5-4510-b4c6-1ed2ba7a4f07",
   "metadata": {},
   "outputs": [],
   "source": [
    "gkirs_simp = gkirs[['id', 'state', 'created_at']].groupby('id').first().reset_index()"
   ]
  },
  {
   "cell_type": "code",
   "execution_count": 17,
   "id": "62ed3387-2693-428c-ae52-1877d7101bd8",
   "metadata": {},
   "outputs": [],
   "source": [
    "users_comments = copy_reset(comments[comments['comment_user_type'] == 'User'])\n",
    "issues_with_user_comment = copy_reset(gkirs_simp[gkirs_simp['id'].isin(users_comments['comment_issue_id'])])"
   ]
  },
  {
   "cell_type": "markdown",
   "id": "4455b6a7-904d-40b0-849a-1f56cd04cb45",
   "metadata": {},
   "source": [
    "## Not Closed GKIRs\n"
   ]
  },
  {
   "cell_type": "code",
   "execution_count": 41,
   "id": "066f28b0-97af-400c-b6b3-cfd4eed6cf00",
   "metadata": {},
   "outputs": [],
   "source": [
    "gkirs_open = copy_reset(gkirs_simp[gkirs_simp['state'] == 'open'])\n",
    "gkirs_open['open_for'] = pd.Timestamp.utcnow() - gkirs_open['created_at']"
   ]
  },
  {
   "cell_type": "code",
   "execution_count": 42,
   "id": "f1a7cb4e-0ea4-4ff2-9040-283182ef705f",
   "metadata": {},
   "outputs": [
    {
     "name": "stdout",
     "output_type": "stream",
     "text": [
      "--All GK in-range breaking issue state proportions (not calculated per project)--\n"
     ]
    },
    {
     "data": {
      "text/html": [
       "<div>\n",
       "<style scoped>\n",
       "    .dataframe tbody tr th:only-of-type {\n",
       "        vertical-align: middle;\n",
       "    }\n",
       "\n",
       "    .dataframe tbody tr th {\n",
       "        vertical-align: top;\n",
       "    }\n",
       "\n",
       "    .dataframe thead th {\n",
       "        text-align: right;\n",
       "    }\n",
       "</style>\n",
       "<table border=\"1\" class=\"dataframe\">\n",
       "  <thead>\n",
       "    <tr style=\"text-align: right;\">\n",
       "      <th></th>\n",
       "      <th>proportion</th>\n",
       "    </tr>\n",
       "  </thead>\n",
       "  <tbody>\n",
       "    <tr>\n",
       "      <th>closed</th>\n",
       "      <td>0.821859</td>\n",
       "    </tr>\n",
       "    <tr>\n",
       "      <th>open</th>\n",
       "      <td>0.178141</td>\n",
       "    </tr>\n",
       "  </tbody>\n",
       "</table>\n",
       "</div>"
      ],
      "text/plain": [
       "        proportion\n",
       "closed    0.821859\n",
       "open      0.178141"
      ]
     },
     "execution_count": 42,
     "metadata": {},
     "output_type": "execute_result"
    }
   ],
   "source": [
    "proportions = (gkirs_simp['state'].value_counts() / gkirs_simp['state'].count()).to_frame(name='proportion')\n",
    "print('--All GK in-range breaking issue state proportions (not calculated per project)--')\n",
    "proportions"
   ]
  },
  {
   "cell_type": "markdown",
   "id": "00a6541b-0047-4ced-b571-7bda9b1d323d",
   "metadata": {},
   "source": [
    "## Open GKIRs with no user comment"
   ]
  },
  {
   "cell_type": "code",
   "execution_count": 43,
   "id": "9abdc344-234a-4166-bcd0-202226b4120c",
   "metadata": {},
   "outputs": [],
   "source": [
    "open_gkirs_with_no_user_comment = copy_reset(gkirs_open[~gkirs_open['id'].isin(users_comments['comment_issue_id'])])"
   ]
  },
  {
   "cell_type": "code",
   "execution_count": 46,
   "id": "6af41479-d5e4-47d2-8a12-662826a4dd24",
   "metadata": {},
   "outputs": [
    {
     "name": "stdout",
     "output_type": "stream",
     "text": [
      "99.77% of GKIRs that remain open do not have a comment from a user\n"
     ]
    }
   ],
   "source": [
    "prop = calculate_percent(open_gkirs_with_no_user_comment['id'].nunique(), gkirs_open['id'].nunique())\n",
    "print(f'{prop}% of GKIRs that remain open do not have a comment from a user')"
   ]
  },
  {
   "cell_type": "markdown",
   "id": "00036821-6e4e-491f-b6f2-82a72dbf9555",
   "metadata": {},
   "source": [
    "## Open GKIRs with no User Interactions (events)"
   ]
  },
  {
   "cell_type": "code",
   "execution_count": 66,
   "id": "1c03ef32-0d51-4b84-a1be-5eb85ea007bb",
   "metadata": {},
   "outputs": [],
   "source": [
    "events = load_events()\n",
    "events['event_actor_login'] = events['event_actor_login'].astype('category')\n",
    "events = events[~pd.isna(events['event_actor_login'])]"
   ]
  },
  {
   "cell_type": "code",
   "execution_count": 80,
   "id": "9e696f70-4d34-4ef4-ad90-6e44fcea4e59",
   "metadata": {},
   "outputs": [],
   "source": [
    "events['event_actor_type'] = 'user'\n",
    "\n",
    "events.loc[\n",
    "    events['event_actor_login'].str.contains('\\[bot\\]'),\n",
    "    'event_actor_type'\n",
    "] = 'bot'\n",
    "\n",
    "events.loc[\n",
    "    events['event_actor_login'].str.contains('automation'),\n",
    "    'event_actor_type'\n",
    "] = 'bot'\n",
    "user_events = copy_reset(events[events['event_actor_type'] == 'user'])"
   ]
  },
  {
   "cell_type": "code",
   "execution_count": 86,
   "id": "1e51eeeb-44ad-4bc3-9277-193ebbcbe458",
   "metadata": {},
   "outputs": [],
   "source": [
    "# user_events.groupby('event_actor_login', observed=True).size().sort_values(ascending=False).head(50)"
   ]
  },
  {
   "cell_type": "code",
   "execution_count": 89,
   "id": "a682da15-9ce7-4767-bbd3-b00d59b43fb6",
   "metadata": {},
   "outputs": [
    {
     "data": {
      "text/plain": [
       "event_description\n",
       "closed                      85787\n",
       "labeled                      1998\n",
       "referenced                   1784\n",
       "assigned                     1262\n",
       "mentioned                     670\n",
       "unlabeled                     655\n",
       "moved_columns_in_project      639\n",
       "added_to_project              578\n",
       "subscribed                    456\n",
       "milestoned                    379\n",
       "reopened                      195\n",
       "locked                        119\n",
       "demilestoned                   69\n",
       "unassigned                     51\n",
       "comment_deleted                35\n",
       "renamed                        18\n",
       "unsubscribed                   18\n",
       "connected                      10\n",
       "removed_from_project            9\n",
       "unlocked                        3\n",
       "merged                          3\n",
       "transferred                     3\n",
       "head_ref_deleted                2\n",
       "marked_as_duplicate             2\n",
       "pinned                          1\n",
       "unpinned                        1\n",
       "dtype: int64"
      ]
     },
     "execution_count": 89,
     "metadata": {},
     "output_type": "execute_result"
    }
   ],
   "source": [
    "user_events.groupby('event_description', observed=True).size().sort_values(ascending=False).head(50)"
   ]
  },
  {
   "cell_type": "code",
   "execution_count": 91,
   "id": "9600ea04-6dae-4cef-8903-282da8b0cfbd",
   "metadata": {},
   "outputs": [],
   "source": [
    "open_gkirs_with_no_user_events = copy_reset(gkirs_open[~gkirs_open['id'].isin(user_events['event_issue_id'])])"
   ]
  },
  {
   "cell_type": "code",
   "execution_count": 95,
   "id": "dd7d6dfc-1497-4b95-8706-78835899e8f8",
   "metadata": {},
   "outputs": [
    {
     "name": "stdout",
     "output_type": "stream",
     "text": [
      "99.31% of GKIRs that remain open do not have an event from a user\n"
     ]
    }
   ],
   "source": [
    "prop = calculate_percent(open_gkirs_with_no_user_events['id'].nunique(), gkirs_open['id'].nunique())\n",
    "print(f'{prop}% of GKIRs that remain open do not have an event from a user')"
   ]
  },
  {
   "cell_type": "markdown",
   "id": "a470ebb8-54cd-4347-90ba-a00cddb75e97",
   "metadata": {},
   "source": [
    "## Open GKIRs with no Human interaction"
   ]
  },
  {
   "cell_type": "code",
   "execution_count": 94,
   "id": "4bcee507-f93f-42d3-8d15-51c0a2962069",
   "metadata": {},
   "outputs": [],
   "source": [
    "open_gkirs_with_no_user_interaction = copy_reset(\n",
    "    gkirs_open.loc[\n",
    "        (gkirs_open['id'].isin(open_gkirs_with_no_user_comment['id'])) &\n",
    "        (gkirs_open['id'].isin(open_gkirs_with_no_user_events['id']))\n",
    "    ]\n",
    ")"
   ]
  },
  {
   "cell_type": "code",
   "execution_count": 96,
   "id": "dd85ed30-6d8f-4904-a04a-2409b5412496",
   "metadata": {},
   "outputs": [
    {
     "name": "stdout",
     "output_type": "stream",
     "text": [
      "99.14% of GKIRs that remain open do not have a comment or an event from a user\n"
     ]
    }
   ],
   "source": [
    "prop = calculate_percent(open_gkirs_with_no_user_interaction['id'].nunique(), gkirs_open['id'].nunique())\n",
    "print(f'{prop}% of GKIRs that remain open do not have a comment or an event from a user')"
   ]
  },
  {
   "cell_type": "markdown",
   "id": "9ee33d5a-7846-4d9b-a8ac-f2567c4af42f",
   "metadata": {},
   "source": [
    "## How long have not-closed GKIRS been open?"
   ]
  },
  {
   "cell_type": "code",
   "execution_count": 37,
   "id": "a219075c-6343-4c82-8362-a996739d9bcb",
   "metadata": {},
   "outputs": [
    {
     "data": {
      "text/plain": [
       "count                           16602\n",
       "mean     1042 days 02:50:38.140791232\n",
       "std       302 days 17:39:00.506957872\n",
       "min          547 days 20:38:45.339442\n",
       "25%          823 days 20:07:55.089442\n",
       "50%          994 days 17:52:55.339442\n",
       "75%         1178 days 13:50:29.339442\n",
       "max         1863 days 14:14:53.339442\n",
       "Name: open_for, dtype: object"
      ]
     },
     "execution_count": 37,
     "metadata": {},
     "output_type": "execute_result"
    }
   ],
   "source": [
    "gkirs_open['open_for'].describe()"
   ]
  }
 ],
 "metadata": {
  "kernelspec": {
   "display_name": "Python 3",
   "language": "python",
   "name": "python3"
  },
  "language_info": {
   "codemirror_mode": {
    "name": "ipython",
    "version": 3
   },
   "file_extension": ".py",
   "mimetype": "text/x-python",
   "name": "python",
   "nbconvert_exporter": "python",
   "pygments_lexer": "ipython3",
   "version": "3.8.8"
  }
 },
 "nbformat": 4,
 "nbformat_minor": 5
}
