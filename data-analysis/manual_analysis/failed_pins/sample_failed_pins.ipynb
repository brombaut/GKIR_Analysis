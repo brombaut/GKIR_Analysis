{
 "cells": [
  {
   "cell_type": "markdown",
   "id": "planned-floating",
   "metadata": {},
   "source": [
    "<h1>Processing for Failed Pins manual analysis</h1>"
   ]
  },
  {
   "cell_type": "markdown",
   "id": "blond-memorabilia",
   "metadata": {},
   "source": [
    "<h3>Load helper functions</h3>"
   ]
  },
  {
   "cell_type": "code",
   "execution_count": 3,
   "id": "fifth-wyoming",
   "metadata": {},
   "outputs": [],
   "source": [
    "%run ../../_utils.ipynb"
   ]
  },
  {
   "cell_type": "markdown",
   "id": "mature-excess",
   "metadata": {},
   "source": [
    "<h3>Load raw <code>sample_failed_pins</code></h3>"
   ]
  },
  {
   "cell_type": "code",
   "execution_count": 66,
   "id": "willing-stopping",
   "metadata": {},
   "outputs": [],
   "source": [
    "dtypes = {\n",
    "    'id': 'int64',\n",
    "    'url': 'object',\n",
    "    'title': 'object',\n",
    "    'html_url': 'object',\n",
    "    'body': 'object',\n",
    "    'comment_issue_id': 'int64',\n",
    "    'comment_url': 'object',\n",
    "    'comment_body': 'object',\n",
    "    'pin_status': 'category',\n",
    "}\n",
    "file_path = f'./sample_failed_pins.csv'\n",
    "sample_failed_pins = pd.read_csv(file_path, dtype=dtypes)"
   ]
  },
  {
   "cell_type": "code",
   "execution_count": null,
   "id": "determined-therapist",
   "metadata": {},
   "outputs": [],
   "source": []
  },
  {
   "cell_type": "markdown",
   "id": "distributed-portugal",
   "metadata": {},
   "source": [
    "<h3>Clean <code>sample_failed_pins</code> and write to csv for excel sheet</h3>"
   ]
  },
  {
   "cell_type": "code",
   "execution_count": 67,
   "id": "corresponding-constraint",
   "metadata": {},
   "outputs": [],
   "source": [
    "sample_failed_pins.drop(['body', 'comment_url', 'comment_issue_id', 'pin_status'], axis=1)\n",
    "for_csv = sample_failed_pins[['id', 'url', 'title', 'comment_body', 'html_url']].copy()\n",
    "for_csv['notes'] = ''\n",
    "for_csv['build_fail_reason'] = ''\n",
    "for_csv.to_csv(f'./ma_sample_failed_pins.csv', index=False)"
   ]
  },
  {
   "cell_type": "markdown",
   "id": "judicial-secretary",
   "metadata": {},
   "source": [
    "<h3>Check classified samples</h3>"
   ]
  },
  {
   "cell_type": "code",
   "execution_count": 133,
   "id": "thick-sociology",
   "metadata": {},
   "outputs": [
    {
     "name": "stdout",
     "output_type": "stream",
     "text": [
      "613 are classified\n",
      "Syntax/Build Error                        83\n",
      "Incompatible Node/npm/dependency error    67\n",
      "Unrelated Test Failure                    56\n",
      "Linter/Project Guideline Error            54\n",
      "Clone Error/Missing File                  41\n",
      "Lockfile Error                            37\n",
      "Timeout/Network Error                     34\n",
      "Security Error                             9\n",
      "Name: build_fail_reason, dtype: int64\n",
      "381 are classified and useful\n"
     ]
    },
    {
     "data": {
      "text/html": [
       "<div>\n",
       "<style scoped>\n",
       "    .dataframe tbody tr th:only-of-type {\n",
       "        vertical-align: middle;\n",
       "    }\n",
       "\n",
       "    .dataframe tbody tr th {\n",
       "        vertical-align: top;\n",
       "    }\n",
       "\n",
       "    .dataframe thead th {\n",
       "        text-align: right;\n",
       "    }\n",
       "</style>\n",
       "<table border=\"1\" class=\"dataframe\">\n",
       "  <thead>\n",
       "    <tr style=\"text-align: right;\">\n",
       "      <th></th>\n",
       "      <th>build_fail_reason</th>\n",
       "      <th>proportion</th>\n",
       "    </tr>\n",
       "  </thead>\n",
       "  <tbody>\n",
       "    <tr>\n",
       "      <th>0</th>\n",
       "      <td>Syntax/Build Error</td>\n",
       "      <td>0.218</td>\n",
       "    </tr>\n",
       "    <tr>\n",
       "      <th>1</th>\n",
       "      <td>Incompatible Node/npm/dependency error</td>\n",
       "      <td>0.176</td>\n",
       "    </tr>\n",
       "    <tr>\n",
       "      <th>2</th>\n",
       "      <td>Unrelated Test Failure</td>\n",
       "      <td>0.147</td>\n",
       "    </tr>\n",
       "    <tr>\n",
       "      <th>3</th>\n",
       "      <td>Linter/Project Guideline Error</td>\n",
       "      <td>0.142</td>\n",
       "    </tr>\n",
       "    <tr>\n",
       "      <th>4</th>\n",
       "      <td>Clone Error/Missing File</td>\n",
       "      <td>0.108</td>\n",
       "    </tr>\n",
       "    <tr>\n",
       "      <th>5</th>\n",
       "      <td>Lockfile Error</td>\n",
       "      <td>0.097</td>\n",
       "    </tr>\n",
       "    <tr>\n",
       "      <th>6</th>\n",
       "      <td>Timeout/Network Error</td>\n",
       "      <td>0.089</td>\n",
       "    </tr>\n",
       "    <tr>\n",
       "      <th>7</th>\n",
       "      <td>Security Error</td>\n",
       "      <td>0.024</td>\n",
       "    </tr>\n",
       "  </tbody>\n",
       "</table>\n",
       "</div>"
      ],
      "text/plain": [
       "                        build_fail_reason  proportion\n",
       "0                      Syntax/Build Error       0.218\n",
       "1  Incompatible Node/npm/dependency error       0.176\n",
       "2                  Unrelated Test Failure       0.147\n",
       "3          Linter/Project Guideline Error       0.142\n",
       "4                Clone Error/Missing File       0.108\n",
       "5                          Lockfile Error       0.097\n",
       "6                   Timeout/Network Error       0.089\n",
       "7                          Security Error       0.024"
      ]
     },
     "execution_count": 133,
     "metadata": {},
     "output_type": "execute_result"
    }
   ],
   "source": [
    "categorized_failed_pins = pd.read_excel('ma_sample_failed_pins.xlsx', index_col=0)  \n",
    "are_classified = \\\n",
    "    categorized_failed_pins[~pd.isna(categorized_failed_pins[\"build_fail_reason\"])]\n",
    "\n",
    "useful_classified = are_classified[are_classified['build_fail_reason'] != 'Build not available'].copy()\n",
    "\n",
    "linter_error = [\n",
    "    'Linter error'\n",
    "]\n",
    "\n",
    "error_maps = {\n",
    "    'Linter/Project Guideline Error': [\n",
    "        'Linter error',\n",
    "        'Bundle Size Error',\n",
    "        'Test coverage error',\n",
    "    ],\n",
    "    'Incompatible Node/npm/dependency error': [\n",
    "        'Incompatible Node error',\n",
    "        'Actual npm error',\n",
    "        'npm install error',\n",
    "        'Incompatible dependency error',\n",
    "        'Missing dependency'\n",
    "    ],\n",
    "    'Timeout/Network Error': [\n",
    "        'Build timeout',\n",
    "        'Connection timeout',\n",
    "        'Test timeout',\n",
    "        'Test timeout error',\n",
    "        'Network error',\n",
    "        'Network error/404 file not found',\n",
    "    ],\n",
    "    'Security Error': [\n",
    "        'Audit error',\n",
    "        'Security error',\n",
    "        'Authentication error',\n",
    "    ],\n",
    "#     'CI Configuration/Environment Error': [\n",
    "#         'Unrelated CI failure',\n",
    "#         'Build failed to start',\n",
    "#         'Master branch was broken',\n",
    "#         'Docker error',\n",
    "#         'Aborted due to warnings',\n",
    "#         'Cancelled Build'\n",
    "#     ],\n",
    "    'Clone Error/Missing File': [\n",
    "        'Clone error / Missing file',\n",
    "        'Clone error'\n",
    "    ],\n",
    "    'Unrelated Test Failure': [\n",
    "        'Unrelated test failure',\n",
    "        'Browser testing error',\n",
    "    ],\n",
    "    'Lockfile Error': [\n",
    "        'Lockfile error',\n",
    "    ],\n",
    "    'Syntax/Build Error': [\n",
    "        'Syntax error',\n",
    "        'Unrelated CI error',\n",
    "        'Unrelated CI failure',\n",
    "        'Build failed to start',\n",
    "        'Master branch was broken',\n",
    "        'Docker error',\n",
    "        'Aborted due to warnings',\n",
    "        'Cancelled Build',\n",
    "    ],\n",
    "}\n",
    "\n",
    "for overarching_error, matching_errors in error_maps.items():\n",
    "    useful_classified.loc[\n",
    "        useful_classified['build_fail_reason'].isin(matching_errors),\n",
    "        'build_fail_reason'\n",
    "    ] = overarching_error\n",
    "\n",
    "print(f'{len(are_classified)} are classified')\n",
    "print(useful_classified['build_fail_reason'].value_counts())\n",
    "print(f'{len(useful_classified)} are classified and useful')\n",
    "proportions = (\n",
    "    round(\n",
    "        useful_classified['build_fail_reason'].value_counts() / \n",
    "        useful_classified['build_fail_reason'].count(),\n",
    "        3\n",
    "    )\n",
    "        \n",
    ").to_frame(name='proportion')\\\n",
    "    .rename_axis('build_fail_reason')\\\n",
    "    .reset_index()\n",
    "proportions.head(20)"
   ]
  },
  {
   "cell_type": "markdown",
   "id": "objective-adelaide",
   "metadata": {},
   "source": [
    "Write out samples for second author"
   ]
  },
  {
   "cell_type": "code",
   "execution_count": 146,
   "id": "solved-student",
   "metadata": {},
   "outputs": [],
   "source": [
    "to_write = useful_classified.sample(n=58, random_state=7)\n",
    "to_write = to_write[['url', 'html_url']]\n",
    "\n",
    "# to_write['build_fail_reason'].value_counts()\n",
    "\n",
    "to_write.to_excel('sample_failed_pins_second_author.xlsx')"
   ]
  }
 ],
 "metadata": {
  "kernelspec": {
   "display_name": "Python 3",
   "language": "python",
   "name": "python3"
  },
  "language_info": {
   "codemirror_mode": {
    "name": "ipython",
    "version": 3
   },
   "file_extension": ".py",
   "mimetype": "text/x-python",
   "name": "python",
   "nbconvert_exporter": "python",
   "pygments_lexer": "ipython3",
   "version": "3.8.5"
  }
 },
 "nbformat": 4,
 "nbformat_minor": 5
}
