{
 "cells": [
  {
   "cell_type": "markdown",
   "id": "planned-floating",
   "metadata": {},
   "source": [
    "<h1>Processing for Failed Pins manual analysis</h1>"
   ]
  },
  {
   "cell_type": "markdown",
   "id": "blond-memorabilia",
   "metadata": {},
   "source": [
    "<h3>Load helper functions</h3>"
   ]
  },
  {
   "cell_type": "code",
   "execution_count": 1,
   "id": "fifth-wyoming",
   "metadata": {},
   "outputs": [],
   "source": [
    "%run ../../_utils.ipynb"
   ]
  },
  {
   "cell_type": "markdown",
   "id": "mature-excess",
   "metadata": {},
   "source": [
    "<h3>Load raw <code>sample_failed_pins</code></h3>"
   ]
  },
  {
   "cell_type": "code",
   "execution_count": 66,
   "id": "willing-stopping",
   "metadata": {},
   "outputs": [],
   "source": [
    "dtypes = {\n",
    "    'id': 'int64',\n",
    "    'url': 'object',\n",
    "    'title': 'object',\n",
    "    'html_url': 'object',\n",
    "    'body': 'object',\n",
    "    'comment_issue_id': 'int64',\n",
    "    'comment_url': 'object',\n",
    "    'comment_body': 'object',\n",
    "    'pin_status': 'category',\n",
    "}\n",
    "file_path = f'./sample_failed_pins.csv'\n",
    "sample_failed_pins = pd.read_csv(file_path, dtype=dtypes)"
   ]
  },
  {
   "cell_type": "code",
   "execution_count": null,
   "id": "determined-therapist",
   "metadata": {},
   "outputs": [],
   "source": []
  },
  {
   "cell_type": "markdown",
   "id": "distributed-portugal",
   "metadata": {},
   "source": [
    "<h3>Clean <code>sample_failed_pins</code> and write to csv for excel sheet</h3>"
   ]
  },
  {
   "cell_type": "code",
   "execution_count": 67,
   "id": "corresponding-constraint",
   "metadata": {},
   "outputs": [],
   "source": [
    "sample_failed_pins.drop(['body', 'comment_url', 'comment_issue_id', 'pin_status'], axis=1)\n",
    "for_csv = sample_failed_pins[['id', 'url', 'title', 'comment_body', 'html_url']].copy()\n",
    "for_csv['notes'] = ''\n",
    "for_csv['build_fail_reason'] = ''\n",
    "for_csv.to_csv(f'./ma_sample_failed_pins.csv', index=False)"
   ]
  },
  {
   "cell_type": "markdown",
   "id": "judicial-secretary",
   "metadata": {},
   "source": [
    "<h3>Check classified samples - first classification</h3>"
   ]
  },
  {
   "cell_type": "code",
   "execution_count": null,
   "id": "f00b0dff-c30d-47a0-89c7-7c2050604729",
   "metadata": {},
   "outputs": [],
   "source": [
    "categorized_failed_pins = pd.read_excel('ma_sample_failed_pins.xlsx', index_col=0)  \n",
    "are_classified = \\\n",
    "    categorized_failed_pins[~pd.isna(categorized_failed_pins[\"build_fail_reason\"])]\n",
    "\n",
    "useful_classified = are_classified[are_classified['build_fail_reason'] != 'Build not available'].copy()"
   ]
  },
  {
   "cell_type": "code",
   "execution_count": 3,
   "id": "thick-sociology",
   "metadata": {},
   "outputs": [
    {
     "name": "stdout",
     "output_type": "stream",
     "text": [
      "613 are classified\n",
      "Syntax/Build Error                        83\n",
      "Incompatible Node/npm/dependency error    67\n",
      "Unrelated Test Failure                    56\n",
      "Linter/Project Guideline Error            54\n",
      "Clone Error/Missing File                  41\n",
      "Lockfile Error                            37\n",
      "Timeout/Network Error                     34\n",
      "Security Error                             9\n",
      "Name: build_fail_reason, dtype: int64\n",
      "381 are classified and useful\n"
     ]
    },
    {
     "data": {
      "text/html": [
       "<div>\n",
       "<style scoped>\n",
       "    .dataframe tbody tr th:only-of-type {\n",
       "        vertical-align: middle;\n",
       "    }\n",
       "\n",
       "    .dataframe tbody tr th {\n",
       "        vertical-align: top;\n",
       "    }\n",
       "\n",
       "    .dataframe thead th {\n",
       "        text-align: right;\n",
       "    }\n",
       "</style>\n",
       "<table border=\"1\" class=\"dataframe\">\n",
       "  <thead>\n",
       "    <tr style=\"text-align: right;\">\n",
       "      <th></th>\n",
       "      <th>build_fail_reason</th>\n",
       "      <th>proportion</th>\n",
       "    </tr>\n",
       "  </thead>\n",
       "  <tbody>\n",
       "    <tr>\n",
       "      <th>0</th>\n",
       "      <td>Syntax/Build Error</td>\n",
       "      <td>0.218</td>\n",
       "    </tr>\n",
       "    <tr>\n",
       "      <th>1</th>\n",
       "      <td>Incompatible Node/npm/dependency error</td>\n",
       "      <td>0.176</td>\n",
       "    </tr>\n",
       "    <tr>\n",
       "      <th>2</th>\n",
       "      <td>Unrelated Test Failure</td>\n",
       "      <td>0.147</td>\n",
       "    </tr>\n",
       "    <tr>\n",
       "      <th>3</th>\n",
       "      <td>Linter/Project Guideline Error</td>\n",
       "      <td>0.142</td>\n",
       "    </tr>\n",
       "    <tr>\n",
       "      <th>4</th>\n",
       "      <td>Clone Error/Missing File</td>\n",
       "      <td>0.108</td>\n",
       "    </tr>\n",
       "    <tr>\n",
       "      <th>5</th>\n",
       "      <td>Lockfile Error</td>\n",
       "      <td>0.097</td>\n",
       "    </tr>\n",
       "    <tr>\n",
       "      <th>6</th>\n",
       "      <td>Timeout/Network Error</td>\n",
       "      <td>0.089</td>\n",
       "    </tr>\n",
       "    <tr>\n",
       "      <th>7</th>\n",
       "      <td>Security Error</td>\n",
       "      <td>0.024</td>\n",
       "    </tr>\n",
       "  </tbody>\n",
       "</table>\n",
       "</div>"
      ],
      "text/plain": [
       "                        build_fail_reason  proportion\n",
       "0                      Syntax/Build Error       0.218\n",
       "1  Incompatible Node/npm/dependency error       0.176\n",
       "2                  Unrelated Test Failure       0.147\n",
       "3          Linter/Project Guideline Error       0.142\n",
       "4                Clone Error/Missing File       0.108\n",
       "5                          Lockfile Error       0.097\n",
       "6                   Timeout/Network Error       0.089\n",
       "7                          Security Error       0.024"
      ]
     },
     "execution_count": 3,
     "metadata": {},
     "output_type": "execute_result"
    }
   ],
   "source": [
    "linter_error = [\n",
    "    'Linter error'\n",
    "]\n",
    "\n",
    "error_maps = {\n",
    "    'Linter/Project Guideline Error': [\n",
    "        'Linter error',\n",
    "        'Bundle Size Error',\n",
    "        'Test coverage error',\n",
    "    ],\n",
    "    'Incompatible Node/npm/dependency error': [\n",
    "        'Incompatible Node error',\n",
    "        'Actual npm error',\n",
    "        'npm install error',\n",
    "        'Incompatible dependency error',\n",
    "        'Missing dependency'\n",
    "    ],\n",
    "    'Timeout/Network Error': [\n",
    "        'Build timeout',\n",
    "        'Connection timeout',\n",
    "        'Test timeout',\n",
    "        'Test timeout error',\n",
    "        'Network error',\n",
    "        'Network error/404 file not found',\n",
    "    ],\n",
    "    'Security Error': [\n",
    "        'Audit error',\n",
    "        'Security error',\n",
    "        'Authentication error',\n",
    "    ],\n",
    "#     'CI Configuration/Environment Error': [\n",
    "#         'Unrelated CI failure',\n",
    "#         'Build failed to start',\n",
    "#         'Master branch was broken',\n",
    "#         'Docker error',\n",
    "#         'Aborted due to warnings',\n",
    "#         'Cancelled Build'\n",
    "#     ],\n",
    "    'Clone Error/Missing File': [\n",
    "        'Clone error / Missing file',\n",
    "        'Clone error'\n",
    "    ],\n",
    "    'Unrelated Test Failure': [\n",
    "        'Unrelated test failure',\n",
    "        'Browser testing error',\n",
    "    ],\n",
    "    'Lockfile Error': [\n",
    "        'Lockfile error',\n",
    "    ],\n",
    "    'Syntax/Build Error': [\n",
    "        'Syntax error',\n",
    "        'Unrelated CI error',\n",
    "        'Unrelated CI failure',\n",
    "        'Build failed to start',\n",
    "        'Master branch was broken',\n",
    "        'Docker error',\n",
    "        'Aborted due to warnings',\n",
    "        'Cancelled Build',\n",
    "    ],\n",
    "}\n",
    "\n",
    "for overarching_error, matching_errors in error_maps.items():\n",
    "    useful_classified.loc[\n",
    "        useful_classified['build_fail_reason'].isin(matching_errors),\n",
    "        'build_fail_reason'\n",
    "    ] = overarching_error\n",
    "\n",
    "print(f'{len(are_classified)} are classified')\n",
    "print(useful_classified['build_fail_reason'].value_counts())\n",
    "print(f'{len(useful_classified)} are classified and useful')\n",
    "proportions = (\n",
    "    round(\n",
    "        useful_classified['build_fail_reason'].value_counts() / \n",
    "        useful_classified['build_fail_reason'].count(),\n",
    "        3\n",
    "    )\n",
    "        \n",
    ").to_frame(name='proportion')\\\n",
    "    .rename_axis('build_fail_reason')\\\n",
    "    .reset_index()\n",
    "proportions.head(20)"
   ]
  },
  {
   "cell_type": "markdown",
   "id": "objective-adelaide",
   "metadata": {},
   "source": [
    "Write out samples for second author"
   ]
  },
  {
   "cell_type": "code",
   "execution_count": 146,
   "id": "solved-student",
   "metadata": {},
   "outputs": [],
   "source": [
    "to_write = useful_classified.sample(n=58, random_state=7)\n",
    "to_write = to_write[['url', 'html_url']]\n",
    "\n",
    "# to_write['build_fail_reason'].value_counts()\n",
    "\n",
    "to_write.to_excel('sample_failed_pins_second_author.xlsx')"
   ]
  },
  {
   "cell_type": "code",
   "execution_count": 5,
   "id": "8aaba244-8ae0-4a2b-bceb-64004c9ac88a",
   "metadata": {},
   "outputs": [],
   "source": [
    "# Writing out original sample to compare with Filipes\n",
    "to_write = useful_classified.sample(n=58, random_state=7)\n",
    "to_write.to_excel('sample_failed_pins_first_author.xlsx')"
   ]
  },
  {
   "cell_type": "markdown",
   "id": "e049e031-9040-46c8-a6d7-b21a4b5d06cf",
   "metadata": {},
   "source": [
    "### Check classified samples - Second classification"
   ]
  },
  {
   "cell_type": "code",
   "execution_count": 27,
   "id": "cace4e44-1f71-42b5-94f5-5db2c33b2706",
   "metadata": {},
   "outputs": [
    {
     "name": "stderr",
     "output_type": "stream",
     "text": [
      "/Users/BenRombaut/opt/anaconda3/lib/python3.8/site-packages/openpyxl/worksheet/_reader.py:312: UserWarning: Conditional Formatting extension is not supported and will be removed\n",
      "  warn(msg)\n",
      "/Users/BenRombaut/opt/anaconda3/lib/python3.8/site-packages/openpyxl/worksheet/_reader.py:312: UserWarning: Data Validation extension is not supported and will be removed\n",
      "  warn(msg)\n"
     ]
    }
   ],
   "source": [
    "categorized_failed_pins = pd.read_excel('ma_sample_failed_pins.xlsx', index_col=0)  \n",
    "are_classified = \\\n",
    "    categorized_failed_pins[~pd.isna(categorized_failed_pins[\"second_categorization\"])]\n",
    "\n",
    "useful_classified = are_classified[are_classified['second_categorization'] != 'Build not available'].copy()"
   ]
  },
  {
   "cell_type": "code",
   "execution_count": 28,
   "id": "c400f118-6572-49a5-9f0a-faf6c1af58d7",
   "metadata": {},
   "outputs": [
    {
     "name": "stdout",
     "output_type": "stream",
     "text": [
      "Linter Error                52\n",
      "Client test case failure    52\n",
      "Missing module              43\n",
      "Lockfile Error              41\n",
      "Tests failed to run         38\n",
      "Node error                  29\n",
      "Build/Linker Error          29\n",
      "Timeout/Network Error       20\n",
      "Dependency version error    17\n",
      "Syntax Error                15\n",
      "Dependency error            15\n",
      "Security Error              10\n",
      "Credentials Error            9\n",
      "npm install error            6\n",
      "npm error                    5\n",
      "Name: second_categorization, dtype: int64\n",
      "381 are classified and useful\n"
     ]
    }
   ],
   "source": [
    "print(useful_classified['second_categorization'].value_counts())\n",
    "print(f'{len(useful_classified)} are classified and useful')"
   ]
  },
  {
   "cell_type": "code",
   "execution_count": 29,
   "id": "9fb99171-15cc-4991-980b-17f076e341e0",
   "metadata": {},
   "outputs": [
    {
     "name": "stdout",
     "output_type": "stream",
     "text": [
      "Syntax/Linter/Project Guideline Error             67\n",
      "Client Test Case Failure                          52\n",
      "Incompatible Node/NPM/Dependency Version Error    51\n",
      "Dependency Error                                  50\n",
      "Missing File/Module                               43\n",
      "Lockfile Error                                    41\n",
      "Client Tests Failing to Run Successfully          38\n",
      "Timeout/Network Error                             20\n",
      "Security Error                                    10\n",
      "Credentials Error                                  9\n",
      "Name: second_categorization, dtype: int64\n"
     ]
    }
   ],
   "source": [
    "useful_classified['overarching_error'] = ''\n",
    "error_maps = {\n",
    "    'Syntax/Linter/Project Guideline Error': [\n",
    "        'Linter Error',\n",
    "        'Syntax Error',\n",
    "    ],\n",
    "    'Client Test Case Failure': [\n",
    "        'Client test case failure',\n",
    "    ],\n",
    "    'Client Tests Failing to Run Successfully': [\n",
    "        'Tests failed to run',\n",
    "    ],\n",
    "    'Incompatible Node/NPM/Dependency Version Error': [\n",
    "        'Node error',\n",
    "        'npm error',\n",
    "        'Dependency version error',\n",
    "    ],\n",
    "    'Dependency Error': [\n",
    "        'npm install error',\n",
    "        'Dependency error',\n",
    "        'Build/Linker Error'\n",
    "    ],\n",
    "    'Timeout/Network Error': [\n",
    "        'Timeout/Network Error',\n",
    "    ],\n",
    "    'Security Error': [\n",
    "        'Security Error',\n",
    "    ],\n",
    "    'Missing File/Module': [\n",
    "        'Missing module',\n",
    "    ],\n",
    "    'Lockfile Error': [\n",
    "        'Lockfile Error',\n",
    "    ],\n",
    "}\n",
    "\n",
    "for overarching_error, matching_errors in error_maps.items():\n",
    "    useful_classified.loc[\n",
    "        useful_classified['second_categorization'].isin(matching_errors),\n",
    "        'second_categorization'\n",
    "    ] = overarching_error\n",
    "print(useful_classified['second_categorization'].value_counts())\n"
   ]
  },
  {
   "cell_type": "code",
   "execution_count": 30,
   "id": "bbd66370-36e4-4f18-a8c8-19183d53d825",
   "metadata": {},
   "outputs": [
    {
     "data": {
      "text/html": [
       "<div>\n",
       "<style scoped>\n",
       "    .dataframe tbody tr th:only-of-type {\n",
       "        vertical-align: middle;\n",
       "    }\n",
       "\n",
       "    .dataframe tbody tr th {\n",
       "        vertical-align: top;\n",
       "    }\n",
       "\n",
       "    .dataframe thead th {\n",
       "        text-align: right;\n",
       "    }\n",
       "</style>\n",
       "<table border=\"1\" class=\"dataframe\">\n",
       "  <thead>\n",
       "    <tr style=\"text-align: right;\">\n",
       "      <th></th>\n",
       "      <th>second_categorization</th>\n",
       "      <th>proportion</th>\n",
       "    </tr>\n",
       "  </thead>\n",
       "  <tbody>\n",
       "    <tr>\n",
       "      <th>0</th>\n",
       "      <td>Syntax/Linter/Project Guideline Error</td>\n",
       "      <td>0.176</td>\n",
       "    </tr>\n",
       "    <tr>\n",
       "      <th>1</th>\n",
       "      <td>Client Test Case Failure</td>\n",
       "      <td>0.136</td>\n",
       "    </tr>\n",
       "    <tr>\n",
       "      <th>2</th>\n",
       "      <td>Incompatible Node/NPM/Dependency Version Error</td>\n",
       "      <td>0.134</td>\n",
       "    </tr>\n",
       "    <tr>\n",
       "      <th>3</th>\n",
       "      <td>Dependency Error</td>\n",
       "      <td>0.131</td>\n",
       "    </tr>\n",
       "    <tr>\n",
       "      <th>4</th>\n",
       "      <td>Missing File/Module</td>\n",
       "      <td>0.113</td>\n",
       "    </tr>\n",
       "    <tr>\n",
       "      <th>5</th>\n",
       "      <td>Lockfile Error</td>\n",
       "      <td>0.108</td>\n",
       "    </tr>\n",
       "    <tr>\n",
       "      <th>6</th>\n",
       "      <td>Client Tests Failing to Run Successfully</td>\n",
       "      <td>0.100</td>\n",
       "    </tr>\n",
       "    <tr>\n",
       "      <th>7</th>\n",
       "      <td>Timeout/Network Error</td>\n",
       "      <td>0.052</td>\n",
       "    </tr>\n",
       "    <tr>\n",
       "      <th>8</th>\n",
       "      <td>Security Error</td>\n",
       "      <td>0.026</td>\n",
       "    </tr>\n",
       "    <tr>\n",
       "      <th>9</th>\n",
       "      <td>Credentials Error</td>\n",
       "      <td>0.024</td>\n",
       "    </tr>\n",
       "  </tbody>\n",
       "</table>\n",
       "</div>"
      ],
      "text/plain": [
       "                            second_categorization  proportion\n",
       "0           Syntax/Linter/Project Guideline Error       0.176\n",
       "1                        Client Test Case Failure       0.136\n",
       "2  Incompatible Node/NPM/Dependency Version Error       0.134\n",
       "3                                Dependency Error       0.131\n",
       "4                             Missing File/Module       0.113\n",
       "5                                  Lockfile Error       0.108\n",
       "6        Client Tests Failing to Run Successfully       0.100\n",
       "7                           Timeout/Network Error       0.052\n",
       "8                                  Security Error       0.026\n",
       "9                               Credentials Error       0.024"
      ]
     },
     "execution_count": 30,
     "metadata": {},
     "output_type": "execute_result"
    }
   ],
   "source": [
    "proportions = (\n",
    "    round(\n",
    "        useful_classified['second_categorization'].value_counts() / \n",
    "        useful_classified['second_categorization'].count(),\n",
    "        3\n",
    "    )\n",
    "        \n",
    ").to_frame(name='proportion')\\\n",
    "    .rename_axis('second_categorization')\\\n",
    "    .reset_index()\n",
    "proportions.head(20)"
   ]
  },
  {
   "cell_type": "code",
   "execution_count": 32,
   "id": "adc0b859-7efb-4195-b3b6-70a250a906bf",
   "metadata": {},
   "outputs": [
    {
     "data": {
      "text/plain": [
       "0.6910000000000001"
      ]
     },
     "execution_count": 32,
     "metadata": {},
     "output_type": "execute_result"
    }
   ],
   "source": [
    "client_pipeline_categories = [\n",
    "    'Syntax/Linter/Project Guideline Error',\n",
    "    'Client Test Case Failure',\n",
    "    'Incompatible Node/NPM/Dependency Version Error',\n",
    "    'Missing File/Module',\n",
    "    'Lockfile Error',\n",
    "    'Credentials Error',\n",
    "]\n",
    "proportions[proportions['second_categorization'].isin(client_pipeline_categories)]['proportion'].sum()"
   ]
  },
  {
   "cell_type": "markdown",
   "id": "eb4cfe7d-7ce7-49c7-9aea-1733e706b7a9",
   "metadata": {},
   "source": [
    "Calculating Kapp Value\n",
    "\n",
    "Red (Different)\n",
    "Yellow (Roughly the same - different granularity)\n",
    "Green (The same)\n",
    "Grey (not classified)"
   ]
  },
  {
   "cell_type": "code",
   "execution_count": 31,
   "id": "af6e8971-8b9b-4890-b457-e34477474cf6",
   "metadata": {},
   "outputs": [
    {
     "data": {
      "text/plain": [
       "0.9411764705882353"
      ]
     },
     "execution_count": 31,
     "metadata": {},
     "output_type": "execute_result"
    }
   ],
   "source": [
    "red = 3\n",
    "yellow = 15\n",
    "green = 33\n",
    "grey = 7\n",
    "\n",
    "count = red + yellow + green\n",
    "agreement_count = yellow + green\n",
    "\n",
    "agreement = agreement_count / count\n",
    "agreement"
   ]
  },
  {
   "cell_type": "code",
   "execution_count": 33,
   "id": "fbaaa460-19bd-453f-9c54-4bd9c7be4bc5",
   "metadata": {},
   "outputs": [
    {
     "data": {
      "text/plain": [
       "51"
      ]
     },
     "execution_count": 33,
     "metadata": {},
     "output_type": "execute_result"
    }
   ],
   "source": [
    "count"
   ]
  },
  {
   "cell_type": "code",
   "execution_count": 73,
   "id": "cb529578-d0d3-4ff5-9eb6-38527c392b81",
   "metadata": {},
   "outputs": [
    {
     "data": {
      "text/plain": [
       "0.9315693430656934"
      ]
     },
     "execution_count": 73,
     "metadata": {},
     "output_type": "execute_result"
    }
   ],
   "source": [
    "from sklearn.metrics import cohen_kappa_score\n",
    "\n",
    "first_and_second_authors = pd.read_excel('sample_failed_pins_first_author.xlsx')  \n",
    "first_and_second_authors = (\n",
    "    first_and_second_authors[['id', 'build_fail_reason', 'Filipe Category', 'Status']]\n",
    "        .rename(\n",
    "            columns={\n",
    "                'build_fail_reason': 'ben_init_category',\n",
    "                'Filipe Category': 'filipe_init_category',\n",
    "            }\n",
    "        )\n",
    ")\n",
    "\n",
    "final_categories = (\n",
    "    useful_classified.reset_index()[['id', 'second_categorization']].rename(columns={'second_categorization': 'final_categorization'})\n",
    ")\n",
    "\n",
    "final_categories\n",
    "\n",
    "\n",
    "merged = pd.merge(\n",
    "    left=first_and_second_authors,\n",
    "    right=final_categories,\n",
    "    on='id',\n",
    ")\n",
    "merged['ben_category'] = ''\n",
    "merged['filipe_category'] = ''\n",
    "\n",
    "for idx, row in merged.iterrows():\n",
    "    if row['Status'] == 'Same':\n",
    "        merged.iloc[idx, merged.columns.get_loc('ben_category')] = row['final_categorization']\n",
    "        merged.iloc[idx, merged.columns.get_loc('filipe_category')] = row['final_categorization']\n",
    "    elif row['Status'] == 'Granularity':\n",
    "        merged.iloc[idx, merged.columns.get_loc('ben_category')] = row['final_categorization']\n",
    "        merged.iloc[idx, merged.columns.get_loc('filipe_category')] = row['final_categorization']\n",
    "    elif row['Status'] == 'Different':\n",
    "        merged.iloc[idx, merged.columns.get_loc('ben_category')] = row['ben_init_category']\n",
    "        merged.iloc[idx, merged.columns.get_loc('filipe_category')] = row['filipe_init_category']\n",
    "    elif row['Status'] == 'Not Classified':\n",
    "        merged.iloc[idx, merged.columns.get_loc('ben_category')] = pd.NA\n",
    "        merged.iloc[idx, merged.columns.get_loc('filipe_category')] = pd.NA\n",
    "for_kappa = merged.loc[\n",
    "    (~pd.isna(merged['ben_category'])) &\n",
    "    (~pd.isna(merged['filipe_category']))\n",
    "]\n",
    "\n",
    "cohen_kappa_score(for_kappa['ben_category'], for_kappa['filipe_category'])"
   ]
  },
  {
   "cell_type": "code",
   "execution_count": null,
   "id": "daae1b32-e86d-4152-b05d-198320d1e8b1",
   "metadata": {},
   "outputs": [],
   "source": []
  },
  {
   "cell_type": "code",
   "execution_count": null,
   "id": "f913c64d-9126-4c22-80da-b53d04abb7d9",
   "metadata": {},
   "outputs": [],
   "source": []
  },
  {
   "cell_type": "code",
   "execution_count": null,
   "id": "0ae3106a-d5fd-44bd-b797-bfe02274c61b",
   "metadata": {},
   "outputs": [],
   "source": []
  },
  {
   "cell_type": "code",
   "execution_count": null,
   "id": "28bed44e-d3d6-49a0-8f04-84a8fcb7f4e1",
   "metadata": {},
   "outputs": [],
   "source": []
  },
  {
   "cell_type": "code",
   "execution_count": null,
   "id": "2542e05c-257f-442c-a158-dc9c455c66ac",
   "metadata": {},
   "outputs": [],
   "source": []
  }
 ],
 "metadata": {
  "kernelspec": {
   "display_name": "Python 3",
   "language": "python",
   "name": "python3"
  },
  "language_info": {
   "codemirror_mode": {
    "name": "ipython",
    "version": 3
   },
   "file_extension": ".py",
   "mimetype": "text/x-python",
   "name": "python",
   "nbconvert_exporter": "python",
   "pygments_lexer": "ipython3",
   "version": "3.8.10"
  }
 },
 "nbformat": 4,
 "nbformat_minor": 5
}
