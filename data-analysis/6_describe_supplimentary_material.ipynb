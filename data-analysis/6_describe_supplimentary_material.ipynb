{
 "cells": [
  {
   "cell_type": "code",
   "execution_count": 93,
   "id": "e237ba63-c815-42a0-a761-30431e81889e",
   "metadata": {},
   "outputs": [
    {
     "name": "stdout",
     "output_type": "stream",
     "text": [
      "Requirement already satisfied: tabulate in /home/local/SAIL/benjamin/anaconda3/lib/python3.8/site-packages (0.8.9)\n"
     ]
    }
   ],
   "source": [
    "import numpy as np\n",
    "import pandas as pd\n",
    "import seaborn as sns\n",
    "import matplotlib.pyplot as plt\n",
    "import matplotlib as mpl\n",
    "from datetime import datetime\n",
    "pd.set_option('display.max_colwidth', None)\n",
    "\n",
    "import sys\n",
    "!{sys.executable} -m pip install tabulate"
   ]
  },
  {
   "cell_type": "code",
   "execution_count": 94,
   "id": "45bb8002-f92e-47c2-9ce5-4ebebcb7b7ef",
   "metadata": {},
   "outputs": [],
   "source": [
    "def print_markdown_table(columns, dtypes, descriptions):\n",
    "    col_indexes = [i for i in range(len(columns))]\n",
    "    df = pd.DataFrame({\n",
    "            'col_index': col_indexes, \n",
    "            'attribute': columns, \n",
    "            'type': dtypes, \n",
    "            'description': descriptions\n",
    "        },\n",
    "        index=None\n",
    "    )\n",
    "    print(df.to_markdown(index=False))"
   ]
  },
  {
   "cell_type": "markdown",
   "id": "27e92922-8f2c-48fe-ac6c-c12d3c649c1f",
   "metadata": {},
   "source": [
    "## GKIRs"
   ]
  },
  {
   "cell_type": "code",
   "execution_count": 95,
   "id": "b203226c-1704-498e-abf0-5506e4a8d786",
   "metadata": {},
   "outputs": [],
   "source": [
    "gkir_dtypes = {\n",
    "    'id': 'int64',\n",
    "    'number': 'int64',\n",
    "    'url': 'str',\n",
    "    'title': 'str',\n",
    "    'state': 'category',\n",
    "    'is_locked': 'bool',\n",
    "    'created_at': 'str',\n",
    "    'updated_at': 'str',\n",
    "    'closed_at': 'str',\n",
    "    'user_login': 'category',\n",
    "    'labels': 'str',\n",
    "    'num_comments': 'int64',\n",
    "    'events_url': 'str',\n",
    "    'dependency_name': 'category',\n",
    "    'dependency_type': 'category',\n",
    "    'dependency_actual_version': 'str',\n",
    "    'dependency_next_version': 'str',\n",
    "    'dependency_bundle_name': 'category',\n",
    "    'body_parser': 'category',\n",
    "    'repo_url': 'str',\n",
    "    'update_type': 'category',\n",
    "    'repo_name': 'category',\n",
    "    'html_url': 'str',\n",
    "    'body': 'str'\n",
    "}\n",
    "gkir_descriptions = {\n",
    "    'id': 'Issue ID',\n",
    "    'number': 'Issue number in project.',\n",
    "    'url': 'GitHub API url of the issue.',\n",
    "    'title': 'Issue title.',\n",
    "    'state': 'Issue state (open, closed, etc.).',\n",
    "    'is_locked': 'Whether the issue has been locked.',\n",
    "    'created_at': 'When the issue was created.',\n",
    "    'updated_at': 'When the issue was last updated.',\n",
    "    'closed_at': 'When the issue was closed (if applicable).',\n",
    "    'user_login': 'Username of the entity that created the issue.',\n",
    "    'labels': 'Any labels the issue has.',\n",
    "    'num_comments': 'The number of comments on the issue.',\n",
    "    'events_url': 'Url for related events.',\n",
    "    'dependency_name': 'The name of the dependency that caused Greenkeeper to open the issue.',\n",
    "    'dependency_type': 'The type of the dependency that caused Greenkeeper to open the issue.',\n",
    "    'dependency_actual_version': 'The version of the dependency used by the client project.',\n",
    "    'dependency_next_version': 'The version of the dependency that was just released and caused Greenkeeper to open the issue.',\n",
    "    'dependency_bundle_name': 'The bundle type name of the issue (if applicable).',\n",
    "    'body_parser': 'The parser type that was used to parse the issue (if applicable).',\n",
    "    'repo_url': 'The url of the client repo.',\n",
    "    'update_type': 'The update type (major, minor, or patch) between dependency_actual_version and dependency_next_version',\n",
    "    'repo_name': 'The full name of the parent repo.',\n",
    "    'html_url': 'GitHub url of the issue.',\n",
    "    'body': 'The body of the issue.'\n",
    "}\n",
    "parse_dates = ['created_at', 'updated_at', 'closed_at']\n",
    "gkirs = pd.read_csv('../greenkeeper_data/gkirs.csv', dtype=gkir_dtypes, parse_dates=parse_dates)"
   ]
  },
  {
   "cell_type": "code",
   "execution_count": 96,
   "id": "62a94f3c-76f1-4f5c-86c6-6d71201f7fd0",
   "metadata": {},
   "outputs": [
    {
     "name": "stdout",
     "output_type": "stream",
     "text": [
      "|   col_index | attribute                 | type     | description                                                                                            |\n",
      "|------------:|:--------------------------|:---------|:-------------------------------------------------------------------------------------------------------|\n",
      "|           0 | id                        | int64    | Issue ID                                                                                               |\n",
      "|           1 | number                    | int64    | Issue number in project.                                                                               |\n",
      "|           2 | url                       | str      | GitHub API url of the issue.                                                                           |\n",
      "|           3 | title                     | str      | Issue title.                                                                                           |\n",
      "|           4 | state                     | category | Issue state (open, closed, etc.).                                                                      |\n",
      "|           5 | is_locked                 | bool     | Whether the issue has been locked.                                                                     |\n",
      "|           6 | created_at                | str      | When the issue was created.                                                                            |\n",
      "|           7 | updated_at                | str      | When the issue was last updated.                                                                       |\n",
      "|           8 | closed_at                 | str      | When the issue was closed (if applicable).                                                             |\n",
      "|           9 | user_login                | category | Username of the entity that created the issue.                                                         |\n",
      "|          10 | labels                    | str      | Any labels the issue has.                                                                              |\n",
      "|          11 | num_comments              | int64    | The number of comments on the issue.                                                                   |\n",
      "|          12 | events_url                | str      | Url for related events.                                                                                |\n",
      "|          13 | dependency_name           | category | The name of the dependency that caused Greenkeeper to open the issue.                                  |\n",
      "|          14 | dependency_type           | category | The type of the dependency that caused Greenkeeper to open the issue.                                  |\n",
      "|          15 | dependency_actual_version | str      | The version of the dependency used by the client project.                                              |\n",
      "|          16 | dependency_next_version   | str      | The version of the dependency that was just released and caused Greenkeeper to open the issue.         |\n",
      "|          17 | dependency_bundle_name    | category | The bundle type name of the issue (if applicable).                                                     |\n",
      "|          18 | body_parser               | category | The parser type that was used to parse the issue (if applicable).                                      |\n",
      "|          19 | repo_url                  | str      | The url of the client repo.                                                                            |\n",
      "|          20 | update_type               | category | The update type (major, minor, or patch) between dependency_actual_version and dependency_next_version |\n",
      "|          21 | repo_name                 | category | The name of the client repo.                                                                           |\n",
      "|          22 | html_url                  | str      | GitHub url of the issue.                                                                               |\n",
      "|          23 | body                      | str      | The body of the issue.                                                                                 |\n"
     ]
    }
   ],
   "source": [
    "print_markdown_table(gkirs.columns.to_numpy(), gkir_dtypes.values(), gkir_descriptions.values())"
   ]
  },
  {
   "cell_type": "markdown",
   "id": "c85f4d52-2f0f-4801-9853-dc7c74b8d28a",
   "metadata": {},
   "source": [
    "## GKIR Comments"
   ]
  },
  {
   "cell_type": "code",
   "execution_count": 97,
   "id": "465ed310-ac32-4fe2-934a-c09afa7dfef8",
   "metadata": {},
   "outputs": [],
   "source": [
    "gkir_comments_dtypes = {\n",
    "    'comment_issue_url': 'str',\n",
    "    'comment_issue_id': 'int64',\n",
    "    'comment_id': 'int64',\n",
    "    'comment_url': 'str',\n",
    "    'comment_created_at': 'str',\n",
    "    'comment_updated_at': 'str',\n",
    "    'comment_body': 'str',\n",
    "    'comment_author_association': 'category',\n",
    "    'comment_user_id': 'int64',\n",
    "    'comment_user_login': 'category',\n",
    "    'comment_user_type': 'category',\n",
    "}\n",
    "gkir_comments_descriptions = {\n",
    "    'comment_issue_url': 'The GitHub API url of the issue the comment was created on.',\n",
    "    'comment_issue_id': 'The ID of the issue the comment was created on.',\n",
    "    'comment_id': 'The comment ID.',\n",
    "    'comment_url': 'The GitHub API url of the comment.',\n",
    "    'comment_created_at': 'When the comment was created.',\n",
    "    'comment_updated_at': 'When the comment was last updated.',\n",
    "    'comment_body': 'The body of the comment.',\n",
    "    'comment_author_association': 'The comment authors association to the parent repo.',\n",
    "    'comment_user_id': 'The ID of the entity who created the comment.',\n",
    "    'comment_user_login': 'The username of the entity who created the comment.',\n",
    "    'comment_user_type': 'The type of the entity who created the comment.',\n",
    "}\n",
    "parse_dates = ['comment_created_at', 'comment_updated_at']\n",
    "gkir_comments = pd.read_csv('../greenkeeper_data/gkir_comments.csv', dtype=gkir_comments_dtypes, parse_dates=parse_dates)"
   ]
  },
  {
   "cell_type": "code",
   "execution_count": 98,
   "id": "6baa1515-d792-43c2-8f7f-a129360d308f",
   "metadata": {},
   "outputs": [
    {
     "name": "stdout",
     "output_type": "stream",
     "text": [
      "|   col_index | attribute                  | type     | description                                                 |\n",
      "|------------:|:---------------------------|:---------|:------------------------------------------------------------|\n",
      "|           0 | comment_issue_url          | str      | The GitHub API url of the issue the comment was created on. |\n",
      "|           1 | comment_issue_id           | int64    | The ID of the issue the comment was created on.             |\n",
      "|           2 | comment_id                 | int64    | The comment ID.                                             |\n",
      "|           3 | comment_url                | str      | The GitHub API url of the comment.                          |\n",
      "|           4 | comment_created_at         | str      | When the comment was created.                               |\n",
      "|           5 | comment_updated_at         | str      | When the comment was last updated.                          |\n",
      "|           6 | comment_body               | str      | The body of the comment.                                    |\n",
      "|           7 | comment_author_association | category | The comment authors association to the parent repo.         |\n",
      "|           8 | comment_user_id            | int64    | The ID of the entity who created the comment.               |\n",
      "|           9 | comment_user_login         | category | The username of the entity who created the comment.         |\n",
      "|          10 | comment_user_type          | category | The type of the entity who created the comment.             |\n"
     ]
    }
   ],
   "source": [
    "print_markdown_table(gkir_comments.columns.to_numpy(), gkir_comments_dtypes.values(), gkir_comments_descriptions.values())"
   ]
  },
  {
   "cell_type": "markdown",
   "id": "c9716707-387a-45ac-bace-c0b5d6ef1a7e",
   "metadata": {},
   "source": [
    "## GKIR Commits"
   ]
  },
  {
   "cell_type": "code",
   "execution_count": 99,
   "id": "bc020ede-1b38-4a99-a064-6bb9dd24f5ef",
   "metadata": {},
   "outputs": [],
   "source": [
    "gkir_commits_dtypes = {\n",
    "    'commit_sha': 'str',\n",
    "    'issue_id': 'int64',\n",
    "    'repo_name': 'category',\n",
    "    'url': 'str',\n",
    "    'html_url': 'str',\n",
    "    'message': 'str',\n",
    "    'author_login': 'category',\n",
    "    'author_type': 'category',\n",
    "    'committer_login': 'category',\n",
    "    'committer_type': 'category',\n",
    "    'stats_total': 'int64',\n",
    "    'stats_additions': 'int64',\n",
    "    'stats_deletions': 'int64',\n",
    "    'file_name': 'str',\n",
    "    'file_status': 'category',\n",
    "    'file_additions': 'int64',\n",
    "    'file_deletions': 'int64',\n",
    "    'file_changes': 'int64',\n",
    "    'file_patch': 'str',\n",
    "}\n",
    "gkir_commits_descriptions = {\n",
    "    'commit_sha': 'The commit sha - note that this is not unique in the dataset, as a commit can have multiple file changes.',\n",
    "    'issue_id': 'The ID of the issue that references the commit.',\n",
    "    'repo_name': 'The full name of the repo the commit belongs to.',\n",
    "    'url': 'The GitHub API url of the commit.',\n",
    "    'html_url': 'The GitHub url of the commit.',\n",
    "    'message': 'The commit message',\n",
    "    'author_login': 'The username of the author of the commit.',\n",
    "    'author_type': 'The user type of the author of the commit.',\n",
    "    'committer_login': 'The username of the committer of the commit.',\n",
    "    'committer_type': 'The user type of the committer of the commit.',\n",
    "    'stats_total': 'The total additions and deletions the commit consists of.',\n",
    "    'stats_additions': 'The additions the commit consists of.',\n",
    "    'stats_deletions': 'The deletions the commit consists of.',\n",
    "    'file_name': 'The file name the commit affects.',\n",
    "    'file_status': 'The type of modification made to the file.',\n",
    "    'file_additions': 'The additions of the file change.',\n",
    "    'file_deletions': 'The deletions of the file change.',\n",
    "    'file_changes': 'The total additions and deletions of the file change.',\n",
    "    'file_patch': 'The raw file patch from the commit.',\n",
    "}\n",
    "gkir_commits = pd.read_csv('../greenkeeper_data/gkir_commits.csv', dtype=gkir_commits_dtypes)"
   ]
  },
  {
   "cell_type": "code",
   "execution_count": 100,
   "id": "4e83d20b-a8f6-4ae6-8680-c9692c97a6c6",
   "metadata": {},
   "outputs": [
    {
     "name": "stdout",
     "output_type": "stream",
     "text": [
      "|   col_index | attribute       | type     | description                                                                                               |\n",
      "|------------:|:----------------|:---------|:----------------------------------------------------------------------------------------------------------|\n",
      "|           0 | commit_sha      | str      | The commit sha - note that this is not unique in the dataset, as a commit can have multiple file changes. |\n",
      "|           1 | issue_id        | int64    | The ID of the issue that references the commit.                                                           |\n",
      "|           2 | repo_name       | category | The name of the repo the commit belongs to.                                                               |\n",
      "|           3 | url             | str      | The GitHub API url of the commit.                                                                         |\n",
      "|           4 | html_url        | str      | The GitHub url of the commit.                                                                             |\n",
      "|           5 | message         | str      | The commit message                                                                                        |\n",
      "|           6 | author_login    | category | The username of the author of the commit.                                                                 |\n",
      "|           7 | author_type     | category | The user type of the author of the commit.                                                                |\n",
      "|           8 | committer_login | category | The username of the committer of the commit.                                                              |\n",
      "|           9 | committer_type  | category | The user type of the committer of the commit.                                                             |\n",
      "|          10 | stats_total     | int64    | The total additions and deletions the commit consists of.                                                 |\n",
      "|          11 | stats_additions | int64    | The additions the commit consists of.                                                                     |\n",
      "|          12 | stats_deletions | int64    | The deletions the commit consists of.                                                                     |\n",
      "|          13 | file_name       | str      | The file name the commit affects.                                                                         |\n",
      "|          14 | file_status     | category | The type of modification made to the file.                                                                |\n",
      "|          15 | file_additions  | int64    | The additions of the file change.                                                                         |\n",
      "|          16 | file_deletions  | int64    | The deletions of the file change.                                                                         |\n",
      "|          17 | file_changes    | int64    | The total additions and deletions of the file change.                                                     |\n",
      "|          18 | file_patch      | str      | The raw file patch from the commit.                                                                       |\n"
     ]
    }
   ],
   "source": [
    "print_markdown_table(gkir_commits.columns.to_numpy(), gkir_commits_dtypes.values(), gkir_commits_descriptions.values())"
   ]
  },
  {
   "cell_type": "markdown",
   "id": "3dbbe38b-88c4-4127-bdec-82aa228c0385",
   "metadata": {},
   "source": [
    "## Non-GKIRs"
   ]
  },
  {
   "cell_type": "code",
   "execution_count": 101,
   "id": "14f48c33-aa42-41e0-ba1e-1d1e91064187",
   "metadata": {},
   "outputs": [],
   "source": [
    "non_gkirs_dtypes = {\n",
    "    'id': 'float64',\n",
    "    'repo_name': 'category',\n",
    "    'url': 'object',\n",
    "    'repository_url': 'str',\n",
    "    'comments_url': 'str',\n",
    "    'events_url': 'str',\n",
    "    'html_url': 'str',\n",
    "    'number': 'float64',\n",
    "    'title': 'str',\n",
    "    'user_id': 'float64',\n",
    "    'user_login': 'category',\n",
    "    'user_type': 'category',\n",
    "    'state': 'category',\n",
    "    'locked': 'bool',\n",
    "    'comments': 'float64',\n",
    "    'created_at': 'str',\n",
    "    'updated_at': 'str',\n",
    "    'closed_at': 'str',\n",
    "    'body': 'object',\n",
    "    'is_pull_request': 'bool',\n",
    "}\n",
    "parse_dates=['created_at', 'updated_at', 'closed_at']\n",
    "non_gkirs_descriptions = {\n",
    "    'id': 'The issue ID.',\n",
    "    'repo_name': 'The full name of the repo the issue was created in.',\n",
    "    'url': 'The GitHub API url of the issue.',\n",
    "    'repository_url': 'The GitHub API url of the repo the issue was created in.',\n",
    "    'comments_url': 'The GitHub API url of the comments for the issue.',\n",
    "    'events_url': 'The GitHub API url of the events for the issue.',\n",
    "    'html_url': 'The GitHub HTML url of the issue.',\n",
    "    'number': 'The issue number of the parent repo.',\n",
    "    'title': 'The issue title.',\n",
    "    'user_id': 'The ID of the entity that created the issue.',\n",
    "    'user_login': 'The username of the entity that created the issue.',\n",
    "    'user_type': 'The type of the entity that created the issue.',\n",
    "    'state': 'The current state of the issue.',\n",
    "    'locked': 'Whether the issue has been locked.',\n",
    "    'comments': 'The number of comments on the issue',\n",
    "    'created_at': 'When the issue was created.',\n",
    "    'updated_at': 'When the issue was last updated.',\n",
    "    'closed_at': 'When the issue was closed (if applicable).',\n",
    "    'body': 'The issue body.',\n",
    "    'is_pull_request': 'Whether the issue is a pull request.',\n",
    "}\n",
    "non_gkirs = pd.read_csv('../greenkeeper_data/non_gkirs.csv', dtype=non_gkirs_dtypes, parse_dates=parse_dates)"
   ]
  },
  {
   "cell_type": "code",
   "execution_count": 102,
   "id": "27c7633b-daf1-47a5-bc61-615f4af91655",
   "metadata": {},
   "outputs": [
    {
     "name": "stdout",
     "output_type": "stream",
     "text": [
      "|   col_index | attribute       | type     | description                                              |\n",
      "|------------:|:----------------|:---------|:---------------------------------------------------------|\n",
      "|           0 | id              | float64  | The issue ID.                                            |\n",
      "|           1 | repo_name       | category | The name of the repo the issue was created in.           |\n",
      "|           2 | url             | object   | The GitHub API url of the issue.                         |\n",
      "|           3 | repository_url  | str      | The GitHub API url of the repo the issue was created in. |\n",
      "|           4 | comments_url    | str      | The GitHub API url of the comments for the issue.        |\n",
      "|           5 | events_url      | str      | The GitHub API url of the events for the issue.          |\n",
      "|           6 | html_url        | str      | The GitHub HTML url of the issue.                        |\n",
      "|           7 | number          | float64  | The issue number of the parent repo.                     |\n",
      "|           8 | title           | str      | The issue title.                                         |\n",
      "|           9 | user_id         | float64  | The ID of the entity that created the issue.             |\n",
      "|          10 | user_login      | category | The username of the entity that created the issue.       |\n",
      "|          11 | user_type       | category | The type of the entity that created the issue.           |\n",
      "|          12 | state           | category | The current state of the issue.                          |\n",
      "|          13 | locked          | bool     | Whether the issue has been locked.                       |\n",
      "|          14 | comments        | float64  | The number of comments on the issue                      |\n",
      "|          15 | created_at      | str      | When the issue was created.                              |\n",
      "|          16 | updated_at      | str      | When the issue was last updated.                         |\n",
      "|          17 | closed_at       | str      | When the issue was closed (if applicable).               |\n",
      "|          18 | body            | object   | The issue body.                                          |\n",
      "|          19 | is_pull_request | bool     | Whether the issue is a pull request.                     |\n"
     ]
    }
   ],
   "source": [
    "print_markdown_table(non_gkirs.columns.to_numpy(), non_gkirs_dtypes.values(), non_gkirs_descriptions.values())"
   ]
  },
  {
   "cell_type": "markdown",
   "id": "f8f9897a-0b98-4964-b23e-44ea027364a8",
   "metadata": {},
   "source": [
    "## Non-GKIR Comments"
   ]
  },
  {
   "cell_type": "code",
   "execution_count": 103,
   "id": "36b2edb7-dc01-40fd-9b66-2dc4b3eda0fa",
   "metadata": {},
   "outputs": [],
   "source": [
    "non_gkir_comments_dtypes = {\n",
    "    'id': 'int64',\n",
    "    'issue_id': 'int64',\n",
    "    'repo_name': 'category',\n",
    "    'url': 'str',\n",
    "    'issue_url': 'str',\n",
    "    'user_id': 'int64',\n",
    "    'user_login': 'category',\n",
    "    'user_type': 'category',\n",
    "    'created_at': 'str',\n",
    "    'updated_at': 'str',\n",
    "    'body': 'str',\n",
    "}\n",
    "parse_dates = ['created_at', 'updated_at']\n",
    "non_gkir_comments_descriptions = {\n",
    "    'id': 'The comment ID.',\n",
    "    'issue_id': 'The ID of the issue the comment was created on.',\n",
    "    'repo_name': 'The full name of the repo the comment was created in.',\n",
    "    'url': 'The GitHub API url of the comment.',\n",
    "    'issue_url': 'The GitHub API url of the issue the comment was created on.',\n",
    "    'user_id': 'The ID of the entity who created the comment.',\n",
    "    'user_login': 'The username of the entity who created the comment.',\n",
    "    'user_type': 'The type of the entity who created the comment.',\n",
    "    'created_at': 'When the comment was created.',\n",
    "    'updated_at': 'When the comment was last updated.',\n",
    "    'body': 'The body of the comment.',\n",
    "}\n",
    "\n",
    "non_gkir_comments = pd.read_csv('../greenkeeper_data/non_gkir_comments.csv', dtype=non_gkir_comments_dtypes, parse_dates=parse_dates)"
   ]
  },
  {
   "cell_type": "code",
   "execution_count": 104,
   "id": "62756368-8366-4ae2-8824-8ca5cd6368a3",
   "metadata": {},
   "outputs": [
    {
     "name": "stdout",
     "output_type": "stream",
     "text": [
      "|   col_index | attribute   | type     | description                                                 |\n",
      "|------------:|:------------|:---------|:------------------------------------------------------------|\n",
      "|           0 | id          | int64    | The comment ID.                                             |\n",
      "|           1 | issue_id    | int64    | The ID of the issue the comment was created on.             |\n",
      "|           2 | repo_name   | category | The name of the repo the comment was created in.            |\n",
      "|           3 | url         | str      | The GitHub API url of the comment.                          |\n",
      "|           4 | issue_url   | str      | The GitHub API url of the issue the comment was created on. |\n",
      "|           5 | user_id     | int64    | The ID of the entity who created the comment.               |\n",
      "|           6 | user_login  | category | The username of the entity who created the comment.         |\n",
      "|           7 | user_type   | category | The type of the entity who created the comment.             |\n",
      "|           8 | created_at  | str      | When the comment was created.                               |\n",
      "|           9 | updated_at  | str      | When the comment was last updated.                          |\n",
      "|          10 | body        | str      | The body of the comment.                                    |\n"
     ]
    }
   ],
   "source": [
    "print_markdown_table(non_gkir_comments.columns.to_numpy(), non_gkir_comments_dtypes.values(), non_gkir_comments_descriptions.values())"
   ]
  },
  {
   "cell_type": "markdown",
   "id": "4e262f1f-30ce-4c16-85bd-29f133154b78",
   "metadata": {},
   "source": [
    "## Non-GKIR Commits"
   ]
  },
  {
   "cell_type": "code",
   "execution_count": 105,
   "id": "b5ebfefb-6899-42b2-bebf-1e6b27fda516",
   "metadata": {},
   "outputs": [],
   "source": [
    "non_gkir_commits_dtypes = {\n",
    "    'commit_sha': 'str',\n",
    "    'issue_id': 'float64',\n",
    "    'repo_name': 'category',\n",
    "    'url': 'str',\n",
    "    'html_url': 'str',\n",
    "    'message': 'str',\n",
    "    'author_login': 'category',\n",
    "    'author_type': 'category',\n",
    "    'committer_login': 'category',\n",
    "    'committer_type': 'category',\n",
    "    'stats_total': 'int64',\n",
    "    'stats_additions': 'int64',\n",
    "    'stats_deletions': 'int64',\n",
    "    'file_name': 'str',\n",
    "    'file_status': 'category',\n",
    "    'file_additions': 'int64',\n",
    "    'file_deletions': 'int64',\n",
    "    'file_changes': 'int64',\n",
    "    'file_patch': 'str',\n",
    "}\n",
    "non_gkir_commits_descriptions = {\n",
    "    'commit_sha': 'The commit sha - note that this is not unique in the dataset, as a commit can have multiple file changes.',\n",
    "    'issue_id': 'The ID of the issue that references the commit.',\n",
    "    'repo_name': 'The full name of the repo the commit belongs to.',\n",
    "    'url': 'The GitHub API url of the commit.',\n",
    "    'html_url': 'The GitHub url of the commit.',\n",
    "    'message': 'The commit message',\n",
    "    'author_login': 'The username of the author of the commit.',\n",
    "    'author_type': 'The user type of the author of the commit.',\n",
    "    'committer_login': 'The username of the committer of the commit.',\n",
    "    'committer_type': 'The user type of the committer of the commit.',\n",
    "    'stats_total': 'The total additions and deletions the commit consists of.',\n",
    "    'stats_additions': 'The additions the commit consists of.',\n",
    "    'stats_deletions': 'The deletions the commit consists of.',\n",
    "    'file_name': 'The file name the commit affects.',\n",
    "    'file_status': 'The type of modification made to the file.',\n",
    "    'file_additions': 'The additions of the file change.',\n",
    "    'file_deletions': 'The deletions of the file change.',\n",
    "    'file_changes': 'The total additions and deletions of the file change.',\n",
    "    'file_patch': 'The raw file patch from the commit.',\n",
    "}\n",
    "non_gkir_commits = pd.read_csv('../greenkeeper_data/non_gkir_commits.csv', dtype=non_gkir_commits_dtypes)"
   ]
  },
  {
   "cell_type": "code",
   "execution_count": 106,
   "id": "09cd3361-dd5e-4561-8432-01292f9e700e",
   "metadata": {},
   "outputs": [
    {
     "name": "stdout",
     "output_type": "stream",
     "text": [
      "|   col_index | attribute       | type     | description                                                                                               |\n",
      "|------------:|:----------------|:---------|:----------------------------------------------------------------------------------------------------------|\n",
      "|           0 | commit_sha      | str      | The commit sha - note that this is not unique in the dataset, as a commit can have multiple file changes. |\n",
      "|           1 | issue_id        | float64  | The ID of the issue that references the commit.                                                           |\n",
      "|           2 | repo_name       | category | The name of the repo the commit belongs to.                                                               |\n",
      "|           3 | url             | str      | The GitHub API url of the commit.                                                                         |\n",
      "|           4 | html_url        | str      | The GitHub url of the commit.                                                                             |\n",
      "|           5 | message         | str      | The commit message                                                                                        |\n",
      "|           6 | author_login    | category | The username of the author of the commit.                                                                 |\n",
      "|           7 | author_type     | category | The user type of the author of the commit.                                                                |\n",
      "|           8 | committer_login | category | The username of the committer of the commit.                                                              |\n",
      "|           9 | committer_type  | category | The user type of the committer of the commit.                                                             |\n",
      "|          10 | stats_total     | int64    | The total additions and deletions the commit consists of.                                                 |\n",
      "|          11 | stats_additions | int64    | The additions the commit consists of.                                                                     |\n",
      "|          12 | stats_deletions | int64    | The deletions the commit consists of.                                                                     |\n",
      "|          13 | file_name       | str      | The file name the commit affects.                                                                         |\n",
      "|          14 | file_status     | category | The type of modification made to the file.                                                                |\n",
      "|          15 | file_additions  | int64    | The additions of the file change.                                                                         |\n",
      "|          16 | file_deletions  | int64    | The deletions of the file change.                                                                         |\n",
      "|          17 | file_changes    | int64    | The total additions and deletions of the file change.                                                     |\n",
      "|          18 | file_patch      | str      | The raw file patch from the commit.                                                                       |\n"
     ]
    }
   ],
   "source": [
    "print_markdown_table(non_gkir_commits.columns.to_numpy(), non_gkir_commits_dtypes.values(), non_gkir_commits_descriptions.values())"
   ]
  },
  {
   "cell_type": "markdown",
   "id": "34395e8c-262c-47e0-8c4b-96a36548955a",
   "metadata": {},
   "source": [
    "## Non-GKIR Commit-Event Relationships"
   ]
  },
  {
   "cell_type": "code",
   "execution_count": 107,
   "id": "83500792-d96b-4c73-af61-674d4b08d3fb",
   "metadata": {},
   "outputs": [],
   "source": [
    "non_gkir_commit_event_relationships_dtypes = {\n",
    "    'event_id': 'int64',\n",
    "    'issue_id': 'int64',\n",
    "    'repo_name': 'category',\n",
    "    'event_type': 'category',\n",
    "    'commit_id': 'category',\n",
    "    'commit_url': 'object',\n",
    "}\n",
    "\n",
    "non_gkir_commit_event_relationships_descriptions = {\n",
    "    'event_id': 'The associated event ID.',\n",
    "    'issue_id': 'The associated issue ID.',\n",
    "    'repo_name': 'The name of the parent repo.',\n",
    "    'event_type': 'The event type.',\n",
    "    'commit_id': 'The referenced commit sha.',\n",
    "    'commit_url': 'The GitHub API url of the commit.',\n",
    "}\n",
    "non_gkir_commit_event_relationships = pd.read_csv('../greenkeeper_data/non_gkir_commit_event_relationships.csv', dtype=non_gkir_commit_event_relationships_dtypes)"
   ]
  },
  {
   "cell_type": "code",
   "execution_count": 108,
   "id": "7ab3821c-e942-4c3b-ae2b-6f66066587ba",
   "metadata": {},
   "outputs": [
    {
     "name": "stdout",
     "output_type": "stream",
     "text": [
      "|   col_index | attribute   | type     | description                       |\n",
      "|------------:|:------------|:---------|:----------------------------------|\n",
      "|           0 | event_id    | int64    | The associated event ID.          |\n",
      "|           1 | issue_id    | int64    | The associated issue ID.          |\n",
      "|           2 | repo_name   | category | The name of the parent repo.      |\n",
      "|           3 | event_type  | category | The event type.                   |\n",
      "|           4 | commit_id   | category | The referenced commit sha.        |\n",
      "|           5 | commit_url  | object   | The GitHub API url of the commit. |\n"
     ]
    }
   ],
   "source": [
    "print_markdown_table(\n",
    "    non_gkir_commit_event_relationships.columns.to_numpy(),\n",
    "    non_gkir_commit_event_relationships_dtypes.values(),\n",
    "    non_gkir_commit_event_relationships_descriptions.values()\n",
    ")"
   ]
  },
  {
   "cell_type": "markdown",
   "id": "c05ee4d6-fdee-4976-b966-c3dc021b3d20",
   "metadata": {},
   "source": [
    "## Repos Info"
   ]
  },
  {
   "cell_type": "code",
   "execution_count": 112,
   "id": "82fbb0b3-6163-4f73-be13-e450bbba4c79",
   "metadata": {},
   "outputs": [],
   "source": [
    "repos_info_dtypes = {\n",
    "    'repo_name': 'category',\n",
    "    'is_fork': 'bool',\n",
    "    'size': 'int64',\n",
    "    'stargazers_count': 'int64',\n",
    "    'watchers_count': 'int64',\n",
    "    'language': 'category',\n",
    "    'package_name': 'category',\n",
    "    'use_repo_name': 'bool',\n",
    "    'on_libraries_io_npm': 'bool',\n",
    "    'npm_dependent_repos_count': 'float64',\n",
    "    'npm_dependents_count': 'float64',\n",
    "    'npm_forks': 'float64',\n",
    "    'npm_language': 'category',\n",
    "    'npm_rank': 'float64',\n",
    "    'npm_stars': 'float64',\n",
    "}\n",
    "repos_info_descriptions = {\n",
    "    'repo_name': 'The full name of the repo',\n",
    "    'is_fork': 'Whether the repo is a fork.',\n",
    "    'size': 'The size of the repo.',\n",
    "    'stargazers_count': 'The number of stars the repo has.',\n",
    "    'watchers_count': 'The number of watchers the repo has.',\n",
    "    'language': 'The primary language of the repo.',\n",
    "    'package_name': 'The package name on npm.',\n",
    "    'use_repo_name': 'Whether the repo name is different from the name in the project package.json file.',\n",
    "    'on_libraries_io_npm': 'Whether the package was found on libraries.io.',\n",
    "    'npm_dependent_repos_count': 'The number of dependents on the package - from npm.',\n",
    "    'npm_dependents_count': 'The number of dependents on the package - from npm.',\n",
    "    'npm_forks': 'The number of forks of the package - from npm.',\n",
    "    'npm_language': 'The primary language of the package - from npm.',\n",
    "    'npm_rank': 'The rank of the package - from npm.',\n",
    "    'npm_stars': 'The number of stars the package has - from npm ',\n",
    "}\n",
    "repos_info = pd.read_csv('../greenkeeper_data/repos_info.csv', dtype=repos_info_dtypes)"
   ]
  },
  {
   "cell_type": "code",
   "execution_count": 113,
   "id": "f389f739-628d-4205-8cd5-0f0084d48311",
   "metadata": {},
   "outputs": [
    {
     "name": "stdout",
     "output_type": "stream",
     "text": [
      "|   col_index | attribute                 | type     | description                                                                        |\n",
      "|------------:|:--------------------------|:---------|:-----------------------------------------------------------------------------------|\n",
      "|           0 | repo_name                 | category | The full name of the repo                                                          |\n",
      "|           1 | is_fork                   | bool     | Whether the repo is a fork.                                                        |\n",
      "|           2 | size                      | int64    | The size of the repo.                                                              |\n",
      "|           3 | stargazers_count          | int64    | The number of stars the repo has.                                                  |\n",
      "|           4 | watchers_count            | int64    | The number of watchers the repo has.                                               |\n",
      "|           5 | language                  | category | The primary language of the repo.                                                  |\n",
      "|           6 | package_name              | category | The package name on npm.                                                           |\n",
      "|           7 | use_repo_name             | bool     | Whether the repo name is different from the name in the project package.json file. |\n",
      "|           8 | on_libraries_io_npm       | bool     | Whether the package was found on libraries.io.                                     |\n",
      "|           9 | npm_dependent_repos_count | float64  | The number of dependents on the package - from npm.                                |\n",
      "|          10 | npm_dependents_count      | float64  | The number of dependents on the package - from npm.                                |\n",
      "|          11 | npm_forks                 | float64  | The number of forks of the package - from npm.                                     |\n",
      "|          12 | npm_language              | category | The primary language of the package - from npm.                                    |\n",
      "|          13 | npm_rank                  | float64  | The rank of the package - from npm.                                                |\n",
      "|          14 | npm_stars                 | float64  | The number of stars the package has - from npm                                     |\n"
     ]
    }
   ],
   "source": [
    "print_markdown_table(\n",
    "    repos_info.columns.to_numpy(),\n",
    "    repos_info_dtypes.values(),\n",
    "    repos_info_descriptions.values()\n",
    ")"
   ]
  }
 ],
 "metadata": {
  "kernelspec": {
   "display_name": "Python 3",
   "language": "python",
   "name": "python3"
  },
  "language_info": {
   "codemirror_mode": {
    "name": "ipython",
    "version": 3
   },
   "file_extension": ".py",
   "mimetype": "text/x-python",
   "name": "python",
   "nbconvert_exporter": "python",
   "pygments_lexer": "ipython3",
   "version": "3.8.8"
  }
 },
 "nbformat": 4,
 "nbformat_minor": 5
}
