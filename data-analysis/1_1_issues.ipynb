{
 "cells": [
  {
   "cell_type": "markdown",
   "metadata": {},
   "source": [
    "<h3>Load helper functions</h3>"
   ]
  },
  {
   "cell_type": "code",
   "execution_count": 32,
   "metadata": {},
   "outputs": [],
   "source": [
    "%run _utils.ipynb"
   ]
  },
  {
   "cell_type": "markdown",
   "metadata": {},
   "source": [
    "<h3>Load Greenkeeper In-Range Breaking Build <code>issues</code> and <code>all_issues</code> and Create data sets of <code>non_gk_issues</code> and <code>gk_issues</code></h3>\n",
    "<p>NOTE These are saved csvs and can be loaded using <code>load_gk_issues_for_analysis()</code> and <code>load_non_gk_issues_for_analysis()</code></p>\n",
    "<p>NOTE that this includes every single issue from every single repo in the list of repos from the GK In-range breaking build issues set</p>\n",
    "<p>\n",
    "    For analysis, we ignore gk_issues that we dont have all issues for, and remove the duplicate gk_issues from the all_issues data set\n",
    "</p>"
   ]
  },
  {
   "cell_type": "code",
   "execution_count": 36,
   "metadata": {},
   "outputs": [],
   "source": [
    "# Built from the two cells below\n",
    "gk_issues = load_gk_issues_for_analysis()\n",
    "non_gk_issues = load_non_gk_issues_for_analysis()"
   ]
  },
  {
   "cell_type": "code",
   "execution_count": 47,
   "metadata": {},
   "outputs": [],
   "source": [
    "all_issues = load_all_issues()"
   ]
  },
  {
   "cell_type": "code",
   "execution_count": 48,
   "metadata": {},
   "outputs": [
    {
     "name": "stdout",
     "output_type": "stream",
     "text": [
      "<class 'pandas.core.frame.DataFrame'>\n",
      "RangeIndex: 2398438 entries, 0 to 2398437\n",
      "Data columns (total 20 columns):\n",
      " #   Column           Dtype              \n",
      "---  ------           -----              \n",
      " 0   id               int64              \n",
      " 1   repo_name        category           \n",
      " 2   url              object             \n",
      " 3   repository_url   object             \n",
      " 4   comments_url     object             \n",
      " 5   events_url       object             \n",
      " 6   html_url         object             \n",
      " 7   number           int64              \n",
      " 8   title            object             \n",
      " 9   user_id          int64              \n",
      " 10  user_login       category           \n",
      " 11  user_type        category           \n",
      " 12  state            category           \n",
      " 13  locked           bool               \n",
      " 14  comments         int64              \n",
      " 15  created_at       datetime64[ns, UTC]\n",
      " 16  updated_at       datetime64[ns, UTC]\n",
      " 17  closed_at        datetime64[ns, UTC]\n",
      " 18  body             object             \n",
      " 19  is_pull_request  bool               \n",
      "dtypes: bool(2), category(4), datetime64[ns, UTC](3), int64(4), object(7)\n",
      "memory usage: 289.0+ MB\n"
     ]
    }
   ],
   "source": [
    "all_issues.info()"
   ]
  },
  {
   "cell_type": "code",
   "execution_count": 49,
   "metadata": {},
   "outputs": [],
   "source": [
    "temp = all_issues[~all_issues['is_pull_request']]"
   ]
  },
  {
   "cell_type": "code",
   "execution_count": 58,
   "metadata": {},
   "outputs": [
    {
     "name": "stdout",
     "output_type": "stream",
     "text": [
      "<class 'pandas.core.frame.DataFrame'>\n",
      "RangeIndex: 115759 entries, 0 to 115758\n",
      "Data columns (total 20 columns):\n",
      " #   Column           Non-Null Count   Dtype              \n",
      "---  ------           --------------   -----              \n",
      " 0   id               115759 non-null  int64              \n",
      " 1   repo_name        115759 non-null  category           \n",
      " 2   url              115759 non-null  object             \n",
      " 3   repository_url   115759 non-null  object             \n",
      " 4   comments_url     115759 non-null  object             \n",
      " 5   events_url       115759 non-null  object             \n",
      " 6   html_url         115759 non-null  object             \n",
      " 7   number           115759 non-null  int64              \n",
      " 8   title            115759 non-null  object             \n",
      " 9   user_id          115759 non-null  int64              \n",
      " 10  user_login       115759 non-null  category           \n",
      " 11  user_type        115759 non-null  category           \n",
      " 12  state            115759 non-null  category           \n",
      " 13  locked           115759 non-null  bool               \n",
      " 14  comments         115759 non-null  int64              \n",
      " 15  created_at       115759 non-null  datetime64[ns, UTC]\n",
      " 16  updated_at       115759 non-null  datetime64[ns, UTC]\n",
      " 17  closed_at        94041 non-null   datetime64[ns, UTC]\n",
      " 18  body             115759 non-null  object             \n",
      " 19  is_pull_request  115759 non-null  bool               \n",
      "dtypes: bool(2), category(4), datetime64[ns, UTC](3), int64(4), object(7)\n",
      "memory usage: 23.4+ MB\n"
     ]
    }
   ],
   "source": [
    "temp2 = temp[temp['user_login'] == 'greenkeeper[bot]'].copy().reset_index(drop=True)\n",
    "temp2.info()"
   ]
  },
  {
   "cell_type": "code",
   "execution_count": 81,
   "metadata": {},
   "outputs": [
    {
     "name": "stdout",
     "output_type": "stream",
     "text": [
      "<class 'pandas.core.frame.DataFrame'>\n",
      "Int64Index: 24 entries, 8698 to 114409\n",
      "Data columns (total 20 columns):\n",
      " #   Column           Non-Null Count  Dtype              \n",
      "---  ------           --------------  -----              \n",
      " 0   id               24 non-null     int64              \n",
      " 1   repo_name        24 non-null     category           \n",
      " 2   url              24 non-null     object             \n",
      " 3   repository_url   24 non-null     object             \n",
      " 4   comments_url     24 non-null     object             \n",
      " 5   events_url       24 non-null     object             \n",
      " 6   html_url         24 non-null     object             \n",
      " 7   number           24 non-null     int64              \n",
      " 8   title            24 non-null     object             \n",
      " 9   user_id          24 non-null     int64              \n",
      " 10  user_login       24 non-null     category           \n",
      " 11  user_type        24 non-null     category           \n",
      " 12  state            24 non-null     category           \n",
      " 13  locked           24 non-null     bool               \n",
      " 14  comments         24 non-null     int64              \n",
      " 15  created_at       24 non-null     datetime64[ns, UTC]\n",
      " 16  updated_at       24 non-null     datetime64[ns, UTC]\n",
      " 17  closed_at        24 non-null     datetime64[ns, UTC]\n",
      " 18  body             24 non-null     object             \n",
      " 19  is_pull_request  24 non-null     bool               \n",
      "dtypes: bool(2), category(4), datetime64[ns, UTC](3), int64(4), object(7)\n",
      "memory usage: 10.0+ MB\n"
     ]
    }
   ],
   "source": [
    "\n",
    "pattern = r'An in-range update of .* is breaking the build'\n",
    "\n",
    "matched = temp2[temp2['title'].str.contains(pattern)]\n",
    "not_matched = temp2[~temp2['title'].str.contains(pattern)]\n",
    "not_matched = not_matched[~not_matched['title'].str.contains('Action required: Greenkeeper could not be activated')]\n",
    "not_matched = not_matched[~not_matched['title'].str.contains('Version 10 of node.js has been released', regex=False)]\n",
    "not_matched = not_matched[~not_matched['title'].str.contains('Payment required', regex=False)]\n",
    "not_matched = not_matched[~not_matched['title'].str.contains('Invalid Greenkeeper configuration file', regex=False)]\n",
    "not_matched = not_matched[~not_matched['title'].str.contains('Greenkeeper is no longer available for new installations', regex=False)]\n",
    "not_matched = not_matched[~not_matched['title'].str.contains('Version 4 of node.js has been deprecated', regex=False)]\n",
    "not_matched = not_matched[~not_matched['title'].str.contains('Implement Greenkeeper', regex=False)]\n",
    "not_matched = not_matched[~not_matched['title'].str.contains('ci(pkg): enable Greenkeeper', regex=False)]\n",
    "not_matched = not_matched[~not_matched['title'].str.contains('Drop support for node 4 / npm 2', regex=False)]\n",
    "\n",
    "not_matched.info()"
   ]
  },
  {
   "cell_type": "code",
   "execution_count": 82,
   "metadata": {},
   "outputs": [
    {
     "data": {
      "text/plain": [
       "An in-range update of eslint-plugin-react is fine                                    5\n",
       "An in-range update of is-callable is not breaking the build 🚨                        3\n",
       "Update postcss-values-parser to `1.2.0`                                              1\n",
       "Update IDW to latest version                                                         1\n",
       "Update to rollup@1.19.4                                                              1\n",
       "react-native lacking a version compatible with react 15.5 is breaking the build 🚨    1\n",
       "An in-range update of eslint-config-airbnb is fine                                   1\n",
       "JSONLint is broken in CI due to npm registry changes                                 1\n",
       "http2 tests fail on node 14.1.0                                                      1\n",
       "Upgrade react to the latest                                                          1\n",
       "iD fails to build on Node 10                                                         1\n",
       "Make tests deterministic                                                             1\n",
       "An in-range update of eslint-plugin-react-with-styles is fine                        1\n",
       "Update postcss-values-parser to 1.3.0                                                1\n",
       "webpack@^4.14.0                                                                      1\n",
       "[eslint-plugin-react] jsx-indent problem                                             1\n",
       "[Tests] Pass correctly typed objects/methods into sinon spy/stub                     1\n",
       "Tests breaking in CI 🚨                                                               1\n",
       "Name: title, dtype: int64"
      ]
     },
     "execution_count": 82,
     "metadata": {},
     "output_type": "execute_result"
    }
   ],
   "source": [
    "not_matched['title'].value_counts()"
   ]
  },
  {
   "cell_type": "code",
   "execution_count": 89,
   "metadata": {},
   "outputs": [
    {
     "data": {
      "text/plain": [
       "airbnb/react-dates                3\n",
       "lesshint/lesshint                 2\n",
       "airbnb/hypernova-aphrodite        2\n",
       "cytoscape/cytoscape.js            1\n",
       "airbnb/rheostat                   1\n",
       "PrismarineJS/mineflayer           1\n",
       "airbnb/hypernova-node             1\n",
       "MCS-Lite/mcs-lite                 1\n",
       "pump-io/pump.io                   1\n",
       "3box/3box-js                      1\n",
       "ljharb/es-to-primitive            1\n",
       "Mermade/oas-kit                   1\n",
       "KenanY/vorici                     1\n",
       "donejs/donejs                     1\n",
       "openstreetmap/iD                  1\n",
       "ljharb/es-abstract                1\n",
       "airbnb/react-with-styles          1\n",
       "inspect-js/is-equal               1\n",
       "webhintio/hint                    1\n",
       "CraveFood/farmblocks              1\n",
       "savvy-css/box-shadow-variables    0\n",
       "kevinkace/posthtml-pseudo         0\n",
       "joelmukuthu/angular-snapscroll    0\n",
       "shinima/temme                     0\n",
       "jonathanong/ci-reference-app      0\n",
       "jontey/my-portfolio               0\n",
       "jpwilliams/remit                  0\n",
       "Name: repo_name, dtype: int64"
      ]
     },
     "execution_count": 89,
     "metadata": {},
     "output_type": "execute_result"
    }
   ],
   "source": [
    "not_matched['repo_name'].value_counts().head(27)"
   ]
  },
  {
   "cell_type": "code",
   "execution_count": null,
   "metadata": {},
   "outputs": [],
   "source": []
  },
  {
   "cell_type": "code",
   "execution_count": 35,
   "metadata": {},
   "outputs": [],
   "source": [
    "# issues = load_issues()\n",
    "# all_issues = load_all_issues()\n",
    "# counts = all_issues.groupby('repo_name')['id'].count()\n",
    "# print(f\"Count={len(all_issues)} (Project Count={len(counts)}) Median={counts.median()} Mean={counts.mean()}\")\n",
    "# for_plot = counts.to_frame(name='num_of_issues')\n",
    "# for_plot['placeholder'] = ''\n",
    "# for_plot['num_of_issues_log'] = np.log10(for_plot['num_of_issues'])\n",
    "# fig, ax = plt.subplots(nrows=1, ncols=1, figsize=(6,2))\n",
    "# ax = sns.violinplot(\n",
    "#     data=for_plot,\n",
    "#     x='num_of_issues_log',\n",
    "#     y='placeholder',\n",
    "#     inner='quartile',\n",
    "#     palette=['0.9'],\n",
    "#     logscale=True\n",
    "# )\n",
    "# ax.set_ylabel('')\n",
    "# ax.xaxis.set_major_formatter(log10_func_formatter)\n",
    "# plt.show()"
   ]
  },
  {
   "cell_type": "code",
   "execution_count": 16,
   "metadata": {},
   "outputs": [],
   "source": [
    "# def filter_issues_for_analyses(all_issues, gk_issues):\n",
    "#     # Make copies\n",
    "#     gk_issues_for_analysis = gk_issues.copy()\n",
    "#     non_gk_issues_for_analysis = all_issues.copy()\n",
    "#     # Remove pull requests from all issues\n",
    "#     non_gk_issues_for_analysis = non_gk_issues_for_analysis[\n",
    "#         ~non_gk_issues_for_analysis['is_pull_request']\n",
    "#     ]\n",
    "#     # Filter out any issues that are GK in-range breakin gbuild issues\n",
    "#     non_gk_issues_for_analysis = non_gk_issues_for_analysis[\n",
    "#         ~non_gk_issues_for_analysis['id'].isin(gk_issues_for_analysis['id'])\n",
    "#     ]\n",
    "#     # Only analyze GK issues for projects we have all issues for\n",
    "#     gk_issues_for_analysis = gk_issues_for_analysis[\n",
    "#         gk_issues_for_analysis['repo_name'].isin(non_gk_issues_for_analysis['repo_name'])\n",
    "#     ]\n",
    "#     # Copy the html_url and body attributes over from all_issues to their respective rows on gk_issues\n",
    "#     gk_issues_for_analysis = gk_issues_for_analysis.merge(\n",
    "#         all_issues[['id', 'html_url', 'body']],\n",
    "#         how='left',\n",
    "#         on='id',\n",
    "#     )\n",
    "#     # Only select non-GKIRs that were created after the first GKIR was created in the project\n",
    "#     first_gkir_created_at = (\n",
    "#         gk_issues\n",
    "#             .sort_values(['repo_name', 'created_at'], ascending=True)\n",
    "#             .groupby('repo_name')['created_at']\n",
    "#             .first()\n",
    "#             .reset_index()\n",
    "#     )\n",
    "#     def foo(df, first_gkirs):\n",
    "#         if len(df) == 0:\n",
    "#             return pd.DataFrame()\n",
    "#         try:\n",
    "#             first_gkir = (\n",
    "#                 first_gkirs[\n",
    "#                     first_gkirs['repo_name'] == df.iloc[0]['repo_name']\n",
    "#                 ]['created_at']\n",
    "#                 .to_numpy()[0]\n",
    "#             )\n",
    "#         except Exception:\n",
    "#             return pd.DataFrame()\n",
    "#         return df[df['created_at'] >= first_gkir]\n",
    "#     non_gk_issues_for_analysis = (\n",
    "#         non_gk_issues_for_analysis\n",
    "#             .groupby('repo_name')\n",
    "#             .apply(lambda df: foo(df, first_gkir_created_at))\n",
    "#             .reset_index(drop=True)\n",
    "#     )\n",
    "#     return non_gk_issues_for_analysis, gk_issues_for_analysis\n",
    "    \n",
    "\n",
    "# non_gk_issues, gk_issues = filter_issues_for_analyses(all_issues, issues)\n",
    "\n",
    "# import re\n",
    "# def extract_dependency_type(row):\n",
    "#     try:\n",
    "#         prior_cats = ['devDependency', 'dependency', 'optionalDependency', 'peerDependency']\n",
    "#         if row['dependency_type'] in prior_cats:\n",
    "#             return row['dependency_type']\n",
    "\n",
    "#         body = row['body'].replace(' ', '')\n",
    "#         pattern = '<thalign=left>\\\\nType\\\\n<\\/td>\\\\n<td>\\\\n(.*)\\\\n<\\/td>'\n",
    "#         match = re.search(pattern, body)\n",
    "#         if match is None:\n",
    "#             return pd.NA\n",
    "#         split_lines = match[0].splitlines()\n",
    "#         if 'devDependency' in split_lines:\n",
    "#             return 'devDependency'\n",
    "#         elif 'dependency' in split_lines:\n",
    "#             return 'dependency'\n",
    "#         elif 'peerDependency' in split_lines:\n",
    "#             return 'peerDependency'\n",
    "#         else:\n",
    "#             return pd.NA\n",
    "#     except Exception:\n",
    "#         return pd.NA\n",
    "\n",
    "# gk_issues['dependency_type'] = gk_issues.apply(extract_dependency_type, axis=1)\n",
    "\n",
    "# gk_issues.to_csv(f'{PROJECT_ROOT}/{CSV_FOLDER}/gk_issues_for_analysis.csv', index=False)\n",
    "# non_gk_issues.to_csv(f'{PROJECT_ROOT}/{CSV_FOLDER}/non_gk_issues_for_analysis.csv', index=False)\n",
    "\n",
    "## NOTE: These can be loaded using load_gk_issues_for_analysis() and load_non_gk_issues_for_analysis()"
   ]
  },
  {
   "cell_type": "markdown",
   "metadata": {},
   "source": [
    "<h3>What data are we missing?</h3>"
   ]
  },
  {
   "cell_type": "markdown",
   "metadata": {},
   "source": [
    "How many unique projects?"
   ]
  },
  {
   "cell_type": "code",
   "execution_count": 37,
   "metadata": {},
   "outputs": [
    {
     "data": {
      "text/plain": [
       "9632"
      ]
     },
     "execution_count": 37,
     "metadata": {},
     "output_type": "execute_result"
    }
   ],
   "source": [
    "gk_issues['repo_name'].nunique()"
   ]
  },
  {
   "cell_type": "code",
   "execution_count": 36,
   "metadata": {},
   "outputs": [],
   "source": [
    "gkir_repos = gk_issues[['repo_name']].drop_duplicates().reset_index(drop=True)\n",
    "# stargazers_count['stargazers_count'] = ''\n",
    "gkir_repos.to_csv(f'../csv/gkir_repos.csv', index=False)"
   ]
  },
  {
   "cell_type": "code",
   "execution_count": 41,
   "metadata": {},
   "outputs": [
    {
     "data": {
      "text/html": [
       "<div>\n",
       "<style scoped>\n",
       "    .dataframe tbody tr th:only-of-type {\n",
       "        vertical-align: middle;\n",
       "    }\n",
       "\n",
       "    .dataframe tbody tr th {\n",
       "        vertical-align: top;\n",
       "    }\n",
       "\n",
       "    .dataframe thead th {\n",
       "        text-align: right;\n",
       "    }\n",
       "</style>\n",
       "<table border=\"1\" class=\"dataframe\">\n",
       "  <thead>\n",
       "    <tr style=\"text-align: right;\">\n",
       "      <th></th>\n",
       "      <th>size</th>\n",
       "      <th>stargazers_count</th>\n",
       "      <th>watchers_count</th>\n",
       "    </tr>\n",
       "  </thead>\n",
       "  <tbody>\n",
       "    <tr>\n",
       "      <th>count</th>\n",
       "      <td>9.626000e+03</td>\n",
       "      <td>9626.000000</td>\n",
       "      <td>9626.000000</td>\n",
       "    </tr>\n",
       "    <tr>\n",
       "      <th>mean</th>\n",
       "      <td>1.012887e+04</td>\n",
       "      <td>248.960835</td>\n",
       "      <td>248.960835</td>\n",
       "    </tr>\n",
       "    <tr>\n",
       "      <th>std</th>\n",
       "      <td>6.155383e+04</td>\n",
       "      <td>1891.068305</td>\n",
       "      <td>1891.068305</td>\n",
       "    </tr>\n",
       "    <tr>\n",
       "      <th>min</th>\n",
       "      <td>1.000000e+00</td>\n",
       "      <td>0.000000</td>\n",
       "      <td>0.000000</td>\n",
       "    </tr>\n",
       "    <tr>\n",
       "      <th>25%</th>\n",
       "      <td>2.460000e+02</td>\n",
       "      <td>1.000000</td>\n",
       "      <td>1.000000</td>\n",
       "    </tr>\n",
       "    <tr>\n",
       "      <th>50%</th>\n",
       "      <td>1.314500e+03</td>\n",
       "      <td>6.000000</td>\n",
       "      <td>6.000000</td>\n",
       "    </tr>\n",
       "    <tr>\n",
       "      <th>75%</th>\n",
       "      <td>4.392500e+03</td>\n",
       "      <td>35.000000</td>\n",
       "      <td>35.000000</td>\n",
       "    </tr>\n",
       "    <tr>\n",
       "      <th>max</th>\n",
       "      <td>2.243229e+06</td>\n",
       "      <td>69711.000000</td>\n",
       "      <td>69711.000000</td>\n",
       "    </tr>\n",
       "  </tbody>\n",
       "</table>\n",
       "</div>"
      ],
      "text/plain": [
       "               size  stargazers_count  watchers_count\n",
       "count  9.626000e+03       9626.000000     9626.000000\n",
       "mean   1.012887e+04        248.960835      248.960835\n",
       "std    6.155383e+04       1891.068305     1891.068305\n",
       "min    1.000000e+00          0.000000        0.000000\n",
       "25%    2.460000e+02          1.000000        1.000000\n",
       "50%    1.314500e+03          6.000000        6.000000\n",
       "75%    4.392500e+03         35.000000       35.000000\n",
       "max    2.243229e+06      69711.000000    69711.000000"
      ]
     },
     "execution_count": 41,
     "metadata": {},
     "output_type": "execute_result"
    }
   ],
   "source": [
    "gkir_repos_info = pd.read_csv(f'../csv/gkir_repos_info.csv')\n",
    "gkir_repos_info.describe()"
   ]
  },
  {
   "cell_type": "markdown",
   "metadata": {},
   "source": [
    "How many unique issue ids?"
   ]
  },
  {
   "cell_type": "code",
   "execution_count": 38,
   "metadata": {},
   "outputs": [
    {
     "data": {
      "text/plain": [
       "93196"
      ]
     },
     "execution_count": 38,
     "metadata": {},
     "output_type": "execute_result"
    }
   ],
   "source": [
    "gk_issues['id'].nunique()"
   ]
  },
  {
   "cell_type": "code",
   "execution_count": 39,
   "metadata": {},
   "outputs": [
    {
     "data": {
      "text/plain": [
       "285555"
      ]
     },
     "execution_count": 39,
     "metadata": {},
     "output_type": "execute_result"
    }
   ],
   "source": [
    "non_gk_issues['id'].nunique()"
   ]
  },
  {
   "cell_type": "code",
   "execution_count": 10,
   "metadata": {},
   "outputs": [
    {
     "data": {
      "text/plain": [
       "<AxesSubplot:>"
      ]
     },
     "execution_count": 10,
     "metadata": {},
     "output_type": "execute_result"
    },
    {
     "data": {
      "image/png": "[encoded data removed]",
      "text/plain": [
       "<Figure size 432x288 with 1 Axes>"
      ]
     },
     "metadata": {
      "needs_background": "light"
     },
     "output_type": "display_data"
    }
   ],
   "source": [
    "gk_issues['created_at'].hist()"
   ]
  },
  {
   "cell_type": "markdown",
   "metadata": {},
   "source": [
    "What proportion are missing dependency name?"
   ]
  },
  {
   "cell_type": "code",
   "execution_count": 11,
   "metadata": {},
   "outputs": [
    {
     "data": {
      "text/plain": [
       "0.04291014213442544"
      ]
     },
     "execution_count": 11,
     "metadata": {},
     "output_type": "execute_result"
    }
   ],
   "source": [
    "missing_dependency_name = gk_issues[pd.isna(gk_issues['dependency_name'])]\n",
    "len(missing_dependency_name) / len(gk_issues)"
   ]
  },
  {
   "cell_type": "code",
   "execution_count": 12,
   "metadata": {},
   "outputs": [
    {
     "data": {
      "text/plain": [
       "<AxesSubplot:>"
      ]
     },
     "execution_count": 12,
     "metadata": {},
     "output_type": "execute_result"
    },
    {
     "data": {
      "image/png": "[encoded data removed]",
      "text/plain": [
       "<Figure size 432x288 with 1 Axes>"
      ]
     },
     "metadata": {
      "needs_background": "light"
     },
     "output_type": "display_data"
    }
   ],
   "source": [
    "missing_dependency_name['created_at'].hist()"
   ]
  },
  {
   "cell_type": "markdown",
   "metadata": {},
   "source": [
    "What proportion are missing dependency name?"
   ]
  },
  {
   "cell_type": "code",
   "execution_count": 13,
   "metadata": {},
   "outputs": [
    {
     "data": {
      "text/plain": [
       "0.36377740303541317"
      ]
     },
     "execution_count": 13,
     "metadata": {},
     "output_type": "execute_result"
    }
   ],
   "source": [
    "missing_dependency_next_version = gk_issues[pd.isna(gk_issues['dependency_next_version'])]\n",
    "len(missing_dependency_next_version) / len(gk_issues)"
   ]
  },
  {
   "cell_type": "code",
   "execution_count": 14,
   "metadata": {},
   "outputs": [
    {
     "data": {
      "text/plain": [
       "<AxesSubplot:>"
      ]
     },
     "execution_count": 14,
     "metadata": {},
     "output_type": "execute_result"
    },
    {
     "data": {
      "image/png": "[encoded data removed]",
      "text/plain": [
       "<Figure size 432x288 with 1 Axes>"
      ]
     },
     "metadata": {
      "needs_background": "light"
     },
     "output_type": "display_data"
    }
   ],
   "source": [
    "missing_dependency_next_version['created_at'].hist()"
   ]
  },
  {
   "cell_type": "markdown",
   "metadata": {},
   "source": [
    "What proportion are missing dependency type?"
   ]
  },
  {
   "cell_type": "code",
   "execution_count": 15,
   "metadata": {},
   "outputs": [
    {
     "data": {
      "text/plain": [
       "0.04331486388821971"
      ]
     },
     "execution_count": 15,
     "metadata": {},
     "output_type": "execute_result"
    }
   ],
   "source": [
    "missing_dependency_type = gk_issues[pd.isna(gk_issues['dependency_type'])]\n",
    "len(missing_dependency_type) / len(gk_issues)"
   ]
  },
  {
   "cell_type": "code",
   "execution_count": 16,
   "metadata": {},
   "outputs": [
    {
     "data": {
      "text/plain": [
       "<AxesSubplot:>"
      ]
     },
     "execution_count": 16,
     "metadata": {},
     "output_type": "execute_result"
    },
    {
     "data": {
      "image/png": "[encoded data removed]",
      "text/plain": [
       "<Figure size 432x288 with 1 Axes>"
      ]
     },
     "metadata": {
      "needs_background": "light"
     },
     "output_type": "display_data"
    }
   ],
   "source": [
    "missing_dependency_type['created_at'].hist()"
   ]
  },
  {
   "cell_type": "code",
   "execution_count": 17,
   "metadata": {},
   "outputs": [
    {
     "data": {
      "text/plain": [
       "3435    https://api.github.com/repos/npmkit/npmkit/issues/97\n",
       "Name: url, dtype: object"
      ]
     },
     "execution_count": 17,
     "metadata": {},
     "output_type": "execute_result"
    }
   ],
   "source": [
    "missing_dependency_type['url'].sample()"
   ]
  },
  {
   "cell_type": "markdown",
   "metadata": {},
   "source": [
    "<h2>Observation 1) Approximately 40% of IRs are GKIRs</h2>"
   ]
  },
  {
   "cell_type": "code",
   "execution_count": 40,
   "metadata": {},
   "outputs": [],
   "source": [
    "non_gk_issues__count = (\n",
    "    non_gk_issues\n",
    "        .groupby('repo_name')['id']\n",
    "        .count()\n",
    "        .to_frame(name='issue_count')\n",
    "        .reset_index()\n",
    ")\n",
    "gk_issues__count = (\n",
    "    gk_issues\n",
    "        .groupby('repo_name')['id']\n",
    "        .count()\n",
    "        .to_frame(name='issue_count')\n",
    "        .reset_index()\n",
    ")\n",
    "\n",
    "gk_to_non_gk_issue_counts = non_gk_issues__count.merge(\n",
    "    gk_issues__count,\n",
    "    on='repo_name',\n",
    "    how='inner',\n",
    "    suffixes=['_non_gk', '_gk'],\n",
    ")\n",
    "gk_to_non_gk_issue_counts['proportion_gk'] = (\n",
    "    gk_to_non_gk_issue_counts['issue_count_gk'] / \n",
    "    (gk_to_non_gk_issue_counts['issue_count_gk'] + gk_to_non_gk_issue_counts['issue_count_non_gk'])\n",
    ")\n",
    "gk_to_non_gk_issue_counts['isue_count_total'] = gk_to_non_gk_issue_counts['issue_count_non_gk'] + gk_to_non_gk_issue_counts['issue_count_gk']\n",
    "\n",
    "gk_to_non_gk_issue_counts['higher_than_median'] = (\n",
    "    gk_to_non_gk_issue_counts['isue_count_total'] >= gk_to_non_gk_issue_counts['isue_count_total'].median()\n",
    ")\n",
    "\n",
    "for_plot = pd.DataFrame({\n",
    "    'proportion_gk': gk_to_non_gk_issue_counts['proportion_gk'],\n",
    "    'higher_than_median': False\n",
    "})\n",
    "\n",
    "for_plot = for_plot.append(\n",
    "    pd.DataFrame({\n",
    "        'proportion_gk': gk_to_non_gk_issue_counts.loc[\n",
    "            gk_to_non_gk_issue_counts['higher_than_median'],\n",
    "            'proportion_gk'\n",
    "        ],\n",
    "        'higher_than_median': True \n",
    "    })\n",
    ")\n",
    "for_plot['placeholder'] = ''"
   ]
  },
  {
   "cell_type": "code",
   "execution_count": 93,
   "metadata": {},
   "outputs": [
    {
     "name": "stdout",
     "output_type": "stream",
     "text": [
      "--What proportion of issues in a project are GK issues?--\n",
      "                      Count    Mean      STD    Min    25%    Median     75%       Max\n",
      "------------------  -------  ------  -------  -----  -----  --------  ------  --------\n",
      "proportion_gk          6824   0.516    0.295      0   0.25       0.5   0.778     0.998\n",
      "issue_count_gk         6824  12.848   34.728      1   2          5    12      1781\n",
      "issue_count_non_gk     6824  41.846  250.269      1   1          4    14      9633\n",
      "\n",
      "--What proportion of issues in a project are GK issues (With at least the median total number of issues)?--\n",
      "                      Count    Mean      STD    Min    25%    Median     75%       Max\n",
      "------------------  -------  ------  -------  -----  -----  --------  ------  --------\n",
      "proportion_gk          3560   0.466    0.342      0   0.13     0.417   0.819     0.998\n",
      "issue_count_gk         3560  21.584   46.34       1   6       12      22      1781\n",
      "issue_count_non_gk     3560  78.019  342.545      1   4       13      39      9633\n",
      "\n",
      "--What proportion of issues in a project are GK issues (With less than the median total number of issues)?--\n",
      "                      Count    Mean    STD    Min    25%    Median    75%     Max\n",
      "------------------  -------  ------  -----  -----  -----  --------  -----  ------\n",
      "proportion_gk          3264   0.571  0.22   0.091    0.4       0.6   0.75   0.909\n",
      "issue_count_gk         3264   3.32   2.351  1        1         3     5     10\n",
      "issue_count_non_gk     3264   2.392  1.968  1        1         2     3     10\n",
      "\n"
     ]
    }
   ],
   "source": [
    "print('--What proportion of issues in a project are GK issues?--')\n",
    "tfns(\n",
    "    gk_to_non_gk_issue_counts,\n",
    "    ['proportion_gk', 'issue_count_gk', 'issue_count_non_gk'],\n",
    "    should_round=True\n",
    ")\n",
    "print('--What proportion of issues in a project are GK issues (With at least the median total number of issues)?--')\n",
    "tfns(\n",
    "    gk_to_non_gk_issue_counts[gk_to_non_gk_issue_counts['higher_than_median']],\n",
    "    ['proportion_gk', 'issue_count_gk', 'issue_count_non_gk'],\n",
    "    should_round=True\n",
    ")\n",
    "print('--What proportion of issues in a project are GK issues (With less than the median total number of issues)?--')\n",
    "tfns(\n",
    "    gk_to_non_gk_issue_counts[~gk_to_non_gk_issue_counts['higher_than_median']],\n",
    "    ['proportion_gk', 'issue_count_gk', 'issue_count_non_gk'],\n",
    "    should_round=True\n",
    ")"
   ]
  },
  {
   "cell_type": "code",
   "execution_count": 95,
   "metadata": {},
   "outputs": [
    {
     "name": "stdout",
     "output_type": "stream",
     "text": [
      "Saving figure projects_proportion_of_gk_issues\n"
     ]
    },
    {
     "data": {
      "image/png": "[encoded data removed]",
      "text/plain": [
       "<Figure size 432x216 with 1 Axes>"
      ]
     },
     "metadata": {
      "needs_background": "light"
     },
     "output_type": "display_data"
    }
   ],
   "source": [
    "fig, ax = plt.subplots(nrows=1, ncols=1, figsize=(6,3))\n",
    "sns.violinplot(\n",
    "    data=for_plot,\n",
    "    x='proportion_gk',\n",
    "    y='placeholder',\n",
    "    hue='higher_than_median',\n",
    "    split=True,\n",
    "    inner='quartile',\n",
    "    palette=['1', '0.6'],\n",
    "    scale='width',\n",
    ")\n",
    "ax.set_ylabel('')\n",
    "ax.set_xlabel('Proportion of project issues that are GKIRs')\n",
    "ax.legend(\n",
    "    title='',\n",
    ")\n",
    "L = plt.legend(\n",
    "    loc='upper center',\n",
    "    fontsize='small',\n",
    "    fancybox=True,\n",
    "    bbox_to_anchor=(0.5,1.2),\n",
    "    ncol=2\n",
    ")\n",
    "\n",
    "L.get_texts()[0].set_text('All Projects')\n",
    "L.get_texts()[1].set_text('Projects with high number of issues')\n",
    "\n",
    "save_fig('projects_proportion_of_gk_issues')\n",
    "plt.show()"
   ]
  },
  {
   "cell_type": "markdown",
   "metadata": {},
   "source": [
    "<h2>Observation 2) What proportion of in-range breaking build issue reports are closed (i.e., resolved)?</h2>\n",
    "<p>\n",
    "    Overall, in-range breaking build issue reports are closed 79.8% of the time (20.2% are never closed).\n",
    "    <br>\n",
    "    When comparing at the intra-project level, the median proportion of in-range breaking build issue reports closed by individual projects is 100% (median for other issues is 0.905). Projects are closing in-range breaking build issue reports at the same rate as other issues in the project (median ratio for gk to non-gk is 1.022).\n",
    "</p>"
   ]
  },
  {
   "cell_type": "code",
   "execution_count": 42,
   "metadata": {},
   "outputs": [
    {
     "name": "stdout",
     "output_type": "stream",
     "text": [
      "--All GK in-range breaking issue state proportions (not calculated per project)--\n"
     ]
    },
    {
     "data": {
      "text/html": [
       "<div>\n",
       "<style scoped>\n",
       "    .dataframe tbody tr th:only-of-type {\n",
       "        vertical-align: middle;\n",
       "    }\n",
       "\n",
       "    .dataframe tbody tr th {\n",
       "        vertical-align: top;\n",
       "    }\n",
       "\n",
       "    .dataframe thead th {\n",
       "        text-align: right;\n",
       "    }\n",
       "</style>\n",
       "<table border=\"1\" class=\"dataframe\">\n",
       "  <thead>\n",
       "    <tr style=\"text-align: right;\">\n",
       "      <th></th>\n",
       "      <th>state</th>\n",
       "      <th>proportion</th>\n",
       "    </tr>\n",
       "  </thead>\n",
       "  <tbody>\n",
       "    <tr>\n",
       "      <th>0</th>\n",
       "      <td>closed</td>\n",
       "      <td>0.822751</td>\n",
       "    </tr>\n",
       "    <tr>\n",
       "      <th>1</th>\n",
       "      <td>open</td>\n",
       "      <td>0.177249</td>\n",
       "    </tr>\n",
       "  </tbody>\n",
       "</table>\n",
       "</div>"
      ],
      "text/plain": [
       "    state  proportion\n",
       "0  closed    0.822751\n",
       "1    open    0.177249"
      ]
     },
     "execution_count": 42,
     "metadata": {},
     "output_type": "execute_result"
    }
   ],
   "source": [
    "proportions = (\n",
    "    gk_issues['state'].value_counts() / \n",
    "    gk_issues['state'].count()\n",
    ").to_frame(name='proportion')\\\n",
    "    .rename_axis('state')\\\n",
    "    .reset_index()\n",
    "print('--All GK in-range breaking issue state proportions (not calculated per project)--')\n",
    "proportions.head()"
   ]
  },
  {
   "cell_type": "code",
   "execution_count": 43,
   "metadata": {},
   "outputs": [
    {
     "name": "stdout",
     "output_type": "stream",
     "text": [
      "--All non-GKIRs state proportions (not calculated per project)--\n"
     ]
    },
    {
     "data": {
      "text/html": [
       "<div>\n",
       "<style scoped>\n",
       "    .dataframe tbody tr th:only-of-type {\n",
       "        vertical-align: middle;\n",
       "    }\n",
       "\n",
       "    .dataframe tbody tr th {\n",
       "        vertical-align: top;\n",
       "    }\n",
       "\n",
       "    .dataframe thead th {\n",
       "        text-align: right;\n",
       "    }\n",
       "</style>\n",
       "<table border=\"1\" class=\"dataframe\">\n",
       "  <thead>\n",
       "    <tr style=\"text-align: right;\">\n",
       "      <th></th>\n",
       "      <th>state</th>\n",
       "      <th>proportion</th>\n",
       "    </tr>\n",
       "  </thead>\n",
       "  <tbody>\n",
       "    <tr>\n",
       "      <th>0</th>\n",
       "      <td>closed</td>\n",
       "      <td>0.7984</td>\n",
       "    </tr>\n",
       "    <tr>\n",
       "      <th>1</th>\n",
       "      <td>open</td>\n",
       "      <td>0.2016</td>\n",
       "    </tr>\n",
       "  </tbody>\n",
       "</table>\n",
       "</div>"
      ],
      "text/plain": [
       "    state  proportion\n",
       "0  closed      0.7984\n",
       "1    open      0.2016"
      ]
     },
     "execution_count": 43,
     "metadata": {},
     "output_type": "execute_result"
    }
   ],
   "source": [
    "proportions = (\n",
    "    non_gk_issues['state'].value_counts() / \n",
    "    non_gk_issues['state'].count()\n",
    ").to_frame(name='proportion')\\\n",
    "    .rename_axis('state')\\\n",
    "    .reset_index()\n",
    "print('--All non-GKIRs state proportions (not calculated per project)--')\n",
    "proportions.head()"
   ]
  },
  {
   "cell_type": "code",
   "execution_count": 44,
   "metadata": {},
   "outputs": [
    {
     "name": "stdout",
     "output_type": "stream",
     "text": [
      "--Intra-project comparison for proportion of closed non-GKIRs & GKIRs--\n",
      "Proportion of closed issues      Count    Mean      STD    Min    25%    Median    75%     Max\n",
      "-----------------------------  -------  ------  -------  -----  -----  --------  -----  ------\n",
      "proportion_non_gk                 5271  17.377  115.443  0       0.25         1  4.5    4586.5\n",
      "proportion_gk                     5271   0.927    0.186  0.032   1            1  1         1\n",
      "ratio                             5271  15.007   98.41   0       0.2          1  3.556  4069\n",
      "\n",
      "\tMann-Whitney: statistic=13106745.0 pvalue=6.128037226553316e-08\n",
      "\tCliff'a Delta: delta=-0.05650671563684282 size=negligible\n",
      "    \n"
     ]
    }
   ],
   "source": [
    "non_gk_issues__state_proportions = (\n",
    "    (\n",
    "        non_gk_issues.groupby('repo_name', observed=True)['state'].value_counts() / \n",
    "        non_gk_issues.groupby('repo_name')['state'].count()\n",
    "    ).to_frame(name='proportion').reset_index()\n",
    ")\n",
    "gk_issues__state_proportions = (\n",
    "    (\n",
    "        gk_issues.groupby('repo_name')['state'].value_counts() / \n",
    "        gk_issues.groupby('repo_name')['state'].count()\n",
    "    ).to_frame(name='proportion').reset_index()\n",
    ")\n",
    "\n",
    "project_issue__state_proportions = non_gk_issues__state_proportions.merge(\n",
    "    gk_issues__state_proportions,\n",
    "    how='inner',\n",
    "    on=['repo_name', 'state'],\n",
    "    suffixes=['_non_gk', '_gk'],\n",
    ")\n",
    "project_issue__state_proportions['ratio'] = project_issue__state_proportions['proportion_gk'] / project_issue__state_proportions['proportion_non_gk']\n",
    "project_issue__state_proportions__closed = project_issue__state_proportions[project_issue__state_proportions['state'] == 'closed']\n",
    "\n",
    "print('--Intra-project comparison for proportion of closed non-GKIRs & GKIRs--')\n",
    "tfns(project_issue__state_proportions__closed, ['proportion_non_gk', 'proportion_gk', 'ratio'], title='Proportion of closed issues')\n",
    "plt.show()\n",
    "\n",
    "mannwhitneyu_cliffsdelta(\n",
    "    project_issue__state_proportions__closed['proportion_gk'],\n",
    "    project_issue__state_proportions__closed['proportion_non_gk']\n",
    ")"
   ]
  },
  {
   "cell_type": "markdown",
   "metadata": {},
   "source": [
    "<h4>Project ratio between proportion of closed non-gk issues and gk issues</h4>"
   ]
  },
  {
   "cell_type": "code",
   "execution_count": 45,
   "metadata": {},
   "outputs": [
    {
     "name": "stdout",
     "output_type": "stream",
     "text": [
      "--Intra-project comparison for proportion of closed non-GKIRs & GKIRs--\n",
      "Proportion of closed issues      Count    Mean      STD    Min    25%    Median    75%     Max\n",
      "-----------------------------  -------  ------  -------  -----  -----  --------  -----  ------\n",
      "proportion_non_gk                 3081  22.592  139.659  0      0.262     1          6  4586.5\n",
      "proportion_gk                     3081   0.904    0.211  0.032  0.955     1          1     1\n",
      "ratio                             3081  12.12    71.144  0      0.143     0.733      3  2123\n",
      "\n",
      "\tMann-Whitney: statistic=4162783.5 pvalue=2.0462616196416478e-18\n",
      "\tCliff'a Delta: delta=-0.12293774040535531 size=negligible\n",
      "    \n"
     ]
    }
   ],
   "source": [
    "projects_with_high_gk_counts = (\n",
    "    gk_to_non_gk_issue_counts[\n",
    "        gk_to_non_gk_issue_counts['issue_count_gk'] >= gk_to_non_gk_issue_counts['issue_count_gk'].median()\n",
    "    ]['repo_name'].copy().reset_index(drop=True)\n",
    ")\n",
    "\n",
    "project_issue_with_high_gk_counts__state_proportions = (\n",
    "    project_issue__state_proportions[\n",
    "        project_issue__state_proportions['repo_name'].isin(projects_with_high_gk_counts)\n",
    "    ]\n",
    ")\n",
    "project_issue__state_proportions__closed = (\n",
    "    project_issue_with_high_gk_counts__state_proportions[\n",
    "        project_issue_with_high_gk_counts__state_proportions['state'] == 'closed'\n",
    "    ]\n",
    ")\n",
    "\n",
    "print('--Intra-project comparison for proportion of closed non-GKIRs & GKIRs--')\n",
    "tfns(project_issue__state_proportions__closed, ['proportion_non_gk', 'proportion_gk', 'ratio'], title='Proportion of closed issues')\n",
    "plt.show()\n",
    "\n",
    "\n",
    "mannwhitneyu_cliffsdelta(\n",
    "    project_issue__state_proportions__closed['proportion_gk'],\n",
    "    project_issue__state_proportions__closed['proportion_non_gk']\n",
    ")\n"
   ]
  },
  {
   "cell_type": "markdown",
   "metadata": {},
   "source": [
    "<h2>Observation 3) How long does it take for in-range breaking build issue reports to be closed (i.e., resolved)?</h2>\n",
    "<ul>\n",
    "    <li>Overall, in-range breaking build issue reports are closed in a median of 4 days 11 hours.</li>\n",
    "    <li>When comparing at the intra-project level, the median time to close in-range breaking build issues is 13 days 21 hours, while the median time to close other issues is 6 days 6 hours.</li>\n",
    "    <li>At the project level, in-range breaking build issue reports stay open with a medain value of 1.575x as long as other issues.</li>\n",
    "</ul>"
   ]
  },
  {
   "cell_type": "code",
   "execution_count": 46,
   "metadata": {},
   "outputs": [
    {
     "name": "stderr",
     "output_type": "stream",
     "text": [
      "/home/local/SAIL/benjamin/anaconda3/lib/python3.8/site-packages/pandas/core/arraylike.py:358: RuntimeWarning: divide by zero encountered in log10\n",
      "  result = getattr(ufunc, method)(*inputs, **kwargs)\n"
     ]
    },
    {
     "name": "stdout",
     "output_type": "stream",
     "text": [
      "--Intra-project comparison for median time to close issues & median time to close GK in-range breaking build issues--\n",
      "Median time to close issue      Count  Mean              STD                Min              25%              Median            75%               Max\n",
      "----------------------------  -------  ----------------  -----------------  ---------------  ---------------  ----------------  ----------------  ------------------\n",
      "median_non_gk                    5271  46 days 07:45:47  112 days 23:59:12  0 days 00:00:03  1 days 03:24:05  6 days 13:47:16   30 days 01:35:40  1171 days 00:00:28\n",
      "median_gk                        5271  54 days 10:16:56  111 days 18:08:36  0 days 00:00:31  1 days 14:30:06  11 days 18:58:14  50 days 19:17:54  1130 days 03:37:18\n",
      "\n",
      "Saving figure intra_project_median_time_to_close\n"
     ]
    },
    {
     "data": {
      "image/png": "[encoded data removed]",
      "text/plain": [
       "<Figure size 360x216 with 1 Axes>"
      ]
     },
     "metadata": {
      "needs_background": "light"
     },
     "output_type": "display_data"
    },
    {
     "name": "stdout",
     "output_type": "stream",
     "text": [
      "\tMann-Whitney: statistic=12397413.5 pvalue=5.64576217794053e-22\n",
      "\tCliff'a Delta: delta=0.10756817343107357 size=negligible\n",
      "    \n"
     ]
    }
   ],
   "source": [
    "# Calculate mean and median intra-project time_to_close for Non-GK issues\n",
    "non_gk_issues__closed = non_gk_issues[non_gk_issues['state'] == 'closed'].copy()\n",
    "non_gk_issues__closed['time_to_close'] = (\n",
    "    (non_gk_issues__closed['closed_at'] - non_gk_issues__closed['created_at'])\n",
    "        .dt\n",
    "        .total_seconds()  # Have to convert to seconds to calculate mean and median\n",
    ")\n",
    "project__non_gk_issue__time_to_close = (\n",
    "    non_gk_issues__closed\n",
    "        .groupby('repo_name')['time_to_close']\n",
    "        .agg(['mean', 'median'])\n",
    "        .reset_index()\n",
    "        .dropna()\n",
    ")\n",
    "project__non_gk_issue__time_to_close['mean'] = pd.to_timedelta(\n",
    "    project__non_gk_issue__time_to_close['mean'],\n",
    "    unit='s'\n",
    ")\n",
    "project__non_gk_issue__time_to_close['mean_hours_log'] = np.log10(\n",
    "    project__non_gk_issue__time_to_close['mean'] / np.timedelta64(1, 'h')\n",
    ")\n",
    "project__non_gk_issue__time_to_close['median'] = pd.to_timedelta(\n",
    "    project__non_gk_issue__time_to_close['median'],\n",
    "    unit='s'\n",
    ")\n",
    "project__non_gk_issue__time_to_close['median_hours'] = (\n",
    "    project__non_gk_issue__time_to_close['median'] / np.timedelta64(1, 'h')\n",
    ")\n",
    "project__non_gk_issue__time_to_close['median_hours_log'] = np.log10(\n",
    "    project__non_gk_issue__time_to_close['median_hours']\n",
    ")\n",
    "\n",
    "# Calculate mean and median intra-project time_to_close for GK issues\n",
    "gk_issues__closed = gk_issues[gk_issues['state'] == 'closed'].copy()\n",
    "gk_issues__closed['time_to_close'] = (\n",
    "    gk_issues__closed['closed_at'] - gk_issues__closed['created_at']\n",
    ").dt.total_seconds()  # Have to convert to seconds to calculate mean and median\n",
    "project__gk_issue__time_to_close = (\n",
    "    gk_issues__closed\n",
    "        .groupby('repo_name')['time_to_close']\n",
    "        .agg(['mean', 'median'])\n",
    "        .reset_index()\n",
    "        .dropna()\n",
    ")\n",
    "project__gk_issue__time_to_close['mean'] = pd.to_timedelta(\n",
    "    project__gk_issue__time_to_close['mean'],\n",
    "    unit='s'\n",
    ")\n",
    "project__gk_issue__time_to_close['mean_hours_log'] = np.log10(\n",
    "    project__gk_issue__time_to_close['mean'] / np.timedelta64(1, 'h')\n",
    ")\n",
    "project__gk_issue__time_to_close['median'] = pd.to_timedelta(\n",
    "    project__gk_issue__time_to_close['median'],\n",
    "    unit='s'\n",
    ")\n",
    "project__gk_issue__time_to_close['median_hours'] = (\n",
    "    project__gk_issue__time_to_close['median'] / np.timedelta64(1, 'h')\n",
    ")\n",
    "project__gk_issue__time_to_close['median_hours_log'] = np.log10(\n",
    "    project__gk_issue__time_to_close['median_hours']\n",
    ")\n",
    "\n",
    "# Merge the two\n",
    "project__all_issues__time_to_close = project__non_gk_issue__time_to_close.merge(\n",
    "    project__gk_issue__time_to_close,\n",
    "    how='inner',\n",
    "    on=['repo_name'],\n",
    "    suffixes=['_non_gk', '_gk'],\n",
    ")\n",
    "\n",
    "# Melt for violine plot\n",
    "melted = pd.melt(\n",
    "    project__all_issues__time_to_close,\n",
    "    id_vars='repo_name',\n",
    "    value_vars=['median_hours_log_gk', 'median_hours_log_non_gk'],\n",
    "    var_name='issue_type',\n",
    "    value_name='median_time_to_close_hours_log',\n",
    ")\n",
    "\n",
    "melted['placeholder'] = ''\n",
    "fig, ax = plt.subplots(nrows=1, ncols=1, figsize=(5,3))\n",
    "sns.violinplot(\n",
    "    data=melted,\n",
    "    x='median_time_to_close_hours_log',\n",
    "    y='placeholder',\n",
    "    hue='issue_type',\n",
    "    split=True,\n",
    "    inner='quartile',\n",
    "    palette=['1', '0.6'],\n",
    "    ax=ax,\n",
    ")\n",
    "ax.set_ylabel('')\n",
    "ax.set_xlabel('Median time to close issue (hours)')\n",
    "ax.xaxis.set_major_formatter(log10_func_formatter)\n",
    "\n",
    "L = plt.legend(\n",
    "    loc='upper center',\n",
    "    fontsize='small',\n",
    "    fancybox=True,\n",
    "    bbox_to_anchor=(0.5,1.2),\n",
    "    ncol=2,\n",
    "    shadow=False,\n",
    ")\n",
    "L.get_texts()[0].set_text('In-Range Breaking Build Issues')\n",
    "L.get_texts()[1].set_text('Other Issues')\n",
    "print('--Intra-project comparison for median time to close issues & median time to close GK in-range breaking build issues--')\n",
    "tfns(\n",
    "    project__all_issues__time_to_close,\n",
    "    ['median_non_gk', 'median_gk'],\n",
    "    title='Median time to close issue'\n",
    ")\n",
    "save_fig('intra_project_median_time_to_close')\n",
    "plt.show()\n",
    "\n",
    "mannwhitneyu_cliffsdelta(\n",
    "    project__all_issues__time_to_close['median_hours_log_gk'],\n",
    "    project__all_issues__time_to_close['median_hours_log_non_gk']\n",
    ")"
   ]
  },
  {
   "cell_type": "markdown",
   "metadata": {},
   "source": [
    "<h3>What dependency types are GKIRs opened for?</h3>"
   ]
  },
  {
   "cell_type": "code",
   "execution_count": 35,
   "metadata": {},
   "outputs": [
    {
     "data": {
      "text/plain": [
       "devDependency         0.699488\n",
       "dependency            0.298634\n",
       "optionalDependency    0.001166\n",
       "peerDependency        0.000712\n",
       "Name: dependency_type, dtype: float64"
      ]
     },
     "execution_count": 35,
     "metadata": {},
     "output_type": "execute_result"
    }
   ],
   "source": [
    "gk_issues['dependency_type'].value_counts() / gk_issues['dependency_type'].count()"
   ]
  },
  {
   "cell_type": "code",
   "execution_count": 54,
   "metadata": {},
   "outputs": [
    {
     "name": "stderr",
     "output_type": "stream",
     "text": [
      "<ipython-input-54-8c6bd8f8e772>:45: UserWarning: FixedFormatter should only be used together with FixedLocator\n",
      "  ax.set_xticklabels(ax.get_xticks(), fontsize=12)\n"
     ]
    },
    {
     "name": "stdout",
     "output_type": "stream",
     "text": [
      "\tMann-Whitney: statistic=280485112.5 pvalue=1.5314886489480827e-12\n",
      "\tCliff'a Delta: delta=0.03839378533679006 size=negligible\n",
      "    \n"
     ]
    },
    {
     "data": {
      "image/png": "[encoded data removed]",
      "text/plain": [
       "<Figure size 576x216 with 1 Axes>"
      ]
     },
     "metadata": {
      "needs_background": "light"
     },
     "output_type": "display_data"
    }
   ],
   "source": [
    "gk_issues_simplified = (\n",
    "    gk_issues[\n",
    "        gk_issues['state'] == 'closed'\n",
    "    ][\n",
    "        ['created_at', 'closed_at', 'dependency_type']\n",
    "    ].dropna()\n",
    "    .copy()\n",
    ")\n",
    "gk_issues_simplified['time_to_close'] = (\n",
    "    gk_issues_simplified['closed_at'] - gk_issues_simplified['created_at']\n",
    ")\n",
    "gk_issues_simplified['time_to_close_hours'] = (\n",
    "    gk_issues_simplified['time_to_close'] / np.timedelta64(1, 'h')\n",
    ")\n",
    "gk_issues_simplified['time_to_close_hours_log'] = (\n",
    "    np.log10(gk_issues_simplified['time_to_close_hours'])\n",
    ")\n",
    "types_to_analyze = ['devDependency', 'dependency']\n",
    "gk_issues_simplified = gk_issues_simplified[gk_issues_simplified['dependency_type'].isin(types_to_analyze)]\n",
    "gk_issues_simplified.dependency_type = (\n",
    "    gk_issues_simplified\n",
    "        .dependency_type\n",
    "        .cat\n",
    "        .remove_categories(['optionalDependency', 'peerDependency'])\n",
    ")\n",
    "gk_issues_simplified['placeholder'] = ''\n",
    "\n",
    "fig, ax = plt.subplots(nrows=1, ncols=1, figsize=(8,3))\n",
    "sns.violinplot(\n",
    "    data=gk_issues_simplified,\n",
    "    x='time_to_close_hours_log',\n",
    "    y='placeholder',\n",
    "    hue='dependency_type',\n",
    "#     order=['large', 'medium', 'small'],\n",
    "    split=True,\n",
    "    inner='quartile',\n",
    "    palette=['1', '0.6'],\n",
    "    scale='width',\n",
    "    ax=ax,\n",
    ")\n",
    "\n",
    "ax.set_ylabel('', fontsize=12)\n",
    "\n",
    "ax.set_xlabel('Time to close GKIR (hours)', fontsize=12)\n",
    "ax.set_xticklabels(ax.get_xticks(), fontsize=12)\n",
    "ax.xaxis.set_major_formatter(log10_func_formatter)\n",
    "\n",
    "L = plt.legend(\n",
    "    loc='upper center',\n",
    "    fancybox=True,\n",
    "    bbox_to_anchor=(0.5,1.18),\n",
    "    ncol=2,\n",
    "    shadow=False,\n",
    ")\n",
    "L.get_texts()[0].set_text('Runtime Dependency')\n",
    "L.get_texts()[1].set_text('Development Dependency')\n",
    "\n",
    "\n",
    "mannwhitneyu_cliffsdelta(\n",
    "    gk_issues_simplified[gk_issues_simplified['dependency_type'] == 'devDependency']['time_to_close_hours_log'],\n",
    "    gk_issues_simplified[gk_issues_simplified['dependency_type'] == 'dependency']['time_to_close_hours_log']\n",
    ")\n",
    "\n",
    "plt.show()\n"
   ]
  }
 ],
 "metadata": {
  "kernelspec": {
   "display_name": "Python 3",
   "language": "python",
   "name": "python3"
  },
  "language_info": {
   "codemirror_mode": {
    "name": "ipython",
    "version": 3
   },
   "file_extension": ".py",
   "mimetype": "text/x-python",
   "name": "python",
   "nbconvert_exporter": "python",
   "pygments_lexer": "ipython3",
   "version": "3.8.5"
  }
 },
 "nbformat": 4,
 "nbformat_minor": 4
}
