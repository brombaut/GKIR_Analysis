{
 "cells": [
  {
   "cell_type": "markdown",
   "metadata": {},
   "source": [
    "<h3>Load helper functions</h3>"
   ]
  },
  {
   "cell_type": "code",
   "execution_count": 3,
   "metadata": {},
   "outputs": [],
   "source": [
    "%run _utils.ipynb"
   ]
  },
  {
   "cell_type": "markdown",
   "metadata": {},
   "source": [
    "<h3>Load Greenkeeper In-Range Breaking Build <code>issues</code> and <code>all_issues</code> and Create data sets of <code>non_gk_issues</code> and <code>gk_issues</code></h3>\n",
    "<p>NOTE These are saved csvs and can be loaded using <code>load_gk_issues_for_analysis()</code> and <code>load_non_gk_issues_for_analysis()</code></p>\n",
    "<p>NOTE that this includes every single issue from every single repo in the list of repos from the GK In-range breaking build issues set</p>\n",
    "<p>\n",
    "    For analysis, we ignore gk_issues that we dont have all issues for, and remove the duplicate gk_issues from the all_issues data set\n",
    "</p>"
   ]
  },
  {
   "cell_type": "code",
   "execution_count": 4,
   "metadata": {},
   "outputs": [],
   "source": [
    "gk_issues = load_gk_issues_for_analysis()\n",
    "non_gk_issues = load_non_gk_issues_for_analysis()"
   ]
  },
  {
   "cell_type": "markdown",
   "metadata": {},
   "source": [
    "<h2>Observation 1) Approximately 40% of IRs are GKIRs</h2>"
   ]
  },
  {
   "cell_type": "code",
   "execution_count": 6,
   "metadata": {},
   "outputs": [],
   "source": [
    "non_gk_issues__count = (\n",
    "    non_gk_issues\n",
    "        .groupby('repo_name')['id']\n",
    "        .count()\n",
    "        .to_frame(name='issue_count')\n",
    "        .reset_index()\n",
    ")\n",
    "gk_issues__count = (\n",
    "    gk_issues\n",
    "        .groupby('repo_name')['id']\n",
    "        .count()\n",
    "        .to_frame(name='issue_count')\n",
    "        .reset_index()\n",
    ")\n",
    "\n",
    "gk_to_non_gk_issue_counts = non_gk_issues__count.merge(\n",
    "    gk_issues__count,\n",
    "    on='repo_name',\n",
    "    how='inner',\n",
    "    suffixes=['_non_gk', '_gk'],\n",
    ")\n",
    "gk_to_non_gk_issue_counts['proportion_gk'] = (\n",
    "    gk_to_non_gk_issue_counts['issue_count_gk'] / \n",
    "    (gk_to_non_gk_issue_counts['issue_count_gk'] + gk_to_non_gk_issue_counts['issue_count_non_gk'])\n",
    ")\n",
    "gk_to_non_gk_issue_counts['isue_count_total'] = gk_to_non_gk_issue_counts['issue_count_non_gk'] + gk_to_non_gk_issue_counts['issue_count_gk']\n",
    "\n",
    "gk_to_non_gk_issue_counts['higher_than_median'] = (\n",
    "    gk_to_non_gk_issue_counts['isue_count_total'] >= gk_to_non_gk_issue_counts['isue_count_total'].median()\n",
    ")\n",
    "\n",
    "for_plot = pd.DataFrame({\n",
    "    'proportion_gk': gk_to_non_gk_issue_counts['proportion_gk'],\n",
    "    'higher_than_median': False\n",
    "})\n",
    "\n",
    "for_plot = for_plot.append(\n",
    "    pd.DataFrame({\n",
    "        'proportion_gk': gk_to_non_gk_issue_counts.loc[\n",
    "            gk_to_non_gk_issue_counts['higher_than_median'],\n",
    "            'proportion_gk'\n",
    "        ],\n",
    "        'higher_than_median': True \n",
    "    })\n",
    ")\n",
    "for_plot['placeholder'] = ''"
   ]
  },
  {
   "cell_type": "code",
   "execution_count": 7,
   "metadata": {},
   "outputs": [
    {
     "name": "stdout",
     "output_type": "stream",
     "text": [
      "--What proportion of issues in a project are GK issues?--\n",
      "                      Count       Mean         STD          Min    25%    Median        75%          Max\n",
      "------------------  -------  ---------  ----------  -----------  -----  --------  ---------  -----------\n",
      "proportion_gk          6824   0.515988    0.294666  0.000114548   0.25       0.5   0.777778     0.997792\n",
      "issue_count_gk         6824  12.848      34.7275    1             2          5    12         1781\n",
      "issue_count_non_gk     6824  41.8457    250.269     1             1          4    14         9633\n",
      "\n",
      "--What proportion of issues in a project are GK issues (With at least the median total number of issues)?--\n",
      "                      Count    Mean      STD    Min    25%    Median     75%       Max\n",
      "------------------  -------  ------  -------  -----  -----  --------  ------  --------\n",
      "proportion_gk          3560   0.466    0.342      0   0.13     0.417   0.819     0.998\n",
      "issue_count_gk         3560  21.584   46.34       1   6       12      22      1781\n",
      "issue_count_non_gk     3560  78.019  342.545      1   4       13      39      9633\n",
      "\n",
      "--What proportion of issues in a project are GK issues (With less than the median total number of issues)?--\n",
      "                      Count    Mean    STD    Min    25%    Median    75%     Max\n",
      "------------------  -------  ------  -----  -----  -----  --------  -----  ------\n",
      "proportion_gk          3264   0.571  0.22   0.091    0.4       0.6   0.75   0.909\n",
      "issue_count_gk         3264   3.32   2.351  1        1         3     5     10\n",
      "issue_count_non_gk     3264   2.392  1.968  1        1         2     3     10\n",
      "\n"
     ]
    }
   ],
   "source": [
    "print('--What proportion of issues in a project are GK issues?--')\n",
    "tfns(\n",
    "    gk_to_non_gk_issue_counts,\n",
    "    ['proportion_gk', 'issue_count_gk', 'issue_count_non_gk'],\n",
    "    should_round=False\n",
    ")\n",
    "print('--What proportion of issues in a project are GK issues (With at least the median total number of issues)?--')\n",
    "tfns(\n",
    "    gk_to_non_gk_issue_counts[gk_to_non_gk_issue_counts['higher_than_median']],\n",
    "    ['proportion_gk', 'issue_count_gk', 'issue_count_non_gk'],\n",
    "    should_round=True\n",
    ")\n",
    "print('--What proportion of issues in a project are GK issues (With less than the median total number of issues)?--')\n",
    "tfns(\n",
    "    gk_to_non_gk_issue_counts[~gk_to_non_gk_issue_counts['higher_than_median']],\n",
    "    ['proportion_gk', 'issue_count_gk', 'issue_count_non_gk'],\n",
    "    should_round=True\n",
    ")"
   ]
  },
  {
   "cell_type": "code",
   "execution_count": 17,
   "metadata": {},
   "outputs": [
    {
     "name": "stdout",
     "output_type": "stream",
     "text": [
      "Saving figure projects_proportion_of_gk_issues\n"
     ]
    },
    {
     "data": {
      "image/png": "[encoded data removed]",
      "text/plain": [
       "<Figure size 432x216 with 1 Axes>"
      ]
     },
     "metadata": {
      "needs_background": "light"
     },
     "output_type": "display_data"
    }
   ],
   "source": [
    "\n",
    "fig, ax = plt.subplots(nrows=1, ncols=1, figsize=(6,3))\n",
    "sns.violinplot(\n",
    "    data=for_plot,\n",
    "    x='proportion_gk',\n",
    "    y='placeholder',\n",
    "    hue='higher_than_median',\n",
    "    split=True,\n",
    "    inner='quartile',\n",
    "    # palette=['1', '0.6'],\n",
    "    palette=['#d4ffb2', '#2db83d'],\n",
    "    scale='width',\n",
    ")\n",
    "ax.set_ylabel('')\n",
    "ax.set_xlabel('Proportion of project issues that are GKIRs')\n",
    "ax.legend(\n",
    "    title='',\n",
    ")\n",
    "L = plt.legend(\n",
    "    loc='upper center',\n",
    "    fontsize='small',\n",
    "    fancybox=True,\n",
    "    bbox_to_anchor=(0.5,1.2),\n",
    "    ncol=2\n",
    ")\n",
    "\n",
    "L.get_texts()[0].set_text('All Projects')\n",
    "L.get_texts()[1].set_text('Projects with high number of issues')\n",
    "\n",
    "save_fig('projects_proportion_of_gk_issues')\n",
    "plt.show()"
   ]
  },
  {
   "cell_type": "markdown",
   "metadata": {},
   "source": [
    "<h2>Observation 2) What proportion of in-range breaking build issue reports are closed (i.e., resolved)?</h2>\n",
    "<p>\n",
    "    Overall, in-range breaking build issue reports are closed 79.8% of the time (20.2% are never closed).\n",
    "    <br>\n",
    "    When comparing at the intra-project level, the median proportion of in-range breaking build issue reports closed by individual projects is 100% (median for other issues is 0.905). Projects are closing in-range breaking build issue reports at the same rate as other issues in the project (median ratio for gk to non-gk is 1.022).\n",
    "</p>"
   ]
  },
  {
   "cell_type": "code",
   "execution_count": 42,
   "metadata": {},
   "outputs": [
    {
     "name": "stdout",
     "output_type": "stream",
     "text": [
      "--All GK in-range breaking issue state proportions (not calculated per project)--\n"
     ]
    },
    {
     "data": {
      "text/html": [
       "<div>\n",
       "<style scoped>\n",
       "    .dataframe tbody tr th:only-of-type {\n",
       "        vertical-align: middle;\n",
       "    }\n",
       "\n",
       "    .dataframe tbody tr th {\n",
       "        vertical-align: top;\n",
       "    }\n",
       "\n",
       "    .dataframe thead th {\n",
       "        text-align: right;\n",
       "    }\n",
       "</style>\n",
       "<table border=\"1\" class=\"dataframe\">\n",
       "  <thead>\n",
       "    <tr style=\"text-align: right;\">\n",
       "      <th></th>\n",
       "      <th>state</th>\n",
       "      <th>proportion</th>\n",
       "    </tr>\n",
       "  </thead>\n",
       "  <tbody>\n",
       "    <tr>\n",
       "      <th>0</th>\n",
       "      <td>closed</td>\n",
       "      <td>0.822751</td>\n",
       "    </tr>\n",
       "    <tr>\n",
       "      <th>1</th>\n",
       "      <td>open</td>\n",
       "      <td>0.177249</td>\n",
       "    </tr>\n",
       "  </tbody>\n",
       "</table>\n",
       "</div>"
      ],
      "text/plain": [
       "    state  proportion\n",
       "0  closed    0.822751\n",
       "1    open    0.177249"
      ]
     },
     "execution_count": 42,
     "metadata": {},
     "output_type": "execute_result"
    }
   ],
   "source": [
    "proportions = (\n",
    "    gk_issues['state'].value_counts() / \n",
    "    gk_issues['state'].count()\n",
    ").to_frame(name='proportion')\\\n",
    "    .rename_axis('state')\\\n",
    "    .reset_index()\n",
    "print('--All GK in-range breaking issue state proportions (not calculated per project)--')\n",
    "proportions.head()"
   ]
  },
  {
   "cell_type": "code",
   "execution_count": 43,
   "metadata": {},
   "outputs": [
    {
     "name": "stdout",
     "output_type": "stream",
     "text": [
      "--All non-GKIRs state proportions (not calculated per project)--\n"
     ]
    },
    {
     "data": {
      "text/html": [
       "<div>\n",
       "<style scoped>\n",
       "    .dataframe tbody tr th:only-of-type {\n",
       "        vertical-align: middle;\n",
       "    }\n",
       "\n",
       "    .dataframe tbody tr th {\n",
       "        vertical-align: top;\n",
       "    }\n",
       "\n",
       "    .dataframe thead th {\n",
       "        text-align: right;\n",
       "    }\n",
       "</style>\n",
       "<table border=\"1\" class=\"dataframe\">\n",
       "  <thead>\n",
       "    <tr style=\"text-align: right;\">\n",
       "      <th></th>\n",
       "      <th>state</th>\n",
       "      <th>proportion</th>\n",
       "    </tr>\n",
       "  </thead>\n",
       "  <tbody>\n",
       "    <tr>\n",
       "      <th>0</th>\n",
       "      <td>closed</td>\n",
       "      <td>0.7984</td>\n",
       "    </tr>\n",
       "    <tr>\n",
       "      <th>1</th>\n",
       "      <td>open</td>\n",
       "      <td>0.2016</td>\n",
       "    </tr>\n",
       "  </tbody>\n",
       "</table>\n",
       "</div>"
      ],
      "text/plain": [
       "    state  proportion\n",
       "0  closed      0.7984\n",
       "1    open      0.2016"
      ]
     },
     "execution_count": 43,
     "metadata": {},
     "output_type": "execute_result"
    }
   ],
   "source": [
    "proportions = (\n",
    "    non_gk_issues['state'].value_counts() / \n",
    "    non_gk_issues['state'].count()\n",
    ").to_frame(name='proportion')\\\n",
    "    .rename_axis('state')\\\n",
    "    .reset_index()\n",
    "print('--All non-GKIRs state proportions (not calculated per project)--')\n",
    "proportions.head()"
   ]
  },
  {
   "cell_type": "code",
   "execution_count": 44,
   "metadata": {},
   "outputs": [
    {
     "name": "stdout",
     "output_type": "stream",
     "text": [
      "--Intra-project comparison for proportion of closed non-GKIRs & GKIRs--\n",
      "Proportion of closed issues      Count    Mean      STD    Min    25%    Median    75%     Max\n",
      "-----------------------------  -------  ------  -------  -----  -----  --------  -----  ------\n",
      "proportion_non_gk                 5271  17.377  115.443  0       0.25         1  4.5    4586.5\n",
      "proportion_gk                     5271   0.927    0.186  0.032   1            1  1         1\n",
      "ratio                             5271  15.007   98.41   0       0.2          1  3.556  4069\n",
      "\n",
      "\tMann-Whitney: statistic=13106745.0 pvalue=6.128037226553316e-08\n",
      "\tCliff'a Delta: delta=-0.05650671563684282 size=negligible\n",
      "    \n"
     ]
    }
   ],
   "source": [
    "non_gk_issues__state_proportions = (\n",
    "    (\n",
    "        non_gk_issues.groupby('repo_name', observed=True)['state'].value_counts() / \n",
    "        non_gk_issues.groupby('repo_name')['state'].count()\n",
    "    ).to_frame(name='proportion').reset_index()\n",
    ")\n",
    "gk_issues__state_proportions = (\n",
    "    (\n",
    "        gk_issues.groupby('repo_name')['state'].value_counts() / \n",
    "        gk_issues.groupby('repo_name')['state'].count()\n",
    "    ).to_frame(name='proportion').reset_index()\n",
    ")\n",
    "\n",
    "project_issue__state_proportions = non_gk_issues__state_proportions.merge(\n",
    "    gk_issues__state_proportions,\n",
    "    how='inner',\n",
    "    on=['repo_name', 'state'],\n",
    "    suffixes=['_non_gk', '_gk'],\n",
    ")\n",
    "project_issue__state_proportions['ratio'] = project_issue__state_proportions['proportion_gk'] / project_issue__state_proportions['proportion_non_gk']\n",
    "project_issue__state_proportions__closed = project_issue__state_proportions[project_issue__state_proportions['state'] == 'closed']\n",
    "\n",
    "print('--Intra-project comparison for proportion of closed non-GKIRs & GKIRs--')\n",
    "tfns(project_issue__state_proportions__closed, ['proportion_non_gk', 'proportion_gk', 'ratio'], title='Proportion of closed issues')\n",
    "plt.show()\n",
    "\n",
    "mannwhitneyu_cliffsdelta(\n",
    "    project_issue__state_proportions__closed['proportion_gk'],\n",
    "    project_issue__state_proportions__closed['proportion_non_gk']\n",
    ")"
   ]
  },
  {
   "cell_type": "markdown",
   "metadata": {},
   "source": [
    "<h4>Project ratio between proportion of closed non-gk issues and gk issues</h4>"
   ]
  },
  {
   "cell_type": "code",
   "execution_count": 45,
   "metadata": {},
   "outputs": [
    {
     "name": "stdout",
     "output_type": "stream",
     "text": [
      "--Intra-project comparison for proportion of closed non-GKIRs & GKIRs--\n",
      "Proportion of closed issues      Count    Mean      STD    Min    25%    Median    75%     Max\n",
      "-----------------------------  -------  ------  -------  -----  -----  --------  -----  ------\n",
      "proportion_non_gk                 3081  22.592  139.659  0      0.262     1          6  4586.5\n",
      "proportion_gk                     3081   0.904    0.211  0.032  0.955     1          1     1\n",
      "ratio                             3081  12.12    71.144  0      0.143     0.733      3  2123\n",
      "\n",
      "\tMann-Whitney: statistic=4162783.5 pvalue=2.0462616196416478e-18\n",
      "\tCliff'a Delta: delta=-0.12293774040535531 size=negligible\n",
      "    \n"
     ]
    }
   ],
   "source": [
    "projects_with_high_gk_counts = (\n",
    "    gk_to_non_gk_issue_counts[\n",
    "        gk_to_non_gk_issue_counts['issue_count_gk'] >= gk_to_non_gk_issue_counts['issue_count_gk'].median()\n",
    "    ]['repo_name'].copy().reset_index(drop=True)\n",
    ")\n",
    "\n",
    "project_issue_with_high_gk_counts__state_proportions = (\n",
    "    project_issue__state_proportions[\n",
    "        project_issue__state_proportions['repo_name'].isin(projects_with_high_gk_counts)\n",
    "    ]\n",
    ")\n",
    "project_issue__state_proportions__closed = (\n",
    "    project_issue_with_high_gk_counts__state_proportions[\n",
    "        project_issue_with_high_gk_counts__state_proportions['state'] == 'closed'\n",
    "    ]\n",
    ")\n",
    "\n",
    "print('--Intra-project comparison for proportion of closed non-GKIRs & GKIRs--')\n",
    "tfns(project_issue__state_proportions__closed, ['proportion_non_gk', 'proportion_gk', 'ratio'], title='Proportion of closed issues')\n",
    "plt.show()\n",
    "\n",
    "\n",
    "mannwhitneyu_cliffsdelta(\n",
    "    project_issue__state_proportions__closed['proportion_gk'],\n",
    "    project_issue__state_proportions__closed['proportion_non_gk']\n",
    ")\n"
   ]
  },
  {
   "cell_type": "markdown",
   "metadata": {},
   "source": [
    "<h2>Observation 3) How long does it take for in-range breaking build issue reports to be closed (i.e., resolved)?</h2>\n",
    "<ul>\n",
    "    <li>Overall, in-range breaking build issue reports are closed in a median of 4 days 11 hours.</li>\n",
    "    <li>When comparing at the intra-project level, the median time to close in-range breaking build issues is 13 days 21 hours, while the median time to close other issues is 6 days 6 hours.</li>\n",
    "    <li>At the project level, in-range breaking build issue reports stay open with a medain value of 1.575x as long as other issues.</li>\n",
    "</ul>"
   ]
  },
  {
   "cell_type": "code",
   "execution_count": 46,
   "metadata": {},
   "outputs": [
    {
     "name": "stderr",
     "output_type": "stream",
     "text": [
      "/home/local/SAIL/benjamin/anaconda3/lib/python3.8/site-packages/pandas/core/arraylike.py:358: RuntimeWarning: divide by zero encountered in log10\n",
      "  result = getattr(ufunc, method)(*inputs, **kwargs)\n"
     ]
    },
    {
     "name": "stdout",
     "output_type": "stream",
     "text": [
      "--Intra-project comparison for median time to close issues & median time to close GK in-range breaking build issues--\n",
      "Median time to close issue      Count  Mean              STD                Min              25%              Median            75%               Max\n",
      "----------------------------  -------  ----------------  -----------------  ---------------  ---------------  ----------------  ----------------  ------------------\n",
      "median_non_gk                    5271  46 days 07:45:47  112 days 23:59:12  0 days 00:00:03  1 days 03:24:05  6 days 13:47:16   30 days 01:35:40  1171 days 00:00:28\n",
      "median_gk                        5271  54 days 10:16:56  111 days 18:08:36  0 days 00:00:31  1 days 14:30:06  11 days 18:58:14  50 days 19:17:54  1130 days 03:37:18\n",
      "\n",
      "Saving figure intra_project_median_time_to_close\n"
     ]
    },
    {
     "data": {
      "image/png": "[encoded data removed]",
      "text/plain": [
       "<Figure size 360x216 with 1 Axes>"
      ]
     },
     "metadata": {
      "needs_background": "light"
     },
     "output_type": "display_data"
    },
    {
     "name": "stdout",
     "output_type": "stream",
     "text": [
      "\tMann-Whitney: statistic=12397413.5 pvalue=5.64576217794053e-22\n",
      "\tCliff'a Delta: delta=0.10756817343107357 size=negligible\n",
      "    \n"
     ]
    }
   ],
   "source": [
    "# Calculate mean and median intra-project time_to_close for Non-GK issues\n",
    "non_gk_issues__closed = non_gk_issues[non_gk_issues['state'] == 'closed'].copy()\n",
    "non_gk_issues__closed['time_to_close'] = (\n",
    "    (non_gk_issues__closed['closed_at'] - non_gk_issues__closed['created_at'])\n",
    "        .dt\n",
    "        .total_seconds()  # Have to convert to seconds to calculate mean and median\n",
    ")\n",
    "project__non_gk_issue__time_to_close = (\n",
    "    non_gk_issues__closed\n",
    "        .groupby('repo_name')['time_to_close']\n",
    "        .agg(['mean', 'median'])\n",
    "        .reset_index()\n",
    "        .dropna()\n",
    ")\n",
    "project__non_gk_issue__time_to_close['mean'] = pd.to_timedelta(\n",
    "    project__non_gk_issue__time_to_close['mean'],\n",
    "    unit='s'\n",
    ")\n",
    "project__non_gk_issue__time_to_close['mean_hours_log'] = np.log10(\n",
    "    project__non_gk_issue__time_to_close['mean'] / np.timedelta64(1, 'h')\n",
    ")\n",
    "project__non_gk_issue__time_to_close['median'] = pd.to_timedelta(\n",
    "    project__non_gk_issue__time_to_close['median'],\n",
    "    unit='s'\n",
    ")\n",
    "project__non_gk_issue__time_to_close['median_hours'] = (\n",
    "    project__non_gk_issue__time_to_close['median'] / np.timedelta64(1, 'h')\n",
    ")\n",
    "project__non_gk_issue__time_to_close['median_hours_log'] = np.log10(\n",
    "    project__non_gk_issue__time_to_close['median_hours']\n",
    ")\n",
    "\n",
    "# Calculate mean and median intra-project time_to_close for GK issues\n",
    "gk_issues__closed = gk_issues[gk_issues['state'] == 'closed'].copy()\n",
    "gk_issues__closed['time_to_close'] = (\n",
    "    gk_issues__closed['closed_at'] - gk_issues__closed['created_at']\n",
    ").dt.total_seconds()  # Have to convert to seconds to calculate mean and median\n",
    "project__gk_issue__time_to_close = (\n",
    "    gk_issues__closed\n",
    "        .groupby('repo_name')['time_to_close']\n",
    "        .agg(['mean', 'median'])\n",
    "        .reset_index()\n",
    "        .dropna()\n",
    ")\n",
    "project__gk_issue__time_to_close['mean'] = pd.to_timedelta(\n",
    "    project__gk_issue__time_to_close['mean'],\n",
    "    unit='s'\n",
    ")\n",
    "project__gk_issue__time_to_close['mean_hours_log'] = np.log10(\n",
    "    project__gk_issue__time_to_close['mean'] / np.timedelta64(1, 'h')\n",
    ")\n",
    "project__gk_issue__time_to_close['median'] = pd.to_timedelta(\n",
    "    project__gk_issue__time_to_close['median'],\n",
    "    unit='s'\n",
    ")\n",
    "project__gk_issue__time_to_close['median_hours'] = (\n",
    "    project__gk_issue__time_to_close['median'] / np.timedelta64(1, 'h')\n",
    ")\n",
    "project__gk_issue__time_to_close['median_hours_log'] = np.log10(\n",
    "    project__gk_issue__time_to_close['median_hours']\n",
    ")\n",
    "\n",
    "# Merge the two\n",
    "project__all_issues__time_to_close = project__non_gk_issue__time_to_close.merge(\n",
    "    project__gk_issue__time_to_close,\n",
    "    how='inner',\n",
    "    on=['repo_name'],\n",
    "    suffixes=['_non_gk', '_gk'],\n",
    ")\n",
    "\n",
    "# Melt for violine plot\n",
    "melted = pd.melt(\n",
    "    project__all_issues__time_to_close,\n",
    "    id_vars='repo_name',\n",
    "    value_vars=['median_hours_log_gk', 'median_hours_log_non_gk'],\n",
    "    var_name='issue_type',\n",
    "    value_name='median_time_to_close_hours_log',\n",
    ")\n",
    "\n",
    "melted['placeholder'] = ''\n",
    "fig, ax = plt.subplots(nrows=1, ncols=1, figsize=(5,3))\n",
    "sns.violinplot(\n",
    "    data=melted,\n",
    "    x='median_time_to_close_hours_log',\n",
    "    y='placeholder',\n",
    "    hue='issue_type',\n",
    "    split=True,\n",
    "    inner='quartile',\n",
    "    palette=['1', '0.6'],\n",
    "    ax=ax,\n",
    ")\n",
    "ax.set_ylabel('')\n",
    "ax.set_xlabel('Median time to close issue (hours)')\n",
    "ax.xaxis.set_major_formatter(log10_func_formatter)\n",
    "\n",
    "L = plt.legend(\n",
    "    loc='upper center',\n",
    "    fontsize='small',\n",
    "    fancybox=True,\n",
    "    bbox_to_anchor=(0.5,1.2),\n",
    "    ncol=2,\n",
    "    shadow=False,\n",
    ")\n",
    "L.get_texts()[0].set_text('In-Range Breaking Build Issues')\n",
    "L.get_texts()[1].set_text('Other Issues')\n",
    "print('--Intra-project comparison for median time to close issues & median time to close GK in-range breaking build issues--')\n",
    "tfns(\n",
    "    project__all_issues__time_to_close,\n",
    "    ['median_non_gk', 'median_gk'],\n",
    "    title='Median time to close issue'\n",
    ")\n",
    "save_fig('intra_project_median_time_to_close')\n",
    "plt.show()\n",
    "\n",
    "mannwhitneyu_cliffsdelta(\n",
    "    project__all_issues__time_to_close['median_hours_log_gk'],\n",
    "    project__all_issues__time_to_close['median_hours_log_non_gk']\n",
    ")"
   ]
  },
  {
   "cell_type": "markdown",
   "metadata": {},
   "source": [
    "<h3>What dependency types are GKIRs opened for?</h3>"
   ]
  },
  {
   "cell_type": "code",
   "execution_count": 35,
   "metadata": {},
   "outputs": [
    {
     "data": {
      "text/plain": [
       "devDependency         0.699488\n",
       "dependency            0.298634\n",
       "optionalDependency    0.001166\n",
       "peerDependency        0.000712\n",
       "Name: dependency_type, dtype: float64"
      ]
     },
     "execution_count": 35,
     "metadata": {},
     "output_type": "execute_result"
    }
   ],
   "source": [
    "gk_issues['dependency_type'].value_counts() / gk_issues['dependency_type'].count()"
   ]
  },
  {
   "cell_type": "code",
   "execution_count": 54,
   "metadata": {},
   "outputs": [
    {
     "name": "stderr",
     "output_type": "stream",
     "text": [
      "<ipython-input-54-8c6bd8f8e772>:45: UserWarning: FixedFormatter should only be used together with FixedLocator\n",
      "  ax.set_xticklabels(ax.get_xticks(), fontsize=12)\n"
     ]
    },
    {
     "name": "stdout",
     "output_type": "stream",
     "text": [
      "\tMann-Whitney: statistic=280485112.5 pvalue=1.5314886489480827e-12\n",
      "\tCliff'a Delta: delta=0.03839378533679006 size=negligible\n",
      "    \n"
     ]
    },
    {
     "data": {
      "image/png": "[encoded data removed]",
      "text/plain": [
       "<Figure size 576x216 with 1 Axes>"
      ]
     },
     "metadata": {
      "needs_background": "light"
     },
     "output_type": "display_data"
    }
   ],
   "source": [
    "gk_issues_simplified = (\n",
    "    gk_issues[\n",
    "        gk_issues['state'] == 'closed'\n",
    "    ][\n",
    "        ['created_at', 'closed_at', 'dependency_type']\n",
    "    ].dropna()\n",
    "    .copy()\n",
    ")\n",
    "gk_issues_simplified['time_to_close'] = (\n",
    "    gk_issues_simplified['closed_at'] - gk_issues_simplified['created_at']\n",
    ")\n",
    "gk_issues_simplified['time_to_close_hours'] = (\n",
    "    gk_issues_simplified['time_to_close'] / np.timedelta64(1, 'h')\n",
    ")\n",
    "gk_issues_simplified['time_to_close_hours_log'] = (\n",
    "    np.log10(gk_issues_simplified['time_to_close_hours'])\n",
    ")\n",
    "types_to_analyze = ['devDependency', 'dependency']\n",
    "gk_issues_simplified = gk_issues_simplified[gk_issues_simplified['dependency_type'].isin(types_to_analyze)]\n",
    "gk_issues_simplified.dependency_type = (\n",
    "    gk_issues_simplified\n",
    "        .dependency_type\n",
    "        .cat\n",
    "        .remove_categories(['optionalDependency', 'peerDependency'])\n",
    ")\n",
    "gk_issues_simplified['placeholder'] = ''\n",
    "\n",
    "fig, ax = plt.subplots(nrows=1, ncols=1, figsize=(8,3))\n",
    "sns.violinplot(\n",
    "    data=gk_issues_simplified,\n",
    "    x='time_to_close_hours_log',\n",
    "    y='placeholder',\n",
    "    hue='dependency_type',\n",
    "#     order=['large', 'medium', 'small'],\n",
    "    split=True,\n",
    "    inner='quartile',\n",
    "    palette=['1', '0.6'],\n",
    "    scale='width',\n",
    "    ax=ax,\n",
    ")\n",
    "\n",
    "ax.set_ylabel('', fontsize=12)\n",
    "\n",
    "ax.set_xlabel('Time to close GKIR (hours)', fontsize=12)\n",
    "ax.set_xticklabels(ax.get_xticks(), fontsize=12)\n",
    "ax.xaxis.set_major_formatter(log10_func_formatter)\n",
    "\n",
    "L = plt.legend(\n",
    "    loc='upper center',\n",
    "    fancybox=True,\n",
    "    bbox_to_anchor=(0.5,1.18),\n",
    "    ncol=2,\n",
    "    shadow=False,\n",
    ")\n",
    "L.get_texts()[0].set_text('Runtime Dependency')\n",
    "L.get_texts()[1].set_text('Development Dependency')\n",
    "\n",
    "\n",
    "mannwhitneyu_cliffsdelta(\n",
    "    gk_issues_simplified[gk_issues_simplified['dependency_type'] == 'devDependency']['time_to_close_hours_log'],\n",
    "    gk_issues_simplified[gk_issues_simplified['dependency_type'] == 'dependency']['time_to_close_hours_log']\n",
    ")\n",
    "\n",
    "plt.show()\n"
   ]
  }
 ],
 "metadata": {
  "kernelspec": {
   "display_name": "Python 3",
   "language": "python",
   "name": "python3"
  },
  "language_info": {
   "codemirror_mode": {
    "name": "ipython",
    "version": 3
   },
   "file_extension": ".py",
   "mimetype": "text/x-python",
   "name": "python",
   "nbconvert_exporter": "python",
   "pygments_lexer": "ipython3",
   "version": "3.8.8"
  }
 },
 "nbformat": 4,
 "nbformat_minor": 4
}
