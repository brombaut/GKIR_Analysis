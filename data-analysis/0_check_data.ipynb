{
 "cells": [
  {
   "cell_type": "code",
   "execution_count": null,
   "id": "c601477f-90e4-4231-ae49-00575cddf9c3",
   "metadata": {},
   "outputs": [],
   "source": [
    "%run _utils.ipynb"
   ]
  },
  {
   "cell_type": "code",
   "execution_count": null,
   "id": "754f5c49-667c-46d2-a09e-16661fd65c93",
   "metadata": {},
   "outputs": [],
   "source": [
    "# Built from the two cells below\n",
    "gk_issues = load_gk_issues_for_analysis()\n",
    "non_gk_issues = load_non_gk_issues_for_analysis()"
   ]
  },
  {
   "cell_type": "code",
   "execution_count": null,
   "id": "f5c72549-2aba-454b-ac11-a200a7e8dbc2",
   "metadata": {},
   "outputs": [],
   "source": [
    "all_issues = load_all_issues()"
   ]
  },
  {
   "cell_type": "code",
   "execution_count": null,
   "id": "5adc4d67-d336-4924-b69f-4346d503b2b0",
   "metadata": {},
   "outputs": [],
   "source": [
    "all_issues.info()"
   ]
  },
  {
   "cell_type": "code",
   "execution_count": null,
   "id": "cb50b2c2-5b57-4d51-bcc7-396d89cf78e0",
   "metadata": {},
   "outputs": [],
   "source": [
    "temp = all_issues[~all_issues['is_pull_request']]"
   ]
  },
  {
   "cell_type": "code",
   "execution_count": null,
   "id": "b3bdd06e-4b4f-4b2e-9062-e236fc3ea570",
   "metadata": {},
   "outputs": [],
   "source": [
    "temp2 = temp[temp['user_login'] == 'greenkeeper[bot]'].copy().reset_index(drop=True)\n",
    "temp2.info()"
   ]
  },
  {
   "cell_type": "code",
   "execution_count": null,
   "id": "7797adb0-459f-4792-80b3-28da3d074057",
   "metadata": {},
   "outputs": [],
   "source": [
    "\n",
    "pattern = r'An in-range update of .* is breaking the build'\n",
    "\n",
    "matched = temp2[temp2['title'].str.contains(pattern)]\n",
    "not_matched = temp2[~temp2['title'].str.contains(pattern)]\n",
    "not_matched = not_matched[~not_matched['title'].str.contains('Action required: Greenkeeper could not be activated')]\n",
    "not_matched = not_matched[~not_matched['title'].str.contains('Version 10 of node.js has been released', regex=False)]\n",
    "not_matched = not_matched[~not_matched['title'].str.contains('Payment required', regex=False)]\n",
    "not_matched = not_matched[~not_matched['title'].str.contains('Invalid Greenkeeper configuration file', regex=False)]\n",
    "not_matched = not_matched[~not_matched['title'].str.contains('Greenkeeper is no longer available for new installations', regex=False)]\n",
    "not_matched = not_matched[~not_matched['title'].str.contains('Version 4 of node.js has been deprecated', regex=False)]\n",
    "not_matched = not_matched[~not_matched['title'].str.contains('Implement Greenkeeper', regex=False)]\n",
    "not_matched = not_matched[~not_matched['title'].str.contains('ci(pkg): enable Greenkeeper', regex=False)]\n",
    "not_matched = not_matched[~not_matched['title'].str.contains('Drop support for node 4 / npm 2', regex=False)]\n",
    "\n",
    "not_matched.info()"
   ]
  },
  {
   "cell_type": "code",
   "execution_count": null,
   "id": "a74ff8c3-761d-4240-81fd-d1d7315cf57d",
   "metadata": {},
   "outputs": [],
   "source": [
    "not_matched['title'].value_counts()"
   ]
  },
  {
   "cell_type": "code",
   "execution_count": null,
   "id": "d60fc7fa-bedb-40bf-9bed-bcb835dadc31",
   "metadata": {},
   "outputs": [],
   "source": [
    "not_matched['repo_name'].value_counts().head(27)"
   ]
  },
  {
   "cell_type": "code",
   "execution_count": null,
   "id": "e9ae3a89-31a4-4c34-861a-91c4c78a7a5c",
   "metadata": {},
   "outputs": [],
   "source": []
  },
  {
   "cell_type": "code",
   "execution_count": null,
   "id": "14cf8af9-2008-4df2-9ee7-61c89e6ed280",
   "metadata": {},
   "outputs": [],
   "source": [
    "# issues = load_issues()\n",
    "# all_issues = load_all_issues()\n",
    "# counts = all_issues.groupby('repo_name')['id'].count()\n",
    "# print(f\"Count={len(all_issues)} (Project Count={len(counts)}) Median={counts.median()} Mean={counts.mean()}\")\n",
    "# for_plot = counts.to_frame(name='num_of_issues')\n",
    "# for_plot['placeholder'] = ''\n",
    "# for_plot['num_of_issues_log'] = np.log10(for_plot['num_of_issues'])\n",
    "# fig, ax = plt.subplots(nrows=1, ncols=1, figsize=(6,2))\n",
    "# ax = sns.violinplot(\n",
    "#     data=for_plot,\n",
    "#     x='num_of_issues_log',\n",
    "#     y='placeholder',\n",
    "#     inner='quartile',\n",
    "#     palette=['0.9'],\n",
    "#     logscale=True\n",
    "# )\n",
    "# ax.set_ylabel('')\n",
    "# ax.xaxis.set_major_formatter(log10_func_formatter)\n",
    "# plt.show()"
   ]
  },
  {
   "cell_type": "code",
   "execution_count": null,
   "id": "cce51910-4cea-4f80-b02b-8810215c95a0",
   "metadata": {},
   "outputs": [],
   "source": [
    "# def filter_issues_for_analyses(all_issues, gk_issues):\n",
    "#     # Make copies\n",
    "#     gk_issues_for_analysis = gk_issues.copy()\n",
    "#     non_gk_issues_for_analysis = all_issues.copy()\n",
    "#     # Remove pull requests from all issues\n",
    "#     non_gk_issues_for_analysis = non_gk_issues_for_analysis[\n",
    "#         ~non_gk_issues_for_analysis['is_pull_request']\n",
    "#     ]\n",
    "#     # Filter out any issues that are GK in-range breakin gbuild issues\n",
    "#     non_gk_issues_for_analysis = non_gk_issues_for_analysis[\n",
    "#         ~non_gk_issues_for_analysis['id'].isin(gk_issues_for_analysis['id'])\n",
    "#     ]\n",
    "#     # Only analyze GK issues for projects we have all issues for\n",
    "#     gk_issues_for_analysis = gk_issues_for_analysis[\n",
    "#         gk_issues_for_analysis['repo_name'].isin(non_gk_issues_for_analysis['repo_name'])\n",
    "#     ]\n",
    "#     # Copy the html_url and body attributes over from all_issues to their respective rows on gk_issues\n",
    "#     gk_issues_for_analysis = gk_issues_for_analysis.merge(\n",
    "#         all_issues[['id', 'html_url', 'body']],\n",
    "#         how='left',\n",
    "#         on='id',\n",
    "#     )\n",
    "#     # Only select non-GKIRs that were created after the first GKIR was created in the project\n",
    "#     first_gkir_created_at = (\n",
    "#         gk_issues\n",
    "#             .sort_values(['repo_name', 'created_at'], ascending=True)\n",
    "#             .groupby('repo_name')['created_at']\n",
    "#             .first()\n",
    "#             .reset_index()\n",
    "#     )\n",
    "#     def foo(df, first_gkirs):\n",
    "#         if len(df) == 0:\n",
    "#             return pd.DataFrame()\n",
    "#         try:\n",
    "#             first_gkir = (\n",
    "#                 first_gkirs[\n",
    "#                     first_gkirs['repo_name'] == df.iloc[0]['repo_name']\n",
    "#                 ]['created_at']\n",
    "#                 .to_numpy()[0]\n",
    "#             )\n",
    "#         except Exception:\n",
    "#             return pd.DataFrame()\n",
    "#         return df[df['created_at'] >= first_gkir]\n",
    "#     non_gk_issues_for_analysis = (\n",
    "#         non_gk_issues_for_analysis\n",
    "#             .groupby('repo_name')\n",
    "#             .apply(lambda df: foo(df, first_gkir_created_at))\n",
    "#             .reset_index(drop=True)\n",
    "#     )\n",
    "#     return non_gk_issues_for_analysis, gk_issues_for_analysis\n",
    "    \n",
    "\n",
    "# non_gk_issues, gk_issues = filter_issues_for_analyses(all_issues, issues)\n",
    "\n",
    "# import re\n",
    "# def extract_dependency_type(row):\n",
    "#     try:\n",
    "#         prior_cats = ['devDependency', 'dependency', 'optionalDependency', 'peerDependency']\n",
    "#         if row['dependency_type'] in prior_cats:\n",
    "#             return row['dependency_type']\n",
    "\n",
    "#         body = row['body'].replace(' ', '')\n",
    "#         pattern = '<thalign=left>\\\\nType\\\\n<\\/td>\\\\n<td>\\\\n(.*)\\\\n<\\/td>'\n",
    "#         match = re.search(pattern, body)\n",
    "#         if match is None:\n",
    "#             return pd.NA\n",
    "#         split_lines = match[0].splitlines()\n",
    "#         if 'devDependency' in split_lines:\n",
    "#             return 'devDependency'\n",
    "#         elif 'dependency' in split_lines:\n",
    "#             return 'dependency'\n",
    "#         elif 'peerDependency' in split_lines:\n",
    "#             return 'peerDependency'\n",
    "#         else:\n",
    "#             return pd.NA\n",
    "#     except Exception:\n",
    "#         return pd.NA\n",
    "\n",
    "# gk_issues['dependency_type'] = gk_issues.apply(extract_dependency_type, axis=1)\n",
    "\n",
    "# gk_issues.to_csv(f'{PROJECT_ROOT}/{CSV_FOLDER}/gk_issues_for_analysis.csv', index=False)\n",
    "# non_gk_issues.to_csv(f'{PROJECT_ROOT}/{CSV_FOLDER}/non_gk_issues_for_analysis.csv', index=False)\n",
    "\n",
    "## NOTE: These can be loaded using load_gk_issues_for_analysis() and load_non_gk_issues_for_analysis()"
   ]
  },
  {
   "cell_type": "markdown",
   "id": "c0561c15-085c-4391-91a6-27e5c3f38315",
   "metadata": {
    "tags": []
   },
   "source": [
    "<h3>What data are we missing?</h3>"
   ]
  },
  {
   "cell_type": "markdown",
   "id": "57be352b-88d4-48be-8ee7-4e26559a68a1",
   "metadata": {},
   "source": [
    "How many unique projects?"
   ]
  },
  {
   "cell_type": "code",
   "execution_count": null,
   "id": "3f70a145-4a39-494b-8a10-2e7dd7071f49",
   "metadata": {},
   "outputs": [],
   "source": [
    "gk_issues['repo_name'].nunique()"
   ]
  },
  {
   "cell_type": "code",
   "execution_count": null,
   "id": "468a88e4-6964-45fa-ad1b-81408206940a",
   "metadata": {},
   "outputs": [],
   "source": [
    "gkir_repos = gk_issues[['repo_name']].drop_duplicates().reset_index(drop=True)\n",
    "# stargazers_count['stargazers_count'] = ''\n",
    "gkir_repos.to_csv(f'../csv/gkir_repos.csv', index=False)"
   ]
  },
  {
   "cell_type": "code",
   "execution_count": null,
   "id": "ab932386-35f6-4faa-86c6-0d08b1611107",
   "metadata": {},
   "outputs": [],
   "source": [
    "gkir_repos_info = pd.read_csv(f'../csv/gkir_repos_info.csv')\n",
    "gkir_repos_info.describe()"
   ]
  },
  {
   "cell_type": "markdown",
   "id": "fa610ebe-d2f0-404c-88e5-fb4848487089",
   "metadata": {},
   "source": [
    "How many unique issue ids?"
   ]
  },
  {
   "cell_type": "code",
   "execution_count": null,
   "id": "d630cfbb-9b98-4a17-889d-a9c4072a97e4",
   "metadata": {},
   "outputs": [],
   "source": [
    "gk_issues['id'].nunique()"
   ]
  },
  {
   "cell_type": "code",
   "execution_count": null,
   "id": "857781ff-3821-445e-ad43-59c298c01cd8",
   "metadata": {},
   "outputs": [],
   "source": [
    "non_gk_issues['id'].nunique()"
   ]
  },
  {
   "cell_type": "code",
   "execution_count": null,
   "id": "b8d03ed9-c53a-4105-a8cb-a4f305fd2a70",
   "metadata": {},
   "outputs": [],
   "source": [
    "gk_issues['created_at'].hist()"
   ]
  },
  {
   "cell_type": "markdown",
   "id": "16382936-15d8-4e7a-8d09-14c26c9aabbd",
   "metadata": {},
   "source": [
    "What proportion are missing dependency name?"
   ]
  },
  {
   "cell_type": "code",
   "execution_count": null,
   "id": "be3e4daa-c8f0-4533-b6f5-ba5e80ec9edd",
   "metadata": {},
   "outputs": [],
   "source": [
    "missing_dependency_name = gk_issues[pd.isna(gk_issues['dependency_name'])]\n",
    "len(missing_dependency_name) / len(gk_issues)"
   ]
  },
  {
   "cell_type": "code",
   "execution_count": null,
   "id": "84f7aa13-1d33-4079-8332-3fee82cc0b33",
   "metadata": {},
   "outputs": [],
   "source": [
    "missing_dependency_name['created_at'].hist()"
   ]
  },
  {
   "cell_type": "markdown",
   "id": "e04f6b9f-939d-4710-8b4b-7018d538df43",
   "metadata": {},
   "source": [
    "What proportion are missing dependency name?"
   ]
  },
  {
   "cell_type": "code",
   "execution_count": null,
   "id": "c1d6be7f-116e-4ed6-b742-54edfc059105",
   "metadata": {},
   "outputs": [],
   "source": [
    "missing_dependency_next_version = gk_issues[pd.isna(gk_issues['dependency_next_version'])]\n",
    "len(missing_dependency_next_version) / len(gk_issues)"
   ]
  },
  {
   "cell_type": "code",
   "execution_count": null,
   "id": "331c8f96-ad6c-481a-8034-c6c7844b24b3",
   "metadata": {},
   "outputs": [],
   "source": [
    "missing_dependency_next_version['created_at'].hist()"
   ]
  },
  {
   "cell_type": "markdown",
   "id": "5f6ce6ad-2ee1-435b-925b-96a468d4501b",
   "metadata": {},
   "source": [
    "What proportion are missing dependency type?"
   ]
  },
  {
   "cell_type": "code",
   "execution_count": null,
   "id": "6d26c413-179c-4d44-97b8-653ec39cd818",
   "metadata": {},
   "outputs": [],
   "source": [
    "missing_dependency_type = gk_issues[pd.isna(gk_issues['dependency_type'])]\n",
    "len(missing_dependency_type) / len(gk_issues)"
   ]
  },
  {
   "cell_type": "code",
   "execution_count": null,
   "id": "27fec98a-450d-4e0b-86e2-dde646a41a30",
   "metadata": {},
   "outputs": [],
   "source": [
    "missing_dependency_type['created_at'].hist()"
   ]
  },
  {
   "cell_type": "code",
   "execution_count": null,
   "id": "ca7d35f7-63cf-4f2f-a2a8-0174e9376628",
   "metadata": {},
   "outputs": [],
   "source": [
    "missing_dependency_type['url'].sample()"
   ]
  }
 ],
 "metadata": {
  "kernelspec": {
   "display_name": "Python 3 (ipykernel)",
   "language": "python",
   "name": "python3"
  },
  "language_info": {
   "codemirror_mode": {
    "name": "ipython",
    "version": 3
   },
   "file_extension": ".py",
   "mimetype": "text/x-python",
   "name": "python",
   "nbconvert_exporter": "python",
   "pygments_lexer": "ipython3",
   "version": "3.9.7"
  }
 },
 "nbformat": 4,
 "nbformat_minor": 5
}
