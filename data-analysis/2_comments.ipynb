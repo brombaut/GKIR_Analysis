{
 "cells": [
  {
   "cell_type": "code",
   "execution_count": 3,
   "metadata": {},
   "outputs": [],
   "source": [
    "%run _utils.ipynb"
   ]
  },
  {
   "cell_type": "code",
   "execution_count": 6,
   "metadata": {},
   "outputs": [],
   "source": [
    "# Built in issues notebook\n",
    "gk_issues = load_gk_issues_for_analysis()\n",
    "non_gk_issues = load_non_gk_issues_for_analysis()"
   ]
  },
  {
   "cell_type": "code",
   "execution_count": 10,
   "metadata": {},
   "outputs": [],
   "source": [
    "issues = load_issues()\n",
    "comments = load_comments()\n",
    "non_gkirbbi_comments = load_non_gkirbbi_comments()\n",
    "non_gkirbbi_comments = non_gkirbbi_comments[non_gkirbbi_comments['issue_id'].isin(non_gk_issues['id'])]"
   ]
  },
  {
   "cell_type": "code",
   "execution_count": 11,
   "metadata": {},
   "outputs": [
    {
     "data": {
      "text/plain": [
       "Bot     354901\n",
       "User     10724\n",
       "Name: comment_user_type, dtype: int64"
      ]
     },
     "execution_count": 11,
     "metadata": {},
     "output_type": "execute_result"
    }
   ],
   "source": [
    "comments['comment_user_type'].value_counts()"
   ]
  },
  {
   "cell_type": "markdown",
   "metadata": {},
   "source": [
    "<h3><b><i>How many comments do in-range breaking build issue reports have in total, from GK and from actual developers?</i></b></h3>"
   ]
  },
  {
   "cell_type": "code",
   "execution_count": 12,
   "metadata": {},
   "outputs": [
    {
     "name": "stdout",
     "output_type": "stream",
     "text": [
      "  comment_user_login  proportion\n",
      "0   greenkeeper[bot]    0.968741\n",
      "1             ljharb    0.001636\n",
      "2         ryanhefner    0.001037\n",
      "3               gr2m    0.000714\n",
      "4          derhuerst    0.000542\n"
     ]
    }
   ],
   "source": [
    "proportions = (\n",
    "    comments['comment_user_login'].value_counts() / \n",
    "    comments['comment_user_login'].count()\n",
    ").to_frame(name='proportion')\\\n",
    "    .rename_axis('comment_user_login')\\\n",
    "    .reset_index()\n",
    "print(proportions.head())"
   ]
  },
  {
   "cell_type": "markdown",
   "metadata": {},
   "source": [
    "<h3>User Comments Analysis</h3>"
   ]
  },
  {
   "cell_type": "code",
   "execution_count": 13,
   "metadata": {},
   "outputs": [
    {
     "name": "stdout",
     "output_type": "stream",
     "text": [
      "9.3% of in-range issues have a comment from a user.\n"
     ]
    }
   ],
   "source": [
    "users_comments = (\n",
    "    comments[\n",
    "        comments['comment_user_type'] == 'User'\n",
    "    ].copy()\n",
    "    .reset_index(drop=True)\n",
    ")\n",
    "issues_with_user_comment = (\n",
    "    gk_issues[gk_issues['id']\n",
    "        .isin(users_comments['comment_issue_id'])]\n",
    "        .copy()\n",
    "        .reset_index(drop=True)\n",
    ")\n",
    "percent_of_issues_with_user_comment = f'{calculate_percent(len(issues_with_user_comment), len(gk_issues))}%'\n",
    "print(f'{percent_of_issues_with_user_comment} of in-range issues have a comment from a user.')"
   ]
  },
  {
   "cell_type": "code",
   "execution_count": 14,
   "metadata": {},
   "outputs": [
    {
     "name": "stdout",
     "output_type": "stream",
     "text": [
      "74.61% of non-GKIRs have a comment from a user.\n"
     ]
    }
   ],
   "source": [
    "ngkir_user_comments = (\n",
    "    non_gkirbbi_comments[\n",
    "        non_gkirbbi_comments['user_type'] == 'User'\n",
    "    ].copy()\n",
    "    .reset_index(drop=True)\n",
    ")\n",
    "\n",
    "ngkirs_w_user_comment = (\n",
    "    non_gk_issues[\n",
    "        non_gk_issues['id'].isin(ngkir_user_comments['issue_id'])\n",
    "    ]\n",
    "    .copy()\n",
    "    .reset_index(drop=True)\n",
    ")\n",
    "\n",
    "percent_of_ngkirs_with_user_comment = f'{calculate_percent(len(ngkirs_w_user_comment), len(non_gk_issues))}%'\n",
    "print(f'{percent_of_ngkirs_with_user_comment} of non-GKIRs have a comment from a user.')"
   ]
  },
  {
   "cell_type": "code",
   "execution_count": null,
   "metadata": {},
   "outputs": [],
   "source": []
  },
  {
   "cell_type": "markdown",
   "metadata": {},
   "source": [
    "<h3><b>Intra-project comparison of how many IRs have a user comment</b></h3>"
   ]
  },
  {
   "cell_type": "code",
   "execution_count": 9,
   "metadata": {},
   "outputs": [],
   "source": [
    "# Writing out CSV for creating non_gkirbbi_comments\n",
    "# for_csv = non_gk_issues[['id', 'repo_name', 'comments_url']]\n",
    "# for_csv.to_csv(f'../csv/issues_to_collect_comments_for.csv', index=False)"
   ]
  },
  {
   "cell_type": "code",
   "execution_count": 10,
   "metadata": {},
   "outputs": [
    {
     "name": "stdout",
     "output_type": "stream",
     "text": [
      "Count of unique projects: 6898\n"
     ]
    }
   ],
   "source": [
    "# non_gkirbbi_comments = load_non_gkirbbi_comments()\n",
    "# print(f'Count of unique projects: {non_gkirbbi_comments[\"repo_name\"].nunique()}')"
   ]
  },
  {
   "cell_type": "code",
   "execution_count": 11,
   "metadata": {},
   "outputs": [],
   "source": [
    "# Calculate the proportion of non-GKIRs that have a comment from a developer for each project\n",
    "non_gk_issues_simp = non_gk_issues[['id', 'repo_name']].copy()\n",
    "ngkir_w_comments = non_gk_issues_simp.merge(\n",
    "    non_gkirbbi_comments[['issue_id', 'id', 'user_type', 'user_login']],\n",
    "    how='left',\n",
    "    left_on='id',\n",
    "    right_on='issue_id',\n",
    "    suffixes=['_issue', '_comment']\n",
    ")\n",
    "\n",
    "def get_prop_of_ngkirs_with_user_comments(df):\n",
    "    total_issues = df['id_issue'].nunique()\n",
    "    total_issues_w_user_comments = df[df['user_type'] == 'User']['id_issue'].nunique()\n",
    "    return pd.Series([total_issues, total_issues_w_user_comments])\n",
    "\n",
    "ngkir_repo_issues_with_user_comments = (\n",
    "    ngkir_w_comments\n",
    "        .groupby('repo_name')\n",
    "        .apply(get_prop_of_ngkirs_with_user_comments)\n",
    ")\n",
    "ngkir_repo_issues_with_user_comments.columns = ['issue_count', 'issue_w_user_comment_count']\n",
    "ngkir_repo_issues_with_user_comments['ratio'] = (\n",
    "    ngkir_repo_issues_with_user_comments['issue_w_user_comment_count'] / ngkir_repo_issues_with_user_comments['issue_count']\n",
    ")\n",
    "ngkir_repo_issues_with_user_comments = ngkir_repo_issues_with_user_comments.dropna()\n",
    "ngkir_repo_issues_with_user_comments = ngkir_repo_issues_with_user_comments.reset_index()"
   ]
  },
  {
   "cell_type": "code",
   "execution_count": 12,
   "metadata": {},
   "outputs": [],
   "source": [
    "# Calculate the proportion of GKIRs that have a comment from a developer for each project\n",
    "gk_issues_simp = gk_issues[['id', 'repo_name']].copy()\n",
    "gkir_w_comments = gk_issues_simp.merge(\n",
    "    comments[['comment_issue_id', 'comment_id', 'comment_user_type', 'comment_user_login']],\n",
    "    how='left',\n",
    "    left_on='id',\n",
    "    right_on='comment_issue_id',\n",
    "    suffixes=['_issue', '_comment']\n",
    ")\n",
    "\n",
    "def get_prop_of_gkirs_with_user_comments(df):\n",
    "    total_issues = df['id'].nunique()\n",
    "    total_issues_w_user_comments = df[df['comment_user_type'] == 'User']['id'].nunique()\n",
    "    return pd.Series([total_issues, total_issues_w_user_comments])\n",
    "\n",
    "gkir_repo_issues_with_user_comments = (\n",
    "    gkir_w_comments\n",
    "        .groupby('repo_name')\n",
    "        .apply(get_prop_of_gkirs_with_user_comments)\n",
    ")\n",
    "gkir_repo_issues_with_user_comments.columns = ['issue_count', 'issue_w_user_comment_count']\n",
    "gkir_repo_issues_with_user_comments['ratio'] = (\n",
    "    gkir_repo_issues_with_user_comments['issue_w_user_comment_count'] / gkir_repo_issues_with_user_comments['issue_count']\n",
    ")\n",
    "gkir_repo_issues_with_user_comments = gkir_repo_issues_with_user_comments.dropna()\n",
    "gkir_repo_issues_with_user_comments = gkir_repo_issues_with_user_comments.reset_index()"
   ]
  },
  {
   "cell_type": "code",
   "execution_count": 13,
   "metadata": {},
   "outputs": [
    {
     "data": {
      "text/plain": [
       "0.09722222222222222"
      ]
     },
     "execution_count": 13,
     "metadata": {},
     "output_type": "execute_result"
    }
   ],
   "source": [
    "# Merge the two DFs \n",
    "merged = ngkir_repo_issues_with_user_comments.merge(\n",
    "    gkir_repo_issues_with_user_comments,\n",
    "    how='inner',\n",
    "    on='repo_name',\n",
    "    suffixes=['_ngkir', '_gkir'],\n",
    ")\n",
    "\n",
    "\n",
    "def calc_ratio(row):\n",
    "    if row['ratio_ngkir'] == 0:\n",
    "        if row['ratio_gkir'] == 0:\n",
    "            return 1\n",
    "        else:\n",
    "            return row['ratio_gkir']\n",
    "    else:\n",
    "        return row['ratio_gkir'] / row['ratio_ngkir']\n",
    "\n",
    "merged['gk_to_ngk'] = merged.apply(calc_ratio, axis=1)\n",
    "merged['gk_to_ngk'].median()"
   ]
  },
  {
   "cell_type": "code",
   "execution_count": null,
   "metadata": {},
   "outputs": [],
   "source": []
  },
  {
   "cell_type": "code",
   "execution_count": null,
   "metadata": {},
   "outputs": [],
   "source": []
  },
  {
   "cell_type": "code",
   "execution_count": 14,
   "metadata": {},
   "outputs": [
    {
     "name": "stdout",
     "output_type": "stream",
     "text": [
      "Count of unique projects: 6898\n"
     ]
    },
    {
     "ename": "NameError",
     "evalue": "name 'gk_issues_with_first_user_comments' is not defined",
     "output_type": "error",
     "traceback": [
      "\u001b[0;31m---------------------------------------------------------------------------\u001b[0m",
      "\u001b[0;31mNameError\u001b[0m                                 Traceback (most recent call last)",
      "\u001b[0;32m<ipython-input-14-f654b77b5ef4>\u001b[0m in \u001b[0;36m<module>\u001b[0;34m\u001b[0m\n\u001b[1;32m      5\u001b[0m non_gkirbbi_user_comments = non_gkirbbi_comments.loc[\n\u001b[1;32m      6\u001b[0m     \u001b[0;34m(\u001b[0m\u001b[0mnon_gkirbbi_comments\u001b[0m\u001b[0;34m[\u001b[0m\u001b[0;34m'user_type'\u001b[0m\u001b[0;34m]\u001b[0m \u001b[0;34m==\u001b[0m \u001b[0;34m'User'\u001b[0m\u001b[0;34m)\u001b[0m \u001b[0;34m&\u001b[0m\u001b[0;34m\u001b[0m\u001b[0;34m\u001b[0m\u001b[0m\n\u001b[0;32m----> 7\u001b[0;31m     \u001b[0;34m(\u001b[0m\u001b[0;34m~\u001b[0m\u001b[0mnon_gkirbbi_comments\u001b[0m\u001b[0;34m[\u001b[0m\u001b[0;34m'issue_id'\u001b[0m\u001b[0;34m]\u001b[0m\u001b[0;34m.\u001b[0m\u001b[0misin\u001b[0m\u001b[0;34m(\u001b[0m\u001b[0mgk_issues_with_first_user_comments\u001b[0m\u001b[0;34m[\u001b[0m\u001b[0;34m'id'\u001b[0m\u001b[0;34m]\u001b[0m\u001b[0;34m)\u001b[0m\u001b[0;34m)\u001b[0m\u001b[0;34m\u001b[0m\u001b[0;34m\u001b[0m\u001b[0m\n\u001b[0m\u001b[1;32m      8\u001b[0m ]\n\u001b[1;32m      9\u001b[0m non_gkirbbi_first_user_comments = (\n",
      "\u001b[0;31mNameError\u001b[0m: name 'gk_issues_with_first_user_comments' is not defined"
     ]
    }
   ],
   "source": [
    "# non_gkirbbi_comments = load_non_gkirbbi_comments()\n",
    "# print(f'Count of unique projects: {non_gkirbbi_comments[\"repo_name\"].nunique()}')\n",
    "\n",
    "# Determine time until first user comment on non-gk issues\n",
    "non_gkirbbi_user_comments = non_gkirbbi_comments.loc[\n",
    "    (non_gkirbbi_comments['user_type'] == 'User') &\n",
    "    (~non_gkirbbi_comments['issue_id'].isin(gk_issues_with_first_user_comments['id']))\n",
    "]\n",
    "non_gkirbbi_first_user_comments = (\n",
    "    non_gkirbbi_user_comments\n",
    "        .groupby('issue_id')['created_at']\n",
    "        .min()\n",
    "        .to_frame()\n",
    "        .reset_index()   \n",
    ")\n",
    "non_gkirbbi_with_first_comment = non_gkirbbi_first_user_comments.merge(\n",
    "    non_gk_issues[['id', 'repo_name', 'created_at']],\n",
    "    how='inner',\n",
    "    left_on='issue_id',\n",
    "    right_on='id',\n",
    "    suffixes=['_comment', '_issue']\n",
    ")\n",
    "non_gkirbbi_with_first_comment['time_to_comment'] = \\\n",
    "    non_gkirbbi_with_first_comment['created_at_comment'] - non_gkirbbi_with_first_comment['created_at_issue']\n",
    "\n",
    "# Find what the mean and median time to first user comment on non-gk issues at project level\n",
    "non_gkirbbi_with_first_comment__simplified = \\\n",
    "    non_gkirbbi_with_first_comment[['id', 'repo_name', 'time_to_comment']].copy()\n",
    "\n",
    "non_gkirbbi_with_first_comment__simplified['time_to_comment'] = \\\n",
    "    non_gkirbbi_with_first_comment__simplified['time_to_comment'].dt.total_seconds()  # Have to convert to seconds to calculate mean and median\n",
    "\n",
    "projects__non_gkirbbi_with_first_user_comment = (\n",
    "    non_gkirbbi_with_first_comment__simplified\n",
    "        .groupby('repo_name')['time_to_comment']\n",
    "        .agg(['mean', 'median'])\n",
    "        .reset_index()\n",
    ")\n",
    "\n",
    "projects__non_gkirbbi_with_first_user_comment = \\\n",
    "    projects__non_gkirbbi_with_first_user_comment[~pd.isna(projects__non_gkirbbi_with_first_user_comment['median'])]\n",
    "\n",
    "projects__non_gkirbbi_with_first_user_comment['mean'] = pd.to_timedelta(\n",
    "    projects__non_gkirbbi_with_first_user_comment['mean'],\n",
    "    unit='s'\n",
    ")\n",
    "projects__non_gkirbbi_with_first_user_comment['mean_hours_log'] = np.log10(\n",
    "    projects__non_gkirbbi_with_first_user_comment['mean'] / np.timedelta64(1, 'h')\n",
    ")\n",
    "projects__non_gkirbbi_with_first_user_comment['median'] = pd.to_timedelta(\n",
    "    projects__non_gkirbbi_with_first_user_comment['median'],\n",
    "    unit='s'\n",
    ")\n",
    "projects__non_gkirbbi_with_first_user_comment['median_hours_log'] = np.log10(\n",
    "    projects__non_gkirbbi_with_first_user_comment['median'] / np.timedelta64(1, 'h')\n",
    ")"
   ]
  },
  {
   "cell_type": "code",
   "execution_count": null,
   "metadata": {},
   "outputs": [],
   "source": [
    "gk_issues_with_first_user_comments__simplified = \\\n",
    "    gk_issues_with_first_user_comments[['id', 'repo_name', 'time_to_comment']].copy()\n",
    "\n",
    "gk_issues_with_first_user_comments__simplified['time_to_comment'] = \\\n",
    "    gk_issues_with_first_user_comments__simplified['time_to_comment'].dt.total_seconds()  # Have to convert to seconds to calculate mean and median\n",
    "\n",
    "projects__gk_issues_with_first_user_comments = (\n",
    "    gk_issues_with_first_user_comments__simplified\n",
    "        .groupby('repo_name')['time_to_comment']\n",
    "        .agg(['mean', 'median'])\n",
    "        .reset_index()\n",
    ")\n",
    "projects__gk_issues_with_first_user_comments['mean'] = pd.to_timedelta(\n",
    "    projects__gk_issues_with_first_user_comments['mean'],\n",
    "    unit='s'\n",
    ")\n",
    "projects__gk_issues_with_first_user_comments['mean_hours_log'] = np.log10(\n",
    "    projects__gk_issues_with_first_user_comments['mean'] / np.timedelta64(1, 'h')\n",
    ")\n",
    "projects__gk_issues_with_first_user_comments['median'] = pd.to_timedelta(\n",
    "    projects__gk_issues_with_first_user_comments['median'],\n",
    "    unit='s'\n",
    ")\n",
    "projects__gk_issues_with_first_user_comments['median_hours_log'] = np.log10(\n",
    "    projects__gk_issues_with_first_user_comments['median'] / np.timedelta64(1, 'h')\n",
    ")"
   ]
  },
  {
   "cell_type": "code",
   "execution_count": null,
   "metadata": {},
   "outputs": [],
   "source": [
    "# Merge gk and non-gk project time to user comment by repo_name\n",
    "project__all_issues__time_to_comment = projects__non_gkirbbi_with_first_user_comment.merge(\n",
    "    projects__gk_issues_with_first_user_comments,\n",
    "    how='inner',\n",
    "    on=['repo_name'],\n",
    "    suffixes=['_non_gk', '_gk'],\n",
    ")\n",
    "# Melt for violine plot\n",
    "melted = pd.melt(\n",
    "    project__all_issues__time_to_comment,\n",
    "    id_vars='repo_name',\n",
    "    value_vars=['median_hours_log_gk', 'median_hours_log_non_gk'],\n",
    "    var_name='issue_type',\n",
    "    value_name='median_time_to_comment_hours_log',\n",
    ")\n",
    "\n",
    "melted['placeholder'] = ''\n",
    "fig, ax = plt.subplots(nrows=1, ncols=1, figsize=(8,3))\n",
    "sns.violinplot(\n",
    "    data=melted,\n",
    "    x='median_time_to_comment_hours_log',\n",
    "    y='placeholder',\n",
    "    hue='issue_type',\n",
    "    split=True,\n",
    "    inner='quartile',\n",
    "    palette=['1', '0.6'],\n",
    "    ax=ax,\n",
    ")\n",
    "ax.set_ylabel('')\n",
    "ax.set_xlabel('Median time to first use comment on issue (hours)')\n",
    "ax.xaxis.set_major_formatter(log10_func_formatter)\n",
    "ax.legend(\n",
    "    title='',\n",
    ")\n",
    "L = plt.legend()\n",
    "L.get_texts()[0].set_text('Non-Greenkeeper In-Range Breaking Issue')\n",
    "L.get_texts()[1].set_text('Greenkeeper In-Range Breaking Issue')\n",
    "print('--Intra-project comparison for median time to first user comment on non-GK issues & median time to first user comment on GK in-range breaking build issues--')\n",
    "tfns(project__all_issues__time_to_comment, ['median_non_gk', 'median_gk'], title='')\n",
    "plt.show()"
   ]
  },
  {
   "cell_type": "code",
   "execution_count": null,
   "metadata": {},
   "outputs": [],
   "source": [
    "project__all_issues__time_to_comment['median_ratio'] = (\n",
    "    project__all_issues__time_to_comment['median_gk'] / \n",
    "    project__all_issues__time_to_comment['median_non_gk']\n",
    ")\n",
    "project__all_issues__time_to_comment['mean_ratio'] = (\n",
    "    project__all_issues__time_to_comment['mean_gk'] / \n",
    "    project__all_issues__time_to_comment['mean_non_gk']\n",
    ")\n",
    "for_plot = project__all_issues__time_to_comment[['median_ratio']].copy()\n",
    "# Remove outliers and extemes for plot\n",
    "for_plot = for_plot[for_plot['median_ratio'] < 100]\n",
    "for_plot = filter_outliers(for_plot, col='median_ratio', threshold=3)\n",
    "\n",
    "for_plot['placeholder'] = ''\n",
    "fig, ax = plt.subplots(nrows=1, ncols=1, figsize=(8,3))\n",
    "sns.violinplot(\n",
    "    data=for_plot,\n",
    "    x='median_ratio',\n",
    "    y='placeholder',\n",
    "    inner='quartile',\n",
    "    palette=['0.6'],\n",
    ")\n",
    "ax.set_ylabel('')\n",
    "print('--Intra-project comparison for ratio of median time to first user comment on GK issues vs non-GK issues--')\n",
    "tfns(project__all_issues__time_to_comment, ['median_ratio', 'mean_ratio'])\n",
    "plt.show()"
   ]
  },
  {
   "cell_type": "markdown",
   "metadata": {},
   "source": [
    "<h3>Bot Comments Analysis</h3>"
   ]
  },
  {
   "cell_type": "markdown",
   "metadata": {},
   "source": [
    "<h3><b><i>How many issues are eventually resolved by the provider releasing a new version?</i></b></h3>"
   ]
  },
  {
   "cell_type": "code",
   "execution_count": 15,
   "metadata": {},
   "outputs": [
    {
     "name": "stdout",
     "output_type": "stream",
     "text": [
      "37.87% (39298) of issues saw a new release of the dependency\n",
      "18.72% (7355) of issues that saw a new release saw at least on passing release (7.09% of all issues)\n",
      "81.28% (31943) of issues that saw a new release saw only failing releases (30.78% of all issues)\n",
      "\n"
     ]
    }
   ],
   "source": [
    "gk_comments = comments.loc[\n",
    "    (\n",
    "        (comments['comment_user_type'] == 'Bot') &\n",
    "        (comments['comment_user_login'] == 'greenkeeper[bot]')\n",
    "    )\n",
    "]\n",
    "failing_with_new_release_regex = 'Your tests are still failing with this version'\n",
    "passing_with_new_release_regex = 'Your tests are passing again with this version'\n",
    "\n",
    "def comment_group_saw_new_release(comment_group):\n",
    "    new_release_comments = comment_group[\n",
    "        (comment_group['comment_body'].str.contains(failing_with_new_release_regex)) |\n",
    "        (comment_group['comment_body'].str.contains(passing_with_new_release_regex))\n",
    "    ]\n",
    "    return len(new_release_comments) > 0\n",
    "\n",
    "gk_new_release_comments = gk_comments.groupby('comment_issue_id').filter(comment_group_saw_new_release)\n",
    "issues_with_new_release_count = gk_new_release_comments['comment_issue_id'].nunique()\n",
    "proportion = calculate_percent(issues_with_new_release_count, len(gk_issues))\n",
    "print(f'{proportion}% ({issues_with_new_release_count}) of issues saw a new release of the dependency')\n",
    "\n",
    "\n",
    "def issue_has_passing_with_new_release_comment(comment_group):\n",
    "    new_passing_release_comments = comment_group[\n",
    "        comment_group['comment_body'].str.contains(passing_with_new_release_regex)\n",
    "    ]\n",
    "    return len(new_passing_release_comments) > 0\n",
    "\n",
    "def issue_has_only_failing_new_release_comments(comment_group):\n",
    "    if issue_has_passing_with_new_release_comment(comment_group):\n",
    "        return False\n",
    "    new_failing_release_comments = comment_group[\n",
    "        comment_group['comment_body'].str.contains(failing_with_new_release_regex)\n",
    "    ]\n",
    "    return len(new_failing_release_comments) > 0\n",
    "\n",
    "passing_with_new_release = \\\n",
    "    gk_new_release_comments.groupby('comment_issue_id').filter(issue_has_passing_with_new_release_comment)\n",
    "issues_with_passing_new_release_count = \\\n",
    "    passing_with_new_release['comment_issue_id'].nunique()\n",
    "proportion_of_new_releases = \\\n",
    "    calculate_percent(issues_with_passing_new_release_count, issues_with_new_release_count)\n",
    "proportion_all = \\\n",
    "    calculate_percent(issues_with_passing_new_release_count, len(gk_issues))\n",
    "print(f'''\\\n",
    "{proportion_of_new_releases}% ({issues_with_passing_new_release_count}) of issues that saw a new release saw \\\n",
    "at least on passing release ({proportion_all}% of all issues)\\\n",
    "''')\n",
    "\n",
    "only_failing_new_release = \\\n",
    "    gk_new_release_comments.groupby('comment_issue_id').filter(issue_has_only_failing_new_release_comments)\n",
    "issues_with_only_failing_new_release_count = \\\n",
    "    only_failing_new_release['comment_issue_id'].nunique()\n",
    "proportion_of_new_releases = \\\n",
    "    calculate_percent(issues_with_only_failing_new_release_count, issues_with_new_release_count)\n",
    "proportion_all = \\\n",
    "    calculate_percent(issues_with_only_failing_new_release_count, len(gk_issues))\n",
    "print(f'''\\\n",
    "{proportion_of_new_releases}% ({issues_with_only_failing_new_release_count}) of issues that saw a new release saw \\\n",
    "only failing releases ({proportion_all}% of all issues)\n",
    "''')"
   ]
  },
  {
   "cell_type": "markdown",
   "metadata": {},
   "source": [
    "<h4>Issues with only failing new releases - how did the pin attempt turn out?</h4>"
   ]
  },
  {
   "cell_type": "code",
   "execution_count": 16,
   "metadata": {},
   "outputs": [
    {
     "name": "stdout",
     "output_type": "stream",
     "text": [
      "--For issues with only failing new releases, how did the pin attempt turn out?--\n"
     ]
    },
    {
     "data": {
      "text/html": [
       "<div>\n",
       "<style scoped>\n",
       "    .dataframe tbody tr th:only-of-type {\n",
       "        vertical-align: middle;\n",
       "    }\n",
       "\n",
       "    .dataframe tbody tr th {\n",
       "        vertical-align: top;\n",
       "    }\n",
       "\n",
       "    .dataframe thead th {\n",
       "        text-align: right;\n",
       "    }\n",
       "</style>\n",
       "<table border=\"1\" class=\"dataframe\">\n",
       "  <thead>\n",
       "    <tr style=\"text-align: right;\">\n",
       "      <th></th>\n",
       "      <th>pin_status</th>\n",
       "      <th>proportion</th>\n",
       "    </tr>\n",
       "  </thead>\n",
       "  <tbody>\n",
       "    <tr>\n",
       "      <th>0</th>\n",
       "      <td>success</td>\n",
       "      <td>0.786456</td>\n",
       "    </tr>\n",
       "    <tr>\n",
       "      <th>1</th>\n",
       "      <td>failure</td>\n",
       "      <td>0.213544</td>\n",
       "    </tr>\n",
       "  </tbody>\n",
       "</table>\n",
       "</div>"
      ],
      "text/plain": [
       "  pin_status  proportion\n",
       "0    success    0.786456\n",
       "1    failure    0.213544"
      ]
     },
     "execution_count": 16,
     "metadata": {},
     "output_type": "execute_result"
    }
   ],
   "source": [
    "pin_attempts_from_only_failing_new_release = only_failing_new_release[only_failing_new_release['comment_body'].str.contains('after pinning to', case=False)].copy()\n",
    "pin_fail_regex = '|'.join([\n",
    "    \"your tests are still failing\",\n",
    "])\n",
    "pin_success_regex = '|'.join([\n",
    "    \"your tests are passing again\"\n",
    "])\n",
    "pin_attempts_from_only_failing_new_release.loc[\n",
    "    pin_attempts_from_only_failing_new_release['comment_body'].str.contains(pin_fail_regex, case=False),\n",
    "    'pin_status'\n",
    "] = 'success'\n",
    "pin_attempts_from_only_failing_new_release.loc[\n",
    "    pin_attempts_from_only_failing_new_release['comment_body'].str.contains(pin_success_regex, case=False),\n",
    "    'pin_status'\n",
    "] = 'failure'\n",
    "\n",
    "proportions = (\n",
    "    pin_attempts_from_only_failing_new_release['pin_status'].value_counts() / \n",
    "    pin_attempts_from_only_failing_new_release['pin_status'].count()\n",
    ").to_frame(name='proportion')\\\n",
    "    .rename_axis('pin_status')\\\n",
    "    .reset_index()\n",
    "print('--For issues with only failing new releases, how did the pin attempt turn out?--')\n",
    "proportions.head()"
   ]
  },
  {
   "cell_type": "markdown",
   "metadata": {},
   "source": [
    "<h4>Issues with a passing new release - how did the pin attempt turn out?</h4>"
   ]
  },
  {
   "cell_type": "code",
   "execution_count": 17,
   "metadata": {},
   "outputs": [
    {
     "name": "stdout",
     "output_type": "stream",
     "text": [
      "--For issues with passing new releases, how did the pin attempt turn out?--\n"
     ]
    },
    {
     "data": {
      "text/html": [
       "<div>\n",
       "<style scoped>\n",
       "    .dataframe tbody tr th:only-of-type {\n",
       "        vertical-align: middle;\n",
       "    }\n",
       "\n",
       "    .dataframe tbody tr th {\n",
       "        vertical-align: top;\n",
       "    }\n",
       "\n",
       "    .dataframe thead th {\n",
       "        text-align: right;\n",
       "    }\n",
       "</style>\n",
       "<table border=\"1\" class=\"dataframe\">\n",
       "  <thead>\n",
       "    <tr style=\"text-align: right;\">\n",
       "      <th></th>\n",
       "      <th>pin_status</th>\n",
       "      <th>proportion</th>\n",
       "    </tr>\n",
       "  </thead>\n",
       "  <tbody>\n",
       "    <tr>\n",
       "      <th>0</th>\n",
       "      <td>failure</td>\n",
       "      <td>0.634492</td>\n",
       "    </tr>\n",
       "    <tr>\n",
       "      <th>1</th>\n",
       "      <td>success</td>\n",
       "      <td>0.365508</td>\n",
       "    </tr>\n",
       "  </tbody>\n",
       "</table>\n",
       "</div>"
      ],
      "text/plain": [
       "  pin_status  proportion\n",
       "0    failure    0.634492\n",
       "1    success    0.365508"
      ]
     },
     "execution_count": 17,
     "metadata": {},
     "output_type": "execute_result"
    }
   ],
   "source": [
    "pin_attempts_from_passing_with_new_release = \\\n",
    "    passing_with_new_release[passing_with_new_release['comment_body'].str.contains('after pinning to', case=False)].copy()\n",
    "pin_fail_regex = '|'.join([\n",
    "    \"your tests are still failing\",\n",
    "])\n",
    "pin_success_regex = '|'.join([\n",
    "    \"your tests are passing again\"\n",
    "])\n",
    "pin_attempts_from_passing_with_new_release.loc[\n",
    "    pin_attempts_from_passing_with_new_release['comment_body'].str.contains(pin_fail_regex, case=False),\n",
    "    'pin_status'\n",
    "] = 'success'\n",
    "pin_attempts_from_passing_with_new_release.loc[\n",
    "    pin_attempts_from_passing_with_new_release['comment_body'].str.contains(pin_success_regex, case=False),\n",
    "    'pin_status'\n",
    "] = 'failure'\n",
    "\n",
    "proportions = (\n",
    "    pin_attempts_from_passing_with_new_release['pin_status'].value_counts() / \n",
    "    pin_attempts_from_passing_with_new_release['pin_status'].count()\n",
    ").to_frame(name='proportion')\\\n",
    "    .rename_axis('pin_status')\\\n",
    "    .reset_index()\n",
    "print('--For issues with passing new releases, how did the pin attempt turn out?--')\n",
    "proportions.head()"
   ]
  },
  {
   "cell_type": "markdown",
   "metadata": {},
   "source": [
    "<h3>Classifying user comments - Second Approach</h3>"
   ]
  },
  {
   "cell_type": "code",
   "execution_count": 32,
   "metadata": {},
   "outputs": [],
   "source": [
    "s_comments = load_comments()"
   ]
  },
  {
   "cell_type": "code",
   "execution_count": 121,
   "metadata": {},
   "outputs": [
    {
     "name": "stdout",
     "output_type": "stream",
     "text": [
      "8.58% of in-range issues have a comment from a user.\n"
     ]
    }
   ],
   "source": [
    "NOT_CLASSIFIED = 'NOT_CLASSIFIED'\n",
    "# Set all comments to 'Not Classified'\n",
    "s_comments['comment_sub_classification'] = NOT_CLASSIFIED\n",
    "s_comments['comment_classification'] = NOT_CLASSIFIED\n",
    "\n",
    "users_comments = (\n",
    "    s_comments[\n",
    "        s_comments['comment_user_type'] == 'User'\n",
    "    ].copy()\n",
    "    .reset_index(drop=True)\n",
    ")\n",
    "issues_with_user_comment = (\n",
    "    issues[\n",
    "        issues['id'].isin(users_comments['comment_issue_id'])\n",
    "    ].copy()\n",
    "    .reset_index(drop=True)\n",
    ")\n",
    "percent_of_issues_with_user_comment = f'{calculate_percent(len(issues_with_user_comment), len(issues))}%'\n",
    "print(f'{percent_of_issues_with_user_comment} of in-range issues have a comment from a user.')\n",
    "users_comments = (\n",
    "    users_comments.drop(\n",
    "        users_comments[\n",
    "            pd.isna(users_comments['comment_body'])\n",
    "        ].index\n",
    "    )\n",
    ")"
   ]
  },
  {
   "cell_type": "code",
   "execution_count": 122,
   "metadata": {},
   "outputs": [
    {
     "data": {
      "application/vnd.jupyter.widget-view+json": {
       "model_id": "711258955f4e4d98ae4131cc0b1c10dc",
       "version_major": 2,
       "version_minor": 0
      },
      "text/plain": [
       "HBox(children=(HTML(value=''), FloatProgress(value=0.0, max=10723.0), HTML(value='')))"
      ]
     },
     "metadata": {},
     "output_type": "display_data"
    },
    {
     "name": "stdout",
     "output_type": "stream",
     "text": [
      "\n"
     ]
    }
   ],
   "source": [
    "import nltk\n",
    "from nltk.corpus import stopwords\n",
    "from nltk.stem import WordNetLemmatizer\n",
    "lemma = WordNetLemmatizer()\n",
    "\n",
    "def clean_comment_body(c):\n",
    "    text = c['comment_body']\n",
    "    text = text.replace('.', '')\n",
    "    text = text.replace(',', '')\n",
    "    tokens = [t for t in text.split()]\n",
    "    clean_tokens = list()\n",
    "    for token in tokens:\n",
    "        if token not in stopwords.words('english'):\n",
    "            clean_tokens.append(lemma.lemmatize(token))\n",
    "    return ' '.join(clean_tokens)\n",
    "\n",
    "users_comments['lemm_body'] = users_comments.progress_apply(clean_comment_body, axis=1)"
   ]
  },
  {
   "cell_type": "code",
   "execution_count": 123,
   "metadata": {},
   "outputs": [],
   "source": [
    "def match_comments(df, pattern, classification, sub_classification):\n",
    "    df.loc[\n",
    "        (df['comment_classification'] == NOT_CLASSIFIED) &\n",
    "        (df['lemm_body'].str.contains(pat=pattern, case=False, regex=True)),\n",
    "        'comment_sub_classification'\n",
    "    ] = sub_classification\n",
    "    df.loc[\n",
    "        df['comment_sub_classification'] == sub_classification,\n",
    "        'comment_classification'\n",
    "    ] = classification\n",
    "    return df"
   ]
  },
  {
   "cell_type": "code",
   "execution_count": 124,
   "metadata": {},
   "outputs": [],
   "source": [
    "users_comments['comment_sub_classification'] = NOT_CLASSIFIED\n",
    "users_comments['comment_classification'] = NOT_CLASSIFIED"
   ]
  },
  {
   "cell_type": "code",
   "execution_count": 136,
   "metadata": {},
   "outputs": [
    {
     "name": "stdout",
     "output_type": "stream",
     "text": [
      "19.86% of user comments indicate a false alarm.\n"
     ]
    },
    {
     "data": {
      "text/plain": [
       "False Positive    801\n",
       "Flaky             700\n",
       "Rerun Pipeline    471\n",
       "Timeout            46\n",
       "Inconsistent       46\n",
       "Random Failure     44\n",
       "Build Hiccup       22\n",
       "Name: comment_sub_classification, dtype: int64"
      ]
     },
     "execution_count": 136,
     "metadata": {},
     "output_type": "execute_result"
    }
   ],
   "source": [
    "################################\n",
    "# START FALSE_ALARM\n",
    "################################\n",
    "FALSE_ALARM = 'False Alarm'\n",
    "\n",
    "reg_flaky = '(flake|flaky|flakiness|fluke|unrelated)'\n",
    "users_comments = match_comments(users_comments, reg_flaky, FALSE_ALARM, 'Flaky')\n",
    "\n",
    "reg_inconsistent = '(inconsistent|brittle|unstable|spurious( unit)?) test'\n",
    "users_comments = match_comments(users_comments, reg_inconsistent, FALSE_ALARM, 'Inconsistent')\n",
    "\n",
    "reg_build_hiccup = '(server|test|CI|build) (hiccup|is actually passing|failed for other reasons)'\n",
    "users_comments = match_comments(users_comments, reg_build_hiccup, FALSE_ALARM, 'Build Hiccup')\n",
    "\n",
    "reg_random_failure = '(random|intermittent)( build|test|CI)? (failure|error)'\n",
    "users_comments = match_comments(users_comments, reg_random_failure, FALSE_ALARM, 'Random Failure')\n",
    "\n",
    "reg_rerun_pipeline = 're-?(run|ran|starting|build|tried|trigger|start)'\n",
    "users_comments = match_comments(users_comments, reg_rerun_pipeline, FALSE_ALARM, 'Rerun Pipeline')\n",
    "\n",
    "reg_false_positive = '((false (positive|alarm|negative|alert|flag))|invalid|non-issue|no action required|obsolete(d)?|not relevant)'\n",
    "users_comments = match_comments(users_comments, reg_false_positive, FALSE_ALARM, 'False Positive')\n",
    "\n",
    "reg_timeout = 'time-?out'\n",
    "users_comments = match_comments(users_comments, reg_timeout, FALSE_ALARM, 'Timeout')\n",
    "\n",
    "\n",
    "false_alarm_comments = (\n",
    "    users_comments[\n",
    "        users_comments['comment_classification'] == FALSE_ALARM\n",
    "    ]\n",
    ")\n",
    "print(f\"{calculate_percent(len(false_alarm_comments), len(users_comments))}% of user comments indicate a false alarm.\")\n",
    "false_alarm_comments['comment_sub_classification'].value_counts()\n",
    "# false_alarm_comments[['lemm_body']].sample(10)\n",
    "################################\n",
    "# END FALSE_ALARM\n",
    "################################"
   ]
  },
  {
   "cell_type": "code",
   "execution_count": 130,
   "metadata": {},
   "outputs": [
    {
     "name": "stdout",
     "output_type": "stream",
     "text": [
      "47.87% of user comments explicitly link a fix.\n"
     ]
    },
    {
     "data": {
      "text/plain": [
       "Fix Mentioned       3866\n",
       "Closed By            784\n",
       "PR/Commit Number     483\n",
       "Name: comment_sub_classification, dtype: int64"
      ]
     },
     "execution_count": 130,
     "metadata": {},
     "output_type": "execute_result"
    }
   ],
   "source": [
    "################################\n",
    "# START FIX_REFERENCED\n",
    "################################\n",
    "# users_comments['comment_classification'] = NOT_CLASSIFIED\n",
    "FIX_REFERENCED = 'Fix Referenced'\n",
    "\n",
    "reg_pr_url = '(https:\\/\\/github\\.com\\/[\\S]*\\/(pull)\\/[\\S]*)'\n",
    "users_comments = match_comments(users_comments, reg_pr_url, FIX_REFERENCED, 'PR URL')\n",
    "\n",
    "reg_closed_by = '((closed|fixed|resolved|done|updated)( in|by|via|with)? #\\d*)'\n",
    "users_comments = match_comments(users_comments, reg_closed_by, FIX_REFERENCED, 'Closed By')\n",
    "\n",
    "reg_pr_commit_number = '(^#\\d*|(Merged|Close|PR|pull|see).*#\\d*)'\n",
    "users_comments = match_comments(users_comments, reg_pr_commit_number, FIX_REFERENCED, 'PR/Commit Number')\n",
    "\n",
    "reg_fix_mentioned = '(resolve|fix|bump|merge|upgrade|done|clos(e|ing)|solved)'\n",
    "users_comments = match_comments(users_comments, reg_fix_mentioned, FIX_REFERENCED, 'Fix Mentioned')\n",
    "\n",
    "fix_referenced_comments = users_comments[users_comments['comment_classification'] == FIX_REFERENCED]\n",
    "print(f\"{calculate_percent(len(fix_referenced_comments), len(users_comments))}% of user comments explicitly link a fix.\")\n",
    "fix_referenced_comments['comment_sub_classification'].value_counts()\n",
    "# fix_referenced_comments[['lemm_body']].sample(10)\n",
    "################################\n",
    "# END FIX_REFERENCED\n",
    "################################"
   ]
  },
  {
   "cell_type": "code",
   "execution_count": 140,
   "metadata": {},
   "outputs": [
    {
     "name": "stdout",
     "output_type": "stream",
     "text": [
      "7.04% of user comments mention some tool\n"
     ]
    },
    {
     "data": {
      "text/plain": [
       "Mention CI System      493\n",
       "Mention Greenkeeper    253\n",
       "Mention Renovate         9\n",
       "Name: comment_sub_classification, dtype: int64"
      ]
     },
     "execution_count": 140,
     "metadata": {},
     "output_type": "execute_result"
    }
   ],
   "source": [
    "################################\n",
    "# START MENTION_CI_SYSTEM\n",
    "################################\n",
    "MENTION_TOOL = 'Mention Tool'\n",
    "\n",
    "reg_ci_system = '|'.join([\n",
    "    'travis',\n",
    "    'CircleCI',\n",
    "    'circle ci',\n",
    "    'jarvis',\n",
    "    'jenkins',\n",
    "    'BitHound',\n",
    "    'CI.*issue',\n",
    "])\n",
    "users_comments = match_comments(users_comments, reg_ci_system, MENTION_TOOL, 'Mention CI System')\n",
    "\n",
    "reg_greenkeeper = 'greenkeeper'\n",
    "users_comments = match_comments(users_comments, reg_greenkeeper, MENTION_TOOL, 'Mention Greenkeeper')\n",
    "\n",
    "reg_renovate = 'renovate'\n",
    "users_comments = match_comments(users_comments, reg_renovate, MENTION_TOOL, 'Mention Renovate')\n",
    "\n",
    "mention_tool_comments = users_comments[users_comments['comment_classification'] == MENTION_TOOL]\n",
    "print(f\"{calculate_percent(len(mention_tool_comments), len(users_comments))}% of user comments mention some tool\")\n",
    "mention_tool_comments['comment_sub_classification'].value_counts()\n",
    "# mention_greenkeeper_comments['comment_body'].sample(10)\n",
    "################################\n",
    "# END MENTION_CI_SYSTEM\n",
    "################################"
   ]
  },
  {
   "cell_type": "code",
   "execution_count": 141,
   "metadata": {},
   "outputs": [
    {
     "data": {
      "text/plain": [
       "Fix Referenced    0.478691\n",
       "NOT_CLASSIFIED    0.252261\n",
       "False Alarm       0.198638\n",
       "Mention Tool      0.070409\n",
       "Name: comment_classification, dtype: float64"
      ]
     },
     "execution_count": 141,
     "metadata": {},
     "output_type": "execute_result"
    }
   ],
   "source": [
    "users_comments['comment_classification'].value_counts() / users_comments['comment_sub_classification'].count()"
   ]
  },
  {
   "cell_type": "code",
   "execution_count": 167,
   "metadata": {},
   "outputs": [
    {
     "data": {
      "text/html": [
       "<div>\n",
       "<style scoped>\n",
       "    .dataframe tbody tr th:only-of-type {\n",
       "        vertical-align: middle;\n",
       "    }\n",
       "\n",
       "    .dataframe tbody tr th {\n",
       "        vertical-align: top;\n",
       "    }\n",
       "\n",
       "    .dataframe thead th {\n",
       "        text-align: right;\n",
       "    }\n",
       "</style>\n",
       "<table border=\"1\" class=\"dataframe\">\n",
       "  <thead>\n",
       "    <tr style=\"text-align: right;\">\n",
       "      <th></th>\n",
       "      <th>comment_classification</th>\n",
       "      <th>comment_sub_classification</th>\n",
       "      <th>count</th>\n",
       "    </tr>\n",
       "  </thead>\n",
       "  <tbody>\n",
       "    <tr>\n",
       "      <th>8</th>\n",
       "      <td>Fix Referenced</td>\n",
       "      <td>Fix Mentioned</td>\n",
       "      <td>3866</td>\n",
       "    </tr>\n",
       "    <tr>\n",
       "      <th>1</th>\n",
       "      <td>False Alarm</td>\n",
       "      <td>False Positive</td>\n",
       "      <td>801</td>\n",
       "    </tr>\n",
       "    <tr>\n",
       "      <th>7</th>\n",
       "      <td>Fix Referenced</td>\n",
       "      <td>Closed By</td>\n",
       "      <td>784</td>\n",
       "    </tr>\n",
       "    <tr>\n",
       "      <th>2</th>\n",
       "      <td>False Alarm</td>\n",
       "      <td>Flaky</td>\n",
       "      <td>700</td>\n",
       "    </tr>\n",
       "    <tr>\n",
       "      <th>10</th>\n",
       "      <td>Mention Tool</td>\n",
       "      <td>Mention CI System</td>\n",
       "      <td>493</td>\n",
       "    </tr>\n",
       "    <tr>\n",
       "      <th>9</th>\n",
       "      <td>Fix Referenced</td>\n",
       "      <td>PR/Commit Number</td>\n",
       "      <td>483</td>\n",
       "    </tr>\n",
       "    <tr>\n",
       "      <th>5</th>\n",
       "      <td>False Alarm</td>\n",
       "      <td>Rerun Pipeline</td>\n",
       "      <td>471</td>\n",
       "    </tr>\n",
       "    <tr>\n",
       "      <th>11</th>\n",
       "      <td>Mention Tool</td>\n",
       "      <td>Mention Greenkeeper</td>\n",
       "      <td>253</td>\n",
       "    </tr>\n",
       "    <tr>\n",
       "      <th>3</th>\n",
       "      <td>False Alarm</td>\n",
       "      <td>Inconsistent</td>\n",
       "      <td>46</td>\n",
       "    </tr>\n",
       "    <tr>\n",
       "      <th>6</th>\n",
       "      <td>False Alarm</td>\n",
       "      <td>Timeout</td>\n",
       "      <td>46</td>\n",
       "    </tr>\n",
       "    <tr>\n",
       "      <th>4</th>\n",
       "      <td>False Alarm</td>\n",
       "      <td>Random Failure</td>\n",
       "      <td>44</td>\n",
       "    </tr>\n",
       "    <tr>\n",
       "      <th>0</th>\n",
       "      <td>False Alarm</td>\n",
       "      <td>Build Hiccup</td>\n",
       "      <td>22</td>\n",
       "    </tr>\n",
       "    <tr>\n",
       "      <th>12</th>\n",
       "      <td>Mention Tool</td>\n",
       "      <td>Mention Renovate</td>\n",
       "      <td>9</td>\n",
       "    </tr>\n",
       "  </tbody>\n",
       "</table>\n",
       "</div>"
      ],
      "text/plain": [
       "   comment_classification comment_sub_classification  count\n",
       "8          Fix Referenced              Fix Mentioned   3866\n",
       "1             False Alarm             False Positive    801\n",
       "7          Fix Referenced                  Closed By    784\n",
       "2             False Alarm                      Flaky    700\n",
       "10           Mention Tool          Mention CI System    493\n",
       "9          Fix Referenced           PR/Commit Number    483\n",
       "5             False Alarm             Rerun Pipeline    471\n",
       "11           Mention Tool        Mention Greenkeeper    253\n",
       "3             False Alarm               Inconsistent     46\n",
       "6             False Alarm                    Timeout     46\n",
       "4             False Alarm             Random Failure     44\n",
       "0             False Alarm               Build Hiccup     22\n",
       "12           Mention Tool           Mention Renovate      9"
      ]
     },
     "execution_count": 167,
     "metadata": {},
     "output_type": "execute_result"
    }
   ],
   "source": [
    "for_plot = (\n",
    "    users_comments\n",
    "        .groupby(['comment_classification', 'comment_sub_classification'])\n",
    "        .size()\n",
    "        .to_frame(name='count')\n",
    "        .reset_index()\n",
    "        .sort_values('count', ascending=False)\n",
    ")\n",
    "for_plot = for_plot[for_plot['comment_classification'] != NOT_CLASSIFIED]\n",
    "for_plot"
   ]
  },
  {
   "cell_type": "code",
   "execution_count": 202,
   "metadata": {},
   "outputs": [
    {
     "name": "stdout",
     "output_type": "stream",
     "text": [
      "Saving figure count_of_user_comment_matches\n"
     ]
    },
    {
     "data": {
      "image/png": "[encoded data removed]",
      "text/plain": [
       "<Figure size 504x432 with 1 Axes>"
      ]
     },
     "metadata": {
      "needs_background": "light"
     },
     "output_type": "display_data"
    }
   ],
   "source": [
    "fig, ax = plt.subplots(nrows=1, ncols=1, figsize=(7,6))\n",
    "sns.barplot(\n",
    "    data=for_plot,\n",
    "    y='comment_sub_classification',\n",
    "    x='count',\n",
    "    hue='comment_classification',\n",
    "    dodge=False,\n",
    "    palette=['0.70', '0.4', '0.1'],\n",
    "    ax=ax,\n",
    ")\n",
    "ax.set_ylabel('Sub Category', fontsize=12)\n",
    "ax.set_xlabel('Number of Matching Comments', fontsize=12)\n",
    "\n",
    "L = plt.legend(\n",
    "    title='Category',\n",
    "    loc='upper center',\n",
    "    fancybox=True,\n",
    "    bbox_to_anchor=(0.5,1.14),\n",
    "    ncol=3,\n",
    "    shadow=False,\n",
    ")\n",
    "save_fig('count_of_user_comment_matches')\n",
    "\n",
    "\n",
    "plt.show()"
   ]
  },
  {
   "cell_type": "code",
   "execution_count": null,
   "metadata": {},
   "outputs": [],
   "source": []
  },
  {
   "cell_type": "code",
   "execution_count": 138,
   "metadata": {},
   "outputs": [
    {
     "data": {
      "text/html": [
       "<div>\n",
       "<style scoped>\n",
       "    .dataframe tbody tr th:only-of-type {\n",
       "        vertical-align: middle;\n",
       "    }\n",
       "\n",
       "    .dataframe tbody tr th {\n",
       "        vertical-align: top;\n",
       "    }\n",
       "\n",
       "    .dataframe thead th {\n",
       "        text-align: right;\n",
       "    }\n",
       "</style>\n",
       "<table border=\"1\" class=\"dataframe\">\n",
       "  <thead>\n",
       "    <tr style=\"text-align: right;\">\n",
       "      <th></th>\n",
       "      <th>lemm_body</th>\n",
       "    </tr>\n",
       "  </thead>\n",
       "  <tbody>\n",
       "    <tr>\n",
       "      <th>444</th>\n",
       "      <td>This look like breaking change nock increase min Node version 10 Someone using semver correctly Let's put hold</td>\n",
       "    </tr>\n",
       "    <tr>\n",
       "      <th>3796</th>\n",
       "      <td>Error jest2</td>\n",
       "    </tr>\n",
       "    <tr>\n",
       "      <th>2350</th>\n",
       "      <td>Making PR update dependency</td>\n",
       "    </tr>\n",
       "    <tr>\n",
       "      <th>8534</th>\n",
       "      <td>2751dc23341d4c86560fa7a3a9e297f795731f4a</td>\n",
       "    </tr>\n",
       "    <tr>\n",
       "      <th>4734</th>\n",
       "      <td>Looks like intermittent test failure Updated https://githubcom/blgm/jfq/pull/51</td>\n",
       "    </tr>\n",
       "    <tr>\n",
       "      <th>5915</th>\n",
       "      <td>using 20</td>\n",
       "    </tr>\n",
       "    <tr>\n",
       "      <th>6125</th>\n",
       "      <td>Bad installation directory per https://githubcom/99xt/serverless-dynamodb-local/issues/181 Just gonna let sit bit code get published</td>\n",
       "    </tr>\n",
       "    <tr>\n",
       "      <th>9473</th>\n",
       "      <td>Seems like maybe bug Mocha Can't reproduce 341 340 unpublished Doing PR update anyway</td>\n",
       "    </tr>\n",
       "    <tr>\n",
       "      <th>4695</th>\n",
       "      <td>Updated newer release latest Build</td>\n",
       "    </tr>\n",
       "    <tr>\n",
       "      <th>9677</th>\n",
       "      <td>See https://githubcom/tjoskar/ng-lazyload-image/commit/00efa043f2663d0338946b90ff24b3f5ea2a2c1f</td>\n",
       "    </tr>\n",
       "    <tr>\n",
       "      <th>5305</th>\n",
       "      <td>Failing due https://githubcom/stylelint/stylelint/issues/3749</td>\n",
       "    </tr>\n",
       "    <tr>\n",
       "      <th>3716</th>\n",
       "      <td>https://githubcom/ttokutake/time-series-data-generator/commit/b4cec5277a4d6c8c31e0b268e81baa7e644911dd</td>\n",
       "    </tr>\n",
       "    <tr>\n",
       "      <th>7373</th>\n",
       "      <td>Updated package</td>\n",
       "    </tr>\n",
       "    <tr>\n",
       "      <th>4165</th>\n",
       "      <td>`@oclif/test@124` exist server failure error</td>\n",
       "    </tr>\n",
       "    <tr>\n",
       "      <th>7624</th>\n",
       "      <td>https://githubcom/npm/npm/issues/19534</td>\n",
       "    </tr>\n",
       "    <tr>\n",
       "      <th>1281</th>\n",
       "      <td>transient test failure</td>\n",
       "    </tr>\n",
       "    <tr>\n",
       "      <th>5716</th>\n",
       "      <td>I see logs: &gt; error Couldn't find version \"jest-environment-enzyme\" match \"^611\"</td>\n",
       "    </tr>\n",
       "    <tr>\n",
       "      <th>7730</th>\n",
       "      <td>Works</td>\n",
       "    </tr>\n",
       "    <tr>\n",
       "      <th>1874</th>\n",
       "      <td>`731` installed master</td>\n",
       "    </tr>\n",
       "    <tr>\n",
       "      <th>1732</th>\n",
       "      <td>Version 620 borked</td>\n",
       "    </tr>\n",
       "    <tr>\n",
       "      <th>9925</th>\n",
       "      <td>shut</td>\n",
       "    </tr>\n",
       "    <tr>\n",
       "      <th>9975</th>\n",
       "      <td>remap-istanbul updated version 095</td>\n",
       "    </tr>\n",
       "    <tr>\n",
       "      <th>6278</th>\n",
       "      <td>Grunt longer used project</td>\n",
       "    </tr>\n",
       "    <tr>\n",
       "      <th>2569</th>\n",
       "      <td>Updating https://githubcom/ipfs/js-ipfs/pull/2230</td>\n",
       "    </tr>\n",
       "    <tr>\n",
       "      <th>2385</th>\n",
       "      <td>Updated ef3a572</td>\n",
       "    </tr>\n",
       "    <tr>\n",
       "      <th>7376</th>\n",
       "      <td>Not related</td>\n",
       "    </tr>\n",
       "    <tr>\n",
       "      <th>5008</th>\n",
       "      <td>Should ok</td>\n",
       "    </tr>\n",
       "    <tr>\n",
       "      <th>2303</th>\n",
       "      <td>It's Monday bug webpack</td>\n",
       "    </tr>\n",
       "    <tr>\n",
       "      <th>9889</th>\n",
       "      <td>we're 301</td>\n",
       "    </tr>\n",
       "    <tr>\n",
       "      <th>9707</th>\n",
       "      <td>The [failing test](https://githubcom/canjs/can-define/blob/5862d831d13e8e99eea787bea3796ecf6e29854f/map/map-testjs#L490) testing `can-util/assign` `can-define` It breaking `assign` strict throw readonly property attempted set</td>\n",
       "    </tr>\n",
       "    <tr>\n",
       "      <th>3722</th>\n",
       "      <td>Caused https://githubcom/RubenVerborgh/SPARQLjs/issues/81</td>\n",
       "    </tr>\n",
       "    <tr>\n",
       "      <th>10317</th>\n",
       "      <td>Looks like browser timing</td>\n",
       "    </tr>\n",
       "    <tr>\n",
       "      <th>3353</th>\n",
       "      <td>No issue manually updated via #150</td>\n",
       "    </tr>\n",
       "    <tr>\n",
       "      <th>2579</th>\n",
       "      <td>Package already updated</td>\n",
       "    </tr>\n",
       "    <tr>\n",
       "      <th>10626</th>\n",
       "      <td>We options: - self host localtunnel server requires server domain - use ngrok $5/mo try reduce concurrency stay limit imposed free plan - check alternative like https://meetfinchcom This one looked pretty good writing adapter zuul seems easy client Nodejs free plan limited allows 60 minute monthly usage Trying use ngrok limiting currency probably way want spend money</td>\n",
       "    </tr>\n",
       "    <tr>\n",
       "      <th>4048</th>\n",
       "      <td>failure detected</td>\n",
       "    </tr>\n",
       "    <tr>\n",
       "      <th>7444</th>\n",
       "      <td>Caused coverall outage</td>\n",
       "    </tr>\n",
       "    <tr>\n",
       "      <th>10633</th>\n",
       "      <td>@karissa okay datproject/dat-node repo? I'm going delete one soon(ish)</td>\n",
       "    </tr>\n",
       "    <tr>\n",
       "      <th>10258</th>\n",
       "      <td>tested locally: work fine CI failed `npm i` hanged reason</td>\n",
       "    </tr>\n",
       "    <tr>\n",
       "      <th>6338</th>\n",
       "      <td>Just AppVeyor belong lethargic</td>\n",
       "    </tr>\n",
       "    <tr>\n",
       "      <th>1696</th>\n",
       "      <td>I wonder would help disable in-range update breaking check Getting annoying watch repo 😆</td>\n",
       "    </tr>\n",
       "    <tr>\n",
       "      <th>7645</th>\n",
       "      <td>https://githubcom/npm/npm/issues/19534</td>\n",
       "    </tr>\n",
       "    <tr>\n",
       "      <th>2985</th>\n",
       "      <td>Just node@12 build inconsistency `sharp`</td>\n",
       "    </tr>\n",
       "    <tr>\n",
       "      <th>8360</th>\n",
       "      <td>Weird `packagejson` this: ```json \"main\": \"/memdownjs\" \"files\": [ \"immediatejs\" \"immediate-browserjs\" ] ``` Which *should* mean `memdownjs` get included</td>\n",
       "    </tr>\n",
       "    <tr>\n",
       "      <th>4339</th>\n",
       "      <td>More here: https://githubcom/OpenZeppelin/openzeppelin-solidity/releases Looks like update must made tandem updating truffle v500</td>\n",
       "    </tr>\n",
       "    <tr>\n",
       "      <th>8694</th>\n",
       "      <td>https://githubcom/yahoo/pure/pull/673</td>\n",
       "    </tr>\n",
       "    <tr>\n",
       "      <th>6848</th>\n",
       "      <td>This Node 10 build failure caused #5028</td>\n",
       "    </tr>\n",
       "    <tr>\n",
       "      <th>8784</th>\n",
       "      <td>Cannot reproduce locally seems CI problem</td>\n",
       "    </tr>\n",
       "    <tr>\n",
       "      <th>5886</th>\n",
       "      <td>Appears temporary issue yarn registry</td>\n",
       "    </tr>\n",
       "    <tr>\n",
       "      <th>5403</th>\n",
       "      <td>**_ಠ_ಠ_**</td>\n",
       "    </tr>\n",
       "  </tbody>\n",
       "</table>\n",
       "</div>"
      ],
      "text/plain": [
       "                                                                                                                                                                                                                                                                                                                                                                               lemm_body\n",
       "444                                                                                                                                                                                                                                                                       This look like breaking change nock increase min Node version 10 Someone using semver correctly Let's put hold\n",
       "3796                                                                                                                                                                                                                                                                                                                                                                         Error jest2\n",
       "2350                                                                                                                                                                                                                                                                                                                                                         Making PR update dependency\n",
       "8534                                                                                                                                                                                                                                                                                                                                            2751dc23341d4c86560fa7a3a9e297f795731f4a\n",
       "4734                                                                                                                                                                                                                                                                                                     Looks like intermittent test failure Updated https://githubcom/blgm/jfq/pull/51\n",
       "5915                                                                                                                                                                                                                                                                                                                                                                            using 20\n",
       "6125                                                                                                                                                                                                                                                Bad installation directory per https://githubcom/99xt/serverless-dynamodb-local/issues/181 Just gonna let sit bit code get published\n",
       "9473                                                                                                                                                                                                                                                                                               Seems like maybe bug Mocha Can't reproduce 341 340 unpublished Doing PR update anyway\n",
       "4695                                                                                                                                                                                                                                                                                                                                                  Updated newer release latest Build\n",
       "9677                                                                                                                                                                                                                                                                                     See https://githubcom/tjoskar/ng-lazyload-image/commit/00efa043f2663d0338946b90ff24b3f5ea2a2c1f\n",
       "5305                                                                                                                                                                                                                                                                                                                       Failing due https://githubcom/stylelint/stylelint/issues/3749\n",
       "3716                                                                                                                                                                                                                                                                              https://githubcom/ttokutake/time-series-data-generator/commit/b4cec5277a4d6c8c31e0b268e81baa7e644911dd\n",
       "7373                                                                                                                                                                                                                                                                                                                                                                     Updated package\n",
       "4165                                                                                                                                                                                                                                                                                                                                        `@oclif/test@124` exist server failure error\n",
       "7624                                                                                                                                                                                                                                                                                                                                              https://githubcom/npm/npm/issues/19534\n",
       "1281                                                                                                                                                                                                                                                                                                                                                              transient test failure\n",
       "5716                                                                                                                                                                                                                                                                                                    I see logs: > error Couldn't find version \"jest-environment-enzyme\" match \"^611\"\n",
       "7730                                                                                                                                                                                                                                                                                                                                                                               Works\n",
       "1874                                                                                                                                                                                                                                                                                                                                                              `731` installed master\n",
       "1732                                                                                                                                                                                                                                                                                                                                                                  Version 620 borked\n",
       "9925                                                                                                                                                                                                                                                                                                                                                                                shut\n",
       "9975                                                                                                                                                                                                                                                                                                                                                  remap-istanbul updated version 095\n",
       "6278                                                                                                                                                                                                                                                                                                                                                           Grunt longer used project\n",
       "2569                                                                                                                                                                                                                                                                                                                                   Updating https://githubcom/ipfs/js-ipfs/pull/2230\n",
       "2385                                                                                                                                                                                                                                                                                                                                                                     Updated ef3a572\n",
       "7376                                                                                                                                                                                                                                                                                                                                                                         Not related\n",
       "5008                                                                                                                                                                                                                                                                                                                                                                           Should ok\n",
       "2303                                                                                                                                                                                                                                                                                                                                                             It's Monday bug webpack\n",
       "9889                                                                                                                                                                                                                                                                                                                                                                           we're 301\n",
       "9707                                                                                                                                                   The [failing test](https://githubcom/canjs/can-define/blob/5862d831d13e8e99eea787bea3796ecf6e29854f/map/map-testjs#L490) testing `can-util/assign` `can-define` It breaking `assign` strict throw readonly property attempted set\n",
       "3722                                                                                                                                                                                                                                                                                                                           Caused https://githubcom/RubenVerborgh/SPARQLjs/issues/81\n",
       "10317                                                                                                                                                                                                                                                                                                                                                          Looks like browser timing\n",
       "3353                                                                                                                                                                                                                                                                                                                                                  No issue manually updated via #150\n",
       "2579                                                                                                                                                                                                                                                                                                                                                             Package already updated\n",
       "10626  We options: - self host localtunnel server requires server domain - use ngrok $5/mo try reduce concurrency stay limit imposed free plan - check alternative like https://meetfinchcom This one looked pretty good writing adapter zuul seems easy client Nodejs free plan limited allows 60 minute monthly usage Trying use ngrok limiting currency probably way want spend money\n",
       "4048                                                                                                                                                                                                                                                                                                                                                                    failure detected\n",
       "7444                                                                                                                                                                                                                                                                                                                                                              Caused coverall outage\n",
       "10633                                                                                                                                                                                                                                                                                                             @karissa okay datproject/dat-node repo? I'm going delete one soon(ish)\n",
       "10258                                                                                                                                                                                                                                                                                                                          tested locally: work fine CI failed `npm i` hanged reason\n",
       "6338                                                                                                                                                                                                                                                                                                                                                      Just AppVeyor belong lethargic\n",
       "1696                                                                                                                                                                                                                                                                                            I wonder would help disable in-range update breaking check Getting annoying watch repo 😆\n",
       "7645                                                                                                                                                                                                                                                                                                                                              https://githubcom/npm/npm/issues/19534\n",
       "2985                                                                                                                                                                                                                                                                                                                                            Just node@12 build inconsistency `sharp`\n",
       "8360                                                                                                                                                                                                                            Weird `packagejson` this: ```json \"main\": \"/memdownjs\" \"files\": [ \"immediatejs\" \"immediate-browserjs\" ] ``` Which *should* mean `memdownjs` get included\n",
       "4339                                                                                                                                                                                                                                                   More here: https://githubcom/OpenZeppelin/openzeppelin-solidity/releases Looks like update must made tandem updating truffle v500\n",
       "8694                                                                                                                                                                                                                                                                                                                                               https://githubcom/yahoo/pure/pull/673\n",
       "6848                                                                                                                                                                                                                                                                                                                                             This Node 10 build failure caused #5028\n",
       "8784                                                                                                                                                                                                                                                                                                                                           Cannot reproduce locally seems CI problem\n",
       "5886                                                                                                                                                                                                                                                                                                                                               Appears temporary issue yarn registry\n",
       "5403                                                                                                                                                                                                                                                                                                                                                                           **_ಠ_ಠ_**"
      ]
     },
     "execution_count": 138,
     "metadata": {},
     "output_type": "execute_result"
    }
   ],
   "source": [
    "users_comments[users_comments['comment_classification'] == NOT_CLASSIFIED].sample(50)[['lemm_body']]\n"
   ]
  },
  {
   "cell_type": "code",
   "execution_count": null,
   "metadata": {},
   "outputs": [],
   "source": []
  },
  {
   "cell_type": "code",
   "execution_count": null,
   "metadata": {},
   "outputs": [],
   "source": [
    "comments"
   ]
  }
 ],
 "metadata": {
  "kernelspec": {
   "display_name": "Python 3",
   "language": "python",
   "name": "python3"
  },
  "language_info": {
   "codemirror_mode": {
    "name": "ipython",
    "version": 3
   },
   "file_extension": ".py",
   "mimetype": "text/x-python",
   "name": "python",
   "nbconvert_exporter": "python",
   "pygments_lexer": "ipython3",
   "version": "3.8.8"
  }
 },
 "nbformat": 4,
 "nbformat_minor": 4
}
