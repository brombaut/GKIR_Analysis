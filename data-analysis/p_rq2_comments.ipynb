{
 "cells": [
  {
   "cell_type": "code",
   "execution_count": 2,
   "metadata": {},
   "outputs": [],
   "source": [
    "%run _utils.ipynb"
   ]
  },
  {
   "cell_type": "code",
   "execution_count": 42,
   "metadata": {},
   "outputs": [],
   "source": [
    "issues = load_issues()\n",
    "comments = load_comments()"
   ]
  },
  {
   "cell_type": "code",
   "execution_count": 43,
   "metadata": {},
   "outputs": [
    {
     "name": "stdout",
     "output_type": "stream",
     "text": [
      "8.58% of in-range issues have a comment from a user.\n"
     ]
    }
   ],
   "source": [
    "NOT_CLASSIFIED = 'Other'\n",
    "# Set all comments to 'Not Classified'\n",
    "comments['comment_classification'] = NOT_CLASSIFIED\n",
    "users_comments = comments[comments['comment_user_type'] == 'User'].copy().reset_index(drop=True)\n",
    "issues_with_user_comment = issues[issues['id'].isin(users_comments['comment_issue_id'])].copy().reset_index(drop=True)\n",
    "percent_of_issues_with_user_comment = f'{calculate_percent(len(issues_with_user_comment), len(issues))}%'\n",
    "print(f'{percent_of_issues_with_user_comment} of in-range issues have a comment from a user.')\n",
    "users_comments = users_comments.drop(users_comments[pd.isna(users_comments['comment_body'])].index)"
   ]
  },
  {
   "cell_type": "code",
   "execution_count": 49,
   "metadata": {},
   "outputs": [
    {
     "data": {
      "application/vnd.jupyter.widget-view+json": {
       "model_id": "d512b55e36504c9593c1fb38ae801d3c",
       "version_major": 2,
       "version_minor": 0
      },
      "text/plain": [
       "HBox(children=(HTML(value=''), FloatProgress(value=0.0, max=10723.0), HTML(value='')))"
      ]
     },
     "metadata": {},
     "output_type": "display_data"
    },
    {
     "name": "stdout",
     "output_type": "stream",
     "text": [
      "\n"
     ]
    }
   ],
   "source": [
    "import nltk\n",
    "from nltk.corpus import stopwords\n",
    "from nltk.stem import WordNetLemmatizer\n",
    "lemma = WordNetLemmatizer()\n",
    "\n",
    "def clean_comment_body(c):\n",
    "    text = c['comment_body']\n",
    "    tokens = [t for t in text.split()]\n",
    "    clean_tokens = list()\n",
    "    for token in tokens:\n",
    "        if token not in stopwords.words('english'):\n",
    "            clean_tokens.append(lemma.lemmatize(token))\n",
    "    return ' '.join(clean_tokens)\n",
    "\n",
    "users_comments['lemm_body'] = users_comments.progress_apply(clean_comment_body, axis=1)"
   ]
  },
  {
   "cell_type": "code",
   "execution_count": 52,
   "metadata": {},
   "outputs": [
    {
     "name": "stdout",
     "output_type": "stream",
     "text": [
      "34.9% of user comments explicitly link a fix.\n"
     ]
    }
   ],
   "source": [
    "################################\n",
    "# START FIX_REFERENCED\n",
    "################################\n",
    "FIX_REFERENCED = 'Fix Referenced'\n",
    "\n",
    "reg_pr_url = '|'.join([\n",
    "    'https:\\/\\/github\\.com\\/[\\S]*\\/(pull|issues)\\/[\\S]*'\n",
    "])\n",
    "reg_closed_by = '|'.join([\n",
    "    '(closed|fixed|resolved|done|updated) (in|by|via|with)'\n",
    "])\n",
    "reg_number = '|'.join([\n",
    "    '^#\\d*|(Merged|Close|PR|see).*#\\d*'\n",
    "])\n",
    "\n",
    "users_comments.loc[\n",
    "    (users_comments['comment_classification'] == NOT_CLASSIFIED) & (\n",
    "        (users_comments['lemm_body'].str.contains(pat=reg_pr_url, case=True, regex=True)) |\n",
    "        (users_comments['lemm_body'].str.contains(pat=reg_closed_by, case=False, regex=True)) |\n",
    "        (users_comments['lemm_body'].str.contains(pat=reg_number, case=False, regex=True))\n",
    "    ),\n",
    "    'comment_classification'\n",
    "] = FIX_REFERENCED\n",
    "\n",
    "fix_referenced_comments = users_comments[users_comments['comment_classification'] == FIX_REFERENCED]\n",
    "print(f\"{calculate_percent(len(fix_referenced_comments), len(users_comments))}% of user comments explicitly link a fix.\")\n",
    "# fix_referenced_comments['comment_body'].sample(10)\n",
    "################################\n",
    "# END FIX_REFERENCED\n",
    "################################"
   ]
  },
  {
   "cell_type": "code",
   "execution_count": 59,
   "metadata": {},
   "outputs": [
    {
     "name": "stdout",
     "output_type": "stream",
     "text": [
      "18.39% of user comments indicate a false alarm.\n"
     ]
    }
   ],
   "source": [
    "################################\n",
    "# START FALSE_ALARM\n",
    "################################\n",
    "FALSE_ALARM = 'False Alarm'\n",
    "\n",
    "reg_flaky = '|'.join([\n",
    "    'flake',\n",
    "    'flaky',\n",
    "    'flakiness',\n",
    "    'fluke',\n",
    "    '(server|test|CI) hiccup',\n",
    "    'inconsistent test',\n",
    "    'brittle test',\n",
    "    'unstable unit test',\n",
    "    'unstable test',\n",
    "    'Spurious test failure',\n",
    "    'Tests are passing',\n",
    "    'tests are actually passing',\n",
    "])\n",
    "reg_random = '|'.join([\n",
    "    '(fail|failing) random',\n",
    "    'random.*fail.*',\n",
    "    'random build error',\n",
    "    'intermittent',\n",
    "])\n",
    "reg_retrigger = '|'.join([\n",
    "    'retrigger',\n",
    "    're-trigger',\n",
    "    'rebuild',\n",
    "    're-build',\n",
    "    'restart',\n",
    "    're-starting',\n",
    "    're-run',\n",
    "    'retried',\n",
    "    'rerun',\n",
    "    'reran',\n",
    "    're-ran',\n",
    "])\n",
    "reg_false_positive = '|'.join([\n",
    "    'false (positive|alarm|negative|alert)',\n",
    "    'falso positive',\n",
    "])\n",
    "reg_invalid = '|'.join([\n",
    "    '^(invalid|not applicable|not (a|an) issue|unrelated)',\n",
    "    'Couldn\\'t reproduce',\n",
    "    'all tests pass',\n",
    "])\n",
    "reg_unrelated = '|'.join([\n",
    "    '(unrelated.*fail)',\n",
    "    'failed for other reasons',\n",
    "    'build is actually passing',\n",
    "    'build hiccup',\n",
    "])\n",
    "reg_timeout = '|'.join([\n",
    "    'timeout|time-out',\n",
    "])\n",
    "\n",
    "users_comments.loc[\n",
    "    (users_comments['comment_classification'] == NOT_CLASSIFIED) & (\n",
    "        (users_comments['lemm_body'].str.contains(pat=reg_flaky, case=False, regex=True)) |\n",
    "        (users_comments['lemm_body'].str.contains(pat=reg_random, case=False, regex=True)) |\n",
    "        (users_comments['lemm_body'].str.contains(pat=reg_retrigger, case=False, regex=True)) |\n",
    "        (users_comments['lemm_body'].str.contains(pat=reg_false_positive, case=False, regex=True)) | \n",
    "        (users_comments['lemm_body'].str.contains(pat=reg_invalid, case=False, regex=True)) |\n",
    "        (users_comments['lemm_body'].str.contains(pat=reg_unrelated, case=False, regex=True)) |\n",
    "        (users_comments['lemm_body'].str.contains(pat=reg_timeout, case=False, regex=True))\n",
    "    ),\n",
    "    'comment_classification'\n",
    "] = FALSE_ALARM\n",
    "\n",
    "\n",
    "false_alarm_comments = users_comments[users_comments['comment_classification'] == FALSE_ALARM]\n",
    "print(f\"{calculate_percent(len(false_alarm_comments), len(users_comments))}% of user comments indicate a false alarm.\")\n",
    "# false_alarm_comments['comment_body'].sample(10)\n",
    "################################\n",
    "# END FALSE_ALARM\n",
    "################################"
   ]
  },
  {
   "cell_type": "code",
   "execution_count": 53,
   "metadata": {},
   "outputs": [
    {
     "name": "stdout",
     "output_type": "stream",
     "text": [
      "0.24% of user comments saying failure was caused by transient dependency\n"
     ]
    }
   ],
   "source": [
    "################################\n",
    "# START TRANSIENT_FAILURE\n",
    "################################\n",
    "TRANSIENT_FAILURE = 'Transient Failure'\n",
    "\n",
    "reg_transient = '|'.join([\n",
    "    'transient.*fail',\n",
    "])\n",
    "\n",
    "users_comments.loc[\n",
    "    (users_comments['comment_classification'] == NOT_CLASSIFIED) & (\n",
    "        (users_comments['lemm_body'].str.contains(pat=reg_transient, case=False, regex=True))\n",
    "    ),\n",
    "    'comment_classification'\n",
    "] = TRANSIENT_FAILURE\n",
    "\n",
    "transient_failure_comments = users_comments[users_comments['comment_classification'] == TRANSIENT_FAILURE]\n",
    "print(f\"{calculate_percent(len(transient_failure_comments), len(users_comments))}% of user comments saying failure was caused by transient dependency\")\n",
    "# transient_failure_comments['comment_body'].sample(10)\n",
    "################################\n",
    "# END TRANSIENT_FAILURE\n",
    "################################"
   ]
  },
  {
   "cell_type": "code",
   "execution_count": 54,
   "metadata": {},
   "outputs": [
    {
     "name": "stdout",
     "output_type": "stream",
     "text": [
      "3.32% of user comments mentioning Greenkeeper\n"
     ]
    }
   ],
   "source": [
    "################################\n",
    "# START MENTION_GREENKEEPER\n",
    "################################\n",
    "MENTION_GREENKEEPER = 'Mention Greenkeeper'\n",
    "\n",
    "reg_greenkeeper = '|'.join([\n",
    "    'greenkeeper',\n",
    "])\n",
    "\n",
    "users_comments.loc[\n",
    "    (users_comments['comment_classification'] == NOT_CLASSIFIED) & (\n",
    "        (users_comments['lemm_body'].str.contains(pat=reg_greenkeeper, case=False, regex=True))\n",
    "    ),\n",
    "    'comment_classification'\n",
    "] = MENTION_GREENKEEPER\n",
    "\n",
    "mention_greenkeeper_comments = users_comments[users_comments['comment_classification'] == MENTION_GREENKEEPER]\n",
    "print(f\"{calculate_percent(len(mention_greenkeeper_comments), len(users_comments))}% of user comments mentioning Greenkeeper\")\n",
    "# mention_greenkeeper_comments['comment_body'].sample(10)\n",
    "################################\n",
    "# END MENTION_GREENKEEPER\n",
    "################################"
   ]
  },
  {
   "cell_type": "code",
   "execution_count": 55,
   "metadata": {},
   "outputs": [
    {
     "name": "stdout",
     "output_type": "stream",
     "text": [
      "4.54% of user comments mention the projects CI build system\n"
     ]
    }
   ],
   "source": [
    "################################\n",
    "# START MENTION_CI_SYSTEM\n",
    "################################\n",
    "MENTION_CI_SYSTEM = 'Mention CI System'\n",
    "\n",
    "reg_ci_system = '|'.join([\n",
    "    'travis',\n",
    "    'CircleCI',\n",
    "    'circle ci',\n",
    "    'jarvis',\n",
    "    'jenkins',\n",
    "    'CI.*issue',\n",
    "])\n",
    "\n",
    "users_comments.loc[\n",
    "    (users_comments['comment_classification'] == NOT_CLASSIFIED) & (\n",
    "        (users_comments['lemm_body'].str.contains(pat=reg_ci_system, case=False, regex=True))\n",
    "    ),\n",
    "    'comment_classification'\n",
    "] = MENTION_CI_SYSTEM\n",
    "\n",
    "mention_ci_system_comments = users_comments[users_comments['comment_classification'] == MENTION_CI_SYSTEM]\n",
    "print(f\"{calculate_percent(len(mention_ci_system_comments), len(users_comments))}% of user comments mention the projects CI build system\")\n",
    "# mention_greenkeeper_comments['comment_body'].sample(10)\n",
    "################################\n",
    "# END MENTION_CI_SYSTEM\n",
    "################################"
   ]
  },
  {
   "cell_type": "code",
   "execution_count": 56,
   "metadata": {},
   "outputs": [
    {
     "name": "stdout",
     "output_type": "stream",
     "text": [
      "17.25% of user comments saying the issues has been fixed (without linking the fix).\n"
     ]
    }
   ],
   "source": [
    "################################\n",
    "# START FIX_MENTIONED\n",
    "################################\n",
    "FIX_MENTIONED = 'Fix Mentioned'\n",
    "\n",
    "reg_fixed = '(fix(ed)*|resolved|done|solved|closed|updated|upgraded|closing|merged)|(fix|fixed|bumped|merged|upgraded).*manually|manually.*merged'\n",
    "reg_update_in = '.*update.*in.*|Making a PR'\n",
    "\n",
    "users_comments.loc[\n",
    "    (users_comments['comment_classification'] == NOT_CLASSIFIED) & (\n",
    "        (users_comments['lemm_body'].str.contains(pat=reg_fixed, case=False, regex=True)) | \n",
    "        (users_comments['lemm_body'].str.contains(pat=reg_update_in, case=False, regex=True))\n",
    "    ),\n",
    "    'comment_classification'\n",
    "] = FIX_MENTIONED\n",
    "\n",
    "fix_mentioned_comments = users_comments[users_comments['comment_classification'] == FIX_MENTIONED]\n",
    "print(f\"{calculate_percent(len(fix_mentioned_comments), len(users_comments))}% of user comments saying the issues has been fixed (without linking the fix).\")\n",
    "# fix_mentioned_comments['comment_body'].sample(10)\n",
    "################################\n",
    "# END FIX_MENTIONED\n",
    "################################"
   ]
  },
  {
   "cell_type": "code",
   "execution_count": 60,
   "metadata": {},
   "outputs": [
    {
     "data": {
      "text/html": [
       "<div>\n",
       "<style scoped>\n",
       "    .dataframe tbody tr th:only-of-type {\n",
       "        vertical-align: middle;\n",
       "    }\n",
       "\n",
       "    .dataframe tbody tr th {\n",
       "        vertical-align: top;\n",
       "    }\n",
       "\n",
       "    .dataframe thead th {\n",
       "        text-align: right;\n",
       "    }\n",
       "</style>\n",
       "<table border=\"1\" class=\"dataframe\">\n",
       "  <thead>\n",
       "    <tr style=\"text-align: right;\">\n",
       "      <th></th>\n",
       "      <th>comment_body</th>\n",
       "    </tr>\n",
       "  </thead>\n",
       "  <tbody>\n",
       "    <tr>\n",
       "      <th>77</th>\n",
       "      <td>Duplicate of #80.</td>\n",
       "    </tr>\n",
       "    <tr>\n",
       "      <th>9582</th>\n",
       "      <td>it's not 😛</td>\n",
       "    </tr>\n",
       "    <tr>\n",
       "      <th>9210</th>\n",
       "      <td>no longer a dependency</td>\n",
       "    </tr>\n",
       "    <tr>\n",
       "      <th>111</th>\n",
       "      <td>Problem rectified \\r\\n![cat-typing](https://user-images.githubusercontent.com/36107/79525708-20aed580-8096-11ea-8428-f6f492e42bc1.gif)\\r\\n</td>\n",
       "    </tr>\n",
       "    <tr>\n",
       "      <th>9169</th>\n",
       "      <td>v2.4.0 was unpublished.</td>\n",
       "    </tr>\n",
       "    <tr>\n",
       "      <th>5993</th>\n",
       "      <td>Failures were due to unrelated build issues.</td>\n",
       "    </tr>\n",
       "    <tr>\n",
       "      <th>2845</th>\n",
       "      <td>Covered by #472</td>\n",
       "    </tr>\n",
       "    <tr>\n",
       "      <th>1316</th>\n",
       "      <td>````\\r\\nserver-jre8 v8.0.202 [Approved] - Possibly broken\\r\\n15server-jre8 package files install completed. Performing other installation steps.\\r\\n16ERROR: Exception calling \"DownloadFile\" with \"2\" argument(s): \"The remote server returned an error: (404) Not Found.\"\\r\\n17Environment Vars (like PATH) have changed. Close/reopen your shell to\\r\\n18 see the changes (or in powershell/cmd.exe just type `refreshenv`).\\r\\n19The install of server-jre8 was NOT successful.\\r\\n20Error while running 'C:\\ProgramData\\chocolatey\\lib\\server-jre8\\tools\\chocolateyInstall.ps1'.\\r\\n21 See log for details.\\r\\n22\\r\\n23elasticsearch v6.7.1 [Approved] - Likely broken for FOSS users (due to download location changes)\\r\\n24elasticsearch package files install completed. Performing other installation steps.\\r\\n````</td>\n",
       "    </tr>\n",
       "    <tr>\n",
       "      <th>10143</th>\n",
       "      <td>Deleted build cache and reinstalled dependencies. No more Snyk errors.</td>\n",
       "    </tr>\n",
       "    <tr>\n",
       "      <th>2308</th>\n",
       "      <td>Faaaalse positive.</td>\n",
       "    </tr>\n",
       "  </tbody>\n",
       "</table>\n",
       "</div>"
      ],
      "text/plain": [
       "                                                                                                                                                                                                                                                                                                                                                                                                                                                                                                                                                                                                                                                                                                                                                                                                                         comment_body\n",
       "77                                                                                                                                                                                                                                                                                                                                                                                                                                                                                                                                                                                                                                                                                                                                                                                                                  Duplicate of #80.\n",
       "9582                                                                                                                                                                                                                                                                                                                                                                                                                                                                                                                                                                                                                                                                                                                                                                                                                       it's not 😛\n",
       "9210                                                                                                                                                                                                                                                                                                                                                                                                                                                                                                                                                                                                                                                                                                                                                                                                           no longer a dependency\n",
       "111                                                                                                                                                                                                                                                                                                                                                                                                                                                                                                                                                                                                                                                                                        Problem rectified \\r\\n![cat-typing](https://user-images.githubusercontent.com/36107/79525708-20aed580-8096-11ea-8428-f6f492e42bc1.gif)\\r\\n\n",
       "9169                                                                                                                                                                                                                                                                                                                                                                                                                                                                                                                                                                                                                                                                                                                                                                                                          v2.4.0 was unpublished.\n",
       "5993                                                                                                                                                                                                                                                                                                                                                                                                                                                                                                                                                                                                                                                                                                                                                                                     Failures were due to unrelated build issues.\n",
       "2845                                                                                                                                                                                                                                                                                                                                                                                                                                                                                                                                                                                                                                                                                                                                                                                                                  Covered by #472\n",
       "1316   ````\\r\\nserver-jre8 v8.0.202 [Approved] - Possibly broken\\r\\n15server-jre8 package files install completed. Performing other installation steps.\\r\\n16ERROR: Exception calling \"DownloadFile\" with \"2\" argument(s): \"The remote server returned an error: (404) Not Found.\"\\r\\n17Environment Vars (like PATH) have changed. Close/reopen your shell to\\r\\n18 see the changes (or in powershell/cmd.exe just type `refreshenv`).\\r\\n19The install of server-jre8 was NOT successful.\\r\\n20Error while running 'C:\\ProgramData\\chocolatey\\lib\\server-jre8\\tools\\chocolateyInstall.ps1'.\\r\\n21 See log for details.\\r\\n22\\r\\n23elasticsearch v6.7.1 [Approved] - Likely broken for FOSS users (due to download location changes)\\r\\n24elasticsearch package files install completed. Performing other installation steps.\\r\\n````\n",
       "10143                                                                                                                                                                                                                                                                                                                                                                                                                                                                                                                                                                                                                                                                                                                                                          Deleted build cache and reinstalled dependencies. No more Snyk errors.\n",
       "2308                                                                                                                                                                                                                                                                                                                                                                                                                                                                                                                                                                                                                                                                                                                                                                                                               Faaaalse positive."
      ]
     },
     "execution_count": 60,
     "metadata": {},
     "output_type": "execute_result"
    }
   ],
   "source": [
    "# TODO: Classify others\n",
    "users_comments[users_comments['comment_classification'] == NOT_CLASSIFIED][['comment_body']].sample(10)"
   ]
  },
  {
   "cell_type": "code",
   "execution_count": null,
   "metadata": {},
   "outputs": [],
   "source": []
  }
 ],
 "metadata": {
  "kernelspec": {
   "display_name": "Python 3",
   "language": "python",
   "name": "python3"
  },
  "language_info": {
   "codemirror_mode": {
    "name": "ipython",
    "version": 3
   },
   "file_extension": ".py",
   "mimetype": "text/x-python",
   "name": "python",
   "nbconvert_exporter": "python",
   "pygments_lexer": "ipython3",
   "version": "3.8.5"
  }
 },
 "nbformat": 4,
 "nbformat_minor": 4
}
