{
 "cells": [
  {
   "cell_type": "code",
   "execution_count": 1,
   "metadata": {},
   "outputs": [],
   "source": [
    "%run _utils.ipynb"
   ]
  },
  {
   "cell_type": "code",
   "execution_count": 2,
   "metadata": {},
   "outputs": [],
   "source": [
    "issues = load_issues()\n",
    "comments = load_comments()"
   ]
  },
  {
   "cell_type": "markdown",
   "metadata": {},
   "source": [
    "<h3><b><i>How many comments do in-range breaking build issue reports have in total, from GK and from actual developers?</i></b></h3>"
   ]
  },
  {
   "cell_type": "code",
   "execution_count": 18,
   "metadata": {},
   "outputs": [
    {
     "data": {
      "text/plain": [
       "greenkeeper[bot]     354196\n",
       "ljharb                  598\n",
       "ryanhefner              379\n",
       "gr2m                    261\n",
       "derhuerst               198\n",
       "                      ...  \n",
       "binki                     1\n",
       "stefan-guggisberg         1\n",
       "MontoyaAndres             1\n",
       "hawkeye64                 1\n",
       "dkhuntrods                1\n",
       "Name: comment_user_login, Length: 1607, dtype: int64"
      ]
     },
     "execution_count": 18,
     "metadata": {},
     "output_type": "execute_result"
    }
   ],
   "source": [
    "comments['comment_user_login'].value_counts()"
   ]
  },
  {
   "cell_type": "code",
   "execution_count": 22,
   "metadata": {},
   "outputs": [
    {
     "name": "stdout",
     "output_type": "stream",
     "text": [
      "  comment_user_login  proportion\n",
      "0   greenkeeper[bot]    0.968741\n",
      "1             ljharb    0.001636\n",
      "2         ryanhefner    0.001037\n",
      "3               gr2m    0.000714\n",
      "4          derhuerst    0.000542\n",
      "Number of comments on In-Range issues      Count      Mean       STD    Min    25%    Median    75%    Max\n",
      "---------------------------------------  -------  --------  --------  -----  -----  --------  -----  -----\n",
      "num_of_comments                            99581  3.67163   5.40044       1      1         2      4     30\n",
      "user_comments_count                        99581  0.107691  0.383286      0      0         0      0     28\n",
      "bot_comments_count                         99581  3.56394   5.41808       0      1         1      3     30\n",
      "gk_comments_count                          99581  3.55686   5.4184        0      1         1      3     30\n",
      "\n"
     ]
    }
   ],
   "source": [
    "proportions = (\n",
    "    comments['comment_user_login'].value_counts() / \n",
    "    comments['comment_user_login'].count()\n",
    ").to_frame(name='proportion')\\\n",
    "    .rename_axis('comment_user_login')\\\n",
    "    .reset_index()\n",
    "print(proportions.head())\n",
    "\n",
    "def get_issue_comment_count(df):\n",
    "    return df.groupby('comment_issue_id')['comment_id']\\\n",
    "        .count()\\\n",
    "        .to_frame(name='num_of_comments')\\\n",
    "        .reset_index()\n",
    "\n",
    "counts = get_issue_comment_count(comments)\n",
    "user_counts = get_issue_comment_count(comments[comments['comment_user_type'] == 'User']).rename(columns={'num_of_comments': 'user_comments_count'})\n",
    "bot_counts = get_issue_comment_count(comments[comments['comment_user_type'] == 'Bot']).rename(columns={'num_of_comments': 'bot_comments_count'})\n",
    "gk_counts = (\n",
    "    get_issue_comment_count(\n",
    "        comments[\n",
    "            (comments['comment_user_type'] == 'Bot') &\n",
    "            (comments['comment_user_login'] == 'greenkeeper[bot]')\n",
    "        ]\n",
    "    ).rename(\n",
    "        columns={'num_of_comments': 'gk_comments_count'}\n",
    "    )\n",
    ")\n",
    "\n",
    "\n",
    "counts = (\n",
    "    counts.merge(\n",
    "        user_counts,\n",
    "        how='left',\n",
    "        on='comment_issue_id'\n",
    "    ).merge(\n",
    "        bot_counts,\n",
    "        how='left',\n",
    "        on='comment_issue_id'\n",
    "    ).merge(\n",
    "        gk_counts,\n",
    "        how='left',\n",
    "        on='comment_issue_id'\n",
    "    ).fillna(0)\n",
    ")\n",
    "counts['user_comments_count'] = counts['user_comments_count'].astype(int)\n",
    "counts['bot_comments_count'] = counts['bot_comments_count'].astype(int)\n",
    "tfns(counts, ['num_of_comments', 'user_comments_count', 'bot_comments_count', 'gk_comments_count'], should_round=False, title='Number of comments on In-Range issues')\n",
    "\n",
    "# user_counts = get_issue_comment_count(comments[comments['comment_user_type'] == 'User'])\n",
    "# tfns(user_counts, ['num_of_comments'], should_round=False, title='Number of user comments on In-Range issues')\n",
    "\n",
    "# bot_counts = get_issue_comment_count(comments[comments['comment_user_type'] == 'Bot'])\n",
    "# tfns(bot_counts, ['num_of_comments'], should_round=False, title='Number of bot comments on In-Range issues')\n"
   ]
  },
  {
   "cell_type": "markdown",
   "metadata": {},
   "source": [
    "<h3>User Comments Analysis</h3>"
   ]
  },
  {
   "cell_type": "code",
   "execution_count": 670,
   "metadata": {},
   "outputs": [
    {
     "name": "stdout",
     "output_type": "stream",
     "text": [
      "9.3% of in-range issues have a comment from a user.\n"
     ]
    }
   ],
   "source": [
    "users_comments = comments[comments['comment_user_type'] == 'User'].copy().reset_index(drop=True)\n",
    "issues_with_user_comment = \\\n",
    "    gk_issues[gk_issues['id']\\\n",
    "        .isin(users_comments['comment_issue_id'])]\\\n",
    "        .copy()\\\n",
    "        .reset_index(drop=True)\n",
    "percent_of_issues_with_user_comment = f'{calculate_percent(len(issues_with_user_comment), len(gk_issues))}%'\n",
    "print(f'{percent_of_issues_with_user_comment} of in-range issues have a comment from a user.')"
   ]
  },
  {
   "cell_type": "markdown",
   "metadata": {},
   "source": [
    "<h3><b><i>How long does it take for users to comment?</i></b></h3>"
   ]
  },
  {
   "cell_type": "code",
   "execution_count": 792,
   "metadata": {},
   "outputs": [
    {
     "name": "stdout",
     "output_type": "stream",
     "text": [
      "                   Count  Mean              STD               Min              25%              Median           75%               Max\n",
      "---------------  -------  ----------------  ----------------  ---------------  ---------------  ---------------  ----------------  ------------------\n",
      "time_to_comment     9652  25 days 17:24:11  65 days 08:20:06  0 days 00:00:01  0 days 08:17:24  2 days 12:57:58  18 days 16:46:52  1039 days 05:34:55\n",
      "\n"
     ]
    },
    {
     "data": {
      "image/png": "[encoded data removed]",
      "text/plain": [
       "<Figure size 432x144 with 1 Axes>"
      ]
     },
     "metadata": {
      "needs_background": "light"
     },
     "output_type": "display_data"
    }
   ],
   "source": [
    "users_comments_simplified = users_comments[['comment_issue_id', 'comment_created_at']]\n",
    "users_comments_simplified = \\\n",
    "    users_comments_simplified\\\n",
    "        .groupby('comment_issue_id')['comment_created_at']\\\n",
    "        .min()\\\n",
    "        .to_frame()\\\n",
    "        .reset_index()\n",
    "issues_simplified = gk_issues[['id', 'created_at', 'repo_name']]\n",
    "\n",
    "gk_issues_with_first_user_comments = issues_simplified.merge(\n",
    "    users_comments_simplified,\n",
    "    left_on='id',\n",
    "    right_on='comment_issue_id'\n",
    ")\n",
    "gk_issues_with_first_user_comments['time_to_comment'] = \\\n",
    "    gk_issues_with_first_user_comments['comment_created_at'] - gk_issues_with_first_user_comments['created_at']\n",
    "\n",
    "gk_issues_with_first_user_comments['time_to_comment_hours'] = \\\n",
    "    gk_issues_with_first_user_comments['time_to_comment'] / np.timedelta64(1, 'h')\n",
    "gk_issues_with_first_user_comments = \\\n",
    "    gk_issues_with_first_user_comments[~(gk_issues_with_first_user_comments['time_to_comment_hours'] == 0)]\n",
    "gk_issues_with_first_user_comments['log_time_to_comment_hours'] = \\\n",
    "    np.log10(gk_issues_with_first_user_comments['time_to_comment_hours'])\n",
    "gk_issues_with_first_user_comments['placeholder'] = ''\n",
    "fig, ax = plt.subplots(nrows=1, ncols=1, figsize=(6,2))\n",
    "ax = sns.violinplot(\n",
    "    data=gk_issues_with_first_user_comments,\n",
    "    x='log_time_to_comment_hours',\n",
    "    y='placeholder',\n",
    "    inner='quartile',\n",
    "    palette=['0.6'],\n",
    ")\n",
    "ax.set_ylabel('')\n",
    "ax.set_xlabel('Time to first user comment (hours)')\n",
    "ax.xaxis.set_major_formatter(log10_func_formatter)\n",
    "tfns(merged, ['time_to_comment'])\n",
    "plt.show()"
   ]
  },
  {
   "cell_type": "markdown",
   "metadata": {},
   "source": [
    "<h3><b>Intra-project comparison of time until first user comment</b></h3>"
   ]
  },
  {
   "cell_type": "code",
   "execution_count": 681,
   "metadata": {},
   "outputs": [],
   "source": [
    "# Writing out CSV for creating non_gkirbbi_comments\n",
    "# for_csv = non_gk_issues[['id', 'repo_name', 'comments_url']]\n",
    "# for_csv.to_csv(f'../csv/issues_to_collect_comments_for.csv', index=False)"
   ]
  },
  {
   "cell_type": "code",
   "execution_count": 822,
   "metadata": {},
   "outputs": [
    {
     "name": "stdout",
     "output_type": "stream",
     "text": [
      "Count of unique projects: 1258\n"
     ]
    }
   ],
   "source": [
    "non_gkirbbi_comments = load_non_gkirbbi_comments()\n",
    "print(f'Count of unique projects: {non_gkirbbi_comments[\"repo_name\"].nunique()}')\n",
    "\n",
    "# Determine time until first user comment on non-gk issues\n",
    "non_gkirbbi_user_comments = non_gkirbbi_comments.loc[\n",
    "    (non_gkirbbi_comments['user_type'] == 'User') &\n",
    "    (~non_gkirbbi_comments['issue_id'].isin(gk_issues_with_first_user_comments['id']))\n",
    "]\n",
    "non_gkirbbi_first_user_comments = (\n",
    "    non_gkirbbi_user_comments\n",
    "        .groupby('issue_id')['created_at']\n",
    "        .min()\n",
    "        .to_frame()\n",
    "        .reset_index()   \n",
    ")\n",
    "non_gkirbbi_with_first_comment = non_gkirbbi_first_user_comments.merge(\n",
    "    non_gk_issues[['id', 'repo_name', 'created_at']],\n",
    "    how='inner',\n",
    "    left_on='issue_id',\n",
    "    right_on='id',\n",
    "    suffixes=['_comment', '_issue']\n",
    ")\n",
    "non_gkirbbi_with_first_comment['time_to_comment'] = \\\n",
    "    non_gkirbbi_with_first_comment['created_at_comment'] - non_gkirbbi_with_first_comment['created_at_issue']\n",
    "\n",
    "# Find what the mean and median time to first user comment on non-gk issues at project level\n",
    "non_gkirbbi_with_first_comment__simplified = \\\n",
    "    non_gkirbbi_with_first_comment[['id', 'repo_name', 'time_to_comment']].copy()\n",
    "\n",
    "non_gkirbbi_with_first_comment__simplified['time_to_comment'] = \\\n",
    "    non_gkirbbi_with_first_comment__simplified['time_to_comment'].dt.total_seconds()  # Have to convert to seconds to calculate mean and median\n",
    "\n",
    "projects__non_gkirbbi_with_first_user_comment = (\n",
    "    non_gkirbbi_with_first_comment__simplified\n",
    "        .groupby('repo_name')['time_to_comment']\n",
    "        .agg(['mean', 'median'])\n",
    "        .reset_index()\n",
    ")\n",
    "\n",
    "projects__non_gkirbbi_with_first_user_comment = \\\n",
    "    projects__non_gkirbbi_with_first_user_comment[~pd.isna(projects__non_gkirbbi_with_first_user_comment['median'])]\n",
    "\n",
    "projects__non_gkirbbi_with_first_user_comment['mean'] = pd.to_timedelta(\n",
    "    projects__non_gkirbbi_with_first_user_comment['mean'],\n",
    "    unit='s'\n",
    ")\n",
    "projects__non_gkirbbi_with_first_user_comment['mean_hours_log'] = np.log10(\n",
    "    projects__non_gkirbbi_with_first_user_comment['mean'] / np.timedelta64(1, 'h')\n",
    ")\n",
    "projects__non_gkirbbi_with_first_user_comment['median'] = pd.to_timedelta(\n",
    "    projects__non_gkirbbi_with_first_user_comment['median'],\n",
    "    unit='s'\n",
    ")\n",
    "projects__non_gkirbbi_with_first_user_comment['median_hours_log'] = np.log10(\n",
    "    projects__non_gkirbbi_with_first_user_comment['median'] / np.timedelta64(1, 'h')\n",
    ")"
   ]
  },
  {
   "cell_type": "code",
   "execution_count": 824,
   "metadata": {},
   "outputs": [],
   "source": [
    "gk_issues_with_first_user_comments__simplified = \\\n",
    "    gk_issues_with_first_user_comments[['id', 'repo_name', 'time_to_comment']].copy()\n",
    "\n",
    "gk_issues_with_first_user_comments__simplified['time_to_comment'] = \\\n",
    "    gk_issues_with_first_user_comments__simplified['time_to_comment'].dt.total_seconds()  # Have to convert to seconds to calculate mean and median\n",
    "\n",
    "projects__gk_issues_with_first_user_comments = (\n",
    "    gk_issues_with_first_user_comments__simplified\n",
    "        .groupby('repo_name')['time_to_comment']\n",
    "        .agg(['mean', 'median'])\n",
    "        .reset_index()\n",
    ")\n",
    "projects__gk_issues_with_first_user_comments['mean'] = pd.to_timedelta(\n",
    "    projects__gk_issues_with_first_user_comments['mean'],\n",
    "    unit='s'\n",
    ")\n",
    "projects__gk_issues_with_first_user_comments['mean_hours_log'] = np.log10(\n",
    "    projects__gk_issues_with_first_user_comments['mean'] / np.timedelta64(1, 'h')\n",
    ")\n",
    "projects__gk_issues_with_first_user_comments['median'] = pd.to_timedelta(\n",
    "    projects__gk_issues_with_first_user_comments['median'],\n",
    "    unit='s'\n",
    ")\n",
    "projects__gk_issues_with_first_user_comments['median_hours_log'] = np.log10(\n",
    "    projects__gk_issues_with_first_user_comments['median'] / np.timedelta64(1, 'h')\n",
    ")"
   ]
  },
  {
   "cell_type": "code",
   "execution_count": 830,
   "metadata": {},
   "outputs": [
    {
     "name": "stdout",
     "output_type": "stream",
     "text": [
      "--Intra-project comparison for median time to first user comment on non-GK issues & median time to first user comment on GK in-range breaking build issues--\n",
      "                 Count  Mean              STD               Min              25%              Median           75%               Max\n",
      "-------------  -------  ----------------  ----------------  ---------------  ---------------  ---------------  ----------------  ------------------\n",
      "median_non_gk      458  19 days 20:50:07  84 days 21:24:15  0 days 00:00:41  0 days 04:52:51  0 days 16:25:52  3 days 00:29:13   1139 days 22:27:21\n",
      "median_gk          458  25 days 01:36:42  63 days 22:26:09  0 days 00:00:06  0 days 07:55:06  2 days 06:41:50  17 days 03:40:50  515 days 04:38:21\n",
      "\n"
     ]
    },
    {
     "data": {
      "image/png": "[encoded data removed]",
      "text/plain": [
       "<Figure size 576x216 with 1 Axes>"
      ]
     },
     "metadata": {
      "needs_background": "light"
     },
     "output_type": "display_data"
    }
   ],
   "source": [
    "# Merge gk and non-gk project time to user comment by repo_name\n",
    "project__all_issues__time_to_comment = projects__non_gkirbbi_with_first_user_comment.merge(\n",
    "    projects__gk_issues_with_first_user_comments,\n",
    "    how='inner',\n",
    "    on=['repo_name'],\n",
    "    suffixes=['_non_gk', '_gk'],\n",
    ")\n",
    "# Melt for violine plot\n",
    "melted = pd.melt(\n",
    "    project__all_issues__time_to_comment,\n",
    "    id_vars='repo_name',\n",
    "    value_vars=['median_hours_log_gk', 'median_hours_log_non_gk'],\n",
    "    var_name='issue_type',\n",
    "    value_name='median_time_to_comment_hours_log',\n",
    ")\n",
    "\n",
    "melted['placeholder'] = ''\n",
    "fig, ax = plt.subplots(nrows=1, ncols=1, figsize=(8,3))\n",
    "sns.violinplot(\n",
    "    data=melted,\n",
    "    x='median_time_to_comment_hours_log',\n",
    "    y='placeholder',\n",
    "    hue='issue_type',\n",
    "    split=True,\n",
    "    inner='quartile',\n",
    "    palette=['1', '0.6'],\n",
    "    ax=ax,\n",
    ")\n",
    "ax.set_ylabel('')\n",
    "ax.set_xlabel('Median time to first use comment on issue (hours)')\n",
    "ax.xaxis.set_major_formatter(log10_func_formatter)\n",
    "ax.legend(\n",
    "    title='',\n",
    ")\n",
    "L = plt.legend()\n",
    "L.get_texts()[0].set_text('Non-Greenkeeper In-Range Breaking Issue')\n",
    "L.get_texts()[1].set_text('Greenkeeper In-Range Breaking Issue')\n",
    "print('--Intra-project comparison for median time to first user comment on non-GK issues & median time to first user comment on GK in-range breaking build issues--')\n",
    "tfns(project__all_issues__time_to_comment, ['median_non_gk', 'median_gk'], title='')\n",
    "plt.show()"
   ]
  },
  {
   "cell_type": "code",
   "execution_count": 831,
   "metadata": {},
   "outputs": [
    {
     "name": "stdout",
     "output_type": "stream",
     "text": [
      "--Intra-project comparison for ratio of median time to first user comment on GK issues vs non-GK issues--\n",
      "                Count     Mean      STD    Min    25%    Median     75%     Max\n",
      "------------  -------  -------  -------  -----  -----  --------  ------  ------\n",
      "median_ratio      458  778.275  13892.5      0  0.331     2.987  24.141  296580\n",
      "mean_ratio        458  734.819  13889.6      0  0.052     0.474   2.276  296580\n",
      "\n"
     ]
    },
    {
     "data": {
      "image/png": "[encoded data removed]",
      "text/plain": [
       "<Figure size 576x216 with 1 Axes>"
      ]
     },
     "metadata": {
      "needs_background": "light"
     },
     "output_type": "display_data"
    }
   ],
   "source": [
    "project__all_issues__time_to_comment['median_ratio'] = (\n",
    "    project__all_issues__time_to_comment['median_gk'] / \n",
    "    project__all_issues__time_to_comment['median_non_gk']\n",
    ")\n",
    "project__all_issues__time_to_comment['mean_ratio'] = (\n",
    "    project__all_issues__time_to_comment['mean_gk'] / \n",
    "    project__all_issues__time_to_comment['mean_non_gk']\n",
    ")\n",
    "for_plot = project__all_issues__time_to_comment[['median_ratio']].copy()\n",
    "# Remove outliers and extemes for plot\n",
    "for_plot = for_plot[for_plot['median_ratio'] < 100]\n",
    "for_plot = filter_outliers(for_plot, col='median_ratio', threshold=3)\n",
    "\n",
    "for_plot['placeholder'] = ''\n",
    "fig, ax = plt.subplots(nrows=1, ncols=1, figsize=(8,3))\n",
    "sns.violinplot(\n",
    "    data=for_plot,\n",
    "    x='median_ratio',\n",
    "    y='placeholder',\n",
    "    inner='quartile',\n",
    "    palette=['0.6'],\n",
    ")\n",
    "ax.set_ylabel('')\n",
    "print('--Intra-project comparison for ratio of median time to first user comment on GK issues vs non-GK issues--')\n",
    "tfns(project__all_issues__time_to_comment, ['median_ratio', 'mean_ratio'])\n",
    "plt.show()"
   ]
  },
  {
   "cell_type": "markdown",
   "metadata": {},
   "source": [
    "<h3>Bot Comments Analysis</h3>"
   ]
  },
  {
   "cell_type": "markdown",
   "metadata": {},
   "source": [
    "<h3><b><i>How many issues are eventually resolved by the provider releasing a new version?</i></b></h3>"
   ]
  },
  {
   "cell_type": "code",
   "execution_count": 892,
   "metadata": {},
   "outputs": [
    {
     "name": "stdout",
     "output_type": "stream",
     "text": [
      "37.87% (39298) of issues saw a new release of the dependency\n",
      "18.72% (7355) of issues that saw a new release saw at least on passing release (7.09% of all issues)\n",
      "81.28% (31943) of issues that saw a new release saw only failing releases (30.78% of all issues)\n",
      "\n"
     ]
    }
   ],
   "source": [
    "gk_comments = comments.loc[\n",
    "    (\n",
    "        (comments['comment_user_type'] == 'Bot') &\n",
    "        (comments['comment_user_login'] == 'greenkeeper[bot]')\n",
    "    )\n",
    "]\n",
    "failing_with_new_release_regex = 'Your tests are still failing with this version'\n",
    "passing_with_new_release_regex = 'Your tests are passing again with this version'\n",
    "\n",
    "def comment_group_saw_new_release(comment_group):\n",
    "    new_release_comments = comment_group[\n",
    "        (comment_group['comment_body'].str.contains(failing_with_new_release_regex)) |\n",
    "        (comment_group['comment_body'].str.contains(passing_with_new_release_regex))\n",
    "    ]\n",
    "    return len(new_release_comments) > 0\n",
    "\n",
    "gk_new_release_comments = gk_comments.groupby('comment_issue_id').filter(comment_group_saw_new_release)\n",
    "issues_with_new_release_count = gk_new_release_comments['comment_issue_id'].nunique()\n",
    "proportion = calculate_percent(issues_with_new_release_count, len(gk_issues))\n",
    "print(f'{proportion}% ({issues_with_new_release_count}) of issues saw a new release of the dependency')\n",
    "\n",
    "\n",
    "def issue_has_passing_with_new_release_comment(comment_group):\n",
    "    new_passing_release_comments = comment_group[\n",
    "        comment_group['comment_body'].str.contains(passing_with_new_release_regex)\n",
    "    ]\n",
    "    return len(new_passing_release_comments) > 0\n",
    "\n",
    "def issue_has_only_failing_new_release_comments(comment_group):\n",
    "    if issue_has_passing_with_new_release_comment(comment_group):\n",
    "        return False\n",
    "    new_failing_release_comments = comment_group[\n",
    "        comment_group['comment_body'].str.contains(failing_with_new_release_regex)\n",
    "    ]\n",
    "    return len(new_failing_release_comments) > 0\n",
    "\n",
    "passing_with_new_release = \\\n",
    "    gk_new_release_comments.groupby('comment_issue_id').filter(issue_has_passing_with_new_release_comment)\n",
    "issues_with_passing_new_release_count = \\\n",
    "    passing_with_new_release['comment_issue_id'].nunique()\n",
    "proportion_of_new_releases = \\\n",
    "    calculate_percent(issues_with_passing_new_release_count, issues_with_new_release_count)\n",
    "proportion_all = \\\n",
    "    calculate_percent(issues_with_passing_new_release_count, len(gk_issues))\n",
    "print(f'''\\\n",
    "{proportion_of_new_releases}% ({issues_with_passing_new_release_count}) of issues that saw a new release saw \\\n",
    "at least on passing release ({proportion_all}% of all issues)\\\n",
    "''')\n",
    "\n",
    "only_failing_new_release = \\\n",
    "    gk_new_release_comments.groupby('comment_issue_id').filter(issue_has_only_failing_new_release_comments)\n",
    "issues_with_only_failing_new_release_count = \\\n",
    "    only_failing_new_release['comment_issue_id'].nunique()\n",
    "proportion_of_new_releases = \\\n",
    "    calculate_percent(issues_with_only_failing_new_release_count, issues_with_new_release_count)\n",
    "proportion_all = \\\n",
    "    calculate_percent(issues_with_only_failing_new_release_count, len(gk_issues))\n",
    "print(f'''\\\n",
    "{proportion_of_new_releases}% ({issues_with_only_failing_new_release_count}) of issues that saw a new release saw \\\n",
    "only failing releases ({proportion_all}% of all issues)\n",
    "''')"
   ]
  },
  {
   "cell_type": "markdown",
   "metadata": {},
   "source": [
    "<h4>Issues with only failing new releases - how did the pin attempt turn out?</h4>"
   ]
  },
  {
   "cell_type": "code",
   "execution_count": 750,
   "metadata": {},
   "outputs": [
    {
     "name": "stdout",
     "output_type": "stream",
     "text": [
      "--For issues with only failing new releases, how did the pin attempt turn out?--\n"
     ]
    },
    {
     "data": {
      "text/html": [
       "<div>\n",
       "<style scoped>\n",
       "    .dataframe tbody tr th:only-of-type {\n",
       "        vertical-align: middle;\n",
       "    }\n",
       "\n",
       "    .dataframe tbody tr th {\n",
       "        vertical-align: top;\n",
       "    }\n",
       "\n",
       "    .dataframe thead th {\n",
       "        text-align: right;\n",
       "    }\n",
       "</style>\n",
       "<table border=\"1\" class=\"dataframe\">\n",
       "  <thead>\n",
       "    <tr style=\"text-align: right;\">\n",
       "      <th></th>\n",
       "      <th>pin_status</th>\n",
       "      <th>proportion</th>\n",
       "    </tr>\n",
       "  </thead>\n",
       "  <tbody>\n",
       "    <tr>\n",
       "      <th>0</th>\n",
       "      <td>failure</td>\n",
       "      <td>0.786456</td>\n",
       "    </tr>\n",
       "    <tr>\n",
       "      <th>1</th>\n",
       "      <td>success</td>\n",
       "      <td>0.213544</td>\n",
       "    </tr>\n",
       "  </tbody>\n",
       "</table>\n",
       "</div>"
      ],
      "text/plain": [
       "  pin_status  proportion\n",
       "0    failure    0.786456\n",
       "1    success    0.213544"
      ]
     },
     "execution_count": 750,
     "metadata": {},
     "output_type": "execute_result"
    }
   ],
   "source": [
    "pin_attempts_from_only_failing_new_release = only_failing_new_release[only_failing_new_release['comment_body'].str.contains('after pinning to', case=False)].copy()\n",
    "pin_fail_regex = '|'.join([\n",
    "    \"your tests are still failing\",\n",
    "])\n",
    "pin_success_string = '|'.join([\n",
    "    \"your tests are passing again\"\n",
    "])\n",
    "pin_attempts_from_only_failing_new_release.loc[\n",
    "    pin_attempts_from_only_failing_new_release['comment_body'].str.contains(pin_success_string, case=False),\n",
    "    'pin_status'\n",
    "] = 'success'\n",
    "pin_attempts_from_only_failing_new_release.loc[\n",
    "    pin_attempts_from_only_failing_new_release['comment_body'].str.contains(pin_fail_string, case=False),\n",
    "    'pin_status'\n",
    "] = 'failure'\n",
    "\n",
    "proportions = (\n",
    "    pin_attempts_from_only_failing_new_release['pin_status'].value_counts() / \n",
    "    pin_attempts_from_only_failing_new_release['pin_status'].count()\n",
    ").to_frame(name='proportion')\\\n",
    "    .rename_axis('pin_status')\\\n",
    "    .reset_index()\n",
    "print('--For issues with only failing new releases, how did the pin attempt turn out?--')\n",
    "proportions.head()"
   ]
  },
  {
   "cell_type": "markdown",
   "metadata": {},
   "source": [
    "<h4>Issues with a passing new release - how did the pin attempt turn out?</h4>"
   ]
  },
  {
   "cell_type": "code",
   "execution_count": 751,
   "metadata": {},
   "outputs": [
    {
     "name": "stdout",
     "output_type": "stream",
     "text": [
      "--For issues with passing new releases, how did the pin attempt turn out?--\n"
     ]
    },
    {
     "data": {
      "text/html": [
       "<div>\n",
       "<style scoped>\n",
       "    .dataframe tbody tr th:only-of-type {\n",
       "        vertical-align: middle;\n",
       "    }\n",
       "\n",
       "    .dataframe tbody tr th {\n",
       "        vertical-align: top;\n",
       "    }\n",
       "\n",
       "    .dataframe thead th {\n",
       "        text-align: right;\n",
       "    }\n",
       "</style>\n",
       "<table border=\"1\" class=\"dataframe\">\n",
       "  <thead>\n",
       "    <tr style=\"text-align: right;\">\n",
       "      <th></th>\n",
       "      <th>pin_status</th>\n",
       "      <th>proportion</th>\n",
       "    </tr>\n",
       "  </thead>\n",
       "  <tbody>\n",
       "    <tr>\n",
       "      <th>0</th>\n",
       "      <td>success</td>\n",
       "      <td>0.634492</td>\n",
       "    </tr>\n",
       "    <tr>\n",
       "      <th>1</th>\n",
       "      <td>failure</td>\n",
       "      <td>0.365508</td>\n",
       "    </tr>\n",
       "  </tbody>\n",
       "</table>\n",
       "</div>"
      ],
      "text/plain": [
       "  pin_status  proportion\n",
       "0    success    0.634492\n",
       "1    failure    0.365508"
      ]
     },
     "execution_count": 751,
     "metadata": {},
     "output_type": "execute_result"
    }
   ],
   "source": [
    "pin_attempts_from_passing_with_new_release = \\\n",
    "    passing_with_new_release[passing_with_new_release['comment_body'].str.contains('after pinning to', case=False)].copy()\n",
    "pin_fail_regex = '|'.join([\n",
    "    \"your tests are still failing\",\n",
    "])\n",
    "pin_success_string = '|'.join([\n",
    "    \"your tests are passing again\"\n",
    "])\n",
    "pin_attempts_from_passing_with_new_release.loc[\n",
    "    pin_attempts_from_passing_with_new_release['comment_body'].str.contains(pin_success_string, case=False),\n",
    "    'pin_status'\n",
    "] = 'success'\n",
    "pin_attempts_from_passing_with_new_release.loc[\n",
    "    pin_attempts_from_passing_with_new_release['comment_body'].str.contains(pin_fail_string, case=False),\n",
    "    'pin_status'\n",
    "] = 'failure'\n",
    "\n",
    "proportions = (\n",
    "    pin_attempts_from_passing_with_new_release['pin_status'].value_counts() / \n",
    "    pin_attempts_from_passing_with_new_release['pin_status'].count()\n",
    ").to_frame(name='proportion')\\\n",
    "    .rename_axis('pin_status')\\\n",
    "    .reset_index()\n",
    "print('--For issues with passing new releases, how did the pin attempt turn out?--')\n",
    "proportions.head()"
   ]
  },
  {
   "cell_type": "code",
   "execution_count": 43,
   "metadata": {},
   "outputs": [
    {
     "name": "stdout",
     "output_type": "stream",
     "text": [
      "8.58% of in-range issues have a comment from a user.\n"
     ]
    }
   ],
   "source": [
    "NOT_CLASSIFIED = 'Other'\n",
    "# Set all comments to 'Not Classified'\n",
    "comments['comment_classification'] = NOT_CLASSIFIED\n",
    "users_comments = comments[comments['comment_user_type'] == 'User'].copy().reset_index(drop=True)\n",
    "issues_with_user_comment = issues[issues['id'].isin(users_comments['comment_issue_id'])].copy().reset_index(drop=True)\n",
    "percent_of_issues_with_user_comment = f'{calculate_percent(len(issues_with_user_comment), len(issues))}%'\n",
    "print(f'{percent_of_issues_with_user_comment} of in-range issues have a comment from a user.')\n",
    "users_comments = users_comments.drop(users_comments[pd.isna(users_comments['comment_body'])].index)"
   ]
  },
  {
   "cell_type": "code",
   "execution_count": 49,
   "metadata": {},
   "outputs": [
    {
     "data": {
      "application/vnd.jupyter.widget-view+json": {
       "model_id": "d512b55e36504c9593c1fb38ae801d3c",
       "version_major": 2,
       "version_minor": 0
      },
      "text/plain": [
       "HBox(children=(HTML(value=''), FloatProgress(value=0.0, max=10723.0), HTML(value='')))"
      ]
     },
     "metadata": {},
     "output_type": "display_data"
    },
    {
     "name": "stdout",
     "output_type": "stream",
     "text": [
      "\n"
     ]
    }
   ],
   "source": [
    "import nltk\n",
    "from nltk.corpus import stopwords\n",
    "from nltk.stem import WordNetLemmatizer\n",
    "lemma = WordNetLemmatizer()\n",
    "\n",
    "def clean_comment_body(c):\n",
    "    text = c['comment_body']\n",
    "    tokens = [t for t in text.split()]\n",
    "    clean_tokens = list()\n",
    "    for token in tokens:\n",
    "        if token not in stopwords.words('english'):\n",
    "            clean_tokens.append(lemma.lemmatize(token))\n",
    "    return ' '.join(clean_tokens)\n",
    "\n",
    "users_comments['lemm_body'] = users_comments.progress_apply(clean_comment_body, axis=1)"
   ]
  },
  {
   "cell_type": "code",
   "execution_count": 52,
   "metadata": {},
   "outputs": [
    {
     "name": "stdout",
     "output_type": "stream",
     "text": [
      "34.9% of user comments explicitly link a fix.\n"
     ]
    }
   ],
   "source": [
    "################################\n",
    "# START FIX_REFERENCED\n",
    "################################\n",
    "FIX_REFERENCED = 'Fix Referenced'\n",
    "\n",
    "reg_pr_url = '|'.join([\n",
    "    'https:\\/\\/github\\.com\\/[\\S]*\\/(pull|issues)\\/[\\S]*'\n",
    "])\n",
    "reg_closed_by = '|'.join([\n",
    "    '(closed|fixed|resolved|done|updated) (in|by|via|with)'\n",
    "])\n",
    "reg_number = '|'.join([\n",
    "    '^#\\d*|(Merged|Close|PR|see).*#\\d*'\n",
    "])\n",
    "\n",
    "users_comments.loc[\n",
    "    (users_comments['comment_classification'] == NOT_CLASSIFIED) & (\n",
    "        (users_comments['lemm_body'].str.contains(pat=reg_pr_url, case=True, regex=True)) |\n",
    "        (users_comments['lemm_body'].str.contains(pat=reg_closed_by, case=False, regex=True)) |\n",
    "        (users_comments['lemm_body'].str.contains(pat=reg_number, case=False, regex=True))\n",
    "    ),\n",
    "    'comment_classification'\n",
    "] = FIX_REFERENCED\n",
    "\n",
    "fix_referenced_comments = users_comments[users_comments['comment_classification'] == FIX_REFERENCED]\n",
    "print(f\"{calculate_percent(len(fix_referenced_comments), len(users_comments))}% of user comments explicitly link a fix.\")\n",
    "# fix_referenced_comments['comment_body'].sample(10)\n",
    "################################\n",
    "# END FIX_REFERENCED\n",
    "################################"
   ]
  },
  {
   "cell_type": "code",
   "execution_count": 59,
   "metadata": {},
   "outputs": [
    {
     "name": "stdout",
     "output_type": "stream",
     "text": [
      "18.39% of user comments indicate a false alarm.\n"
     ]
    }
   ],
   "source": [
    "################################\n",
    "# START FALSE_ALARM\n",
    "################################\n",
    "FALSE_ALARM = 'False Alarm'\n",
    "\n",
    "reg_flaky = '|'.join([\n",
    "    'flake',\n",
    "    'flaky',\n",
    "    'flakiness',\n",
    "    'fluke',\n",
    "    '(server|test|CI) hiccup',\n",
    "    'inconsistent test',\n",
    "    'brittle test',\n",
    "    'unstable unit test',\n",
    "    'unstable test',\n",
    "    'Spurious test failure',\n",
    "    'Tests are passing',\n",
    "    'tests are actually passing',\n",
    "])\n",
    "reg_random = '|'.join([\n",
    "    '(fail|failing) random',\n",
    "    'random.*fail.*',\n",
    "    'random build error',\n",
    "    'intermittent',\n",
    "])\n",
    "reg_retrigger = '|'.join([\n",
    "    'retrigger',\n",
    "    're-trigger',\n",
    "    'rebuild',\n",
    "    're-build',\n",
    "    'restart',\n",
    "    're-starting',\n",
    "    're-run',\n",
    "    'retried',\n",
    "    'rerun',\n",
    "    'reran',\n",
    "    're-ran',\n",
    "])\n",
    "reg_false_positive = '|'.join([\n",
    "    'false (positive|alarm|negative|alert)',\n",
    "    'falso positive',\n",
    "])\n",
    "reg_invalid = '|'.join([\n",
    "    '^(invalid|not applicable|not (a|an) issue|unrelated)',\n",
    "    'Couldn\\'t reproduce',\n",
    "    'all tests pass',\n",
    "])\n",
    "reg_unrelated = '|'.join([\n",
    "    '(unrelated.*fail)',\n",
    "    'failed for other reasons',\n",
    "    'build is actually passing',\n",
    "    'build hiccup',\n",
    "])\n",
    "reg_timeout = '|'.join([\n",
    "    'timeout|time-out',\n",
    "])\n",
    "\n",
    "users_comments.loc[\n",
    "    (users_comments['comment_classification'] == NOT_CLASSIFIED) & (\n",
    "        (users_comments['lemm_body'].str.contains(pat=reg_flaky, case=False, regex=True)) |\n",
    "        (users_comments['lemm_body'].str.contains(pat=reg_random, case=False, regex=True)) |\n",
    "        (users_comments['lemm_body'].str.contains(pat=reg_retrigger, case=False, regex=True)) |\n",
    "        (users_comments['lemm_body'].str.contains(pat=reg_false_positive, case=False, regex=True)) | \n",
    "        (users_comments['lemm_body'].str.contains(pat=reg_invalid, case=False, regex=True)) |\n",
    "        (users_comments['lemm_body'].str.contains(pat=reg_unrelated, case=False, regex=True)) |\n",
    "        (users_comments['lemm_body'].str.contains(pat=reg_timeout, case=False, regex=True))\n",
    "    ),\n",
    "    'comment_classification'\n",
    "] = FALSE_ALARM\n",
    "\n",
    "\n",
    "false_alarm_comments = users_comments[users_comments['comment_classification'] == FALSE_ALARM]\n",
    "print(f\"{calculate_percent(len(false_alarm_comments), len(users_comments))}% of user comments indicate a false alarm.\")\n",
    "# false_alarm_comments['comment_body'].sample(10)\n",
    "################################\n",
    "# END FALSE_ALARM\n",
    "################################"
   ]
  },
  {
   "cell_type": "code",
   "execution_count": 53,
   "metadata": {},
   "outputs": [
    {
     "name": "stdout",
     "output_type": "stream",
     "text": [
      "0.24% of user comments saying failure was caused by transient dependency\n"
     ]
    }
   ],
   "source": [
    "################################\n",
    "# START TRANSIENT_FAILURE\n",
    "################################\n",
    "TRANSIENT_FAILURE = 'Transient Failure'\n",
    "\n",
    "reg_transient = '|'.join([\n",
    "    'transient.*fail',\n",
    "])\n",
    "\n",
    "users_comments.loc[\n",
    "    (users_comments['comment_classification'] == NOT_CLASSIFIED) & (\n",
    "        (users_comments['lemm_body'].str.contains(pat=reg_transient, case=False, regex=True))\n",
    "    ),\n",
    "    'comment_classification'\n",
    "] = TRANSIENT_FAILURE\n",
    "\n",
    "transient_failure_comments = users_comments[users_comments['comment_classification'] == TRANSIENT_FAILURE]\n",
    "print(f\"{calculate_percent(len(transient_failure_comments), len(users_comments))}% of user comments saying failure was caused by transient dependency\")\n",
    "# transient_failure_comments['comment_body'].sample(10)\n",
    "################################\n",
    "# END TRANSIENT_FAILURE\n",
    "################################"
   ]
  },
  {
   "cell_type": "code",
   "execution_count": 54,
   "metadata": {},
   "outputs": [
    {
     "name": "stdout",
     "output_type": "stream",
     "text": [
      "3.32% of user comments mentioning Greenkeeper\n"
     ]
    }
   ],
   "source": [
    "################################\n",
    "# START MENTION_GREENKEEPER\n",
    "################################\n",
    "MENTION_GREENKEEPER = 'Mention Greenkeeper'\n",
    "\n",
    "reg_greenkeeper = '|'.join([\n",
    "    'greenkeeper',\n",
    "])\n",
    "\n",
    "users_comments.loc[\n",
    "    (users_comments['comment_classification'] == NOT_CLASSIFIED) & (\n",
    "        (users_comments['lemm_body'].str.contains(pat=reg_greenkeeper, case=False, regex=True))\n",
    "    ),\n",
    "    'comment_classification'\n",
    "] = MENTION_GREENKEEPER\n",
    "\n",
    "mention_greenkeeper_comments = users_comments[users_comments['comment_classification'] == MENTION_GREENKEEPER]\n",
    "print(f\"{calculate_percent(len(mention_greenkeeper_comments), len(users_comments))}% of user comments mentioning Greenkeeper\")\n",
    "# mention_greenkeeper_comments['comment_body'].sample(10)\n",
    "################################\n",
    "# END MENTION_GREENKEEPER\n",
    "################################"
   ]
  },
  {
   "cell_type": "code",
   "execution_count": 55,
   "metadata": {},
   "outputs": [
    {
     "name": "stdout",
     "output_type": "stream",
     "text": [
      "4.54% of user comments mention the projects CI build system\n"
     ]
    }
   ],
   "source": [
    "################################\n",
    "# START MENTION_CI_SYSTEM\n",
    "################################\n",
    "MENTION_CI_SYSTEM = 'Mention CI System'\n",
    "\n",
    "reg_ci_system = '|'.join([\n",
    "    'travis',\n",
    "    'CircleCI',\n",
    "    'circle ci',\n",
    "    'jarvis',\n",
    "    'jenkins',\n",
    "    'CI.*issue',\n",
    "])\n",
    "\n",
    "users_comments.loc[\n",
    "    (users_comments['comment_classification'] == NOT_CLASSIFIED) & (\n",
    "        (users_comments['lemm_body'].str.contains(pat=reg_ci_system, case=False, regex=True))\n",
    "    ),\n",
    "    'comment_classification'\n",
    "] = MENTION_CI_SYSTEM\n",
    "\n",
    "mention_ci_system_comments = users_comments[users_comments['comment_classification'] == MENTION_CI_SYSTEM]\n",
    "print(f\"{calculate_percent(len(mention_ci_system_comments), len(users_comments))}% of user comments mention the projects CI build system\")\n",
    "# mention_greenkeeper_comments['comment_body'].sample(10)\n",
    "################################\n",
    "# END MENTION_CI_SYSTEM\n",
    "################################"
   ]
  },
  {
   "cell_type": "code",
   "execution_count": 56,
   "metadata": {},
   "outputs": [
    {
     "name": "stdout",
     "output_type": "stream",
     "text": [
      "17.25% of user comments saying the issues has been fixed (without linking the fix).\n"
     ]
    }
   ],
   "source": [
    "################################\n",
    "# START FIX_MENTIONED\n",
    "################################\n",
    "FIX_MENTIONED = 'Fix Mentioned'\n",
    "\n",
    "reg_fixed = '(fix(ed)*|resolved|done|solved|closed|updated|upgraded|closing|merged)|(fix|fixed|bumped|merged|upgraded).*manually|manually.*merged'\n",
    "reg_update_in = '.*update.*in.*|Making a PR'\n",
    "\n",
    "users_comments.loc[\n",
    "    (users_comments['comment_classification'] == NOT_CLASSIFIED) & (\n",
    "        (users_comments['lemm_body'].str.contains(pat=reg_fixed, case=False, regex=True)) | \n",
    "        (users_comments['lemm_body'].str.contains(pat=reg_update_in, case=False, regex=True))\n",
    "    ),\n",
    "    'comment_classification'\n",
    "] = FIX_MENTIONED\n",
    "\n",
    "fix_mentioned_comments = users_comments[users_comments['comment_classification'] == FIX_MENTIONED]\n",
    "print(f\"{calculate_percent(len(fix_mentioned_comments), len(users_comments))}% of user comments saying the issues has been fixed (without linking the fix).\")\n",
    "# fix_mentioned_comments['comment_body'].sample(10)\n",
    "################################\n",
    "# END FIX_MENTIONED\n",
    "################################"
   ]
  },
  {
   "cell_type": "code",
   "execution_count": 60,
   "metadata": {},
   "outputs": [
    {
     "data": {
      "text/html": [
       "<div>\n",
       "<style scoped>\n",
       "    .dataframe tbody tr th:only-of-type {\n",
       "        vertical-align: middle;\n",
       "    }\n",
       "\n",
       "    .dataframe tbody tr th {\n",
       "        vertical-align: top;\n",
       "    }\n",
       "\n",
       "    .dataframe thead th {\n",
       "        text-align: right;\n",
       "    }\n",
       "</style>\n",
       "<table border=\"1\" class=\"dataframe\">\n",
       "  <thead>\n",
       "    <tr style=\"text-align: right;\">\n",
       "      <th></th>\n",
       "      <th>comment_body</th>\n",
       "    </tr>\n",
       "  </thead>\n",
       "  <tbody>\n",
       "    <tr>\n",
       "      <th>77</th>\n",
       "      <td>Duplicate of #80.</td>\n",
       "    </tr>\n",
       "    <tr>\n",
       "      <th>9582</th>\n",
       "      <td>it's not 😛</td>\n",
       "    </tr>\n",
       "    <tr>\n",
       "      <th>9210</th>\n",
       "      <td>no longer a dependency</td>\n",
       "    </tr>\n",
       "    <tr>\n",
       "      <th>111</th>\n",
       "      <td>Problem rectified \\r\\n![cat-typing](https://user-images.githubusercontent.com/36107/79525708-20aed580-8096-11ea-8428-f6f492e42bc1.gif)\\r\\n</td>\n",
       "    </tr>\n",
       "    <tr>\n",
       "      <th>9169</th>\n",
       "      <td>v2.4.0 was unpublished.</td>\n",
       "    </tr>\n",
       "    <tr>\n",
       "      <th>5993</th>\n",
       "      <td>Failures were due to unrelated build issues.</td>\n",
       "    </tr>\n",
       "    <tr>\n",
       "      <th>2845</th>\n",
       "      <td>Covered by #472</td>\n",
       "    </tr>\n",
       "    <tr>\n",
       "      <th>1316</th>\n",
       "      <td>````\\r\\nserver-jre8 v8.0.202 [Approved] - Possibly broken\\r\\n15server-jre8 package files install completed. Performing other installation steps.\\r\\n16ERROR: Exception calling \"DownloadFile\" with \"2\" argument(s): \"The remote server returned an error: (404) Not Found.\"\\r\\n17Environment Vars (like PATH) have changed. Close/reopen your shell to\\r\\n18 see the changes (or in powershell/cmd.exe just type `refreshenv`).\\r\\n19The install of server-jre8 was NOT successful.\\r\\n20Error while running 'C:\\ProgramData\\chocolatey\\lib\\server-jre8\\tools\\chocolateyInstall.ps1'.\\r\\n21 See log for details.\\r\\n22\\r\\n23elasticsearch v6.7.1 [Approved] - Likely broken for FOSS users (due to download location changes)\\r\\n24elasticsearch package files install completed. Performing other installation steps.\\r\\n````</td>\n",
       "    </tr>\n",
       "    <tr>\n",
       "      <th>10143</th>\n",
       "      <td>Deleted build cache and reinstalled dependencies. No more Snyk errors.</td>\n",
       "    </tr>\n",
       "    <tr>\n",
       "      <th>2308</th>\n",
       "      <td>Faaaalse positive.</td>\n",
       "    </tr>\n",
       "  </tbody>\n",
       "</table>\n",
       "</div>"
      ],
      "text/plain": [
       "                                                                                                                                                                                                                                                                                                                                                                                                                                                                                                                                                                                                                                                                                                                                                                                                                         comment_body\n",
       "77                                                                                                                                                                                                                                                                                                                                                                                                                                                                                                                                                                                                                                                                                                                                                                                                                  Duplicate of #80.\n",
       "9582                                                                                                                                                                                                                                                                                                                                                                                                                                                                                                                                                                                                                                                                                                                                                                                                                       it's not 😛\n",
       "9210                                                                                                                                                                                                                                                                                                                                                                                                                                                                                                                                                                                                                                                                                                                                                                                                           no longer a dependency\n",
       "111                                                                                                                                                                                                                                                                                                                                                                                                                                                                                                                                                                                                                                                                                        Problem rectified \\r\\n![cat-typing](https://user-images.githubusercontent.com/36107/79525708-20aed580-8096-11ea-8428-f6f492e42bc1.gif)\\r\\n\n",
       "9169                                                                                                                                                                                                                                                                                                                                                                                                                                                                                                                                                                                                                                                                                                                                                                                                          v2.4.0 was unpublished.\n",
       "5993                                                                                                                                                                                                                                                                                                                                                                                                                                                                                                                                                                                                                                                                                                                                                                                     Failures were due to unrelated build issues.\n",
       "2845                                                                                                                                                                                                                                                                                                                                                                                                                                                                                                                                                                                                                                                                                                                                                                                                                  Covered by #472\n",
       "1316   ````\\r\\nserver-jre8 v8.0.202 [Approved] - Possibly broken\\r\\n15server-jre8 package files install completed. Performing other installation steps.\\r\\n16ERROR: Exception calling \"DownloadFile\" with \"2\" argument(s): \"The remote server returned an error: (404) Not Found.\"\\r\\n17Environment Vars (like PATH) have changed. Close/reopen your shell to\\r\\n18 see the changes (or in powershell/cmd.exe just type `refreshenv`).\\r\\n19The install of server-jre8 was NOT successful.\\r\\n20Error while running 'C:\\ProgramData\\chocolatey\\lib\\server-jre8\\tools\\chocolateyInstall.ps1'.\\r\\n21 See log for details.\\r\\n22\\r\\n23elasticsearch v6.7.1 [Approved] - Likely broken for FOSS users (due to download location changes)\\r\\n24elasticsearch package files install completed. Performing other installation steps.\\r\\n````\n",
       "10143                                                                                                                                                                                                                                                                                                                                                                                                                                                                                                                                                                                                                                                                                                                                                          Deleted build cache and reinstalled dependencies. No more Snyk errors.\n",
       "2308                                                                                                                                                                                                                                                                                                                                                                                                                                                                                                                                                                                                                                                                                                                                                                                                               Faaaalse positive."
      ]
     },
     "execution_count": 60,
     "metadata": {},
     "output_type": "execute_result"
    }
   ],
   "source": [
    "# TODO: Classify others\n",
    "users_comments[users_comments['comment_classification'] == NOT_CLASSIFIED][['comment_body']].sample(10)"
   ]
  },
  {
   "cell_type": "code",
   "execution_count": null,
   "metadata": {},
   "outputs": [],
   "source": []
  }
 ],
 "metadata": {
  "kernelspec": {
   "display_name": "Python 3",
   "language": "python",
   "name": "python3"
  },
  "language_info": {
   "codemirror_mode": {
    "name": "ipython",
    "version": 3
   },
   "file_extension": ".py",
   "mimetype": "text/x-python",
   "name": "python",
   "nbconvert_exporter": "python",
   "pygments_lexer": "ipython3",
   "version": "3.8.5"
  }
 },
 "nbformat": 4,
 "nbformat_minor": 4
}
