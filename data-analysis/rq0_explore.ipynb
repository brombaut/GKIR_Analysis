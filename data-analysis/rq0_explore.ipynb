{
 "cells": [
  {
   "cell_type": "code",
   "execution_count": 2,
   "metadata": {},
   "outputs": [],
   "source": [
    "import numpy as np\n",
    "import pandas as pd\n",
    "import seaborn as sns\n",
    "import matplotlib.pyplot as plt\n",
    "import matplotlib as mpl\n",
    "from datetime import datetime\n",
    "from tqdm.notebook import tqdm_notebook\n",
    "tqdm_notebook.pandas()\n",
    "pd.set_option('display.max_columns', 500)\n",
    "pd.set_option('display.max_colwidth', None)\n",
    "\n",
    "PROJECT_ROOT = '..'\n",
    "CSV_FOLDER = 'csv'\n",
    "\n",
    "%run _utils.ipynb\n",
    "\n",
    "# issues = load_issues()\n",
    "# comments = load_comments()\n",
    "# events = load_events()\n",
    "# commits = load_commits()\n",
    "# package_names = load_package_names()\n",
    "# library_versions = load_library_versions()\n",
    "# library_releases = load_library_releases()\n",
    "\n"
   ]
  },
  {
   "cell_type": "markdown",
   "metadata": {},
   "source": [
    "<h3>Issues</h3>"
   ]
  },
  {
   "cell_type": "code",
   "execution_count": 21,
   "metadata": {},
   "outputs": [],
   "source": [
    "dtypes = {\n",
    "    'issue_id': 'int64', 'issue_number': 'int64', 'issue_url': 'str',\n",
    "    'issue_title': 'str', 'issue_state': 'category', 'issue_is_locked': 'bool',\n",
    "    'issue_created_at': 'str', 'issue_updated_at': 'str', 'issue_closed_at': 'str',\n",
    "    'issue_user_login': 'str', 'issue_labels': 'str', 'issue_num_comments': 'int64',\n",
    "    'issue_events_url': 'str', 'issue_dependency_name': 'category', 'issue_dependency_type': 'category',\n",
    "    'issue_dependency_actual_version': 'str', 'issue_dependency_next_version': 'str', \n",
    "    'issue_dependency_bundle_name': 'category', 'issue_body_parser': 'category', 'issue_repo_url': 'str',\n",
    "    'update_type': 'category',\n",
    "}\n",
    "parse_dates = ['issue_created_at', 'issue_updated_at', 'issue_closed_at']\n",
    "renaming = {\n",
    "    'issue_id': 'id', 'issue_number': 'numer', 'issue_url': 'url',\n",
    "    'issue_title': 'title', 'issue_state': 'state', 'issue_is_locked': 'is_locked',\n",
    "    'issue_created_at': 'created_at', 'issue_updated_at': 'updated_at', 'issue_closed_at': 'closed_at',\n",
    "    'issue_user_login': 'user_login', 'issue_labels': 'labels', 'issue_num_comments': 'num_comments',\n",
    "    'issue_events_url': 'events_url', 'issue_dependency_name': 'dependency_name',\n",
    "    'issue_dependency_type': 'dependency_type', 'issue_dependency_actual_version': 'dependency_actual_version',\n",
    "    'issue_dependency_next_version': 'dependency_next_version', 'issue_dependency_bundle_name': 'dependency_bundle_name',\n",
    "    'issue_body_parser': 'body_parser', 'issue_repo_url': 'repo_url', 'update_type': 'update_type',\n",
    "}\n",
    "\n",
    "issues = pd.read_csv(\n",
    "    f'{PROJECT_ROOT}/{CSV_FOLDER}/aug_greenkeeper_issues.csv',\n",
    "    dtype=dtypes,\n",
    "    parse_dates=parse_dates\n",
    ").rename(columns=renaming)\n"
   ]
  },
  {
   "cell_type": "markdown",
   "metadata": {},
   "source": [
    "<h3>Comments</h3>"
   ]
  },
  {
   "cell_type": "code",
   "execution_count": 26,
   "metadata": {},
   "outputs": [],
   "source": [
    "dtypes ={\n",
    "    'comment_issue_url': 'str', 'comment_issue_id': 'int64', 'comment_id': 'int64',\n",
    "    'comment_url': 'str', 'comment_created_at': 'str', 'comment_updated_at': 'str',\n",
    "    'comment_body': 'object', 'comment_author_association': 'str', 'comment_user_id': 'int64',\n",
    "    'comment_user_login': 'str', 'comment_user_type': 'category',\n",
    "}\n",
    "parse_dates = ['comment_created_at', 'comment_updated_at']\n",
    "renaming = {\n",
    "    'comment_issue_url': 'issue_url', 'comment_issue_id': 'issue_id', 'comment_id': 'id',\n",
    "    'comment_url': 'url', 'comment_created_at': 'created_at', 'comment_updated_at': 'updated_at',\n",
    "    'comment_body': 'body', 'comment_author_association': 'author_association',\n",
    "    'comment_user_id': 'user_id', 'comment_user_login': 'user_login', 'comment_user_type': 'user_type',\n",
    "}\n",
    "\n",
    "comments = pd.read_csv(\n",
    "    f'{PROJECT_ROOT}/{CSV_FOLDER}/greenkeeper_comments.csv',\n",
    "    dtype=dtypes,\n",
    "    parse_dates=parse_dates,\n",
    ").rename(columns=renaming)"
   ]
  },
  {
   "cell_type": "markdown",
   "metadata": {},
   "source": [
    "<h3>Events</h3>"
   ]
  },
  {
   "cell_type": "code",
   "execution_count": 45,
   "metadata": {},
   "outputs": [],
   "source": [
    "dtypes = {\n",
    "    'event_issue_url': 'str', 'event_issue_id': 'int64', 'event_id': 'int64',\n",
    "    'event_url': 'str', 'event_created_at': 'str', 'event_description': 'category',\n",
    "    'event_actor_id': 'float64', 'event_actor_login': 'category', 'event_commit_id': 'str',\n",
    "    'event_commit_url': 'str', 'event_label': 'category',\n",
    "}\n",
    "parse_dates = ['event_created_at']\n",
    "renaming = {\n",
    "    'event_issue_url': 'issue_url', 'event_issue_id': 'issue_id', 'event_id': 'id',\n",
    "    'event_url': 'url', 'event_created_at': 'created_at', 'event_description': 'description',\n",
    "    'event_actor_id': 'actor_id', 'event_actor_login': 'actor_login', 'event_commit_id': 'commit_id',\n",
    "    'event_commit_url': 'commit_url', 'event_label': 'label',\n",
    "}\n",
    "events = pd.read_csv(\n",
    "    f'{PROJECT_ROOT}/{CSV_FOLDER}/greenkeeper_events.csv',\n",
    "    dtype=dtypes,\n",
    "    parse_dates=parse_dates,\n",
    ").rename(columns=renaming)\n"
   ]
  },
  {
   "cell_type": "markdown",
   "metadata": {},
   "source": [
    "<h3>Commits</h3>"
   ]
  },
  {
   "cell_type": "code",
   "execution_count": 12,
   "metadata": {},
   "outputs": [],
   "source": [
    "dtypes = {\n",
    "    'commit_event_url': 'str', 'commit_event_id': 'int64', 'commit_message': 'str',\n",
    "    'commit_git_committer_email': 'str', 'commit_git_committer_name': 'str', \n",
    "    'commit_git_author_email': 'str', 'commit_git_author_name': 'str',\n",
    "    'commit_github_committer_login': 'str', 'commit_github_committer_id': 'float64',\n",
    "    'commit_github_committer_type': 'str', 'commit_github_author_login': 'str',\n",
    "    'commit_github_author_id': 'float64', 'commit_github_author_type': 'str',\n",
    "    'commit_stats_deletions': 'int64', 'commit_stats_additions': 'int64',\n",
    "    'commit_stats_total': 'int64', 'commit_tree_sha': 'str',\n",
    "    'commit_sha': 'str', 'commit_num_parents': 'int64',\n",
    "    'commit_num_comments': 'int64', 'commit_file_name': 'str',\n",
    "    'commit_file_additions': 'int64', 'commit_file_deletions': 'int64',\n",
    "    'commit_file_changes': 'int64', 'commit_file_sha': 'str', \n",
    "    'commit_file_status': 'str', 'commit_issue_id': 'float64',\n",
    "}\n",
    "renaming = {\n",
    "    'commit_event_url': 'event_url', 'commit_event_id': 'event_id', 'commit_message': 'message',\n",
    "    'commit_git_committer_email': 'committer_email', 'commit_git_committer_name': 'committer_name', \n",
    "    'commit_git_author_email': 'author_email', 'commit_git_author_name': 'author_name',\n",
    "    'commit_github_committer_login': 'committer_login', 'commit_github_committer_id': 'committer_id',\n",
    "    'commit_github_committer_type': 'committer_type', 'commit_github_author_login': 'author_login',\n",
    "    'commit_github_author_id': 'author_id', 'commit_github_author_type': 'author_type',\n",
    "    'commit_stats_deletions': 'deletions', 'commit_stats_additions': 'additions',\n",
    "    'commit_stats_total': 'total_modifications', 'commit_tree_sha': 'tree_sha',\n",
    "    'commit_sha': 'sha', 'commit_num_parents': 'num_parents',\n",
    "    'commit_num_comments': 'num_comments', 'commit_file_name': 'file_name',\n",
    "    'commit_file_additions': 'file_additions', 'commit_file_deletions': 'file_deletions',\n",
    "    'commit_file_changes': 'file_modifications', 'commit_file_sha': 'file_sha', \n",
    "    'commit_file_status': 'file_status', 'commit_issue_id': 'issue_id',\n",
    "}\n",
    "\n",
    "commits = pd.read_csv(\n",
    "    f'{PROJECT_ROOT}/{CSV_FOLDER}/aug_greenkeeper_commits.csv',\n",
    "    dtype=dtypes\n",
    ").rename(columns=renaming)\n"
   ]
  },
  {
   "cell_type": "markdown",
   "metadata": {},
   "source": [
    "<h3>Package Names</h3>"
   ]
  },
  {
   "cell_type": "code",
   "execution_count": 54,
   "metadata": {},
   "outputs": [],
   "source": [
    "dtypes = {\n",
    "    'package_name': 'category',\n",
    "    'package_gh_url_api': 'str',\n",
    "    'package_gh_url': 'str',\n",
    "    'package_author': 'category',\n",
    "    'package_description': 'str',\n",
    "    'package_repo_url': 'str',\n",
    "    'package_repo_type': 'category',\n",
    "    'package_version': 'str',\n",
    "    'package_dependencies': 'str',\n",
    "    'package_dev_dependencies': 'str',\n",
    "    'package_peer_dependencies': 'str',\n",
    "}\n",
    "renaming = {\n",
    "    'package_name': 'name',\n",
    "    'package_gh_url_api': 'url_api',\n",
    "    'package_gh_url': 'url',\n",
    "    'package_author': 'author',\n",
    "    'package_description': 'description',\n",
    "    'package_repo_url': 'repo_url',\n",
    "    'package_repo_type': 'repo_type',\n",
    "    'package_version': 'version',\n",
    "    'package_dependencies': 'dependencies',\n",
    "    'package_dev_dependencies': 'dev_dependencies',\n",
    "    'package_peer_dependencies': 'peer_dependencies',\n",
    "}\n",
    "\n",
    "package_names = pd.read_csv(\n",
    "    f'{PROJECT_ROOT}/{CSV_FOLDER}/greenkeeper_package_names.csv',\n",
    "    dtype=dtypes,\n",
    ").rename(columns=renaming)\n"
   ]
  },
  {
   "cell_type": "markdown",
   "metadata": {},
   "source": [
    "<h3>Library Versions</h3>"
   ]
  },
  {
   "cell_type": "code",
   "execution_count": 60,
   "metadata": {},
   "outputs": [],
   "source": [
    "dtypes = {\n",
    "    'package_name': 'category',\n",
    "    'version': 'str',\n",
    "    'version_published_at': 'str',\n",
    "    'version_release_type': 'category',\n",
    "    'broken_clients_count': 'int64',\n",
    "    'time_until_next_release': 'str',\n",
    "}\n",
    "parse_dates = ['version_published_at']\n",
    "library_versions = pd.read_csv(\n",
    "    f'{PROJECT_ROOT}/{CSV_FOLDER}/aug_breaking_library_versions.csv',\n",
    "    dtype=dtypes,\n",
    "    parse_dates=parse_dates\n",
    ")\n",
    "library_versions[\"time_until_next_release\"] = \\\n",
    "    pd.to_timedelta(library_versions[\"time_until_next_release\"])"
   ]
  },
  {
   "cell_type": "markdown",
   "metadata": {},
   "source": [
    "<h3>Library Releases</h3>"
   ]
  },
  {
   "cell_type": "code",
   "execution_count": 68,
   "metadata": {},
   "outputs": [],
   "source": [
    "dtypes = {\n",
    "    'package_name': 'object',\n",
    "    'total_time_diff': 'object',\n",
    "    'avg_time_between_releases': 'str',\n",
    "    'first_release_date': 'str',\n",
    "    'last_release_date': 'str',\n",
    "    'total_releases': 'int64',\n",
    "    'broken_builds_caused': 'int64',\n",
    "    'avg_time_between_releases_seconds': 'int64',\n",
    "}\n",
    "parse_dates = ['first_release_date', 'last_release_date']\n",
    "library_releases = pd.read_csv(\n",
    "    f'{PROJECT_ROOT}/{CSV_FOLDER}/breaking_library_releases.csv',\n",
    "    dtype=dtypes,\n",
    "    parse_dates=parse_dates,\n",
    ")\n",
    "library_releases[\"avg_time_between_releases\"] = \\\n",
    "    pd.to_timedelta(library_releases[\"avg_time_between_releases\"])"
   ]
  },
  {
   "cell_type": "markdown",
   "metadata": {},
   "source": [
    "<h3>General Explore</h3>"
   ]
  },
  {
   "cell_type": "code",
   "execution_count": 2,
   "metadata": {},
   "outputs": [
    {
     "name": "stdout",
     "output_type": "stream",
     "text": [
      "123197 Greenkeeper Breaking Build issue reports (across 12134 unique projects)\n",
      "365625 comments for those issue reports\n",
      "209750 events on those issue reports\n",
      "17623 commits that were referenced in these breaking issue reports\n",
      "Total of 556742 version release records for libraries that have at least 1 breaking release\n",
      "Release frequency information on 7361 libraries\n"
     ]
    }
   ],
   "source": [
    "unique_package_count = len(issues['issue_repo_url'].unique())\n",
    "print(f\"{len(issues)} Greenkeeper Breaking Build issue reports (across {unique_package_count} unique projects)\")\n",
    "print(f\"{len(comments)} comments for those issue reports\")\n",
    "print(f\"{len(events)} events on those issue reports\")\n",
    "# print(f\"\\tIncludes {events['event_description'].unique()}\")\n",
    "print(f\"{len(commits)} commits that were referenced in these breaking issue reports\")\n",
    "print(f\"Total of {len(library_versions)} version release records for libraries that have at least 1 breaking release\")\n",
    "print(f\"Release frequency information on {len(library_releases)} libraries\")"
   ]
  },
  {
   "cell_type": "code",
   "execution_count": null,
   "metadata": {},
   "outputs": [],
   "source": []
  }
 ],
 "metadata": {
  "kernelspec": {
   "display_name": "Python 3",
   "language": "python",
   "name": "python3"
  },
  "language_info": {
   "codemirror_mode": {
    "name": "ipython",
    "version": 3
   },
   "file_extension": ".py",
   "mimetype": "text/x-python",
   "name": "python",
   "nbconvert_exporter": "python",
   "pygments_lexer": "ipython3",
   "version": "3.8.5"
  }
 },
 "nbformat": 4,
 "nbformat_minor": 4
}
